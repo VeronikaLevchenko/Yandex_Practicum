{
 "cells": [
  {
   "cell_type": "markdown",
   "metadata": {},
   "source": [
    "# Исследование объявлений о продаже квартир\n",
    "\n",
    "В вашем распоряжении данные сервиса Яндекс.Недвижимость — архив объявлений о продаже квартир в Санкт-Петербурге и соседних населённых пунктов за несколько лет. Нужно научиться определять рыночную стоимость объектов недвижимости. Ваша задача — установить параметры. Это позволит построить автоматизированную систему: она отследит аномалии и мошенническую деятельность. \n",
    "\n",
    "По каждой квартире на продажу доступны два вида данных. Первые вписаны пользователем, вторые — получены автоматически на основе картографических данных. Например, расстояние до центра, аэропорта, ближайшего парка и водоёма. "
   ]
  },
  {
   "cell_type": "markdown",
   "metadata": {},
   "source": [
    "Цель исследования: \n",
    "    \n",
    "1.Определить рыночную стоимость объектов недвижимости. \n",
    "    \n",
    "2.Построить автоматизированную систему для того, чтобы отследить аномалии и мошенническую деятельность. \n",
    "    \n",
    "3.Определить факторы, влияющие на ценообразование стоимости квартир.\n",
    "    \n",
    "    \n",
    "Ход исследования:\n",
    "    \n",
    "1. Открою файл с данными (/datasets/real_estate_data.csv) и изучу общую информацию. \n",
    "\n",
    "2. Проведу предобработку данных.\n",
    "    \n",
    "3. Посчитаю и добавлю в таблицу новые данные.\n",
    "    \n",
    "4. Проведу анализ факторов, влияющих на ценообразование стоимости квартир.\n",
    "    \n",
    "5. Сформулирую общий вывод."
   ]
  },
  {
   "cell_type": "markdown",
   "metadata": {},
   "source": [
    "### Откройте файл с данными и изучите общую информацию. "
   ]
  },
  {
   "cell_type": "code",
   "execution_count": 1,
   "metadata": {
    "scrolled": true
   },
   "outputs": [
    {
     "data": {
      "text/html": [
       "<div>\n",
       "<style scoped>\n",
       "    .dataframe tbody tr th:only-of-type {\n",
       "        vertical-align: middle;\n",
       "    }\n",
       "\n",
       "    .dataframe tbody tr th {\n",
       "        vertical-align: top;\n",
       "    }\n",
       "\n",
       "    .dataframe thead th {\n",
       "        text-align: right;\n",
       "    }\n",
       "</style>\n",
       "<table border=\"1\" class=\"dataframe\">\n",
       "  <thead>\n",
       "    <tr style=\"text-align: right;\">\n",
       "      <th></th>\n",
       "      <th>total_images</th>\n",
       "      <th>last_price</th>\n",
       "      <th>total_area</th>\n",
       "      <th>first_day_exposition</th>\n",
       "      <th>rooms</th>\n",
       "      <th>ceiling_height</th>\n",
       "      <th>floors_total</th>\n",
       "      <th>living_area</th>\n",
       "      <th>floor</th>\n",
       "      <th>is_apartment</th>\n",
       "      <th>...</th>\n",
       "      <th>kitchen_area</th>\n",
       "      <th>balcony</th>\n",
       "      <th>locality_name</th>\n",
       "      <th>airports_nearest</th>\n",
       "      <th>cityCenters_nearest</th>\n",
       "      <th>parks_around3000</th>\n",
       "      <th>parks_nearest</th>\n",
       "      <th>ponds_around3000</th>\n",
       "      <th>ponds_nearest</th>\n",
       "      <th>days_exposition</th>\n",
       "    </tr>\n",
       "  </thead>\n",
       "  <tbody>\n",
       "    <tr>\n",
       "      <th>0</th>\n",
       "      <td>20</td>\n",
       "      <td>13000000.0</td>\n",
       "      <td>108.00</td>\n",
       "      <td>2019-03-07T00:00:00</td>\n",
       "      <td>3</td>\n",
       "      <td>2.70</td>\n",
       "      <td>16.0</td>\n",
       "      <td>51.00</td>\n",
       "      <td>8</td>\n",
       "      <td>NaN</td>\n",
       "      <td>...</td>\n",
       "      <td>25.00</td>\n",
       "      <td>NaN</td>\n",
       "      <td>Санкт-Петербург</td>\n",
       "      <td>18863.0</td>\n",
       "      <td>16028.0</td>\n",
       "      <td>1.0</td>\n",
       "      <td>482.0</td>\n",
       "      <td>2.0</td>\n",
       "      <td>755.0</td>\n",
       "      <td>NaN</td>\n",
       "    </tr>\n",
       "    <tr>\n",
       "      <th>1</th>\n",
       "      <td>7</td>\n",
       "      <td>3350000.0</td>\n",
       "      <td>40.40</td>\n",
       "      <td>2018-12-04T00:00:00</td>\n",
       "      <td>1</td>\n",
       "      <td>NaN</td>\n",
       "      <td>11.0</td>\n",
       "      <td>18.60</td>\n",
       "      <td>1</td>\n",
       "      <td>NaN</td>\n",
       "      <td>...</td>\n",
       "      <td>11.00</td>\n",
       "      <td>2.0</td>\n",
       "      <td>посёлок Шушары</td>\n",
       "      <td>12817.0</td>\n",
       "      <td>18603.0</td>\n",
       "      <td>0.0</td>\n",
       "      <td>NaN</td>\n",
       "      <td>0.0</td>\n",
       "      <td>NaN</td>\n",
       "      <td>81.0</td>\n",
       "    </tr>\n",
       "    <tr>\n",
       "      <th>2</th>\n",
       "      <td>10</td>\n",
       "      <td>5196000.0</td>\n",
       "      <td>56.00</td>\n",
       "      <td>2015-08-20T00:00:00</td>\n",
       "      <td>2</td>\n",
       "      <td>NaN</td>\n",
       "      <td>5.0</td>\n",
       "      <td>34.30</td>\n",
       "      <td>4</td>\n",
       "      <td>NaN</td>\n",
       "      <td>...</td>\n",
       "      <td>8.30</td>\n",
       "      <td>0.0</td>\n",
       "      <td>Санкт-Петербург</td>\n",
       "      <td>21741.0</td>\n",
       "      <td>13933.0</td>\n",
       "      <td>1.0</td>\n",
       "      <td>90.0</td>\n",
       "      <td>2.0</td>\n",
       "      <td>574.0</td>\n",
       "      <td>558.0</td>\n",
       "    </tr>\n",
       "    <tr>\n",
       "      <th>3</th>\n",
       "      <td>0</td>\n",
       "      <td>64900000.0</td>\n",
       "      <td>159.00</td>\n",
       "      <td>2015-07-24T00:00:00</td>\n",
       "      <td>3</td>\n",
       "      <td>NaN</td>\n",
       "      <td>14.0</td>\n",
       "      <td>NaN</td>\n",
       "      <td>9</td>\n",
       "      <td>NaN</td>\n",
       "      <td>...</td>\n",
       "      <td>NaN</td>\n",
       "      <td>0.0</td>\n",
       "      <td>Санкт-Петербург</td>\n",
       "      <td>28098.0</td>\n",
       "      <td>6800.0</td>\n",
       "      <td>2.0</td>\n",
       "      <td>84.0</td>\n",
       "      <td>3.0</td>\n",
       "      <td>234.0</td>\n",
       "      <td>424.0</td>\n",
       "    </tr>\n",
       "    <tr>\n",
       "      <th>4</th>\n",
       "      <td>2</td>\n",
       "      <td>10000000.0</td>\n",
       "      <td>100.00</td>\n",
       "      <td>2018-06-19T00:00:00</td>\n",
       "      <td>2</td>\n",
       "      <td>3.03</td>\n",
       "      <td>14.0</td>\n",
       "      <td>32.00</td>\n",
       "      <td>13</td>\n",
       "      <td>NaN</td>\n",
       "      <td>...</td>\n",
       "      <td>41.00</td>\n",
       "      <td>NaN</td>\n",
       "      <td>Санкт-Петербург</td>\n",
       "      <td>31856.0</td>\n",
       "      <td>8098.0</td>\n",
       "      <td>2.0</td>\n",
       "      <td>112.0</td>\n",
       "      <td>1.0</td>\n",
       "      <td>48.0</td>\n",
       "      <td>121.0</td>\n",
       "    </tr>\n",
       "    <tr>\n",
       "      <th>5</th>\n",
       "      <td>10</td>\n",
       "      <td>2890000.0</td>\n",
       "      <td>30.40</td>\n",
       "      <td>2018-09-10T00:00:00</td>\n",
       "      <td>1</td>\n",
       "      <td>NaN</td>\n",
       "      <td>12.0</td>\n",
       "      <td>14.40</td>\n",
       "      <td>5</td>\n",
       "      <td>NaN</td>\n",
       "      <td>...</td>\n",
       "      <td>9.10</td>\n",
       "      <td>NaN</td>\n",
       "      <td>городской посёлок Янино-1</td>\n",
       "      <td>NaN</td>\n",
       "      <td>NaN</td>\n",
       "      <td>NaN</td>\n",
       "      <td>NaN</td>\n",
       "      <td>NaN</td>\n",
       "      <td>NaN</td>\n",
       "      <td>55.0</td>\n",
       "    </tr>\n",
       "    <tr>\n",
       "      <th>6</th>\n",
       "      <td>6</td>\n",
       "      <td>3700000.0</td>\n",
       "      <td>37.30</td>\n",
       "      <td>2017-11-02T00:00:00</td>\n",
       "      <td>1</td>\n",
       "      <td>NaN</td>\n",
       "      <td>26.0</td>\n",
       "      <td>10.60</td>\n",
       "      <td>6</td>\n",
       "      <td>NaN</td>\n",
       "      <td>...</td>\n",
       "      <td>14.40</td>\n",
       "      <td>1.0</td>\n",
       "      <td>посёлок Парголово</td>\n",
       "      <td>52996.0</td>\n",
       "      <td>19143.0</td>\n",
       "      <td>0.0</td>\n",
       "      <td>NaN</td>\n",
       "      <td>0.0</td>\n",
       "      <td>NaN</td>\n",
       "      <td>155.0</td>\n",
       "    </tr>\n",
       "    <tr>\n",
       "      <th>7</th>\n",
       "      <td>5</td>\n",
       "      <td>7915000.0</td>\n",
       "      <td>71.60</td>\n",
       "      <td>2019-04-18T00:00:00</td>\n",
       "      <td>2</td>\n",
       "      <td>NaN</td>\n",
       "      <td>24.0</td>\n",
       "      <td>NaN</td>\n",
       "      <td>22</td>\n",
       "      <td>NaN</td>\n",
       "      <td>...</td>\n",
       "      <td>18.90</td>\n",
       "      <td>2.0</td>\n",
       "      <td>Санкт-Петербург</td>\n",
       "      <td>23982.0</td>\n",
       "      <td>11634.0</td>\n",
       "      <td>0.0</td>\n",
       "      <td>NaN</td>\n",
       "      <td>0.0</td>\n",
       "      <td>NaN</td>\n",
       "      <td>NaN</td>\n",
       "    </tr>\n",
       "    <tr>\n",
       "      <th>8</th>\n",
       "      <td>20</td>\n",
       "      <td>2900000.0</td>\n",
       "      <td>33.16</td>\n",
       "      <td>2018-05-23T00:00:00</td>\n",
       "      <td>1</td>\n",
       "      <td>NaN</td>\n",
       "      <td>27.0</td>\n",
       "      <td>15.43</td>\n",
       "      <td>26</td>\n",
       "      <td>NaN</td>\n",
       "      <td>...</td>\n",
       "      <td>8.81</td>\n",
       "      <td>NaN</td>\n",
       "      <td>посёлок Мурино</td>\n",
       "      <td>NaN</td>\n",
       "      <td>NaN</td>\n",
       "      <td>NaN</td>\n",
       "      <td>NaN</td>\n",
       "      <td>NaN</td>\n",
       "      <td>NaN</td>\n",
       "      <td>189.0</td>\n",
       "    </tr>\n",
       "    <tr>\n",
       "      <th>9</th>\n",
       "      <td>18</td>\n",
       "      <td>5400000.0</td>\n",
       "      <td>61.00</td>\n",
       "      <td>2017-02-26T00:00:00</td>\n",
       "      <td>3</td>\n",
       "      <td>2.50</td>\n",
       "      <td>9.0</td>\n",
       "      <td>43.60</td>\n",
       "      <td>7</td>\n",
       "      <td>NaN</td>\n",
       "      <td>...</td>\n",
       "      <td>6.50</td>\n",
       "      <td>2.0</td>\n",
       "      <td>Санкт-Петербург</td>\n",
       "      <td>50898.0</td>\n",
       "      <td>15008.0</td>\n",
       "      <td>0.0</td>\n",
       "      <td>NaN</td>\n",
       "      <td>0.0</td>\n",
       "      <td>NaN</td>\n",
       "      <td>289.0</td>\n",
       "    </tr>\n",
       "    <tr>\n",
       "      <th>10</th>\n",
       "      <td>5</td>\n",
       "      <td>5050000.0</td>\n",
       "      <td>39.60</td>\n",
       "      <td>2017-11-16T00:00:00</td>\n",
       "      <td>1</td>\n",
       "      <td>2.67</td>\n",
       "      <td>12.0</td>\n",
       "      <td>20.30</td>\n",
       "      <td>3</td>\n",
       "      <td>NaN</td>\n",
       "      <td>...</td>\n",
       "      <td>8.50</td>\n",
       "      <td>NaN</td>\n",
       "      <td>Санкт-Петербург</td>\n",
       "      <td>38357.0</td>\n",
       "      <td>13878.0</td>\n",
       "      <td>1.0</td>\n",
       "      <td>310.0</td>\n",
       "      <td>2.0</td>\n",
       "      <td>553.0</td>\n",
       "      <td>137.0</td>\n",
       "    </tr>\n",
       "    <tr>\n",
       "      <th>11</th>\n",
       "      <td>9</td>\n",
       "      <td>3300000.0</td>\n",
       "      <td>44.00</td>\n",
       "      <td>2018-08-27T00:00:00</td>\n",
       "      <td>2</td>\n",
       "      <td>NaN</td>\n",
       "      <td>5.0</td>\n",
       "      <td>31.00</td>\n",
       "      <td>4</td>\n",
       "      <td>False</td>\n",
       "      <td>...</td>\n",
       "      <td>6.00</td>\n",
       "      <td>1.0</td>\n",
       "      <td>Ломоносов</td>\n",
       "      <td>48252.0</td>\n",
       "      <td>51677.0</td>\n",
       "      <td>0.0</td>\n",
       "      <td>NaN</td>\n",
       "      <td>0.0</td>\n",
       "      <td>NaN</td>\n",
       "      <td>7.0</td>\n",
       "    </tr>\n",
       "    <tr>\n",
       "      <th>12</th>\n",
       "      <td>10</td>\n",
       "      <td>3890000.0</td>\n",
       "      <td>54.00</td>\n",
       "      <td>2016-06-30T00:00:00</td>\n",
       "      <td>2</td>\n",
       "      <td>NaN</td>\n",
       "      <td>5.0</td>\n",
       "      <td>30.00</td>\n",
       "      <td>5</td>\n",
       "      <td>NaN</td>\n",
       "      <td>...</td>\n",
       "      <td>9.00</td>\n",
       "      <td>0.0</td>\n",
       "      <td>Сертолово</td>\n",
       "      <td>NaN</td>\n",
       "      <td>NaN</td>\n",
       "      <td>NaN</td>\n",
       "      <td>NaN</td>\n",
       "      <td>NaN</td>\n",
       "      <td>NaN</td>\n",
       "      <td>90.0</td>\n",
       "    </tr>\n",
       "    <tr>\n",
       "      <th>13</th>\n",
       "      <td>20</td>\n",
       "      <td>3550000.0</td>\n",
       "      <td>42.80</td>\n",
       "      <td>2017-07-01T00:00:00</td>\n",
       "      <td>2</td>\n",
       "      <td>2.56</td>\n",
       "      <td>5.0</td>\n",
       "      <td>27.00</td>\n",
       "      <td>5</td>\n",
       "      <td>NaN</td>\n",
       "      <td>...</td>\n",
       "      <td>5.20</td>\n",
       "      <td>1.0</td>\n",
       "      <td>Петергоф</td>\n",
       "      <td>37868.0</td>\n",
       "      <td>33058.0</td>\n",
       "      <td>1.0</td>\n",
       "      <td>294.0</td>\n",
       "      <td>3.0</td>\n",
       "      <td>298.0</td>\n",
       "      <td>366.0</td>\n",
       "    </tr>\n",
       "    <tr>\n",
       "      <th>14</th>\n",
       "      <td>1</td>\n",
       "      <td>4400000.0</td>\n",
       "      <td>36.00</td>\n",
       "      <td>2016-06-23T00:00:00</td>\n",
       "      <td>1</td>\n",
       "      <td>NaN</td>\n",
       "      <td>6.0</td>\n",
       "      <td>17.00</td>\n",
       "      <td>1</td>\n",
       "      <td>NaN</td>\n",
       "      <td>...</td>\n",
       "      <td>8.00</td>\n",
       "      <td>0.0</td>\n",
       "      <td>Пушкин</td>\n",
       "      <td>20782.0</td>\n",
       "      <td>30759.0</td>\n",
       "      <td>0.0</td>\n",
       "      <td>NaN</td>\n",
       "      <td>1.0</td>\n",
       "      <td>96.0</td>\n",
       "      <td>203.0</td>\n",
       "    </tr>\n",
       "    <tr>\n",
       "      <th>15</th>\n",
       "      <td>16</td>\n",
       "      <td>4650000.0</td>\n",
       "      <td>39.00</td>\n",
       "      <td>2017-11-18T00:00:00</td>\n",
       "      <td>1</td>\n",
       "      <td>NaN</td>\n",
       "      <td>14.0</td>\n",
       "      <td>20.50</td>\n",
       "      <td>5</td>\n",
       "      <td>NaN</td>\n",
       "      <td>...</td>\n",
       "      <td>7.60</td>\n",
       "      <td>1.0</td>\n",
       "      <td>Санкт-Петербург</td>\n",
       "      <td>12900.0</td>\n",
       "      <td>14259.0</td>\n",
       "      <td>1.0</td>\n",
       "      <td>590.0</td>\n",
       "      <td>1.0</td>\n",
       "      <td>296.0</td>\n",
       "      <td>19.0</td>\n",
       "    </tr>\n",
       "    <tr>\n",
       "      <th>16</th>\n",
       "      <td>11</td>\n",
       "      <td>6700000.0</td>\n",
       "      <td>82.00</td>\n",
       "      <td>2017-11-23T00:00:00</td>\n",
       "      <td>3</td>\n",
       "      <td>3.05</td>\n",
       "      <td>5.0</td>\n",
       "      <td>55.60</td>\n",
       "      <td>1</td>\n",
       "      <td>NaN</td>\n",
       "      <td>...</td>\n",
       "      <td>9.00</td>\n",
       "      <td>NaN</td>\n",
       "      <td>Санкт-Петербург</td>\n",
       "      <td>22108.0</td>\n",
       "      <td>10698.0</td>\n",
       "      <td>3.0</td>\n",
       "      <td>420.0</td>\n",
       "      <td>0.0</td>\n",
       "      <td>NaN</td>\n",
       "      <td>397.0</td>\n",
       "    </tr>\n",
       "    <tr>\n",
       "      <th>17</th>\n",
       "      <td>6</td>\n",
       "      <td>4180000.0</td>\n",
       "      <td>36.00</td>\n",
       "      <td>2016-09-09T00:00:00</td>\n",
       "      <td>1</td>\n",
       "      <td>NaN</td>\n",
       "      <td>17.0</td>\n",
       "      <td>16.50</td>\n",
       "      <td>7</td>\n",
       "      <td>NaN</td>\n",
       "      <td>...</td>\n",
       "      <td>11.00</td>\n",
       "      <td>1.0</td>\n",
       "      <td>Санкт-Петербург</td>\n",
       "      <td>33564.0</td>\n",
       "      <td>14616.0</td>\n",
       "      <td>0.0</td>\n",
       "      <td>NaN</td>\n",
       "      <td>1.0</td>\n",
       "      <td>859.0</td>\n",
       "      <td>571.0</td>\n",
       "    </tr>\n",
       "    <tr>\n",
       "      <th>18</th>\n",
       "      <td>8</td>\n",
       "      <td>3250000.0</td>\n",
       "      <td>31.00</td>\n",
       "      <td>2017-01-27T00:00:00</td>\n",
       "      <td>1</td>\n",
       "      <td>2.50</td>\n",
       "      <td>5.0</td>\n",
       "      <td>19.40</td>\n",
       "      <td>2</td>\n",
       "      <td>NaN</td>\n",
       "      <td>...</td>\n",
       "      <td>5.60</td>\n",
       "      <td>1.0</td>\n",
       "      <td>Санкт-Петербург</td>\n",
       "      <td>44060.0</td>\n",
       "      <td>10842.0</td>\n",
       "      <td>1.0</td>\n",
       "      <td>759.0</td>\n",
       "      <td>0.0</td>\n",
       "      <td>NaN</td>\n",
       "      <td>168.0</td>\n",
       "    </tr>\n",
       "    <tr>\n",
       "      <th>19</th>\n",
       "      <td>16</td>\n",
       "      <td>14200000.0</td>\n",
       "      <td>121.00</td>\n",
       "      <td>2019-01-09T00:00:00</td>\n",
       "      <td>3</td>\n",
       "      <td>2.75</td>\n",
       "      <td>16.0</td>\n",
       "      <td>76.00</td>\n",
       "      <td>8</td>\n",
       "      <td>NaN</td>\n",
       "      <td>...</td>\n",
       "      <td>12.00</td>\n",
       "      <td>NaN</td>\n",
       "      <td>Санкт-Петербург</td>\n",
       "      <td>38900.0</td>\n",
       "      <td>12843.0</td>\n",
       "      <td>0.0</td>\n",
       "      <td>NaN</td>\n",
       "      <td>0.0</td>\n",
       "      <td>NaN</td>\n",
       "      <td>97.0</td>\n",
       "    </tr>\n",
       "  </tbody>\n",
       "</table>\n",
       "<p>20 rows × 22 columns</p>\n",
       "</div>"
      ],
      "text/plain": [
       "    total_images  last_price  total_area first_day_exposition  rooms  \\\n",
       "0             20  13000000.0      108.00  2019-03-07T00:00:00      3   \n",
       "1              7   3350000.0       40.40  2018-12-04T00:00:00      1   \n",
       "2             10   5196000.0       56.00  2015-08-20T00:00:00      2   \n",
       "3              0  64900000.0      159.00  2015-07-24T00:00:00      3   \n",
       "4              2  10000000.0      100.00  2018-06-19T00:00:00      2   \n",
       "5             10   2890000.0       30.40  2018-09-10T00:00:00      1   \n",
       "6              6   3700000.0       37.30  2017-11-02T00:00:00      1   \n",
       "7              5   7915000.0       71.60  2019-04-18T00:00:00      2   \n",
       "8             20   2900000.0       33.16  2018-05-23T00:00:00      1   \n",
       "9             18   5400000.0       61.00  2017-02-26T00:00:00      3   \n",
       "10             5   5050000.0       39.60  2017-11-16T00:00:00      1   \n",
       "11             9   3300000.0       44.00  2018-08-27T00:00:00      2   \n",
       "12            10   3890000.0       54.00  2016-06-30T00:00:00      2   \n",
       "13            20   3550000.0       42.80  2017-07-01T00:00:00      2   \n",
       "14             1   4400000.0       36.00  2016-06-23T00:00:00      1   \n",
       "15            16   4650000.0       39.00  2017-11-18T00:00:00      1   \n",
       "16            11   6700000.0       82.00  2017-11-23T00:00:00      3   \n",
       "17             6   4180000.0       36.00  2016-09-09T00:00:00      1   \n",
       "18             8   3250000.0       31.00  2017-01-27T00:00:00      1   \n",
       "19            16  14200000.0      121.00  2019-01-09T00:00:00      3   \n",
       "\n",
       "    ceiling_height  floors_total  living_area  floor is_apartment  ...  \\\n",
       "0             2.70          16.0        51.00      8          NaN  ...   \n",
       "1              NaN          11.0        18.60      1          NaN  ...   \n",
       "2              NaN           5.0        34.30      4          NaN  ...   \n",
       "3              NaN          14.0          NaN      9          NaN  ...   \n",
       "4             3.03          14.0        32.00     13          NaN  ...   \n",
       "5              NaN          12.0        14.40      5          NaN  ...   \n",
       "6              NaN          26.0        10.60      6          NaN  ...   \n",
       "7              NaN          24.0          NaN     22          NaN  ...   \n",
       "8              NaN          27.0        15.43     26          NaN  ...   \n",
       "9             2.50           9.0        43.60      7          NaN  ...   \n",
       "10            2.67          12.0        20.30      3          NaN  ...   \n",
       "11             NaN           5.0        31.00      4        False  ...   \n",
       "12             NaN           5.0        30.00      5          NaN  ...   \n",
       "13            2.56           5.0        27.00      5          NaN  ...   \n",
       "14             NaN           6.0        17.00      1          NaN  ...   \n",
       "15             NaN          14.0        20.50      5          NaN  ...   \n",
       "16            3.05           5.0        55.60      1          NaN  ...   \n",
       "17             NaN          17.0        16.50      7          NaN  ...   \n",
       "18            2.50           5.0        19.40      2          NaN  ...   \n",
       "19            2.75          16.0        76.00      8          NaN  ...   \n",
       "\n",
       "    kitchen_area  balcony              locality_name  airports_nearest  \\\n",
       "0          25.00      NaN            Санкт-Петербург           18863.0   \n",
       "1          11.00      2.0             посёлок Шушары           12817.0   \n",
       "2           8.30      0.0            Санкт-Петербург           21741.0   \n",
       "3            NaN      0.0            Санкт-Петербург           28098.0   \n",
       "4          41.00      NaN            Санкт-Петербург           31856.0   \n",
       "5           9.10      NaN  городской посёлок Янино-1               NaN   \n",
       "6          14.40      1.0          посёлок Парголово           52996.0   \n",
       "7          18.90      2.0            Санкт-Петербург           23982.0   \n",
       "8           8.81      NaN             посёлок Мурино               NaN   \n",
       "9           6.50      2.0            Санкт-Петербург           50898.0   \n",
       "10          8.50      NaN            Санкт-Петербург           38357.0   \n",
       "11          6.00      1.0                  Ломоносов           48252.0   \n",
       "12          9.00      0.0                  Сертолово               NaN   \n",
       "13          5.20      1.0                   Петергоф           37868.0   \n",
       "14          8.00      0.0                     Пушкин           20782.0   \n",
       "15          7.60      1.0            Санкт-Петербург           12900.0   \n",
       "16          9.00      NaN            Санкт-Петербург           22108.0   \n",
       "17         11.00      1.0            Санкт-Петербург           33564.0   \n",
       "18          5.60      1.0            Санкт-Петербург           44060.0   \n",
       "19         12.00      NaN            Санкт-Петербург           38900.0   \n",
       "\n",
       "   cityCenters_nearest  parks_around3000  parks_nearest  ponds_around3000  \\\n",
       "0              16028.0               1.0          482.0               2.0   \n",
       "1              18603.0               0.0            NaN               0.0   \n",
       "2              13933.0               1.0           90.0               2.0   \n",
       "3               6800.0               2.0           84.0               3.0   \n",
       "4               8098.0               2.0          112.0               1.0   \n",
       "5                  NaN               NaN            NaN               NaN   \n",
       "6              19143.0               0.0            NaN               0.0   \n",
       "7              11634.0               0.0            NaN               0.0   \n",
       "8                  NaN               NaN            NaN               NaN   \n",
       "9              15008.0               0.0            NaN               0.0   \n",
       "10             13878.0               1.0          310.0               2.0   \n",
       "11             51677.0               0.0            NaN               0.0   \n",
       "12                 NaN               NaN            NaN               NaN   \n",
       "13             33058.0               1.0          294.0               3.0   \n",
       "14             30759.0               0.0            NaN               1.0   \n",
       "15             14259.0               1.0          590.0               1.0   \n",
       "16             10698.0               3.0          420.0               0.0   \n",
       "17             14616.0               0.0            NaN               1.0   \n",
       "18             10842.0               1.0          759.0               0.0   \n",
       "19             12843.0               0.0            NaN               0.0   \n",
       "\n",
       "    ponds_nearest  days_exposition  \n",
       "0           755.0              NaN  \n",
       "1             NaN             81.0  \n",
       "2           574.0            558.0  \n",
       "3           234.0            424.0  \n",
       "4            48.0            121.0  \n",
       "5             NaN             55.0  \n",
       "6             NaN            155.0  \n",
       "7             NaN              NaN  \n",
       "8             NaN            189.0  \n",
       "9             NaN            289.0  \n",
       "10          553.0            137.0  \n",
       "11            NaN              7.0  \n",
       "12            NaN             90.0  \n",
       "13          298.0            366.0  \n",
       "14           96.0            203.0  \n",
       "15          296.0             19.0  \n",
       "16            NaN            397.0  \n",
       "17          859.0            571.0  \n",
       "18            NaN            168.0  \n",
       "19            NaN             97.0  \n",
       "\n",
       "[20 rows x 22 columns]"
      ]
     },
     "execution_count": 1,
     "metadata": {},
     "output_type": "execute_result"
    }
   ],
   "source": [
    "import pandas as pd\n",
    "import matplotlib.pyplot as plt\n",
    "df = pd.read_csv('/datasets/real_estate_data.csv', sep='\\t')\n",
    "df.head(20)"
   ]
  },
  {
   "cell_type": "code",
   "execution_count": 2,
   "metadata": {},
   "outputs": [
    {
     "name": "stdout",
     "output_type": "stream",
     "text": [
      "<class 'pandas.core.frame.DataFrame'>\n",
      "RangeIndex: 23699 entries, 0 to 23698\n",
      "Data columns (total 22 columns):\n",
      " #   Column                Non-Null Count  Dtype  \n",
      "---  ------                --------------  -----  \n",
      " 0   total_images          23699 non-null  int64  \n",
      " 1   last_price            23699 non-null  float64\n",
      " 2   total_area            23699 non-null  float64\n",
      " 3   first_day_exposition  23699 non-null  object \n",
      " 4   rooms                 23699 non-null  int64  \n",
      " 5   ceiling_height        14504 non-null  float64\n",
      " 6   floors_total          23613 non-null  float64\n",
      " 7   living_area           21796 non-null  float64\n",
      " 8   floor                 23699 non-null  int64  \n",
      " 9   is_apartment          2775 non-null   object \n",
      " 10  studio                23699 non-null  bool   \n",
      " 11  open_plan             23699 non-null  bool   \n",
      " 12  kitchen_area          21421 non-null  float64\n",
      " 13  balcony               12180 non-null  float64\n",
      " 14  locality_name         23650 non-null  object \n",
      " 15  airports_nearest      18157 non-null  float64\n",
      " 16  cityCenters_nearest   18180 non-null  float64\n",
      " 17  parks_around3000      18181 non-null  float64\n",
      " 18  parks_nearest         8079 non-null   float64\n",
      " 19  ponds_around3000      18181 non-null  float64\n",
      " 20  ponds_nearest         9110 non-null   float64\n",
      " 21  days_exposition       20518 non-null  float64\n",
      "dtypes: bool(2), float64(14), int64(3), object(3)\n",
      "memory usage: 3.7+ MB\n"
     ]
    }
   ],
   "source": [
    "df.info()"
   ]
  },
  {
   "cell_type": "code",
   "execution_count": 3,
   "metadata": {},
   "outputs": [
    {
     "name": "stdout",
     "output_type": "stream",
     "text": [
      "Type: int64\n",
      "['total_images' 'rooms' 'floor']\n",
      "\n",
      "Type: float64\n",
      "['last_price' 'total_area' 'ceiling_height' 'floors_total' 'living_area'\n",
      " 'kitchen_area' 'balcony' 'airports_nearest' 'cityCenters_nearest'\n",
      " 'parks_around3000' 'parks_nearest' 'ponds_around3000' 'ponds_nearest'\n",
      " 'days_exposition']\n",
      "\n",
      "Type: object\n",
      "['first_day_exposition' 'is_apartment' 'locality_name']\n",
      "\n",
      "Type: bool\n",
      "['studio' 'open_plan']\n",
      "\n"
     ]
    }
   ],
   "source": [
    "for t in df.dtypes.unique():\n",
    "     print('Type: {}\\n{}\\n'.format(t, df.dtypes[df.dtypes==t].index.values))"
   ]
  },
  {
   "cell_type": "markdown",
   "metadata": {},
   "source": [
    "Исходные данные содержат 23699 наблюдений (строк) и 21 характеристик (столбцов). В первом столбце содержится порядковый номер наблюдения. Мы наблюдаем большое количество пропущенных значений. 3 характеристики имеют тип данных object (строковые переменные), 3 - int64 (целые числа), 14 - float64 (числа с плавающей точкой), 2 - bool (логический тип данных).\n",
    "К категориальным переменным относятся:'first_day_exposition', 'is_apartment', 'locality_name'(необходимо отметить, что корректно в дальнейшем поменять тип данных для переменной 'first_day_exposition')\n",
    "Количественные переменные: 'total_images', 'rooms', 'floor', 'last_price', 'total_area', 'ceiling_height', 'floors_total' 'living_area', 'kitchen_area', 'balcony', 'airports_nearest', 'cityCenters_nearest', 'parks_around3000', 'parks_nearest', 'ponds_around3000'. 'ponds_nearest','days_exposition'.\n",
    "Логические переменные: 'studio' 'open_plan'."
   ]
  },
  {
   "cell_type": "code",
   "execution_count": 4,
   "metadata": {},
   "outputs": [
    {
     "data": {
      "text/html": [
       "<div>\n",
       "<style scoped>\n",
       "    .dataframe tbody tr th:only-of-type {\n",
       "        vertical-align: middle;\n",
       "    }\n",
       "\n",
       "    .dataframe tbody tr th {\n",
       "        vertical-align: top;\n",
       "    }\n",
       "\n",
       "    .dataframe thead th {\n",
       "        text-align: right;\n",
       "    }\n",
       "</style>\n",
       "<table border=\"1\" class=\"dataframe\">\n",
       "  <thead>\n",
       "    <tr style=\"text-align: right;\">\n",
       "      <th></th>\n",
       "      <th>total_images</th>\n",
       "      <th>last_price</th>\n",
       "      <th>total_area</th>\n",
       "      <th>rooms</th>\n",
       "      <th>ceiling_height</th>\n",
       "      <th>floors_total</th>\n",
       "      <th>living_area</th>\n",
       "      <th>floor</th>\n",
       "      <th>kitchen_area</th>\n",
       "      <th>balcony</th>\n",
       "      <th>airports_nearest</th>\n",
       "      <th>cityCenters_nearest</th>\n",
       "      <th>parks_around3000</th>\n",
       "      <th>parks_nearest</th>\n",
       "      <th>ponds_around3000</th>\n",
       "      <th>ponds_nearest</th>\n",
       "      <th>days_exposition</th>\n",
       "    </tr>\n",
       "  </thead>\n",
       "  <tbody>\n",
       "    <tr>\n",
       "      <th>count</th>\n",
       "      <td>23699.000000</td>\n",
       "      <td>2.369900e+04</td>\n",
       "      <td>23699.000000</td>\n",
       "      <td>23699.000000</td>\n",
       "      <td>14504.000000</td>\n",
       "      <td>23613.000000</td>\n",
       "      <td>21796.000000</td>\n",
       "      <td>23699.000000</td>\n",
       "      <td>21421.000000</td>\n",
       "      <td>12180.000000</td>\n",
       "      <td>18157.000000</td>\n",
       "      <td>18180.000000</td>\n",
       "      <td>18181.000000</td>\n",
       "      <td>8079.000000</td>\n",
       "      <td>18181.000000</td>\n",
       "      <td>9110.000000</td>\n",
       "      <td>20518.000000</td>\n",
       "    </tr>\n",
       "    <tr>\n",
       "      <th>mean</th>\n",
       "      <td>9.858475</td>\n",
       "      <td>6.541549e+06</td>\n",
       "      <td>60.348651</td>\n",
       "      <td>2.070636</td>\n",
       "      <td>2.771499</td>\n",
       "      <td>10.673824</td>\n",
       "      <td>34.457852</td>\n",
       "      <td>5.892358</td>\n",
       "      <td>10.569807</td>\n",
       "      <td>1.150082</td>\n",
       "      <td>28793.672193</td>\n",
       "      <td>14191.277833</td>\n",
       "      <td>0.611408</td>\n",
       "      <td>490.804555</td>\n",
       "      <td>0.770255</td>\n",
       "      <td>517.980900</td>\n",
       "      <td>180.888634</td>\n",
       "    </tr>\n",
       "    <tr>\n",
       "      <th>std</th>\n",
       "      <td>5.682529</td>\n",
       "      <td>1.088701e+07</td>\n",
       "      <td>35.654083</td>\n",
       "      <td>1.078405</td>\n",
       "      <td>1.261056</td>\n",
       "      <td>6.597173</td>\n",
       "      <td>22.030445</td>\n",
       "      <td>4.885249</td>\n",
       "      <td>5.905438</td>\n",
       "      <td>1.071300</td>\n",
       "      <td>12630.880622</td>\n",
       "      <td>8608.386210</td>\n",
       "      <td>0.802074</td>\n",
       "      <td>342.317995</td>\n",
       "      <td>0.938346</td>\n",
       "      <td>277.720643</td>\n",
       "      <td>219.727988</td>\n",
       "    </tr>\n",
       "    <tr>\n",
       "      <th>min</th>\n",
       "      <td>0.000000</td>\n",
       "      <td>1.219000e+04</td>\n",
       "      <td>12.000000</td>\n",
       "      <td>0.000000</td>\n",
       "      <td>1.000000</td>\n",
       "      <td>1.000000</td>\n",
       "      <td>2.000000</td>\n",
       "      <td>1.000000</td>\n",
       "      <td>1.300000</td>\n",
       "      <td>0.000000</td>\n",
       "      <td>0.000000</td>\n",
       "      <td>181.000000</td>\n",
       "      <td>0.000000</td>\n",
       "      <td>1.000000</td>\n",
       "      <td>0.000000</td>\n",
       "      <td>13.000000</td>\n",
       "      <td>1.000000</td>\n",
       "    </tr>\n",
       "    <tr>\n",
       "      <th>25%</th>\n",
       "      <td>6.000000</td>\n",
       "      <td>3.400000e+06</td>\n",
       "      <td>40.000000</td>\n",
       "      <td>1.000000</td>\n",
       "      <td>2.520000</td>\n",
       "      <td>5.000000</td>\n",
       "      <td>18.600000</td>\n",
       "      <td>2.000000</td>\n",
       "      <td>7.000000</td>\n",
       "      <td>0.000000</td>\n",
       "      <td>18585.000000</td>\n",
       "      <td>9238.000000</td>\n",
       "      <td>0.000000</td>\n",
       "      <td>288.000000</td>\n",
       "      <td>0.000000</td>\n",
       "      <td>294.000000</td>\n",
       "      <td>45.000000</td>\n",
       "    </tr>\n",
       "    <tr>\n",
       "      <th>50%</th>\n",
       "      <td>9.000000</td>\n",
       "      <td>4.650000e+06</td>\n",
       "      <td>52.000000</td>\n",
       "      <td>2.000000</td>\n",
       "      <td>2.650000</td>\n",
       "      <td>9.000000</td>\n",
       "      <td>30.000000</td>\n",
       "      <td>4.000000</td>\n",
       "      <td>9.100000</td>\n",
       "      <td>1.000000</td>\n",
       "      <td>26726.000000</td>\n",
       "      <td>13098.500000</td>\n",
       "      <td>0.000000</td>\n",
       "      <td>455.000000</td>\n",
       "      <td>1.000000</td>\n",
       "      <td>502.000000</td>\n",
       "      <td>95.000000</td>\n",
       "    </tr>\n",
       "    <tr>\n",
       "      <th>75%</th>\n",
       "      <td>14.000000</td>\n",
       "      <td>6.800000e+06</td>\n",
       "      <td>69.900000</td>\n",
       "      <td>3.000000</td>\n",
       "      <td>2.800000</td>\n",
       "      <td>16.000000</td>\n",
       "      <td>42.300000</td>\n",
       "      <td>8.000000</td>\n",
       "      <td>12.000000</td>\n",
       "      <td>2.000000</td>\n",
       "      <td>37273.000000</td>\n",
       "      <td>16293.000000</td>\n",
       "      <td>1.000000</td>\n",
       "      <td>612.000000</td>\n",
       "      <td>1.000000</td>\n",
       "      <td>729.000000</td>\n",
       "      <td>232.000000</td>\n",
       "    </tr>\n",
       "    <tr>\n",
       "      <th>max</th>\n",
       "      <td>50.000000</td>\n",
       "      <td>7.630000e+08</td>\n",
       "      <td>900.000000</td>\n",
       "      <td>19.000000</td>\n",
       "      <td>100.000000</td>\n",
       "      <td>60.000000</td>\n",
       "      <td>409.700000</td>\n",
       "      <td>33.000000</td>\n",
       "      <td>112.000000</td>\n",
       "      <td>5.000000</td>\n",
       "      <td>84869.000000</td>\n",
       "      <td>65968.000000</td>\n",
       "      <td>3.000000</td>\n",
       "      <td>3190.000000</td>\n",
       "      <td>3.000000</td>\n",
       "      <td>1344.000000</td>\n",
       "      <td>1580.000000</td>\n",
       "    </tr>\n",
       "  </tbody>\n",
       "</table>\n",
       "</div>"
      ],
      "text/plain": [
       "       total_images    last_price    total_area         rooms  ceiling_height  \\\n",
       "count  23699.000000  2.369900e+04  23699.000000  23699.000000    14504.000000   \n",
       "mean       9.858475  6.541549e+06     60.348651      2.070636        2.771499   \n",
       "std        5.682529  1.088701e+07     35.654083      1.078405        1.261056   \n",
       "min        0.000000  1.219000e+04     12.000000      0.000000        1.000000   \n",
       "25%        6.000000  3.400000e+06     40.000000      1.000000        2.520000   \n",
       "50%        9.000000  4.650000e+06     52.000000      2.000000        2.650000   \n",
       "75%       14.000000  6.800000e+06     69.900000      3.000000        2.800000   \n",
       "max       50.000000  7.630000e+08    900.000000     19.000000      100.000000   \n",
       "\n",
       "       floors_total   living_area         floor  kitchen_area       balcony  \\\n",
       "count  23613.000000  21796.000000  23699.000000  21421.000000  12180.000000   \n",
       "mean      10.673824     34.457852      5.892358     10.569807      1.150082   \n",
       "std        6.597173     22.030445      4.885249      5.905438      1.071300   \n",
       "min        1.000000      2.000000      1.000000      1.300000      0.000000   \n",
       "25%        5.000000     18.600000      2.000000      7.000000      0.000000   \n",
       "50%        9.000000     30.000000      4.000000      9.100000      1.000000   \n",
       "75%       16.000000     42.300000      8.000000     12.000000      2.000000   \n",
       "max       60.000000    409.700000     33.000000    112.000000      5.000000   \n",
       "\n",
       "       airports_nearest  cityCenters_nearest  parks_around3000  parks_nearest  \\\n",
       "count      18157.000000         18180.000000      18181.000000    8079.000000   \n",
       "mean       28793.672193         14191.277833          0.611408     490.804555   \n",
       "std        12630.880622          8608.386210          0.802074     342.317995   \n",
       "min            0.000000           181.000000          0.000000       1.000000   \n",
       "25%        18585.000000          9238.000000          0.000000     288.000000   \n",
       "50%        26726.000000         13098.500000          0.000000     455.000000   \n",
       "75%        37273.000000         16293.000000          1.000000     612.000000   \n",
       "max        84869.000000         65968.000000          3.000000    3190.000000   \n",
       "\n",
       "       ponds_around3000  ponds_nearest  days_exposition  \n",
       "count      18181.000000    9110.000000     20518.000000  \n",
       "mean           0.770255     517.980900       180.888634  \n",
       "std            0.938346     277.720643       219.727988  \n",
       "min            0.000000      13.000000         1.000000  \n",
       "25%            0.000000     294.000000        45.000000  \n",
       "50%            1.000000     502.000000        95.000000  \n",
       "75%            1.000000     729.000000       232.000000  \n",
       "max            3.000000    1344.000000      1580.000000  "
      ]
     },
     "execution_count": 4,
     "metadata": {},
     "output_type": "execute_result"
    }
   ],
   "source": [
    "df.describe()"
   ]
  },
  {
   "cell_type": "markdown",
   "metadata": {},
   "source": [
    "Исходя из таблицы можно сделать вывод, что данные содержат большое количество аномальных значений. Например, минимальное значенией переменной 'rooms' равно 0, т.е. минимальное количество комнат равно 0. Однако, мы можем предположить, что имеем дело со студией. Максимальный показатель равен 19, т.е. максимальное количество комнат равно 19, при этом максимальная площадь квартиры равна 900 кв.м, что является не очень реалистичным. Максимальное значение переменной 'ceiling_height' равно 100 метров, а минимальное 1 метр, что говорит о неправодподобности представленных данных."
   ]
  },
  {
   "cell_type": "code",
   "execution_count": 5,
   "metadata": {},
   "outputs": [
    {
     "data": {
      "text/plain": [
       "array([[<AxesSubplot:title={'center':'total_images'}>,\n",
       "        <AxesSubplot:title={'center':'last_price'}>,\n",
       "        <AxesSubplot:title={'center':'total_area'}>,\n",
       "        <AxesSubplot:title={'center':'rooms'}>],\n",
       "       [<AxesSubplot:title={'center':'ceiling_height'}>,\n",
       "        <AxesSubplot:title={'center':'floors_total'}>,\n",
       "        <AxesSubplot:title={'center':'living_area'}>,\n",
       "        <AxesSubplot:title={'center':'floor'}>],\n",
       "       [<AxesSubplot:title={'center':'kitchen_area'}>,\n",
       "        <AxesSubplot:title={'center':'balcony'}>,\n",
       "        <AxesSubplot:title={'center':'airports_nearest'}>,\n",
       "        <AxesSubplot:title={'center':'cityCenters_nearest'}>],\n",
       "       [<AxesSubplot:title={'center':'parks_around3000'}>,\n",
       "        <AxesSubplot:title={'center':'parks_nearest'}>,\n",
       "        <AxesSubplot:title={'center':'ponds_around3000'}>,\n",
       "        <AxesSubplot:title={'center':'ponds_nearest'}>],\n",
       "       [<AxesSubplot:title={'center':'days_exposition'}>, <AxesSubplot:>,\n",
       "        <AxesSubplot:>, <AxesSubplot:>]], dtype=object)"
      ]
     },
     "execution_count": 5,
     "metadata": {},
     "output_type": "execute_result"
    },
    {
     "data": {
      "image/png": "[encoded data removed]",
      "text/plain": [
       "<Figure size 1080x1080 with 20 Axes>"
      ]
     },
     "metadata": {
      "needs_background": "light"
     },
     "output_type": "display_data"
    }
   ],
   "source": [
    "df.hist(figsize=(15,15))"
   ]
  },
  {
   "cell_type": "markdown",
   "metadata": {},
   "source": [
    "### Предобработка данных"
   ]
  },
  {
   "cell_type": "markdown",
   "metadata": {},
   "source": [
    "#### Пропущенные значения"
   ]
  },
  {
   "cell_type": "code",
   "execution_count": 6,
   "metadata": {},
   "outputs": [
    {
     "data": {
      "text/plain": [
       "total_images                0\n",
       "last_price                  0\n",
       "total_area                  0\n",
       "first_day_exposition        0\n",
       "rooms                       0\n",
       "ceiling_height           9195\n",
       "floors_total               86\n",
       "living_area              1903\n",
       "floor                       0\n",
       "is_apartment            20924\n",
       "studio                      0\n",
       "open_plan                   0\n",
       "kitchen_area             2278\n",
       "balcony                 11519\n",
       "locality_name              49\n",
       "airports_nearest         5542\n",
       "cityCenters_nearest      5519\n",
       "parks_around3000         5518\n",
       "parks_nearest           15620\n",
       "ponds_around3000         5518\n",
       "ponds_nearest           14589\n",
       "days_exposition          3181\n",
       "dtype: int64"
      ]
     },
     "execution_count": 6,
     "metadata": {},
     "output_type": "execute_result"
    }
   ],
   "source": [
    "df.isna().sum()"
   ]
  },
  {
   "cell_type": "code",
   "execution_count": 7,
   "metadata": {},
   "outputs": [
    {
     "data": {
      "text/plain": [
       "array([<AxesSubplot:title={'center':'None'}>], dtype=object)"
      ]
     },
     "execution_count": 7,
     "metadata": {},
     "output_type": "execute_result"
    },
    {
     "data": {
      "image/png": "[encoded data removed]",
      "text/plain": [
       "<Figure size 504x504 with 1 Axes>"
      ]
     },
     "metadata": {
      "needs_background": "light"
     },
     "output_type": "display_data"
    }
   ],
   "source": [
    "df.isna().sum().sort_values(ascending = False).plot.bar(subplots=True, figsize=(7, 7))"
   ]
  },
  {
   "cell_type": "markdown",
   "metadata": {},
   "source": [
    "Исходя из графика можно заметить, что больше всего пропущенных значений в переменной is_apartment. Из 23699 значений пропущено 20924, что является почти 90% пропусков. Кроме того, переменные parks_nearest, ponds_nearest, balcony и ceiling_height содержат большое количество пропусков."
   ]
  },
  {
   "cell_type": "markdown",
   "metadata": {},
   "source": []
  },
  {
   "cell_type": "code",
   "execution_count": 8,
   "metadata": {},
   "outputs": [
    {
     "data": {
      "text/plain": [
       "False    2725\n",
       "True       50\n",
       "Name: is_apartment, dtype: int64"
      ]
     },
     "execution_count": 8,
     "metadata": {},
     "output_type": "execute_result"
    }
   ],
   "source": [
    "df['is_apartment'].value_counts()"
   ]
  },
  {
   "cell_type": "code",
   "execution_count": 9,
   "metadata": {},
   "outputs": [],
   "source": [
    "df['is_apartment'] = df['is_apartment'].fillna(False)"
   ]
  },
  {
   "cell_type": "markdown",
   "metadata": {},
   "source": [
    "В Санкт-Петербурге на рынке недвижимости доля апартаментов для постоянного проживания составляет около 7%, что говорит о непопулярности аппартаментов. Можно предположить, что из 23699 объявлений на рынке недвижимости могут быть представлены только 50 объявлений такого типа. Поэтому заменю пропущенные показатели на False."
   ]
  },
  {
   "cell_type": "markdown",
   "metadata": {},
   "source": [
    "В датафрейме представлены столбцы с пропущенными значениями в данных о расстоянии (например, в таких переменных, как 'parks_nearest', 'ponds_nearest'). Данные скорее всего были получены автоматически, поэтому не получится заменить пропущенные значения."
   ]
  },
  {
   "cell_type": "code",
   "execution_count": 10,
   "metadata": {},
   "outputs": [
    {
     "data": {
      "text/plain": [
       "1.0    4195\n",
       "0.0    3758\n",
       "2.0    3659\n",
       "5.0     304\n",
       "4.0     183\n",
       "3.0      81\n",
       "Name: balcony, dtype: int64"
      ]
     },
     "execution_count": 10,
     "metadata": {},
     "output_type": "execute_result"
    }
   ],
   "source": [
    "df['balcony'].value_counts()"
   ]
  },
  {
   "cell_type": "code",
   "execution_count": 11,
   "metadata": {},
   "outputs": [],
   "source": [
    "df['balcony'] = df['balcony'].fillna(0)"
   ]
  },
  {
   "cell_type": "markdown",
   "metadata": {},
   "source": [
    "Сейчас большинство строительных компаний возводят дома, которые не предусматривают балконы в качестве обязательных элементов жилья. Можно заменить пропущенные значения на 0, что будет означать отсутствие балкона в данном доме."
   ]
  },
  {
   "cell_type": "code",
   "execution_count": 12,
   "metadata": {},
   "outputs": [
    {
     "data": {
      "text/plain": [
       "count    14504.000000\n",
       "mean         2.771499\n",
       "std          1.261056\n",
       "min          1.000000\n",
       "25%          2.520000\n",
       "50%          2.650000\n",
       "75%          2.800000\n",
       "max        100.000000\n",
       "Name: ceiling_height, dtype: float64"
      ]
     },
     "execution_count": 12,
     "metadata": {},
     "output_type": "execute_result"
    }
   ],
   "source": [
    "df['ceiling_height'].describe()"
   ]
  },
  {
   "cell_type": "markdown",
   "metadata": {},
   "source": [
    "Отфильтруем все значения, в которых высота потолка больше 6. Наиболее распространенной высотой потолка является 3 м. Можно предположить, что мы также имеем дело с двухуровневыми квартирами, высота потолка в которых равна 6 (умножаем показатели на 2)."
   ]
  },
  {
   "cell_type": "code",
   "execution_count": 13,
   "metadata": {},
   "outputs": [
    {
     "data": {
      "text/html": [
       "<div>\n",
       "<style scoped>\n",
       "    .dataframe tbody tr th:only-of-type {\n",
       "        vertical-align: middle;\n",
       "    }\n",
       "\n",
       "    .dataframe tbody tr th {\n",
       "        vertical-align: top;\n",
       "    }\n",
       "\n",
       "    .dataframe thead th {\n",
       "        text-align: right;\n",
       "    }\n",
       "</style>\n",
       "<table border=\"1\" class=\"dataframe\">\n",
       "  <thead>\n",
       "    <tr style=\"text-align: right;\">\n",
       "      <th></th>\n",
       "      <th>total_images</th>\n",
       "      <th>last_price</th>\n",
       "      <th>total_area</th>\n",
       "      <th>first_day_exposition</th>\n",
       "      <th>rooms</th>\n",
       "      <th>ceiling_height</th>\n",
       "      <th>floors_total</th>\n",
       "      <th>living_area</th>\n",
       "      <th>floor</th>\n",
       "      <th>is_apartment</th>\n",
       "      <th>...</th>\n",
       "      <th>kitchen_area</th>\n",
       "      <th>balcony</th>\n",
       "      <th>locality_name</th>\n",
       "      <th>airports_nearest</th>\n",
       "      <th>cityCenters_nearest</th>\n",
       "      <th>parks_around3000</th>\n",
       "      <th>parks_nearest</th>\n",
       "      <th>ponds_around3000</th>\n",
       "      <th>ponds_nearest</th>\n",
       "      <th>days_exposition</th>\n",
       "    </tr>\n",
       "  </thead>\n",
       "  <tbody>\n",
       "    <tr>\n",
       "      <th>355</th>\n",
       "      <td>17</td>\n",
       "      <td>3600000.0</td>\n",
       "      <td>55.2</td>\n",
       "      <td>2018-07-12T00:00:00</td>\n",
       "      <td>2</td>\n",
       "      <td>25.0</td>\n",
       "      <td>5.0</td>\n",
       "      <td>32.0</td>\n",
       "      <td>2</td>\n",
       "      <td>False</td>\n",
       "      <td>...</td>\n",
       "      <td>NaN</td>\n",
       "      <td>2.0</td>\n",
       "      <td>Гатчина</td>\n",
       "      <td>NaN</td>\n",
       "      <td>NaN</td>\n",
       "      <td>NaN</td>\n",
       "      <td>NaN</td>\n",
       "      <td>NaN</td>\n",
       "      <td>NaN</td>\n",
       "      <td>259.0</td>\n",
       "    </tr>\n",
       "    <tr>\n",
       "      <th>3148</th>\n",
       "      <td>14</td>\n",
       "      <td>2900000.0</td>\n",
       "      <td>75.0</td>\n",
       "      <td>2018-11-12T00:00:00</td>\n",
       "      <td>3</td>\n",
       "      <td>32.0</td>\n",
       "      <td>3.0</td>\n",
       "      <td>53.0</td>\n",
       "      <td>2</td>\n",
       "      <td>False</td>\n",
       "      <td>...</td>\n",
       "      <td>8.0</td>\n",
       "      <td>0.0</td>\n",
       "      <td>Волхов</td>\n",
       "      <td>NaN</td>\n",
       "      <td>NaN</td>\n",
       "      <td>NaN</td>\n",
       "      <td>NaN</td>\n",
       "      <td>NaN</td>\n",
       "      <td>NaN</td>\n",
       "      <td>NaN</td>\n",
       "    </tr>\n",
       "    <tr>\n",
       "      <th>3474</th>\n",
       "      <td>3</td>\n",
       "      <td>1400000.0</td>\n",
       "      <td>30.0</td>\n",
       "      <td>2018-03-16T00:00:00</td>\n",
       "      <td>1</td>\n",
       "      <td>8.0</td>\n",
       "      <td>5.0</td>\n",
       "      <td>15.3</td>\n",
       "      <td>2</td>\n",
       "      <td>False</td>\n",
       "      <td>...</td>\n",
       "      <td>7.3</td>\n",
       "      <td>0.0</td>\n",
       "      <td>деревня Нурма</td>\n",
       "      <td>NaN</td>\n",
       "      <td>NaN</td>\n",
       "      <td>NaN</td>\n",
       "      <td>NaN</td>\n",
       "      <td>NaN</td>\n",
       "      <td>NaN</td>\n",
       "      <td>125.0</td>\n",
       "    </tr>\n",
       "    <tr>\n",
       "      <th>4643</th>\n",
       "      <td>0</td>\n",
       "      <td>4300000.0</td>\n",
       "      <td>45.0</td>\n",
       "      <td>2018-02-01T00:00:00</td>\n",
       "      <td>2</td>\n",
       "      <td>25.0</td>\n",
       "      <td>9.0</td>\n",
       "      <td>30.0</td>\n",
       "      <td>2</td>\n",
       "      <td>False</td>\n",
       "      <td>...</td>\n",
       "      <td>7.0</td>\n",
       "      <td>1.0</td>\n",
       "      <td>Санкт-Петербург</td>\n",
       "      <td>12016.0</td>\n",
       "      <td>13256.0</td>\n",
       "      <td>1.0</td>\n",
       "      <td>658.0</td>\n",
       "      <td>1.0</td>\n",
       "      <td>331.0</td>\n",
       "      <td>181.0</td>\n",
       "    </tr>\n",
       "    <tr>\n",
       "      <th>4876</th>\n",
       "      <td>7</td>\n",
       "      <td>3000000.0</td>\n",
       "      <td>25.0</td>\n",
       "      <td>2017-09-27T00:00:00</td>\n",
       "      <td>0</td>\n",
       "      <td>27.0</td>\n",
       "      <td>25.0</td>\n",
       "      <td>17.0</td>\n",
       "      <td>17</td>\n",
       "      <td>False</td>\n",
       "      <td>...</td>\n",
       "      <td>NaN</td>\n",
       "      <td>2.0</td>\n",
       "      <td>посёлок Мурино</td>\n",
       "      <td>NaN</td>\n",
       "      <td>NaN</td>\n",
       "      <td>NaN</td>\n",
       "      <td>NaN</td>\n",
       "      <td>NaN</td>\n",
       "      <td>NaN</td>\n",
       "      <td>28.0</td>\n",
       "    </tr>\n",
       "    <tr>\n",
       "      <th>5076</th>\n",
       "      <td>0</td>\n",
       "      <td>3850000.0</td>\n",
       "      <td>30.5</td>\n",
       "      <td>2018-10-03T00:00:00</td>\n",
       "      <td>1</td>\n",
       "      <td>24.0</td>\n",
       "      <td>5.0</td>\n",
       "      <td>19.5</td>\n",
       "      <td>1</td>\n",
       "      <td>True</td>\n",
       "      <td>...</td>\n",
       "      <td>5.5</td>\n",
       "      <td>0.0</td>\n",
       "      <td>Санкт-Петербург</td>\n",
       "      <td>29686.0</td>\n",
       "      <td>8389.0</td>\n",
       "      <td>3.0</td>\n",
       "      <td>397.0</td>\n",
       "      <td>1.0</td>\n",
       "      <td>578.0</td>\n",
       "      <td>7.0</td>\n",
       "    </tr>\n",
       "    <tr>\n",
       "      <th>5246</th>\n",
       "      <td>0</td>\n",
       "      <td>2500000.0</td>\n",
       "      <td>54.0</td>\n",
       "      <td>2017-10-13T00:00:00</td>\n",
       "      <td>2</td>\n",
       "      <td>27.0</td>\n",
       "      <td>5.0</td>\n",
       "      <td>30.0</td>\n",
       "      <td>3</td>\n",
       "      <td>False</td>\n",
       "      <td>...</td>\n",
       "      <td>9.0</td>\n",
       "      <td>2.0</td>\n",
       "      <td>деревня Мины</td>\n",
       "      <td>NaN</td>\n",
       "      <td>NaN</td>\n",
       "      <td>NaN</td>\n",
       "      <td>NaN</td>\n",
       "      <td>NaN</td>\n",
       "      <td>NaN</td>\n",
       "      <td>540.0</td>\n",
       "    </tr>\n",
       "    <tr>\n",
       "      <th>5669</th>\n",
       "      <td>4</td>\n",
       "      <td>4400000.0</td>\n",
       "      <td>50.0</td>\n",
       "      <td>2017-08-08T00:00:00</td>\n",
       "      <td>2</td>\n",
       "      <td>26.0</td>\n",
       "      <td>9.0</td>\n",
       "      <td>21.3</td>\n",
       "      <td>3</td>\n",
       "      <td>False</td>\n",
       "      <td>...</td>\n",
       "      <td>7.0</td>\n",
       "      <td>2.0</td>\n",
       "      <td>Санкт-Петербург</td>\n",
       "      <td>28981.0</td>\n",
       "      <td>10912.0</td>\n",
       "      <td>1.0</td>\n",
       "      <td>305.0</td>\n",
       "      <td>0.0</td>\n",
       "      <td>NaN</td>\n",
       "      <td>267.0</td>\n",
       "    </tr>\n",
       "    <tr>\n",
       "      <th>5807</th>\n",
       "      <td>17</td>\n",
       "      <td>8150000.0</td>\n",
       "      <td>80.0</td>\n",
       "      <td>2019-01-09T00:00:00</td>\n",
       "      <td>2</td>\n",
       "      <td>27.0</td>\n",
       "      <td>36.0</td>\n",
       "      <td>41.0</td>\n",
       "      <td>13</td>\n",
       "      <td>False</td>\n",
       "      <td>...</td>\n",
       "      <td>12.0</td>\n",
       "      <td>5.0</td>\n",
       "      <td>Санкт-Петербург</td>\n",
       "      <td>18732.0</td>\n",
       "      <td>20444.0</td>\n",
       "      <td>0.0</td>\n",
       "      <td>NaN</td>\n",
       "      <td>3.0</td>\n",
       "      <td>80.0</td>\n",
       "      <td>38.0</td>\n",
       "    </tr>\n",
       "    <tr>\n",
       "      <th>5863</th>\n",
       "      <td>20</td>\n",
       "      <td>5650000.0</td>\n",
       "      <td>45.0</td>\n",
       "      <td>2018-08-15T00:00:00</td>\n",
       "      <td>1</td>\n",
       "      <td>8.3</td>\n",
       "      <td>16.0</td>\n",
       "      <td>19.3</td>\n",
       "      <td>14</td>\n",
       "      <td>False</td>\n",
       "      <td>...</td>\n",
       "      <td>8.3</td>\n",
       "      <td>1.0</td>\n",
       "      <td>Санкт-Петербург</td>\n",
       "      <td>13069.0</td>\n",
       "      <td>10763.0</td>\n",
       "      <td>0.0</td>\n",
       "      <td>NaN</td>\n",
       "      <td>1.0</td>\n",
       "      <td>613.0</td>\n",
       "      <td>14.0</td>\n",
       "    </tr>\n",
       "    <tr>\n",
       "      <th>6246</th>\n",
       "      <td>6</td>\n",
       "      <td>3300000.0</td>\n",
       "      <td>44.4</td>\n",
       "      <td>2019-03-25T00:00:00</td>\n",
       "      <td>2</td>\n",
       "      <td>25.0</td>\n",
       "      <td>5.0</td>\n",
       "      <td>31.3</td>\n",
       "      <td>5</td>\n",
       "      <td>False</td>\n",
       "      <td>...</td>\n",
       "      <td>5.7</td>\n",
       "      <td>0.0</td>\n",
       "      <td>Кронштадт</td>\n",
       "      <td>68923.0</td>\n",
       "      <td>50649.0</td>\n",
       "      <td>1.0</td>\n",
       "      <td>417.0</td>\n",
       "      <td>2.0</td>\n",
       "      <td>73.0</td>\n",
       "      <td>NaN</td>\n",
       "    </tr>\n",
       "    <tr>\n",
       "      <th>9379</th>\n",
       "      <td>5</td>\n",
       "      <td>3950000.0</td>\n",
       "      <td>42.0</td>\n",
       "      <td>2017-03-26T00:00:00</td>\n",
       "      <td>3</td>\n",
       "      <td>25.0</td>\n",
       "      <td>5.0</td>\n",
       "      <td>30.0</td>\n",
       "      <td>2</td>\n",
       "      <td>False</td>\n",
       "      <td>...</td>\n",
       "      <td>5.2</td>\n",
       "      <td>0.0</td>\n",
       "      <td>Санкт-Петербург</td>\n",
       "      <td>11647.0</td>\n",
       "      <td>13581.0</td>\n",
       "      <td>0.0</td>\n",
       "      <td>NaN</td>\n",
       "      <td>0.0</td>\n",
       "      <td>NaN</td>\n",
       "      <td>NaN</td>\n",
       "    </tr>\n",
       "    <tr>\n",
       "      <th>10773</th>\n",
       "      <td>8</td>\n",
       "      <td>3800000.0</td>\n",
       "      <td>58.0</td>\n",
       "      <td>2017-10-13T00:00:00</td>\n",
       "      <td>2</td>\n",
       "      <td>27.0</td>\n",
       "      <td>10.0</td>\n",
       "      <td>30.1</td>\n",
       "      <td>3</td>\n",
       "      <td>False</td>\n",
       "      <td>...</td>\n",
       "      <td>8.1</td>\n",
       "      <td>2.0</td>\n",
       "      <td>посёлок Мурино</td>\n",
       "      <td>NaN</td>\n",
       "      <td>NaN</td>\n",
       "      <td>NaN</td>\n",
       "      <td>NaN</td>\n",
       "      <td>NaN</td>\n",
       "      <td>NaN</td>\n",
       "      <td>71.0</td>\n",
       "    </tr>\n",
       "    <tr>\n",
       "      <th>11285</th>\n",
       "      <td>0</td>\n",
       "      <td>1950000.0</td>\n",
       "      <td>37.0</td>\n",
       "      <td>2019-03-20T00:00:00</td>\n",
       "      <td>1</td>\n",
       "      <td>25.0</td>\n",
       "      <td>5.0</td>\n",
       "      <td>17.0</td>\n",
       "      <td>4</td>\n",
       "      <td>False</td>\n",
       "      <td>...</td>\n",
       "      <td>9.0</td>\n",
       "      <td>2.0</td>\n",
       "      <td>Луга</td>\n",
       "      <td>NaN</td>\n",
       "      <td>NaN</td>\n",
       "      <td>NaN</td>\n",
       "      <td>NaN</td>\n",
       "      <td>NaN</td>\n",
       "      <td>NaN</td>\n",
       "      <td>18.0</td>\n",
       "    </tr>\n",
       "    <tr>\n",
       "      <th>14382</th>\n",
       "      <td>9</td>\n",
       "      <td>1700000.0</td>\n",
       "      <td>35.0</td>\n",
       "      <td>2015-12-04T00:00:00</td>\n",
       "      <td>1</td>\n",
       "      <td>25.0</td>\n",
       "      <td>5.0</td>\n",
       "      <td>20.0</td>\n",
       "      <td>2</td>\n",
       "      <td>False</td>\n",
       "      <td>...</td>\n",
       "      <td>8.0</td>\n",
       "      <td>1.0</td>\n",
       "      <td>поселок Новый Свет</td>\n",
       "      <td>NaN</td>\n",
       "      <td>NaN</td>\n",
       "      <td>NaN</td>\n",
       "      <td>NaN</td>\n",
       "      <td>NaN</td>\n",
       "      <td>NaN</td>\n",
       "      <td>206.0</td>\n",
       "    </tr>\n",
       "    <tr>\n",
       "      <th>15061</th>\n",
       "      <td>19</td>\n",
       "      <td>5600000.0</td>\n",
       "      <td>56.4</td>\n",
       "      <td>2018-05-11T00:00:00</td>\n",
       "      <td>2</td>\n",
       "      <td>14.0</td>\n",
       "      <td>14.0</td>\n",
       "      <td>32.4</td>\n",
       "      <td>5</td>\n",
       "      <td>False</td>\n",
       "      <td>...</td>\n",
       "      <td>9.1</td>\n",
       "      <td>2.0</td>\n",
       "      <td>Санкт-Петербург</td>\n",
       "      <td>14814.0</td>\n",
       "      <td>13610.0</td>\n",
       "      <td>0.0</td>\n",
       "      <td>NaN</td>\n",
       "      <td>0.0</td>\n",
       "      <td>NaN</td>\n",
       "      <td>315.0</td>\n",
       "    </tr>\n",
       "    <tr>\n",
       "      <th>15743</th>\n",
       "      <td>14</td>\n",
       "      <td>5600000.0</td>\n",
       "      <td>67.0</td>\n",
       "      <td>2016-11-11T00:00:00</td>\n",
       "      <td>3</td>\n",
       "      <td>8.0</td>\n",
       "      <td>16.0</td>\n",
       "      <td>41.0</td>\n",
       "      <td>1</td>\n",
       "      <td>False</td>\n",
       "      <td>...</td>\n",
       "      <td>8.0</td>\n",
       "      <td>0.0</td>\n",
       "      <td>Санкт-Петербург</td>\n",
       "      <td>32691.0</td>\n",
       "      <td>11035.0</td>\n",
       "      <td>1.0</td>\n",
       "      <td>723.0</td>\n",
       "      <td>0.0</td>\n",
       "      <td>NaN</td>\n",
       "      <td>474.0</td>\n",
       "    </tr>\n",
       "    <tr>\n",
       "      <th>17442</th>\n",
       "      <td>0</td>\n",
       "      <td>5350000.0</td>\n",
       "      <td>54.0</td>\n",
       "      <td>2015-06-16T00:00:00</td>\n",
       "      <td>2</td>\n",
       "      <td>8.0</td>\n",
       "      <td>5.0</td>\n",
       "      <td>29.0</td>\n",
       "      <td>2</td>\n",
       "      <td>False</td>\n",
       "      <td>...</td>\n",
       "      <td>NaN</td>\n",
       "      <td>1.0</td>\n",
       "      <td>Красное Село</td>\n",
       "      <td>24638.0</td>\n",
       "      <td>28062.0</td>\n",
       "      <td>0.0</td>\n",
       "      <td>NaN</td>\n",
       "      <td>0.0</td>\n",
       "      <td>NaN</td>\n",
       "      <td>469.0</td>\n",
       "    </tr>\n",
       "    <tr>\n",
       "      <th>17496</th>\n",
       "      <td>15</td>\n",
       "      <td>6700000.0</td>\n",
       "      <td>92.9</td>\n",
       "      <td>2019-02-19T00:00:00</td>\n",
       "      <td>3</td>\n",
       "      <td>20.0</td>\n",
       "      <td>17.0</td>\n",
       "      <td>53.2</td>\n",
       "      <td>14</td>\n",
       "      <td>False</td>\n",
       "      <td>...</td>\n",
       "      <td>12.0</td>\n",
       "      <td>5.0</td>\n",
       "      <td>Санкт-Петербург</td>\n",
       "      <td>16295.0</td>\n",
       "      <td>15092.0</td>\n",
       "      <td>1.0</td>\n",
       "      <td>967.0</td>\n",
       "      <td>0.0</td>\n",
       "      <td>NaN</td>\n",
       "      <td>NaN</td>\n",
       "    </tr>\n",
       "    <tr>\n",
       "      <th>17857</th>\n",
       "      <td>1</td>\n",
       "      <td>3900000.0</td>\n",
       "      <td>56.0</td>\n",
       "      <td>2017-12-22T00:00:00</td>\n",
       "      <td>3</td>\n",
       "      <td>27.0</td>\n",
       "      <td>5.0</td>\n",
       "      <td>33.0</td>\n",
       "      <td>4</td>\n",
       "      <td>False</td>\n",
       "      <td>...</td>\n",
       "      <td>NaN</td>\n",
       "      <td>0.0</td>\n",
       "      <td>Санкт-Петербург</td>\n",
       "      <td>41030.0</td>\n",
       "      <td>15543.0</td>\n",
       "      <td>0.0</td>\n",
       "      <td>NaN</td>\n",
       "      <td>0.0</td>\n",
       "      <td>NaN</td>\n",
       "      <td>73.0</td>\n",
       "    </tr>\n",
       "    <tr>\n",
       "      <th>18545</th>\n",
       "      <td>6</td>\n",
       "      <td>3750000.0</td>\n",
       "      <td>43.0</td>\n",
       "      <td>2019-03-18T00:00:00</td>\n",
       "      <td>2</td>\n",
       "      <td>25.0</td>\n",
       "      <td>5.0</td>\n",
       "      <td>29.0</td>\n",
       "      <td>3</td>\n",
       "      <td>False</td>\n",
       "      <td>...</td>\n",
       "      <td>NaN</td>\n",
       "      <td>0.0</td>\n",
       "      <td>Санкт-Петербург</td>\n",
       "      <td>27054.0</td>\n",
       "      <td>8033.0</td>\n",
       "      <td>1.0</td>\n",
       "      <td>540.0</td>\n",
       "      <td>0.0</td>\n",
       "      <td>NaN</td>\n",
       "      <td>12.0</td>\n",
       "    </tr>\n",
       "    <tr>\n",
       "      <th>20478</th>\n",
       "      <td>11</td>\n",
       "      <td>8000000.0</td>\n",
       "      <td>45.0</td>\n",
       "      <td>2017-07-18T00:00:00</td>\n",
       "      <td>1</td>\n",
       "      <td>27.0</td>\n",
       "      <td>4.0</td>\n",
       "      <td>22.0</td>\n",
       "      <td>2</td>\n",
       "      <td>False</td>\n",
       "      <td>...</td>\n",
       "      <td>10.0</td>\n",
       "      <td>1.0</td>\n",
       "      <td>Санкт-Петербург</td>\n",
       "      <td>18975.0</td>\n",
       "      <td>3246.0</td>\n",
       "      <td>0.0</td>\n",
       "      <td>NaN</td>\n",
       "      <td>3.0</td>\n",
       "      <td>449.0</td>\n",
       "      <td>429.0</td>\n",
       "    </tr>\n",
       "    <tr>\n",
       "      <th>20507</th>\n",
       "      <td>12</td>\n",
       "      <td>5950000.0</td>\n",
       "      <td>60.0</td>\n",
       "      <td>2018-02-19T00:00:00</td>\n",
       "      <td>2</td>\n",
       "      <td>22.6</td>\n",
       "      <td>14.0</td>\n",
       "      <td>35.0</td>\n",
       "      <td>11</td>\n",
       "      <td>False</td>\n",
       "      <td>...</td>\n",
       "      <td>13.0</td>\n",
       "      <td>1.0</td>\n",
       "      <td>Санкт-Петербург</td>\n",
       "      <td>27028.0</td>\n",
       "      <td>12570.0</td>\n",
       "      <td>0.0</td>\n",
       "      <td>NaN</td>\n",
       "      <td>0.0</td>\n",
       "      <td>NaN</td>\n",
       "      <td>40.0</td>\n",
       "    </tr>\n",
       "    <tr>\n",
       "      <th>21377</th>\n",
       "      <td>19</td>\n",
       "      <td>4900000.0</td>\n",
       "      <td>42.0</td>\n",
       "      <td>2017-04-18T00:00:00</td>\n",
       "      <td>1</td>\n",
       "      <td>27.5</td>\n",
       "      <td>24.0</td>\n",
       "      <td>37.7</td>\n",
       "      <td>19</td>\n",
       "      <td>False</td>\n",
       "      <td>...</td>\n",
       "      <td>11.0</td>\n",
       "      <td>2.0</td>\n",
       "      <td>Санкт-Петербург</td>\n",
       "      <td>42742.0</td>\n",
       "      <td>9760.0</td>\n",
       "      <td>0.0</td>\n",
       "      <td>NaN</td>\n",
       "      <td>0.0</td>\n",
       "      <td>NaN</td>\n",
       "      <td>61.0</td>\n",
       "    </tr>\n",
       "    <tr>\n",
       "      <th>21824</th>\n",
       "      <td>20</td>\n",
       "      <td>2450000.0</td>\n",
       "      <td>44.0</td>\n",
       "      <td>2019-02-12T00:00:00</td>\n",
       "      <td>2</td>\n",
       "      <td>27.0</td>\n",
       "      <td>2.0</td>\n",
       "      <td>38.0</td>\n",
       "      <td>2</td>\n",
       "      <td>False</td>\n",
       "      <td>...</td>\n",
       "      <td>8.6</td>\n",
       "      <td>2.0</td>\n",
       "      <td>городской поселок Большая Ижора</td>\n",
       "      <td>NaN</td>\n",
       "      <td>NaN</td>\n",
       "      <td>NaN</td>\n",
       "      <td>NaN</td>\n",
       "      <td>NaN</td>\n",
       "      <td>NaN</td>\n",
       "      <td>NaN</td>\n",
       "    </tr>\n",
       "    <tr>\n",
       "      <th>22309</th>\n",
       "      <td>20</td>\n",
       "      <td>5300000.0</td>\n",
       "      <td>45.0</td>\n",
       "      <td>2017-09-30T00:00:00</td>\n",
       "      <td>1</td>\n",
       "      <td>10.3</td>\n",
       "      <td>16.0</td>\n",
       "      <td>15.5</td>\n",
       "      <td>15</td>\n",
       "      <td>False</td>\n",
       "      <td>...</td>\n",
       "      <td>NaN</td>\n",
       "      <td>0.0</td>\n",
       "      <td>Санкт-Петербург</td>\n",
       "      <td>36353.0</td>\n",
       "      <td>11936.0</td>\n",
       "      <td>2.0</td>\n",
       "      <td>440.0</td>\n",
       "      <td>2.0</td>\n",
       "      <td>450.0</td>\n",
       "      <td>136.0</td>\n",
       "    </tr>\n",
       "    <tr>\n",
       "      <th>22336</th>\n",
       "      <td>19</td>\n",
       "      <td>9999000.0</td>\n",
       "      <td>92.4</td>\n",
       "      <td>2019-04-05T00:00:00</td>\n",
       "      <td>2</td>\n",
       "      <td>32.0</td>\n",
       "      <td>6.0</td>\n",
       "      <td>55.5</td>\n",
       "      <td>5</td>\n",
       "      <td>False</td>\n",
       "      <td>...</td>\n",
       "      <td>16.5</td>\n",
       "      <td>4.0</td>\n",
       "      <td>Санкт-Петербург</td>\n",
       "      <td>18838.0</td>\n",
       "      <td>3506.0</td>\n",
       "      <td>0.0</td>\n",
       "      <td>NaN</td>\n",
       "      <td>3.0</td>\n",
       "      <td>511.0</td>\n",
       "      <td>NaN</td>\n",
       "    </tr>\n",
       "    <tr>\n",
       "      <th>22869</th>\n",
       "      <td>0</td>\n",
       "      <td>15000000.0</td>\n",
       "      <td>25.0</td>\n",
       "      <td>2018-07-25T00:00:00</td>\n",
       "      <td>1</td>\n",
       "      <td>100.0</td>\n",
       "      <td>5.0</td>\n",
       "      <td>14.0</td>\n",
       "      <td>5</td>\n",
       "      <td>True</td>\n",
       "      <td>...</td>\n",
       "      <td>11.0</td>\n",
       "      <td>5.0</td>\n",
       "      <td>Санкт-Петербург</td>\n",
       "      <td>34963.0</td>\n",
       "      <td>8283.0</td>\n",
       "      <td>1.0</td>\n",
       "      <td>223.0</td>\n",
       "      <td>3.0</td>\n",
       "      <td>30.0</td>\n",
       "      <td>19.0</td>\n",
       "    </tr>\n",
       "    <tr>\n",
       "      <th>22938</th>\n",
       "      <td>14</td>\n",
       "      <td>4000000.0</td>\n",
       "      <td>98.0</td>\n",
       "      <td>2018-03-15T00:00:00</td>\n",
       "      <td>4</td>\n",
       "      <td>27.0</td>\n",
       "      <td>2.0</td>\n",
       "      <td>73.0</td>\n",
       "      <td>2</td>\n",
       "      <td>True</td>\n",
       "      <td>...</td>\n",
       "      <td>9.0</td>\n",
       "      <td>1.0</td>\n",
       "      <td>деревня Нижняя</td>\n",
       "      <td>NaN</td>\n",
       "      <td>NaN</td>\n",
       "      <td>NaN</td>\n",
       "      <td>NaN</td>\n",
       "      <td>NaN</td>\n",
       "      <td>NaN</td>\n",
       "      <td>27.0</td>\n",
       "    </tr>\n",
       "  </tbody>\n",
       "</table>\n",
       "<p>29 rows × 22 columns</p>\n",
       "</div>"
      ],
      "text/plain": [
       "       total_images  last_price  total_area first_day_exposition  rooms  \\\n",
       "355              17   3600000.0        55.2  2018-07-12T00:00:00      2   \n",
       "3148             14   2900000.0        75.0  2018-11-12T00:00:00      3   \n",
       "3474              3   1400000.0        30.0  2018-03-16T00:00:00      1   \n",
       "4643              0   4300000.0        45.0  2018-02-01T00:00:00      2   \n",
       "4876              7   3000000.0        25.0  2017-09-27T00:00:00      0   \n",
       "5076              0   3850000.0        30.5  2018-10-03T00:00:00      1   \n",
       "5246              0   2500000.0        54.0  2017-10-13T00:00:00      2   \n",
       "5669              4   4400000.0        50.0  2017-08-08T00:00:00      2   \n",
       "5807             17   8150000.0        80.0  2019-01-09T00:00:00      2   \n",
       "5863             20   5650000.0        45.0  2018-08-15T00:00:00      1   \n",
       "6246              6   3300000.0        44.4  2019-03-25T00:00:00      2   \n",
       "9379              5   3950000.0        42.0  2017-03-26T00:00:00      3   \n",
       "10773             8   3800000.0        58.0  2017-10-13T00:00:00      2   \n",
       "11285             0   1950000.0        37.0  2019-03-20T00:00:00      1   \n",
       "14382             9   1700000.0        35.0  2015-12-04T00:00:00      1   \n",
       "15061            19   5600000.0        56.4  2018-05-11T00:00:00      2   \n",
       "15743            14   5600000.0        67.0  2016-11-11T00:00:00      3   \n",
       "17442             0   5350000.0        54.0  2015-06-16T00:00:00      2   \n",
       "17496            15   6700000.0        92.9  2019-02-19T00:00:00      3   \n",
       "17857             1   3900000.0        56.0  2017-12-22T00:00:00      3   \n",
       "18545             6   3750000.0        43.0  2019-03-18T00:00:00      2   \n",
       "20478            11   8000000.0        45.0  2017-07-18T00:00:00      1   \n",
       "20507            12   5950000.0        60.0  2018-02-19T00:00:00      2   \n",
       "21377            19   4900000.0        42.0  2017-04-18T00:00:00      1   \n",
       "21824            20   2450000.0        44.0  2019-02-12T00:00:00      2   \n",
       "22309            20   5300000.0        45.0  2017-09-30T00:00:00      1   \n",
       "22336            19   9999000.0        92.4  2019-04-05T00:00:00      2   \n",
       "22869             0  15000000.0        25.0  2018-07-25T00:00:00      1   \n",
       "22938            14   4000000.0        98.0  2018-03-15T00:00:00      4   \n",
       "\n",
       "       ceiling_height  floors_total  living_area  floor  is_apartment  ...  \\\n",
       "355              25.0           5.0         32.0      2         False  ...   \n",
       "3148             32.0           3.0         53.0      2         False  ...   \n",
       "3474              8.0           5.0         15.3      2         False  ...   \n",
       "4643             25.0           9.0         30.0      2         False  ...   \n",
       "4876             27.0          25.0         17.0     17         False  ...   \n",
       "5076             24.0           5.0         19.5      1          True  ...   \n",
       "5246             27.0           5.0         30.0      3         False  ...   \n",
       "5669             26.0           9.0         21.3      3         False  ...   \n",
       "5807             27.0          36.0         41.0     13         False  ...   \n",
       "5863              8.3          16.0         19.3     14         False  ...   \n",
       "6246             25.0           5.0         31.3      5         False  ...   \n",
       "9379             25.0           5.0         30.0      2         False  ...   \n",
       "10773            27.0          10.0         30.1      3         False  ...   \n",
       "11285            25.0           5.0         17.0      4         False  ...   \n",
       "14382            25.0           5.0         20.0      2         False  ...   \n",
       "15061            14.0          14.0         32.4      5         False  ...   \n",
       "15743             8.0          16.0         41.0      1         False  ...   \n",
       "17442             8.0           5.0         29.0      2         False  ...   \n",
       "17496            20.0          17.0         53.2     14         False  ...   \n",
       "17857            27.0           5.0         33.0      4         False  ...   \n",
       "18545            25.0           5.0         29.0      3         False  ...   \n",
       "20478            27.0           4.0         22.0      2         False  ...   \n",
       "20507            22.6          14.0         35.0     11         False  ...   \n",
       "21377            27.5          24.0         37.7     19         False  ...   \n",
       "21824            27.0           2.0         38.0      2         False  ...   \n",
       "22309            10.3          16.0         15.5     15         False  ...   \n",
       "22336            32.0           6.0         55.5      5         False  ...   \n",
       "22869           100.0           5.0         14.0      5          True  ...   \n",
       "22938            27.0           2.0         73.0      2          True  ...   \n",
       "\n",
       "       kitchen_area  balcony                    locality_name  \\\n",
       "355             NaN      2.0                          Гатчина   \n",
       "3148            8.0      0.0                           Волхов   \n",
       "3474            7.3      0.0                    деревня Нурма   \n",
       "4643            7.0      1.0                  Санкт-Петербург   \n",
       "4876            NaN      2.0                   посёлок Мурино   \n",
       "5076            5.5      0.0                  Санкт-Петербург   \n",
       "5246            9.0      2.0                     деревня Мины   \n",
       "5669            7.0      2.0                  Санкт-Петербург   \n",
       "5807           12.0      5.0                  Санкт-Петербург   \n",
       "5863            8.3      1.0                  Санкт-Петербург   \n",
       "6246            5.7      0.0                        Кронштадт   \n",
       "9379            5.2      0.0                  Санкт-Петербург   \n",
       "10773           8.1      2.0                   посёлок Мурино   \n",
       "11285           9.0      2.0                             Луга   \n",
       "14382           8.0      1.0               поселок Новый Свет   \n",
       "15061           9.1      2.0                  Санкт-Петербург   \n",
       "15743           8.0      0.0                  Санкт-Петербург   \n",
       "17442           NaN      1.0                     Красное Село   \n",
       "17496          12.0      5.0                  Санкт-Петербург   \n",
       "17857           NaN      0.0                  Санкт-Петербург   \n",
       "18545           NaN      0.0                  Санкт-Петербург   \n",
       "20478          10.0      1.0                  Санкт-Петербург   \n",
       "20507          13.0      1.0                  Санкт-Петербург   \n",
       "21377          11.0      2.0                  Санкт-Петербург   \n",
       "21824           8.6      2.0  городской поселок Большая Ижора   \n",
       "22309           NaN      0.0                  Санкт-Петербург   \n",
       "22336          16.5      4.0                  Санкт-Петербург   \n",
       "22869          11.0      5.0                  Санкт-Петербург   \n",
       "22938           9.0      1.0                   деревня Нижняя   \n",
       "\n",
       "       airports_nearest cityCenters_nearest  parks_around3000  parks_nearest  \\\n",
       "355                 NaN                 NaN               NaN            NaN   \n",
       "3148                NaN                 NaN               NaN            NaN   \n",
       "3474                NaN                 NaN               NaN            NaN   \n",
       "4643            12016.0             13256.0               1.0          658.0   \n",
       "4876                NaN                 NaN               NaN            NaN   \n",
       "5076            29686.0              8389.0               3.0          397.0   \n",
       "5246                NaN                 NaN               NaN            NaN   \n",
       "5669            28981.0             10912.0               1.0          305.0   \n",
       "5807            18732.0             20444.0               0.0            NaN   \n",
       "5863            13069.0             10763.0               0.0            NaN   \n",
       "6246            68923.0             50649.0               1.0          417.0   \n",
       "9379            11647.0             13581.0               0.0            NaN   \n",
       "10773               NaN                 NaN               NaN            NaN   \n",
       "11285               NaN                 NaN               NaN            NaN   \n",
       "14382               NaN                 NaN               NaN            NaN   \n",
       "15061           14814.0             13610.0               0.0            NaN   \n",
       "15743           32691.0             11035.0               1.0          723.0   \n",
       "17442           24638.0             28062.0               0.0            NaN   \n",
       "17496           16295.0             15092.0               1.0          967.0   \n",
       "17857           41030.0             15543.0               0.0            NaN   \n",
       "18545           27054.0              8033.0               1.0          540.0   \n",
       "20478           18975.0              3246.0               0.0            NaN   \n",
       "20507           27028.0             12570.0               0.0            NaN   \n",
       "21377           42742.0              9760.0               0.0            NaN   \n",
       "21824               NaN                 NaN               NaN            NaN   \n",
       "22309           36353.0             11936.0               2.0          440.0   \n",
       "22336           18838.0              3506.0               0.0            NaN   \n",
       "22869           34963.0              8283.0               1.0          223.0   \n",
       "22938               NaN                 NaN               NaN            NaN   \n",
       "\n",
       "       ponds_around3000  ponds_nearest  days_exposition  \n",
       "355                 NaN            NaN            259.0  \n",
       "3148                NaN            NaN              NaN  \n",
       "3474                NaN            NaN            125.0  \n",
       "4643                1.0          331.0            181.0  \n",
       "4876                NaN            NaN             28.0  \n",
       "5076                1.0          578.0              7.0  \n",
       "5246                NaN            NaN            540.0  \n",
       "5669                0.0            NaN            267.0  \n",
       "5807                3.0           80.0             38.0  \n",
       "5863                1.0          613.0             14.0  \n",
       "6246                2.0           73.0              NaN  \n",
       "9379                0.0            NaN              NaN  \n",
       "10773               NaN            NaN             71.0  \n",
       "11285               NaN            NaN             18.0  \n",
       "14382               NaN            NaN            206.0  \n",
       "15061               0.0            NaN            315.0  \n",
       "15743               0.0            NaN            474.0  \n",
       "17442               0.0            NaN            469.0  \n",
       "17496               0.0            NaN              NaN  \n",
       "17857               0.0            NaN             73.0  \n",
       "18545               0.0            NaN             12.0  \n",
       "20478               3.0          449.0            429.0  \n",
       "20507               0.0            NaN             40.0  \n",
       "21377               0.0            NaN             61.0  \n",
       "21824               NaN            NaN              NaN  \n",
       "22309               2.0          450.0            136.0  \n",
       "22336               3.0          511.0              NaN  \n",
       "22869               3.0           30.0             19.0  \n",
       "22938               NaN            NaN             27.0  \n",
       "\n",
       "[29 rows x 22 columns]"
      ]
     },
     "execution_count": 13,
     "metadata": {},
     "output_type": "execute_result"
    }
   ],
   "source": [
    "df.query('ceiling_height > 6') "
   ]
  },
  {
   "cell_type": "markdown",
   "metadata": {},
   "source": [
    "Предположим, что скорее всего при заполнении данных по переменной 'ceiling_height' забыли разделить числа запятой, т.е. там, где 37, то скорее всего это 3.7. \n",
    "Заменим пропуски средним значением."
   ]
  },
  {
   "cell_type": "code",
   "execution_count": 14,
   "metadata": {},
   "outputs": [],
   "source": [
    "mean_ceiling_height = df['ceiling_height'].mean()\n",
    "df['ceiling_height'] = df['ceiling_height'].fillna(mean_ceiling_height)"
   ]
  },
  {
   "cell_type": "markdown",
   "metadata": {},
   "source": [
    "Заменим пропуски средним значением в переменных 'floors_total', 'living_area' и 'kitchen_area'."
   ]
  },
  {
   "cell_type": "code",
   "execution_count": 15,
   "metadata": {},
   "outputs": [
    {
     "data": {
      "text/plain": [
       "count    23613.000000\n",
       "mean        10.673824\n",
       "std          6.597173\n",
       "min          1.000000\n",
       "25%          5.000000\n",
       "50%          9.000000\n",
       "75%         16.000000\n",
       "max         60.000000\n",
       "Name: floors_total, dtype: float64"
      ]
     },
     "execution_count": 15,
     "metadata": {},
     "output_type": "execute_result"
    }
   ],
   "source": [
    "df['floors_total'].describe()"
   ]
  },
  {
   "cell_type": "code",
   "execution_count": 16,
   "metadata": {},
   "outputs": [
    {
     "data": {
      "text/plain": [
       "count    21796.000000\n",
       "mean        34.457852\n",
       "std         22.030445\n",
       "min          2.000000\n",
       "25%         18.600000\n",
       "50%         30.000000\n",
       "75%         42.300000\n",
       "max        409.700000\n",
       "Name: living_area, dtype: float64"
      ]
     },
     "execution_count": 16,
     "metadata": {},
     "output_type": "execute_result"
    }
   ],
   "source": [
    "df['living_area'].describe()"
   ]
  },
  {
   "cell_type": "code",
   "execution_count": 17,
   "metadata": {},
   "outputs": [
    {
     "data": {
      "text/plain": [
       "count    21421.000000\n",
       "mean        10.569807\n",
       "std          5.905438\n",
       "min          1.300000\n",
       "25%          7.000000\n",
       "50%          9.100000\n",
       "75%         12.000000\n",
       "max        112.000000\n",
       "Name: kitchen_area, dtype: float64"
      ]
     },
     "execution_count": 17,
     "metadata": {},
     "output_type": "execute_result"
    }
   ],
   "source": [
    "df['kitchen_area'].describe()"
   ]
  },
  {
   "cell_type": "code",
   "execution_count": 18,
   "metadata": {},
   "outputs": [],
   "source": [
    "mean_floors_total = df['floors_total'].mean()\n",
    "df['floors_total'] = df['floors_total'].fillna(mean_floors_total)\n",
    "mean_living_area = df['living_area'].mean()\n",
    "df['living_area'] = df['living_area'].fillna(mean_living_area)\n",
    "mean_kitchen_area = df['kitchen_area'].mean()\n",
    "df['kitchen_area'] = df['kitchen_area'].fillna(mean_kitchen_area)"
   ]
  },
  {
   "cell_type": "code",
   "execution_count": 19,
   "metadata": {},
   "outputs": [],
   "source": [
    "df = df.dropna(subset = ['locality_name']) # удалим пропуски в перменной 'locality_name'"
   ]
  },
  {
   "cell_type": "code",
   "execution_count": 20,
   "metadata": {
    "scrolled": false
   },
   "outputs": [
    {
     "data": {
      "text/plain": [
       "0"
      ]
     },
     "execution_count": 20,
     "metadata": {},
     "output_type": "execute_result"
    }
   ],
   "source": [
    "df.duplicated().sum()"
   ]
  },
  {
   "cell_type": "markdown",
   "metadata": {},
   "source": [
    "#### Изменение типа данных"
   ]
  },
  {
   "cell_type": "code",
   "execution_count": 21,
   "metadata": {},
   "outputs": [],
   "source": [
    "df['first_day_exposition'] = pd.to_datetime(\n",
    "    df['first_day_exposition'], format='%Y-%m-%dT%H:%M:%S'\n",
    ")"
   ]
  },
  {
   "cell_type": "code",
   "execution_count": 22,
   "metadata": {},
   "outputs": [],
   "source": [
    "df['floors_total'] = df['floors_total'].astype(int)"
   ]
  },
  {
   "cell_type": "code",
   "execution_count": 23,
   "metadata": {},
   "outputs": [],
   "source": [
    "df['balcony'] = df['balcony'].astype(int) "
   ]
  },
  {
   "cell_type": "code",
   "execution_count": 24,
   "metadata": {},
   "outputs": [],
   "source": [
    "df['last_price'] = df['last_price'].astype(int) "
   ]
  },
  {
   "cell_type": "code",
   "execution_count": 25,
   "metadata": {},
   "outputs": [],
   "source": [
    "df['total_images'] = df['total_images'].astype(int)"
   ]
  },
  {
   "cell_type": "code",
   "execution_count": 26,
   "metadata": {},
   "outputs": [],
   "source": [
    "df['total_area'] = df['total_area'].astype(int)"
   ]
  },
  {
   "cell_type": "code",
   "execution_count": 27,
   "metadata": {},
   "outputs": [],
   "source": [
    "df['ceiling_height'] = df['ceiling_height'].astype(int)"
   ]
  },
  {
   "cell_type": "code",
   "execution_count": 28,
   "metadata": {},
   "outputs": [],
   "source": [
    "df['living_area'] = df['living_area'].astype(int)"
   ]
  },
  {
   "cell_type": "code",
   "execution_count": 29,
   "metadata": {},
   "outputs": [],
   "source": [
    "df['kitchen_area'] = df['kitchen_area'].astype(int)"
   ]
  },
  {
   "cell_type": "code",
   "execution_count": 30,
   "metadata": {},
   "outputs": [],
   "source": [
    "df['total_images'] = df['total_images'].astype(int)"
   ]
  },
  {
   "cell_type": "markdown",
   "metadata": {},
   "source": [
    "По остальным рассматриваемым переменным мы не стали заменять пропуски, так как данные по ним были получены автоматически. Пристутсвие пропусков не позволяет нам изменить тип данных с float на int."
   ]
  },
  {
   "cell_type": "code",
   "execution_count": 31,
   "metadata": {},
   "outputs": [
    {
     "name": "stdout",
     "output_type": "stream",
     "text": [
      "<class 'pandas.core.frame.DataFrame'>\n",
      "Int64Index: 23650 entries, 0 to 23698\n",
      "Data columns (total 22 columns):\n",
      " #   Column                Non-Null Count  Dtype         \n",
      "---  ------                --------------  -----         \n",
      " 0   total_images          23650 non-null  int64         \n",
      " 1   last_price            23650 non-null  int64         \n",
      " 2   total_area            23650 non-null  int64         \n",
      " 3   first_day_exposition  23650 non-null  datetime64[ns]\n",
      " 4   rooms                 23650 non-null  int64         \n",
      " 5   ceiling_height        23650 non-null  int64         \n",
      " 6   floors_total          23650 non-null  int64         \n",
      " 7   living_area           23650 non-null  int64         \n",
      " 8   floor                 23650 non-null  int64         \n",
      " 9   is_apartment          23650 non-null  bool          \n",
      " 10  studio                23650 non-null  bool          \n",
      " 11  open_plan             23650 non-null  bool          \n",
      " 12  kitchen_area          23650 non-null  int64         \n",
      " 13  balcony               23650 non-null  int64         \n",
      " 14  locality_name         23650 non-null  object        \n",
      " 15  airports_nearest      18116 non-null  float64       \n",
      " 16  cityCenters_nearest   18139 non-null  float64       \n",
      " 17  parks_around3000      18140 non-null  float64       \n",
      " 18  parks_nearest         8064 non-null   float64       \n",
      " 19  ponds_around3000      18140 non-null  float64       \n",
      " 20  ponds_nearest         9085 non-null   float64       \n",
      " 21  days_exposition       20470 non-null  float64       \n",
      "dtypes: bool(3), datetime64[ns](1), float64(7), int64(10), object(1)\n",
      "memory usage: 3.7+ MB\n"
     ]
    }
   ],
   "source": [
    "df.info()"
   ]
  },
  {
   "cell_type": "markdown",
   "metadata": {},
   "source": [
    "#### Удаление неявных дубликатов"
   ]
  },
  {
   "cell_type": "code",
   "execution_count": 32,
   "metadata": {},
   "outputs": [
    {
     "data": {
      "text/plain": [
       "array(['Санкт-Петербург', 'посёлок Шушары', 'городской посёлок Янино-1',\n",
       "       'посёлок Парголово', 'посёлок Мурино', 'Ломоносов', 'Сертолово',\n",
       "       'Петергоф', 'Пушкин', 'деревня Кудрово', 'Коммунар', 'Колпино',\n",
       "       'поселок городского типа Красный Бор', 'Гатчина', 'поселок Мурино',\n",
       "       'деревня Фёдоровское', 'Выборг', 'Кронштадт', 'Кировск',\n",
       "       'деревня Новое Девяткино', 'посёлок Металлострой',\n",
       "       'посёлок городского типа Лебяжье',\n",
       "       'посёлок городского типа Сиверский', 'поселок Молодцово',\n",
       "       'поселок городского типа Кузьмоловский',\n",
       "       'садовое товарищество Новая Ропша', 'Павловск',\n",
       "       'деревня Пикколово', 'Всеволожск', 'Волхов', 'Кингисепп',\n",
       "       'Приозерск', 'Сестрорецк', 'деревня Куттузи', 'посёлок Аннино',\n",
       "       'поселок городского типа Ефимовский', 'посёлок Плодовое',\n",
       "       'деревня Заклинье', 'поселок Торковичи', 'поселок Первомайское',\n",
       "       'Красное Село', 'посёлок Понтонный', 'Сясьстрой', 'деревня Старая',\n",
       "       'деревня Лесколово', 'посёлок Новый Свет', 'Сланцы',\n",
       "       'село Путилово', 'Ивангород', 'Мурино', 'Шлиссельбург',\n",
       "       'Никольское', 'Зеленогорск', 'Сосновый Бор', 'поселок Новый Свет',\n",
       "       'деревня Оржицы', 'деревня Кальтино', 'Кудрово',\n",
       "       'поселок Романовка', 'посёлок Бугры', 'поселок Бугры',\n",
       "       'поселок городского типа Рощино', 'Кириши', 'Луга', 'Волосово',\n",
       "       'Отрадное', 'село Павлово', 'поселок Оредеж', 'село Копорье',\n",
       "       'посёлок городского типа Красный Бор', 'посёлок Молодёжное',\n",
       "       'Тихвин', 'посёлок Победа', 'деревня Нурма',\n",
       "       'поселок городского типа Синявино', 'Тосно',\n",
       "       'посёлок городского типа Кузьмоловский', 'посёлок Стрельна',\n",
       "       'Бокситогорск', 'посёлок Александровская', 'деревня Лопухинка',\n",
       "       'Пикалёво', 'поселок Терволово',\n",
       "       'поселок городского типа Советский', 'Подпорожье',\n",
       "       'посёлок Петровское', 'посёлок городского типа Токсово',\n",
       "       'поселок Сельцо', 'посёлок городского типа Вырица',\n",
       "       'деревня Кипень', 'деревня Келози', 'деревня Вартемяги',\n",
       "       'посёлок Тельмана', 'поселок Севастьяново',\n",
       "       'городской поселок Большая Ижора', 'городской посёлок Павлово',\n",
       "       'деревня Агалатово', 'посёлок Новогорелово',\n",
       "       'городской посёлок Лесогорский', 'деревня Лаголово',\n",
       "       'поселок Цвелодубово', 'поселок городского типа Рахья',\n",
       "       'поселок городского типа Вырица', 'деревня Белогорка',\n",
       "       'поселок Заводской', 'городской посёлок Новоселье',\n",
       "       'деревня Большие Колпаны', 'деревня Горбунки', 'деревня Батово',\n",
       "       'деревня Заневка', 'деревня Иссад', 'Приморск',\n",
       "       'городской посёлок Фёдоровское', 'деревня Мистолово',\n",
       "       'Новая Ладога', 'поселок Зимитицы', 'поселок Барышево',\n",
       "       'деревня Разметелево', 'поселок городского типа имени Свердлова',\n",
       "       'деревня Пеники', 'поселок Рябово', 'деревня Пудомяги',\n",
       "       'поселок станции Корнево', 'деревня Низино', 'деревня Бегуницы',\n",
       "       'посёлок Поляны', 'городской посёлок Мга', 'поселок Елизаветино',\n",
       "       'посёлок городского типа Кузнечное', 'деревня Колтуши',\n",
       "       'поселок Запорожское', 'посёлок городского типа Рощино',\n",
       "       'деревня Гостилицы', 'деревня Малое Карлино',\n",
       "       'посёлок Мичуринское', 'посёлок городского типа имени Морозова',\n",
       "       'посёлок Песочный', 'посёлок Сосново', 'деревня Аро',\n",
       "       'поселок Ильичёво', 'посёлок городского типа Тайцы',\n",
       "       'деревня Малое Верево', 'деревня Извара', 'поселок станции Вещево',\n",
       "       'село Паша', 'деревня Калитино',\n",
       "       'посёлок городского типа Ульяновка', 'деревня Чудской Бор',\n",
       "       'поселок городского типа Дубровка', 'деревня Мины',\n",
       "       'поселок Войсковицы', 'посёлок городского типа имени Свердлова',\n",
       "       'деревня Коркино', 'посёлок Ропша',\n",
       "       'поселок городского типа Приладожский', 'посёлок Щеглово',\n",
       "       'посёлок Гаврилово', 'Лодейное Поле', 'деревня Рабитицы',\n",
       "       'поселок городского типа Никольский', 'деревня Кузьмолово',\n",
       "       'деревня Малые Колпаны', 'поселок Тельмана',\n",
       "       'посёлок Петро-Славянка', 'городской посёлок Назия',\n",
       "       'посёлок Репино', 'посёлок Ильичёво', 'поселок Углово',\n",
       "       'поселок Старая Малукса', 'садовое товарищество Рахья',\n",
       "       'поселок Аннино', 'поселок Победа', 'деревня Меньково',\n",
       "       'деревня Старые Бегуницы', 'посёлок Сапёрный', 'поселок Семрино',\n",
       "       'поселок Гаврилово', 'поселок Глажево', 'поселок Кобринское',\n",
       "       'деревня Гарболово', 'деревня Юкки',\n",
       "       'поселок станции Приветнинское', 'деревня Мануйлово',\n",
       "       'деревня Пчева', 'поселок Поляны', 'поселок Цвылёво',\n",
       "       'поселок Мельниково', 'посёлок Пудость', 'посёлок Усть-Луга',\n",
       "       'Светогорск', 'Любань', 'поселок Селезнёво',\n",
       "       'поселок городского типа Рябово', 'Каменногорск', 'деревня Кривко',\n",
       "       'поселок Глебычево', 'деревня Парицы', 'поселок Жилпосёлок',\n",
       "       'посёлок городского типа Мга', 'городской поселок Янино-1',\n",
       "       'посёлок Войскорово', 'село Никольское', 'посёлок Терволово',\n",
       "       'поселок Стеклянный', 'посёлок городского типа Важины',\n",
       "       'посёлок Мыза-Ивановка', 'село Русско-Высоцкое',\n",
       "       'поселок городского типа Лебяжье',\n",
       "       'поселок городского типа Форносово', 'село Старая Ладога',\n",
       "       'поселок Житково', 'городской посёлок Виллози', 'деревня Лампово',\n",
       "       'деревня Шпаньково', 'деревня Лаврики', 'посёлок Сумино',\n",
       "       'посёлок Возрождение', 'деревня Старосиверская',\n",
       "       'посёлок Кикерино', 'поселок Возрождение',\n",
       "       'деревня Старое Хинколово', 'посёлок Пригородный',\n",
       "       'посёлок Торфяное', 'городской посёлок Будогощь',\n",
       "       'поселок Суходолье', 'поселок Красная Долина', 'деревня Хапо-Ое',\n",
       "       'поселок городского типа Дружная Горка', 'поселок Лисий Нос',\n",
       "       'деревня Яльгелево', 'посёлок Стеклянный', 'село Рождествено',\n",
       "       'деревня Старополье', 'посёлок Левашово', 'деревня Сяськелево',\n",
       "       'деревня Камышовка',\n",
       "       'садоводческое некоммерческое товарищество Лесная Поляна',\n",
       "       'деревня Хязельки', 'поселок Жилгородок',\n",
       "       'посёлок городского типа Павлово', 'деревня Ялгино',\n",
       "       'поселок Новый Учхоз', 'городской посёлок Рощино',\n",
       "       'поселок Гончарово', 'поселок Почап', 'посёлок Сапёрное',\n",
       "       'посёлок Платформа 69-й километр', 'поселок Каложицы',\n",
       "       'деревня Фалилеево', 'деревня Пельгора',\n",
       "       'поселок городского типа Лесогорский', 'деревня Торошковичи',\n",
       "       'посёлок Белоостров', 'посёлок Алексеевка', 'поселок Серебрянский',\n",
       "       'поселок Лукаши', 'поселок Петровское', 'деревня Щеглово',\n",
       "       'поселок Мичуринское', 'деревня Тарасово', 'поселок Кингисеппский',\n",
       "       'посёлок при железнодорожной станции Вещево', 'поселок Ушаки',\n",
       "       'деревня Котлы', 'деревня Сижно', 'деревня Торосово',\n",
       "       'посёлок Форт Красная Горка', 'поселок городского типа Токсово',\n",
       "       'деревня Новолисино', 'посёлок станции Громово', 'деревня Глинка',\n",
       "       'посёлок Мельниково', 'поселок городского типа Назия',\n",
       "       'деревня Старая Пустошь', 'поселок Коммунары', 'поселок Починок',\n",
       "       'посёлок городского типа Вознесенье', 'деревня Разбегаево',\n",
       "       'посёлок городского типа Рябово', 'поселок Гладкое',\n",
       "       'посёлок при железнодорожной станции Приветнинское',\n",
       "       'поселок Тёсово-4', 'посёлок Жилгородок', 'деревня Бор',\n",
       "       'посёлок Коробицыно', 'деревня Большая Вруда', 'деревня Курковицы',\n",
       "       'посёлок Лисий Нос', 'городской посёлок Советский',\n",
       "       'посёлок Кобралово', 'деревня Суоранда', 'поселок Кобралово',\n",
       "       'поселок городского типа Кондратьево',\n",
       "       'коттеджный поселок Счастье', 'поселок Любань', 'деревня Реброво',\n",
       "       'деревня Зимитицы', 'деревня Тойворово', 'поселок Семиозерье',\n",
       "       'поселок Лесное', 'поселок Совхозный', 'поселок Усть-Луга',\n",
       "       'посёлок Ленинское', 'посёлок Суйда',\n",
       "       'посёлок городского типа Форносово', 'деревня Нижние Осельки',\n",
       "       'посёлок станции Свирь', 'поселок Перово', 'Высоцк',\n",
       "       'поселок Гарболово', 'село Шум', 'поселок Котельский',\n",
       "       'поселок станции Лужайка', 'деревня Большая Пустомержа',\n",
       "       'поселок Красносельское', 'деревня Вахнова Кара', 'деревня Пижма',\n",
       "       'коттеджный поселок Кивеннапа Север', 'поселок Коробицыно',\n",
       "       'поселок Ромашки', 'посёлок Перово', 'деревня Каськово',\n",
       "       'деревня Куровицы', 'посёлок Плоское', 'поселок Сумино',\n",
       "       'поселок городского типа Большая Ижора', 'поселок Кирпичное',\n",
       "       'деревня Ям-Тесово', 'деревня Раздолье', 'деревня Терпилицы',\n",
       "       'посёлок Шугозеро', 'деревня Ваганово', 'поселок Пушное',\n",
       "       'садовое товарищество Садко', 'посёлок Усть-Ижора',\n",
       "       'деревня Выскатка', 'городской посёлок Свирьстрой',\n",
       "       'поселок Громово', 'деревня Кисельня', 'посёлок Старая Малукса',\n",
       "       'деревня Трубников Бор', 'поселок Калитино',\n",
       "       'посёлок Высокоключевой', 'садовое товарищество Приладожский',\n",
       "       'посёлок Пансионат Зелёный Бор', 'деревня Ненимяки',\n",
       "       'поселок Пансионат Зелёный Бор', 'деревня Снегирёвка',\n",
       "       'деревня Рапполово', 'деревня Пустынка', 'поселок Рабитицы',\n",
       "       'деревня Большой Сабск', 'деревня Русско', 'деревня Лупполово',\n",
       "       'деревня Большое Рейзино', 'деревня Малая Романовка',\n",
       "       'поселок Дружноселье', 'поселок Пчевжа', 'поселок Володарское',\n",
       "       'деревня Нижняя', 'коттеджный посёлок Лесное', 'деревня Тихковицы',\n",
       "       'деревня Борисова Грива', 'посёлок Дзержинского'], dtype=object)"
      ]
     },
     "execution_count": 32,
     "metadata": {},
     "output_type": "execute_result"
    }
   ],
   "source": [
    "df['locality_name'].unique()"
   ]
  },
  {
   "cell_type": "code",
   "execution_count": 33,
   "metadata": {},
   "outputs": [],
   "source": [
    "dictionary = {'садоводческое некоммерческое товарищество  ','поселок городского типа  ', 'поселок  ', 'посёлок  ', 'деревня  ', 'городской посёлок  ', 'коттеджный поселок',\n",
    "              'садовое товарищество  ', 'посёлок при железнодорожной станции  ', 'село  ','городского типа  ', 'станции'}#создадим словарь\n",
    "df['locality_name'] = df['locality_name'].str.lower()\n",
    "df['locality_name'] = df['locality_name'].str.replace('ё','е')\n",
    "df['locality_name'] = df['locality_name'].replace(dictionary, '', regex=True)\n",
    "df['locality_name'] = df['locality_name'].str.strip() #уберем пробелы перед названием"
   ]
  },
  {
   "cell_type": "markdown",
   "metadata": {},
   "source": [
    "#### Обработка и удаление аномалий"
   ]
  },
  {
   "cell_type": "code",
   "execution_count": 34,
   "metadata": {},
   "outputs": [
    {
     "data": {
      "text/plain": [
       "count        23650.0\n",
       "mean       6541127.0\n",
       "std       10896399.0\n",
       "min          12190.0\n",
       "25%        3400000.0\n",
       "50%        4650000.0\n",
       "75%        6799000.0\n",
       "max      763000000.0\n",
       "Name: last_price, dtype: float64"
      ]
     },
     "execution_count": 34,
     "metadata": {},
     "output_type": "execute_result"
    }
   ],
   "source": [
    "round(df['last_price'].describe())"
   ]
  },
  {
   "cell_type": "code",
   "execution_count": 35,
   "metadata": {},
   "outputs": [
    {
     "data": {
      "image/png": "[encoded data removed]",
      "text/plain": [
       "<Figure size 432x288 with 1 Axes>"
      ]
     },
     "metadata": {
      "needs_background": "light"
     },
     "output_type": "display_data"
    },
    {
     "data": {
      "image/png": "[encoded data removed]",
      "text/plain": [
       "<Figure size 432x288 with 1 Axes>"
      ]
     },
     "metadata": {
      "needs_background": "light"
     },
     "output_type": "display_data"
    }
   ],
   "source": [
    "df['last_price'].hist(bins=100, range=(0, 30000000))\n",
    "plt.show()\n",
    "df.boxplot(column=['last_price'])\n",
    "plt.ylim(-100, 30000000)\n",
    "plt.show()"
   ]
  },
  {
   "cell_type": "code",
   "execution_count": 36,
   "metadata": {},
   "outputs": [],
   "source": [
    "df.loc[(df['ceiling_height']>20), 'ceiling_height']  = df.loc[(df['ceiling_height']>20), 'ceiling_height'] / 10"
   ]
  },
  {
   "cell_type": "code",
   "execution_count": 37,
   "metadata": {},
   "outputs": [],
   "source": [
    "df.loc[(df['rooms'] == 0), 'rooms'] = 1"
   ]
  },
  {
   "cell_type": "markdown",
   "metadata": {},
   "source": []
  },
  {
   "cell_type": "code",
   "execution_count": 38,
   "metadata": {},
   "outputs": [],
   "source": [
    "df['floors_total'] = round(df['floors_total'])"
   ]
  },
  {
   "cell_type": "markdown",
   "metadata": {},
   "source": [
    "В исходных данных достаточно большое количество пропусков, однако не по всем переменным. Часть пропусков была заменена средним значением, часть удалена, а часть оставлена в неизменном виде. Явных дубликатов нет. Неявные дубликаты были приведены в должный вид."
   ]
  },
  {
   "cell_type": "code",
   "execution_count": 39,
   "metadata": {},
   "outputs": [
    {
     "name": "stdout",
     "output_type": "stream",
     "text": [
      "<class 'pandas.core.frame.DataFrame'>\n",
      "Int64Index: 23650 entries, 0 to 23698\n",
      "Data columns (total 22 columns):\n",
      " #   Column                Non-Null Count  Dtype         \n",
      "---  ------                --------------  -----         \n",
      " 0   total_images          23650 non-null  int64         \n",
      " 1   last_price            23650 non-null  int64         \n",
      " 2   total_area            23650 non-null  int64         \n",
      " 3   first_day_exposition  23650 non-null  datetime64[ns]\n",
      " 4   rooms                 23650 non-null  int64         \n",
      " 5   ceiling_height        23650 non-null  float64       \n",
      " 6   floors_total          23650 non-null  int64         \n",
      " 7   living_area           23650 non-null  int64         \n",
      " 8   floor                 23650 non-null  int64         \n",
      " 9   is_apartment          23650 non-null  bool          \n",
      " 10  studio                23650 non-null  bool          \n",
      " 11  open_plan             23650 non-null  bool          \n",
      " 12  kitchen_area          23650 non-null  int64         \n",
      " 13  balcony               23650 non-null  int64         \n",
      " 14  locality_name         23650 non-null  object        \n",
      " 15  airports_nearest      18116 non-null  float64       \n",
      " 16  cityCenters_nearest   18139 non-null  float64       \n",
      " 17  parks_around3000      18140 non-null  float64       \n",
      " 18  parks_nearest         8064 non-null   float64       \n",
      " 19  ponds_around3000      18140 non-null  float64       \n",
      " 20  ponds_nearest         9085 non-null   float64       \n",
      " 21  days_exposition       20470 non-null  float64       \n",
      "dtypes: bool(3), datetime64[ns](1), float64(8), int64(9), object(1)\n",
      "memory usage: 3.7+ MB\n"
     ]
    }
   ],
   "source": [
    "df.info()"
   ]
  },
  {
   "cell_type": "markdown",
   "metadata": {},
   "source": [
    "### Посчитайте и добавьте в таблицу новые столбцы"
   ]
  },
  {
   "cell_type": "markdown",
   "metadata": {},
   "source": [
    "Добавим в таблицу:\n",
    "1.цену квадратного метра\n",
    "2.день недели, месяц и год публикации объявления\n",
    "3.тип этажа квартиры; значения — «первый», «последний», «другой»\n",
    "4.расстояние в км до центра города"
   ]
  },
  {
   "cell_type": "markdown",
   "metadata": {},
   "source": [
    "Получим для каждого объявления сколько стоит 1 кв.м. его квартиры и добавим в таблицу."
   ]
  },
  {
   "cell_type": "code",
   "execution_count": 40,
   "metadata": {},
   "outputs": [
    {
     "data": {
      "text/html": [
       "<div>\n",
       "<style scoped>\n",
       "    .dataframe tbody tr th:only-of-type {\n",
       "        vertical-align: middle;\n",
       "    }\n",
       "\n",
       "    .dataframe tbody tr th {\n",
       "        vertical-align: top;\n",
       "    }\n",
       "\n",
       "    .dataframe thead th {\n",
       "        text-align: right;\n",
       "    }\n",
       "</style>\n",
       "<table border=\"1\" class=\"dataframe\">\n",
       "  <thead>\n",
       "    <tr style=\"text-align: right;\">\n",
       "      <th></th>\n",
       "      <th>total_images</th>\n",
       "      <th>last_price</th>\n",
       "      <th>total_area</th>\n",
       "      <th>first_day_exposition</th>\n",
       "      <th>rooms</th>\n",
       "      <th>ceiling_height</th>\n",
       "      <th>floors_total</th>\n",
       "      <th>living_area</th>\n",
       "      <th>floor</th>\n",
       "      <th>is_apartment</th>\n",
       "      <th>...</th>\n",
       "      <th>balcony</th>\n",
       "      <th>locality_name</th>\n",
       "      <th>airports_nearest</th>\n",
       "      <th>cityCenters_nearest</th>\n",
       "      <th>parks_around3000</th>\n",
       "      <th>parks_nearest</th>\n",
       "      <th>ponds_around3000</th>\n",
       "      <th>ponds_nearest</th>\n",
       "      <th>days_exposition</th>\n",
       "      <th>price_for_m2</th>\n",
       "    </tr>\n",
       "  </thead>\n",
       "  <tbody>\n",
       "    <tr>\n",
       "      <th>0</th>\n",
       "      <td>20</td>\n",
       "      <td>13000000</td>\n",
       "      <td>108</td>\n",
       "      <td>2019-03-07</td>\n",
       "      <td>3</td>\n",
       "      <td>2.0</td>\n",
       "      <td>16</td>\n",
       "      <td>51</td>\n",
       "      <td>8</td>\n",
       "      <td>False</td>\n",
       "      <td>...</td>\n",
       "      <td>0</td>\n",
       "      <td>санкт-петербург</td>\n",
       "      <td>18863.0</td>\n",
       "      <td>16028.0</td>\n",
       "      <td>1.0</td>\n",
       "      <td>482.0</td>\n",
       "      <td>2.0</td>\n",
       "      <td>755.0</td>\n",
       "      <td>NaN</td>\n",
       "      <td>120370.370370</td>\n",
       "    </tr>\n",
       "    <tr>\n",
       "      <th>1</th>\n",
       "      <td>7</td>\n",
       "      <td>3350000</td>\n",
       "      <td>40</td>\n",
       "      <td>2018-12-04</td>\n",
       "      <td>1</td>\n",
       "      <td>2.0</td>\n",
       "      <td>11</td>\n",
       "      <td>18</td>\n",
       "      <td>1</td>\n",
       "      <td>False</td>\n",
       "      <td>...</td>\n",
       "      <td>2</td>\n",
       "      <td>поселок шушары</td>\n",
       "      <td>12817.0</td>\n",
       "      <td>18603.0</td>\n",
       "      <td>0.0</td>\n",
       "      <td>NaN</td>\n",
       "      <td>0.0</td>\n",
       "      <td>NaN</td>\n",
       "      <td>81.0</td>\n",
       "      <td>83750.000000</td>\n",
       "    </tr>\n",
       "    <tr>\n",
       "      <th>2</th>\n",
       "      <td>10</td>\n",
       "      <td>5196000</td>\n",
       "      <td>56</td>\n",
       "      <td>2015-08-20</td>\n",
       "      <td>2</td>\n",
       "      <td>2.0</td>\n",
       "      <td>5</td>\n",
       "      <td>34</td>\n",
       "      <td>4</td>\n",
       "      <td>False</td>\n",
       "      <td>...</td>\n",
       "      <td>0</td>\n",
       "      <td>санкт-петербург</td>\n",
       "      <td>21741.0</td>\n",
       "      <td>13933.0</td>\n",
       "      <td>1.0</td>\n",
       "      <td>90.0</td>\n",
       "      <td>2.0</td>\n",
       "      <td>574.0</td>\n",
       "      <td>558.0</td>\n",
       "      <td>92785.714286</td>\n",
       "    </tr>\n",
       "    <tr>\n",
       "      <th>3</th>\n",
       "      <td>0</td>\n",
       "      <td>64900000</td>\n",
       "      <td>159</td>\n",
       "      <td>2015-07-24</td>\n",
       "      <td>3</td>\n",
       "      <td>2.0</td>\n",
       "      <td>14</td>\n",
       "      <td>34</td>\n",
       "      <td>9</td>\n",
       "      <td>False</td>\n",
       "      <td>...</td>\n",
       "      <td>0</td>\n",
       "      <td>санкт-петербург</td>\n",
       "      <td>28098.0</td>\n",
       "      <td>6800.0</td>\n",
       "      <td>2.0</td>\n",
       "      <td>84.0</td>\n",
       "      <td>3.0</td>\n",
       "      <td>234.0</td>\n",
       "      <td>424.0</td>\n",
       "      <td>408176.100629</td>\n",
       "    </tr>\n",
       "    <tr>\n",
       "      <th>4</th>\n",
       "      <td>2</td>\n",
       "      <td>10000000</td>\n",
       "      <td>100</td>\n",
       "      <td>2018-06-19</td>\n",
       "      <td>2</td>\n",
       "      <td>3.0</td>\n",
       "      <td>14</td>\n",
       "      <td>32</td>\n",
       "      <td>13</td>\n",
       "      <td>False</td>\n",
       "      <td>...</td>\n",
       "      <td>0</td>\n",
       "      <td>санкт-петербург</td>\n",
       "      <td>31856.0</td>\n",
       "      <td>8098.0</td>\n",
       "      <td>2.0</td>\n",
       "      <td>112.0</td>\n",
       "      <td>1.0</td>\n",
       "      <td>48.0</td>\n",
       "      <td>121.0</td>\n",
       "      <td>100000.000000</td>\n",
       "    </tr>\n",
       "  </tbody>\n",
       "</table>\n",
       "<p>5 rows × 23 columns</p>\n",
       "</div>"
      ],
      "text/plain": [
       "   total_images  last_price  total_area first_day_exposition  rooms  \\\n",
       "0            20    13000000         108           2019-03-07      3   \n",
       "1             7     3350000          40           2018-12-04      1   \n",
       "2            10     5196000          56           2015-08-20      2   \n",
       "3             0    64900000         159           2015-07-24      3   \n",
       "4             2    10000000         100           2018-06-19      2   \n",
       "\n",
       "   ceiling_height  floors_total  living_area  floor  is_apartment  ...  \\\n",
       "0             2.0            16           51      8         False  ...   \n",
       "1             2.0            11           18      1         False  ...   \n",
       "2             2.0             5           34      4         False  ...   \n",
       "3             2.0            14           34      9         False  ...   \n",
       "4             3.0            14           32     13         False  ...   \n",
       "\n",
       "   balcony    locality_name  airports_nearest  cityCenters_nearest  \\\n",
       "0        0  санкт-петербург           18863.0              16028.0   \n",
       "1        2   поселок шушары           12817.0              18603.0   \n",
       "2        0  санкт-петербург           21741.0              13933.0   \n",
       "3        0  санкт-петербург           28098.0               6800.0   \n",
       "4        0  санкт-петербург           31856.0               8098.0   \n",
       "\n",
       "  parks_around3000  parks_nearest  ponds_around3000  ponds_nearest  \\\n",
       "0              1.0          482.0               2.0          755.0   \n",
       "1              0.0            NaN               0.0            NaN   \n",
       "2              1.0           90.0               2.0          574.0   \n",
       "3              2.0           84.0               3.0          234.0   \n",
       "4              2.0          112.0               1.0           48.0   \n",
       "\n",
       "   days_exposition   price_for_m2  \n",
       "0              NaN  120370.370370  \n",
       "1             81.0   83750.000000  \n",
       "2            558.0   92785.714286  \n",
       "3            424.0  408176.100629  \n",
       "4            121.0  100000.000000  \n",
       "\n",
       "[5 rows x 23 columns]"
      ]
     },
     "execution_count": 40,
     "metadata": {},
     "output_type": "execute_result"
    }
   ],
   "source": [
    "df['price_for_m2'] = df.last_price / df.total_area\n",
    "df.head()"
   ]
  },
  {
   "cell_type": "markdown",
   "metadata": {},
   "source": [
    "Добавим столбцы с днём недели, месяцем и годом публикации, где:\n",
    "0 = понедельник,\n",
    "1 = вторник,\n",
    "2 = среда,\n",
    "3 = четверг,\n",
    "4 = пятница,\n",
    "5 = суббота,\n",
    "6 = воскресенье."
   ]
  },
  {
   "cell_type": "code",
   "execution_count": 41,
   "metadata": {},
   "outputs": [
    {
     "data": {
      "text/html": [
       "<div>\n",
       "<style scoped>\n",
       "    .dataframe tbody tr th:only-of-type {\n",
       "        vertical-align: middle;\n",
       "    }\n",
       "\n",
       "    .dataframe tbody tr th {\n",
       "        vertical-align: top;\n",
       "    }\n",
       "\n",
       "    .dataframe thead th {\n",
       "        text-align: right;\n",
       "    }\n",
       "</style>\n",
       "<table border=\"1\" class=\"dataframe\">\n",
       "  <thead>\n",
       "    <tr style=\"text-align: right;\">\n",
       "      <th></th>\n",
       "      <th>total_images</th>\n",
       "      <th>last_price</th>\n",
       "      <th>total_area</th>\n",
       "      <th>first_day_exposition</th>\n",
       "      <th>rooms</th>\n",
       "      <th>ceiling_height</th>\n",
       "      <th>floors_total</th>\n",
       "      <th>living_area</th>\n",
       "      <th>floor</th>\n",
       "      <th>is_apartment</th>\n",
       "      <th>...</th>\n",
       "      <th>cityCenters_nearest</th>\n",
       "      <th>parks_around3000</th>\n",
       "      <th>parks_nearest</th>\n",
       "      <th>ponds_around3000</th>\n",
       "      <th>ponds_nearest</th>\n",
       "      <th>days_exposition</th>\n",
       "      <th>price_for_m2</th>\n",
       "      <th>weekday_of_exposition</th>\n",
       "      <th>month_of_exposition</th>\n",
       "      <th>year_of_exposition</th>\n",
       "    </tr>\n",
       "  </thead>\n",
       "  <tbody>\n",
       "    <tr>\n",
       "      <th>0</th>\n",
       "      <td>20</td>\n",
       "      <td>13000000</td>\n",
       "      <td>108</td>\n",
       "      <td>2019-03-07</td>\n",
       "      <td>3</td>\n",
       "      <td>2.0</td>\n",
       "      <td>16</td>\n",
       "      <td>51</td>\n",
       "      <td>8</td>\n",
       "      <td>False</td>\n",
       "      <td>...</td>\n",
       "      <td>16028.0</td>\n",
       "      <td>1.0</td>\n",
       "      <td>482.0</td>\n",
       "      <td>2.0</td>\n",
       "      <td>755.0</td>\n",
       "      <td>NaN</td>\n",
       "      <td>120370.370370</td>\n",
       "      <td>3</td>\n",
       "      <td>3</td>\n",
       "      <td>2019</td>\n",
       "    </tr>\n",
       "    <tr>\n",
       "      <th>1</th>\n",
       "      <td>7</td>\n",
       "      <td>3350000</td>\n",
       "      <td>40</td>\n",
       "      <td>2018-12-04</td>\n",
       "      <td>1</td>\n",
       "      <td>2.0</td>\n",
       "      <td>11</td>\n",
       "      <td>18</td>\n",
       "      <td>1</td>\n",
       "      <td>False</td>\n",
       "      <td>...</td>\n",
       "      <td>18603.0</td>\n",
       "      <td>0.0</td>\n",
       "      <td>NaN</td>\n",
       "      <td>0.0</td>\n",
       "      <td>NaN</td>\n",
       "      <td>81.0</td>\n",
       "      <td>83750.000000</td>\n",
       "      <td>1</td>\n",
       "      <td>12</td>\n",
       "      <td>2018</td>\n",
       "    </tr>\n",
       "    <tr>\n",
       "      <th>2</th>\n",
       "      <td>10</td>\n",
       "      <td>5196000</td>\n",
       "      <td>56</td>\n",
       "      <td>2015-08-20</td>\n",
       "      <td>2</td>\n",
       "      <td>2.0</td>\n",
       "      <td>5</td>\n",
       "      <td>34</td>\n",
       "      <td>4</td>\n",
       "      <td>False</td>\n",
       "      <td>...</td>\n",
       "      <td>13933.0</td>\n",
       "      <td>1.0</td>\n",
       "      <td>90.0</td>\n",
       "      <td>2.0</td>\n",
       "      <td>574.0</td>\n",
       "      <td>558.0</td>\n",
       "      <td>92785.714286</td>\n",
       "      <td>3</td>\n",
       "      <td>8</td>\n",
       "      <td>2015</td>\n",
       "    </tr>\n",
       "    <tr>\n",
       "      <th>3</th>\n",
       "      <td>0</td>\n",
       "      <td>64900000</td>\n",
       "      <td>159</td>\n",
       "      <td>2015-07-24</td>\n",
       "      <td>3</td>\n",
       "      <td>2.0</td>\n",
       "      <td>14</td>\n",
       "      <td>34</td>\n",
       "      <td>9</td>\n",
       "      <td>False</td>\n",
       "      <td>...</td>\n",
       "      <td>6800.0</td>\n",
       "      <td>2.0</td>\n",
       "      <td>84.0</td>\n",
       "      <td>3.0</td>\n",
       "      <td>234.0</td>\n",
       "      <td>424.0</td>\n",
       "      <td>408176.100629</td>\n",
       "      <td>4</td>\n",
       "      <td>7</td>\n",
       "      <td>2015</td>\n",
       "    </tr>\n",
       "    <tr>\n",
       "      <th>4</th>\n",
       "      <td>2</td>\n",
       "      <td>10000000</td>\n",
       "      <td>100</td>\n",
       "      <td>2018-06-19</td>\n",
       "      <td>2</td>\n",
       "      <td>3.0</td>\n",
       "      <td>14</td>\n",
       "      <td>32</td>\n",
       "      <td>13</td>\n",
       "      <td>False</td>\n",
       "      <td>...</td>\n",
       "      <td>8098.0</td>\n",
       "      <td>2.0</td>\n",
       "      <td>112.0</td>\n",
       "      <td>1.0</td>\n",
       "      <td>48.0</td>\n",
       "      <td>121.0</td>\n",
       "      <td>100000.000000</td>\n",
       "      <td>1</td>\n",
       "      <td>6</td>\n",
       "      <td>2018</td>\n",
       "    </tr>\n",
       "  </tbody>\n",
       "</table>\n",
       "<p>5 rows × 26 columns</p>\n",
       "</div>"
      ],
      "text/plain": [
       "   total_images  last_price  total_area first_day_exposition  rooms  \\\n",
       "0            20    13000000         108           2019-03-07      3   \n",
       "1             7     3350000          40           2018-12-04      1   \n",
       "2            10     5196000          56           2015-08-20      2   \n",
       "3             0    64900000         159           2015-07-24      3   \n",
       "4             2    10000000         100           2018-06-19      2   \n",
       "\n",
       "   ceiling_height  floors_total  living_area  floor  is_apartment  ...  \\\n",
       "0             2.0            16           51      8         False  ...   \n",
       "1             2.0            11           18      1         False  ...   \n",
       "2             2.0             5           34      4         False  ...   \n",
       "3             2.0            14           34      9         False  ...   \n",
       "4             3.0            14           32     13         False  ...   \n",
       "\n",
       "   cityCenters_nearest  parks_around3000  parks_nearest  ponds_around3000  \\\n",
       "0              16028.0               1.0          482.0               2.0   \n",
       "1              18603.0               0.0            NaN               0.0   \n",
       "2              13933.0               1.0           90.0               2.0   \n",
       "3               6800.0               2.0           84.0               3.0   \n",
       "4               8098.0               2.0          112.0               1.0   \n",
       "\n",
       "  ponds_nearest  days_exposition   price_for_m2  weekday_of_exposition  \\\n",
       "0         755.0              NaN  120370.370370                      3   \n",
       "1           NaN             81.0   83750.000000                      1   \n",
       "2         574.0            558.0   92785.714286                      3   \n",
       "3         234.0            424.0  408176.100629                      4   \n",
       "4          48.0            121.0  100000.000000                      1   \n",
       "\n",
       "   month_of_exposition  year_of_exposition  \n",
       "0                    3                2019  \n",
       "1                   12                2018  \n",
       "2                    8                2015  \n",
       "3                    7                2015  \n",
       "4                    6                2018  \n",
       "\n",
       "[5 rows x 26 columns]"
      ]
     },
     "execution_count": 41,
     "metadata": {},
     "output_type": "execute_result"
    }
   ],
   "source": [
    "df['weekday_of_exposition'] = df.first_day_exposition.dt.weekday\n",
    "df['month_of_exposition'] = df.first_day_exposition.dt.month\n",
    "df['year_of_exposition'] = df.first_day_exposition.dt.year\n",
    "df.head()"
   ]
  },
  {
   "cell_type": "code",
   "execution_count": 42,
   "metadata": {},
   "outputs": [
    {
     "data": {
      "text/html": [
       "<div>\n",
       "<style scoped>\n",
       "    .dataframe tbody tr th:only-of-type {\n",
       "        vertical-align: middle;\n",
       "    }\n",
       "\n",
       "    .dataframe tbody tr th {\n",
       "        vertical-align: top;\n",
       "    }\n",
       "\n",
       "    .dataframe thead th {\n",
       "        text-align: right;\n",
       "    }\n",
       "</style>\n",
       "<table border=\"1\" class=\"dataframe\">\n",
       "  <thead>\n",
       "    <tr style=\"text-align: right;\">\n",
       "      <th></th>\n",
       "      <th>total_images</th>\n",
       "      <th>last_price</th>\n",
       "      <th>total_area</th>\n",
       "      <th>first_day_exposition</th>\n",
       "      <th>rooms</th>\n",
       "      <th>ceiling_height</th>\n",
       "      <th>floors_total</th>\n",
       "      <th>living_area</th>\n",
       "      <th>floor</th>\n",
       "      <th>is_apartment</th>\n",
       "      <th>...</th>\n",
       "      <th>parks_around3000</th>\n",
       "      <th>parks_nearest</th>\n",
       "      <th>ponds_around3000</th>\n",
       "      <th>ponds_nearest</th>\n",
       "      <th>days_exposition</th>\n",
       "      <th>price_for_m2</th>\n",
       "      <th>weekday_of_exposition</th>\n",
       "      <th>month_of_exposition</th>\n",
       "      <th>year_of_exposition</th>\n",
       "      <th>type_floor</th>\n",
       "    </tr>\n",
       "  </thead>\n",
       "  <tbody>\n",
       "    <tr>\n",
       "      <th>0</th>\n",
       "      <td>20</td>\n",
       "      <td>13000000</td>\n",
       "      <td>108</td>\n",
       "      <td>2019-03-07</td>\n",
       "      <td>3</td>\n",
       "      <td>2.0</td>\n",
       "      <td>16</td>\n",
       "      <td>51</td>\n",
       "      <td>8</td>\n",
       "      <td>False</td>\n",
       "      <td>...</td>\n",
       "      <td>1.0</td>\n",
       "      <td>482.0</td>\n",
       "      <td>2.0</td>\n",
       "      <td>755.0</td>\n",
       "      <td>NaN</td>\n",
       "      <td>120370.370370</td>\n",
       "      <td>3</td>\n",
       "      <td>3</td>\n",
       "      <td>2019</td>\n",
       "      <td>другой</td>\n",
       "    </tr>\n",
       "    <tr>\n",
       "      <th>1</th>\n",
       "      <td>7</td>\n",
       "      <td>3350000</td>\n",
       "      <td>40</td>\n",
       "      <td>2018-12-04</td>\n",
       "      <td>1</td>\n",
       "      <td>2.0</td>\n",
       "      <td>11</td>\n",
       "      <td>18</td>\n",
       "      <td>1</td>\n",
       "      <td>False</td>\n",
       "      <td>...</td>\n",
       "      <td>0.0</td>\n",
       "      <td>NaN</td>\n",
       "      <td>0.0</td>\n",
       "      <td>NaN</td>\n",
       "      <td>81.0</td>\n",
       "      <td>83750.000000</td>\n",
       "      <td>1</td>\n",
       "      <td>12</td>\n",
       "      <td>2018</td>\n",
       "      <td>первый</td>\n",
       "    </tr>\n",
       "    <tr>\n",
       "      <th>2</th>\n",
       "      <td>10</td>\n",
       "      <td>5196000</td>\n",
       "      <td>56</td>\n",
       "      <td>2015-08-20</td>\n",
       "      <td>2</td>\n",
       "      <td>2.0</td>\n",
       "      <td>5</td>\n",
       "      <td>34</td>\n",
       "      <td>4</td>\n",
       "      <td>False</td>\n",
       "      <td>...</td>\n",
       "      <td>1.0</td>\n",
       "      <td>90.0</td>\n",
       "      <td>2.0</td>\n",
       "      <td>574.0</td>\n",
       "      <td>558.0</td>\n",
       "      <td>92785.714286</td>\n",
       "      <td>3</td>\n",
       "      <td>8</td>\n",
       "      <td>2015</td>\n",
       "      <td>другой</td>\n",
       "    </tr>\n",
       "    <tr>\n",
       "      <th>3</th>\n",
       "      <td>0</td>\n",
       "      <td>64900000</td>\n",
       "      <td>159</td>\n",
       "      <td>2015-07-24</td>\n",
       "      <td>3</td>\n",
       "      <td>2.0</td>\n",
       "      <td>14</td>\n",
       "      <td>34</td>\n",
       "      <td>9</td>\n",
       "      <td>False</td>\n",
       "      <td>...</td>\n",
       "      <td>2.0</td>\n",
       "      <td>84.0</td>\n",
       "      <td>3.0</td>\n",
       "      <td>234.0</td>\n",
       "      <td>424.0</td>\n",
       "      <td>408176.100629</td>\n",
       "      <td>4</td>\n",
       "      <td>7</td>\n",
       "      <td>2015</td>\n",
       "      <td>другой</td>\n",
       "    </tr>\n",
       "    <tr>\n",
       "      <th>4</th>\n",
       "      <td>2</td>\n",
       "      <td>10000000</td>\n",
       "      <td>100</td>\n",
       "      <td>2018-06-19</td>\n",
       "      <td>2</td>\n",
       "      <td>3.0</td>\n",
       "      <td>14</td>\n",
       "      <td>32</td>\n",
       "      <td>13</td>\n",
       "      <td>False</td>\n",
       "      <td>...</td>\n",
       "      <td>2.0</td>\n",
       "      <td>112.0</td>\n",
       "      <td>1.0</td>\n",
       "      <td>48.0</td>\n",
       "      <td>121.0</td>\n",
       "      <td>100000.000000</td>\n",
       "      <td>1</td>\n",
       "      <td>6</td>\n",
       "      <td>2018</td>\n",
       "      <td>другой</td>\n",
       "    </tr>\n",
       "  </tbody>\n",
       "</table>\n",
       "<p>5 rows × 27 columns</p>\n",
       "</div>"
      ],
      "text/plain": [
       "   total_images  last_price  total_area first_day_exposition  rooms  \\\n",
       "0            20    13000000         108           2019-03-07      3   \n",
       "1             7     3350000          40           2018-12-04      1   \n",
       "2            10     5196000          56           2015-08-20      2   \n",
       "3             0    64900000         159           2015-07-24      3   \n",
       "4             2    10000000         100           2018-06-19      2   \n",
       "\n",
       "   ceiling_height  floors_total  living_area  floor  is_apartment  ...  \\\n",
       "0             2.0            16           51      8         False  ...   \n",
       "1             2.0            11           18      1         False  ...   \n",
       "2             2.0             5           34      4         False  ...   \n",
       "3             2.0            14           34      9         False  ...   \n",
       "4             3.0            14           32     13         False  ...   \n",
       "\n",
       "   parks_around3000  parks_nearest  ponds_around3000  ponds_nearest  \\\n",
       "0               1.0          482.0               2.0          755.0   \n",
       "1               0.0            NaN               0.0            NaN   \n",
       "2               1.0           90.0               2.0          574.0   \n",
       "3               2.0           84.0               3.0          234.0   \n",
       "4               2.0          112.0               1.0           48.0   \n",
       "\n",
       "  days_exposition   price_for_m2  weekday_of_exposition  month_of_exposition  \\\n",
       "0             NaN  120370.370370                      3                    3   \n",
       "1            81.0   83750.000000                      1                   12   \n",
       "2           558.0   92785.714286                      3                    8   \n",
       "3           424.0  408176.100629                      4                    7   \n",
       "4           121.0  100000.000000                      1                    6   \n",
       "\n",
       "   year_of_exposition  type_floor  \n",
       "0                2019      другой  \n",
       "1                2018      первый  \n",
       "2                2015      другой  \n",
       "3                2015      другой  \n",
       "4                2018      другой  \n",
       "\n",
       "[5 rows x 27 columns]"
      ]
     },
     "execution_count": 42,
     "metadata": {},
     "output_type": "execute_result"
    }
   ],
   "source": [
    "df.loc[df['floor'] == 1, 'type_floor'] = 'первый'\n",
    "df.loc[df['floor'] == df['floors_total'], 'type_floor'] = 'последний'\n",
    "df.loc[df['type_floor'].isna(), 'type_floor'] = 'другой'\n",
    "df.head()"
   ]
  },
  {
   "cell_type": "code",
   "execution_count": 43,
   "metadata": {},
   "outputs": [
    {
     "data": {
      "text/plain": [
       "другой       17405\n",
       "последний     3358\n",
       "первый        2887\n",
       "Name: type_floor, dtype: int64"
      ]
     },
     "execution_count": 43,
     "metadata": {},
     "output_type": "execute_result"
    }
   ],
   "source": [
    "df.type_floor.value_counts()"
   ]
  },
  {
   "cell_type": "markdown",
   "metadata": {},
   "source": [
    "Создадим переменную расстояние до центра в км и округлим данные этой переменной (cityCenters_nearest_km). "
   ]
  },
  {
   "cell_type": "code",
   "execution_count": 44,
   "metadata": {},
   "outputs": [
    {
     "data": {
      "text/html": [
       "<div>\n",
       "<style scoped>\n",
       "    .dataframe tbody tr th:only-of-type {\n",
       "        vertical-align: middle;\n",
       "    }\n",
       "\n",
       "    .dataframe tbody tr th {\n",
       "        vertical-align: top;\n",
       "    }\n",
       "\n",
       "    .dataframe thead th {\n",
       "        text-align: right;\n",
       "    }\n",
       "</style>\n",
       "<table border=\"1\" class=\"dataframe\">\n",
       "  <thead>\n",
       "    <tr style=\"text-align: right;\">\n",
       "      <th></th>\n",
       "      <th>total_images</th>\n",
       "      <th>last_price</th>\n",
       "      <th>total_area</th>\n",
       "      <th>first_day_exposition</th>\n",
       "      <th>rooms</th>\n",
       "      <th>ceiling_height</th>\n",
       "      <th>floors_total</th>\n",
       "      <th>living_area</th>\n",
       "      <th>floor</th>\n",
       "      <th>is_apartment</th>\n",
       "      <th>...</th>\n",
       "      <th>parks_nearest</th>\n",
       "      <th>ponds_around3000</th>\n",
       "      <th>ponds_nearest</th>\n",
       "      <th>days_exposition</th>\n",
       "      <th>price_for_m2</th>\n",
       "      <th>weekday_of_exposition</th>\n",
       "      <th>month_of_exposition</th>\n",
       "      <th>year_of_exposition</th>\n",
       "      <th>type_floor</th>\n",
       "      <th>cityCenters_nearest_km</th>\n",
       "    </tr>\n",
       "  </thead>\n",
       "  <tbody>\n",
       "    <tr>\n",
       "      <th>0</th>\n",
       "      <td>20</td>\n",
       "      <td>13000000</td>\n",
       "      <td>108</td>\n",
       "      <td>2019-03-07</td>\n",
       "      <td>3</td>\n",
       "      <td>2.0</td>\n",
       "      <td>16</td>\n",
       "      <td>51</td>\n",
       "      <td>8</td>\n",
       "      <td>False</td>\n",
       "      <td>...</td>\n",
       "      <td>482.0</td>\n",
       "      <td>2.0</td>\n",
       "      <td>755.0</td>\n",
       "      <td>NaN</td>\n",
       "      <td>120370.370370</td>\n",
       "      <td>3</td>\n",
       "      <td>3</td>\n",
       "      <td>2019</td>\n",
       "      <td>другой</td>\n",
       "      <td>16.0</td>\n",
       "    </tr>\n",
       "    <tr>\n",
       "      <th>1</th>\n",
       "      <td>7</td>\n",
       "      <td>3350000</td>\n",
       "      <td>40</td>\n",
       "      <td>2018-12-04</td>\n",
       "      <td>1</td>\n",
       "      <td>2.0</td>\n",
       "      <td>11</td>\n",
       "      <td>18</td>\n",
       "      <td>1</td>\n",
       "      <td>False</td>\n",
       "      <td>...</td>\n",
       "      <td>NaN</td>\n",
       "      <td>0.0</td>\n",
       "      <td>NaN</td>\n",
       "      <td>81.0</td>\n",
       "      <td>83750.000000</td>\n",
       "      <td>1</td>\n",
       "      <td>12</td>\n",
       "      <td>2018</td>\n",
       "      <td>первый</td>\n",
       "      <td>19.0</td>\n",
       "    </tr>\n",
       "    <tr>\n",
       "      <th>2</th>\n",
       "      <td>10</td>\n",
       "      <td>5196000</td>\n",
       "      <td>56</td>\n",
       "      <td>2015-08-20</td>\n",
       "      <td>2</td>\n",
       "      <td>2.0</td>\n",
       "      <td>5</td>\n",
       "      <td>34</td>\n",
       "      <td>4</td>\n",
       "      <td>False</td>\n",
       "      <td>...</td>\n",
       "      <td>90.0</td>\n",
       "      <td>2.0</td>\n",
       "      <td>574.0</td>\n",
       "      <td>558.0</td>\n",
       "      <td>92785.714286</td>\n",
       "      <td>3</td>\n",
       "      <td>8</td>\n",
       "      <td>2015</td>\n",
       "      <td>другой</td>\n",
       "      <td>14.0</td>\n",
       "    </tr>\n",
       "    <tr>\n",
       "      <th>3</th>\n",
       "      <td>0</td>\n",
       "      <td>64900000</td>\n",
       "      <td>159</td>\n",
       "      <td>2015-07-24</td>\n",
       "      <td>3</td>\n",
       "      <td>2.0</td>\n",
       "      <td>14</td>\n",
       "      <td>34</td>\n",
       "      <td>9</td>\n",
       "      <td>False</td>\n",
       "      <td>...</td>\n",
       "      <td>84.0</td>\n",
       "      <td>3.0</td>\n",
       "      <td>234.0</td>\n",
       "      <td>424.0</td>\n",
       "      <td>408176.100629</td>\n",
       "      <td>4</td>\n",
       "      <td>7</td>\n",
       "      <td>2015</td>\n",
       "      <td>другой</td>\n",
       "      <td>7.0</td>\n",
       "    </tr>\n",
       "    <tr>\n",
       "      <th>4</th>\n",
       "      <td>2</td>\n",
       "      <td>10000000</td>\n",
       "      <td>100</td>\n",
       "      <td>2018-06-19</td>\n",
       "      <td>2</td>\n",
       "      <td>3.0</td>\n",
       "      <td>14</td>\n",
       "      <td>32</td>\n",
       "      <td>13</td>\n",
       "      <td>False</td>\n",
       "      <td>...</td>\n",
       "      <td>112.0</td>\n",
       "      <td>1.0</td>\n",
       "      <td>48.0</td>\n",
       "      <td>121.0</td>\n",
       "      <td>100000.000000</td>\n",
       "      <td>1</td>\n",
       "      <td>6</td>\n",
       "      <td>2018</td>\n",
       "      <td>другой</td>\n",
       "      <td>8.0</td>\n",
       "    </tr>\n",
       "  </tbody>\n",
       "</table>\n",
       "<p>5 rows × 28 columns</p>\n",
       "</div>"
      ],
      "text/plain": [
       "   total_images  last_price  total_area first_day_exposition  rooms  \\\n",
       "0            20    13000000         108           2019-03-07      3   \n",
       "1             7     3350000          40           2018-12-04      1   \n",
       "2            10     5196000          56           2015-08-20      2   \n",
       "3             0    64900000         159           2015-07-24      3   \n",
       "4             2    10000000         100           2018-06-19      2   \n",
       "\n",
       "   ceiling_height  floors_total  living_area  floor  is_apartment  ...  \\\n",
       "0             2.0            16           51      8         False  ...   \n",
       "1             2.0            11           18      1         False  ...   \n",
       "2             2.0             5           34      4         False  ...   \n",
       "3             2.0            14           34      9         False  ...   \n",
       "4             3.0            14           32     13         False  ...   \n",
       "\n",
       "   parks_nearest  ponds_around3000  ponds_nearest  days_exposition  \\\n",
       "0          482.0               2.0          755.0              NaN   \n",
       "1            NaN               0.0            NaN             81.0   \n",
       "2           90.0               2.0          574.0            558.0   \n",
       "3           84.0               3.0          234.0            424.0   \n",
       "4          112.0               1.0           48.0            121.0   \n",
       "\n",
       "    price_for_m2  weekday_of_exposition  month_of_exposition  \\\n",
       "0  120370.370370                      3                    3   \n",
       "1   83750.000000                      1                   12   \n",
       "2   92785.714286                      3                    8   \n",
       "3  408176.100629                      4                    7   \n",
       "4  100000.000000                      1                    6   \n",
       "\n",
       "   year_of_exposition  type_floor  cityCenters_nearest_km  \n",
       "0                2019      другой                    16.0  \n",
       "1                2018      первый                    19.0  \n",
       "2                2015      другой                    14.0  \n",
       "3                2015      другой                     7.0  \n",
       "4                2018      другой                     8.0  \n",
       "\n",
       "[5 rows x 28 columns]"
      ]
     },
     "execution_count": 44,
     "metadata": {},
     "output_type": "execute_result"
    }
   ],
   "source": [
    "df['cityCenters_nearest_km'] = round(df.cityCenters_nearest / 1000)\n",
    "df.head()"
   ]
  },
  {
   "cell_type": "markdown",
   "metadata": {},
   "source": [
    "### Проведите исследовательский анализ данных"
   ]
  },
  {
   "cell_type": "code",
   "execution_count": 45,
   "metadata": {},
   "outputs": [
    {
     "data": {
      "text/plain": [
       "Text(0, 0.5, 'колличество объявлений')"
      ]
     },
     "execution_count": 45,
     "metadata": {},
     "output_type": "execute_result"
    },
    {
     "data": {
      "image/png": "[encoded data removed]",
      "text/plain": [
       "<Figure size 432x288 with 1 Axes>"
      ]
     },
     "metadata": {
      "needs_background": "light"
     },
     "output_type": "display_data"
    }
   ],
   "source": [
    "import seaborn as sns\n",
    "ax = df.rooms.hist(bins=20)\n",
    "ax.set_xlabel('колличество комнат')\n",
    "ax.set_ylabel('колличество объявлений')"
   ]
  },
  {
   "cell_type": "code",
   "execution_count": 46,
   "metadata": {},
   "outputs": [
    {
     "name": "stderr",
     "output_type": "stream",
     "text": [
      "/opt/conda/lib/python3.9/site-packages/seaborn/_decorators.py:36: FutureWarning: Pass the following variable as a keyword arg: x. From version 0.12, the only valid positional argument will be `data`, and passing other arguments without an explicit keyword will result in an error or misinterpretation.\n",
      "  warnings.warn(\n"
     ]
    },
    {
     "data": {
      "text/plain": [
       "[Text(0.5, 0, 'колличество комнат')]"
      ]
     },
     "execution_count": 46,
     "metadata": {},
     "output_type": "execute_result"
    },
    {
     "data": {
      "image/png": "[encoded data removed]",
      "text/plain": [
       "<Figure size 432x288 with 1 Axes>"
      ]
     },
     "metadata": {
      "needs_background": "light"
     },
     "output_type": "display_data"
    }
   ],
   "source": [
    "sns.boxplot(df.rooms).set(xlabel='колличество комнат')"
   ]
  },
  {
   "cell_type": "code",
   "execution_count": 47,
   "metadata": {},
   "outputs": [
    {
     "data": {
      "text/plain": [
       "Text(0, 0.5, 'колличество объявлений')"
      ]
     },
     "execution_count": 47,
     "metadata": {},
     "output_type": "execute_result"
    },
    {
     "data": {
      "image/png": "[encoded data removed]",
      "text/plain": [
       "<Figure size 432x288 with 1 Axes>"
      ]
     },
     "metadata": {
      "needs_background": "light"
     },
     "output_type": "display_data"
    }
   ],
   "source": [
    "ax = df.total_area.hist(bins=20, range = (0,400))\n",
    "ax.set_xlabel('общая площадь квартиры')\n",
    "ax.set_ylabel('колличество объявлений')"
   ]
  },
  {
   "cell_type": "code",
   "execution_count": 48,
   "metadata": {},
   "outputs": [
    {
     "name": "stderr",
     "output_type": "stream",
     "text": [
      "/opt/conda/lib/python3.9/site-packages/seaborn/_decorators.py:36: FutureWarning: Pass the following variable as a keyword arg: x. From version 0.12, the only valid positional argument will be `data`, and passing other arguments without an explicit keyword will result in an error or misinterpretation.\n",
      "  warnings.warn(\n"
     ]
    },
    {
     "data": {
      "text/plain": [
       "[Text(0.5, 0, 'общая площадь квартиры')]"
      ]
     },
     "execution_count": 48,
     "metadata": {},
     "output_type": "execute_result"
    },
    {
     "data": {
      "image/png": "[encoded data removed]",
      "text/plain": [
       "<Figure size 432x288 with 1 Axes>"
      ]
     },
     "metadata": {
      "needs_background": "light"
     },
     "output_type": "display_data"
    }
   ],
   "source": [
    "sns.boxplot(df.total_area).set(xlabel='общая площадь квартиры')"
   ]
  },
  {
   "cell_type": "code",
   "execution_count": 49,
   "metadata": {},
   "outputs": [
    {
     "data": {
      "text/plain": [
       "Text(0, 0.5, 'колличество объявлений')"
      ]
     },
     "execution_count": 49,
     "metadata": {},
     "output_type": "execute_result"
    },
    {
     "data": {
      "image/png": "[encoded data removed]",
      "text/plain": [
       "<Figure size 432x288 with 1 Axes>"
      ]
     },
     "metadata": {
      "needs_background": "light"
     },
     "output_type": "display_data"
    }
   ],
   "source": [
    "ax = df.living_area.hist(bins=20)\n",
    "ax.set_xlabel('жилая площадь')\n",
    "ax.set_ylabel('колличество объявлений')"
   ]
  },
  {
   "cell_type": "code",
   "execution_count": 50,
   "metadata": {},
   "outputs": [
    {
     "name": "stderr",
     "output_type": "stream",
     "text": [
      "/opt/conda/lib/python3.9/site-packages/seaborn/_decorators.py:36: FutureWarning: Pass the following variable as a keyword arg: x. From version 0.12, the only valid positional argument will be `data`, and passing other arguments without an explicit keyword will result in an error or misinterpretation.\n",
      "  warnings.warn(\n"
     ]
    },
    {
     "data": {
      "text/plain": [
       "[Text(0.5, 0, 'жилая площадь')]"
      ]
     },
     "execution_count": 50,
     "metadata": {},
     "output_type": "execute_result"
    },
    {
     "data": {
      "image/png": "[encoded data removed]",
      "text/plain": [
       "<Figure size 432x288 with 1 Axes>"
      ]
     },
     "metadata": {
      "needs_background": "light"
     },
     "output_type": "display_data"
    }
   ],
   "source": [
    "sns.boxplot(df.living_area).set(xlabel='жилая площадь')"
   ]
  },
  {
   "cell_type": "code",
   "execution_count": 51,
   "metadata": {},
   "outputs": [
    {
     "data": {
      "text/plain": [
       "Text(0, 0.5, 'колличество объявлений')"
      ]
     },
     "execution_count": 51,
     "metadata": {},
     "output_type": "execute_result"
    },
    {
     "data": {
      "image/png": "[encoded data removed]",
      "text/plain": [
       "<Figure size 432x288 with 1 Axes>"
      ]
     },
     "metadata": {
      "needs_background": "light"
     },
     "output_type": "display_data"
    }
   ],
   "source": [
    "ax = df.kitchen_area.hist(bins=20)\n",
    "ax.set_xlabel('площадь кухни')\n",
    "ax.set_ylabel('колличество объявлений')"
   ]
  },
  {
   "cell_type": "code",
   "execution_count": 52,
   "metadata": {},
   "outputs": [
    {
     "name": "stderr",
     "output_type": "stream",
     "text": [
      "/opt/conda/lib/python3.9/site-packages/seaborn/_decorators.py:36: FutureWarning: Pass the following variable as a keyword arg: x. From version 0.12, the only valid positional argument will be `data`, and passing other arguments without an explicit keyword will result in an error or misinterpretation.\n",
      "  warnings.warn(\n"
     ]
    },
    {
     "data": {
      "text/plain": [
       "[Text(0.5, 0, 'площадь кухни')]"
      ]
     },
     "execution_count": 52,
     "metadata": {},
     "output_type": "execute_result"
    },
    {
     "data": {
      "image/png": "[encoded data removed]",
      "text/plain": [
       "<Figure size 432x288 with 1 Axes>"
      ]
     },
     "metadata": {
      "needs_background": "light"
     },
     "output_type": "display_data"
    }
   ],
   "source": [
    "sns.boxplot(df.kitchen_area).set(xlabel='площадь кухни')"
   ]
  },
  {
   "cell_type": "code",
   "execution_count": 53,
   "metadata": {},
   "outputs": [
    {
     "data": {
      "text/plain": [
       "Text(0, 0.5, 'колличество объявлений')"
      ]
     },
     "execution_count": 53,
     "metadata": {},
     "output_type": "execute_result"
    },
    {
     "data": {
      "image/png": "[encoded data removed]",
      "text/plain": [
       "<Figure size 720x360 with 1 Axes>"
      ]
     },
     "metadata": {
      "needs_background": "light"
     },
     "output_type": "display_data"
    }
   ],
   "source": [
    "ax = df.plot(y = 'last_price', kind = 'hist', bins = 50, grid=True, range = (0, 20000000), figsize = (10,5))\n",
    "ax.set_xlabel('цена объекта')\n",
    "ax.set_ylabel('колличество объявлений')"
   ]
  },
  {
   "cell_type": "code",
   "execution_count": 54,
   "metadata": {},
   "outputs": [
    {
     "name": "stderr",
     "output_type": "stream",
     "text": [
      "/opt/conda/lib/python3.9/site-packages/seaborn/_decorators.py:36: FutureWarning: Pass the following variable as a keyword arg: x. From version 0.12, the only valid positional argument will be `data`, and passing other arguments without an explicit keyword will result in an error or misinterpretation.\n",
      "  warnings.warn(\n"
     ]
    },
    {
     "data": {
      "text/plain": [
       "[Text(0.5, 0, 'цена объекта')]"
      ]
     },
     "execution_count": 54,
     "metadata": {},
     "output_type": "execute_result"
    },
    {
     "data": {
      "image/png": "[encoded data removed]",
      "text/plain": [
       "<Figure size 432x288 with 1 Axes>"
      ]
     },
     "metadata": {
      "needs_background": "light"
     },
     "output_type": "display_data"
    }
   ],
   "source": [
    "sns.boxplot(df.total_area).set(xlabel='цена объекта')"
   ]
  },
  {
   "cell_type": "code",
   "execution_count": 55,
   "metadata": {},
   "outputs": [
    {
     "data": {
      "text/plain": [
       "Text(0, 0.5, 'колличество объявлений')"
      ]
     },
     "execution_count": 55,
     "metadata": {},
     "output_type": "execute_result"
    },
    {
     "data": {
      "image/png": "[encoded data removed]",
      "text/plain": [
       "<Figure size 432x288 with 1 Axes>"
      ]
     },
     "metadata": {
      "needs_background": "light"
     },
     "output_type": "display_data"
    }
   ],
   "source": [
    "ax = df.ceiling_height.hist()\n",
    "ax.set_xlabel('высота потолков (м)')\n",
    "ax.set_ylabel('колличество объявлений')"
   ]
  },
  {
   "cell_type": "code",
   "execution_count": 56,
   "metadata": {},
   "outputs": [
    {
     "name": "stderr",
     "output_type": "stream",
     "text": [
      "/opt/conda/lib/python3.9/site-packages/seaborn/_decorators.py:36: FutureWarning: Pass the following variable as a keyword arg: x. From version 0.12, the only valid positional argument will be `data`, and passing other arguments without an explicit keyword will result in an error or misinterpretation.\n",
      "  warnings.warn(\n"
     ]
    },
    {
     "data": {
      "text/plain": [
       "[Text(0.5, 0, 'высота потолков')]"
      ]
     },
     "execution_count": 56,
     "metadata": {},
     "output_type": "execute_result"
    },
    {
     "data": {
      "image/png": "[encoded data removed]",
      "text/plain": [
       "<Figure size 432x288 with 1 Axes>"
      ]
     },
     "metadata": {
      "needs_background": "light"
     },
     "output_type": "display_data"
    }
   ],
   "source": [
    "sns.boxplot(df.ceiling_height).set(xlabel='высота потолков')"
   ]
  },
  {
   "cell_type": "code",
   "execution_count": 57,
   "metadata": {},
   "outputs": [
    {
     "data": {
      "text/plain": [
       "Text(0, 0.5, 'колличество объявлений')"
      ]
     },
     "execution_count": 57,
     "metadata": {},
     "output_type": "execute_result"
    },
    {
     "data": {
      "image/png": "[encoded data removed]",
      "text/plain": [
       "<Figure size 432x288 with 1 Axes>"
      ]
     },
     "metadata": {
      "needs_background": "light"
     },
     "output_type": "display_data"
    }
   ],
   "source": [
    "ax = df.floor.hist(bins=20)\n",
    "ax.set_xlabel('этаж квартиры')\n",
    "ax.set_ylabel('колличество объявлений')"
   ]
  },
  {
   "cell_type": "code",
   "execution_count": 58,
   "metadata": {},
   "outputs": [
    {
     "name": "stderr",
     "output_type": "stream",
     "text": [
      "/opt/conda/lib/python3.9/site-packages/seaborn/_decorators.py:36: FutureWarning: Pass the following variable as a keyword arg: x. From version 0.12, the only valid positional argument will be `data`, and passing other arguments without an explicit keyword will result in an error or misinterpretation.\n",
      "  warnings.warn(\n"
     ]
    },
    {
     "data": {
      "text/plain": [
       "[Text(0.5, 0, 'этаж квартиры')]"
      ]
     },
     "execution_count": 58,
     "metadata": {},
     "output_type": "execute_result"
    },
    {
     "data": {
      "image/png": "[encoded data removed]",
      "text/plain": [
       "<Figure size 432x288 with 1 Axes>"
      ]
     },
     "metadata": {
      "needs_background": "light"
     },
     "output_type": "display_data"
    }
   ],
   "source": [
    "sns.boxplot(df.floor).set(xlabel='этаж квартиры')"
   ]
  },
  {
   "cell_type": "code",
   "execution_count": 59,
   "metadata": {},
   "outputs": [
    {
     "data": {
      "text/plain": [
       "другой       17405\n",
       "последний     3358\n",
       "первый        2887\n",
       "Name: type_floor, dtype: int64"
      ]
     },
     "execution_count": 59,
     "metadata": {},
     "output_type": "execute_result"
    }
   ],
   "source": [
    "df['type_floor'].value_counts()"
   ]
  },
  {
   "cell_type": "code",
   "execution_count": 60,
   "metadata": {},
   "outputs": [
    {
     "data": {
      "text/plain": [
       "Text(0, 0.5, 'колличество объявлений')"
      ]
     },
     "execution_count": 60,
     "metadata": {},
     "output_type": "execute_result"
    },
    {
     "data": {
      "image/png": "[encoded data removed]",
      "text/plain": [
       "<Figure size 432x288 with 1 Axes>"
      ]
     },
     "metadata": {
      "needs_background": "light"
     },
     "output_type": "display_data"
    }
   ],
   "source": [
    "ax = df.type_floor.hist()\n",
    "ax.set_xlabel('тип этажа квартиры')\n",
    "ax.set_ylabel('колличество объявлений')"
   ]
  },
  {
   "cell_type": "code",
   "execution_count": 61,
   "metadata": {},
   "outputs": [
    {
     "data": {
      "text/plain": [
       "Text(0, 0.5, 'колличество объявлений')"
      ]
     },
     "execution_count": 61,
     "metadata": {},
     "output_type": "execute_result"
    },
    {
     "data": {
      "image/png": "[encoded data removed]",
      "text/plain": [
       "<Figure size 432x288 with 1 Axes>"
      ]
     },
     "metadata": {
      "needs_background": "light"
     },
     "output_type": "display_data"
    }
   ],
   "source": [
    "ax = df.floors_total.hist()\n",
    "ax.set_xlabel('общее количество этажей')\n",
    "ax.set_ylabel('колличество объявлений')"
   ]
  },
  {
   "cell_type": "code",
   "execution_count": 62,
   "metadata": {},
   "outputs": [
    {
     "name": "stderr",
     "output_type": "stream",
     "text": [
      "/opt/conda/lib/python3.9/site-packages/seaborn/_decorators.py:36: FutureWarning: Pass the following variable as a keyword arg: x. From version 0.12, the only valid positional argument will be `data`, and passing other arguments without an explicit keyword will result in an error or misinterpretation.\n",
      "  warnings.warn(\n"
     ]
    },
    {
     "data": {
      "text/plain": [
       "[Text(0.5, 0, 'общее количество этажей')]"
      ]
     },
     "execution_count": 62,
     "metadata": {},
     "output_type": "execute_result"
    },
    {
     "data": {
      "image/png": "[encoded data removed]",
      "text/plain": [
       "<Figure size 432x288 with 1 Axes>"
      ]
     },
     "metadata": {
      "needs_background": "light"
     },
     "output_type": "display_data"
    }
   ],
   "source": [
    "sns.boxplot(df.floors_total).set(xlabel='общее количество этажей')"
   ]
  },
  {
   "cell_type": "code",
   "execution_count": 63,
   "metadata": {},
   "outputs": [
    {
     "data": {
      "text/plain": [
       "Text(0, 0.5, 'колличество объявлений')"
      ]
     },
     "execution_count": 63,
     "metadata": {},
     "output_type": "execute_result"
    },
    {
     "data": {
      "image/png": "[encoded data removed]",
      "text/plain": [
       "<Figure size 432x288 with 1 Axes>"
      ]
     },
     "metadata": {
      "needs_background": "light"
     },
     "output_type": "display_data"
    }
   ],
   "source": [
    "ax = df.cityCenters_nearest.hist()\n",
    "ax.set_xlabel('расстояние до центра города, (м)')\n",
    "ax.set_ylabel('колличество объявлений')"
   ]
  },
  {
   "cell_type": "code",
   "execution_count": 64,
   "metadata": {},
   "outputs": [
    {
     "name": "stderr",
     "output_type": "stream",
     "text": [
      "/opt/conda/lib/python3.9/site-packages/seaborn/_decorators.py:36: FutureWarning: Pass the following variable as a keyword arg: x. From version 0.12, the only valid positional argument will be `data`, and passing other arguments without an explicit keyword will result in an error or misinterpretation.\n",
      "  warnings.warn(\n"
     ]
    },
    {
     "data": {
      "text/plain": [
       "[Text(0.5, 0, 'расстояние до центра города, (м)')]"
      ]
     },
     "execution_count": 64,
     "metadata": {},
     "output_type": "execute_result"
    },
    {
     "data": {
      "image/png": "[encoded data removed]",
      "text/plain": [
       "<Figure size 432x288 with 1 Axes>"
      ]
     },
     "metadata": {
      "needs_background": "light"
     },
     "output_type": "display_data"
    }
   ],
   "source": [
    "sns.boxplot(df.cityCenters_nearest).set(xlabel='расстояние до центра города, (м)')"
   ]
  },
  {
   "cell_type": "code",
   "execution_count": 65,
   "metadata": {},
   "outputs": [
    {
     "data": {
      "text/plain": [
       "Text(0, 0.5, 'колличество объявлений')"
      ]
     },
     "execution_count": 65,
     "metadata": {},
     "output_type": "execute_result"
    },
    {
     "data": {
      "image/png": "[encoded data removed]",
      "text/plain": [
       "<Figure size 432x288 with 1 Axes>"
      ]
     },
     "metadata": {
      "needs_background": "light"
     },
     "output_type": "display_data"
    }
   ],
   "source": [
    "ax = df.airports_nearest.hist()\n",
    "ax.set_xlabel('расстояние до ближайшего аэропорта, (м)')\n",
    "ax.set_ylabel('колличество объявлений')"
   ]
  },
  {
   "cell_type": "code",
   "execution_count": 66,
   "metadata": {},
   "outputs": [
    {
     "name": "stderr",
     "output_type": "stream",
     "text": [
      "/opt/conda/lib/python3.9/site-packages/seaborn/_decorators.py:36: FutureWarning: Pass the following variable as a keyword arg: x. From version 0.12, the only valid positional argument will be `data`, and passing other arguments without an explicit keyword will result in an error or misinterpretation.\n",
      "  warnings.warn(\n"
     ]
    },
    {
     "data": {
      "text/plain": [
       "[Text(0.5, 0, 'расстояние до ближайшего аэропорта, (м)')]"
      ]
     },
     "execution_count": 66,
     "metadata": {},
     "output_type": "execute_result"
    },
    {
     "data": {
      "image/png": "[encoded data removed]",
      "text/plain": [
       "<Figure size 432x288 with 1 Axes>"
      ]
     },
     "metadata": {
      "needs_background": "light"
     },
     "output_type": "display_data"
    }
   ],
   "source": [
    "sns.boxplot(df.airports_nearest).set(xlabel='расстояние до ближайшего аэропорта, (м)')"
   ]
  },
  {
   "cell_type": "code",
   "execution_count": 67,
   "metadata": {},
   "outputs": [
    {
     "data": {
      "text/plain": [
       "Text(0, 0.5, 'колличество объявлений')"
      ]
     },
     "execution_count": 67,
     "metadata": {},
     "output_type": "execute_result"
    },
    {
     "data": {
      "image/png": "[encoded data removed]",
      "text/plain": [
       "<Figure size 432x288 with 1 Axes>"
      ]
     },
     "metadata": {
      "needs_background": "light"
     },
     "output_type": "display_data"
    }
   ],
   "source": [
    "ax = df.parks_nearest.hist()\n",
    "ax.set_xlabel('расстояние до ближайшего парка, (м)')\n",
    "ax.set_ylabel('колличество объявлений')"
   ]
  },
  {
   "cell_type": "code",
   "execution_count": 68,
   "metadata": {},
   "outputs": [
    {
     "name": "stderr",
     "output_type": "stream",
     "text": [
      "/opt/conda/lib/python3.9/site-packages/seaborn/_decorators.py:36: FutureWarning: Pass the following variable as a keyword arg: x. From version 0.12, the only valid positional argument will be `data`, and passing other arguments without an explicit keyword will result in an error or misinterpretation.\n",
      "  warnings.warn(\n"
     ]
    },
    {
     "data": {
      "text/plain": [
       "[Text(0.5, 0, 'расстояние до ближайшего парка, (м)')]"
      ]
     },
     "execution_count": 68,
     "metadata": {},
     "output_type": "execute_result"
    },
    {
     "data": {
      "image/png": "[encoded data removed]",
      "text/plain": [
       "<Figure size 432x288 with 1 Axes>"
      ]
     },
     "metadata": {
      "needs_background": "light"
     },
     "output_type": "display_data"
    }
   ],
   "source": [
    "sns.boxplot(df.parks_nearest).set(xlabel='расстояние до ближайшего парка, (м)')"
   ]
  },
  {
   "cell_type": "code",
   "execution_count": 69,
   "metadata": {},
   "outputs": [
    {
     "data": {
      "text/plain": [
       "Text(0, 0.5, 'колличество объявлений')"
      ]
     },
     "execution_count": 69,
     "metadata": {},
     "output_type": "execute_result"
    },
    {
     "data": {
      "image/png": "[encoded data removed]",
      "text/plain": [
       "<Figure size 432x288 with 1 Axes>"
      ]
     },
     "metadata": {
      "needs_background": "light"
     },
     "output_type": "display_data"
    }
   ],
   "source": [
    "ax = df.weekday_of_exposition.hist()\n",
    "ax.set_xlabel('день публикации объявления')\n",
    "ax.set_ylabel('колличество объявлений')"
   ]
  },
  {
   "cell_type": "code",
   "execution_count": 70,
   "metadata": {},
   "outputs": [
    {
     "data": {
      "text/plain": [
       "Text(0, 0.5, 'колличество объявлений')"
      ]
     },
     "execution_count": 70,
     "metadata": {},
     "output_type": "execute_result"
    },
    {
     "data": {
      "image/png": "[encoded data removed]",
      "text/plain": [
       "<Figure size 432x288 with 1 Axes>"
      ]
     },
     "metadata": {
      "needs_background": "light"
     },
     "output_type": "display_data"
    }
   ],
   "source": [
    "ax = df.month_of_exposition.hist()\n",
    "ax.set_xlabel('месяц публикации объявления')\n",
    "ax.set_ylabel('колличество объявлений')"
   ]
  },
  {
   "cell_type": "code",
   "execution_count": 71,
   "metadata": {},
   "outputs": [
    {
     "data": {
      "text/plain": [
       "Text(0, 0.5, 'колличество объявлений')"
      ]
     },
     "execution_count": 71,
     "metadata": {},
     "output_type": "execute_result"
    },
    {
     "data": {
      "image/png": "[encoded data removed]",
      "text/plain": [
       "<Figure size 432x288 with 1 Axes>"
      ]
     },
     "metadata": {
      "needs_background": "light"
     },
     "output_type": "display_data"
    }
   ],
   "source": [
    "ax = df.days_exposition.hist()\n",
    "ax.set_xlabel('количество дней публикации объявления')\n",
    "ax.set_ylabel('колличество объявлений')"
   ]
  },
  {
   "cell_type": "code",
   "execution_count": 72,
   "metadata": {},
   "outputs": [
    {
     "data": {
      "text/plain": [
       "count    20470.000000\n",
       "mean       180.753200\n",
       "std        219.777916\n",
       "min          1.000000\n",
       "25%         45.000000\n",
       "50%         95.000000\n",
       "75%        231.000000\n",
       "max       1580.000000\n",
       "Name: days_exposition, dtype: float64"
      ]
     },
     "execution_count": 72,
     "metadata": {},
     "output_type": "execute_result"
    }
   ],
   "source": [
    "df.days_exposition.describe()"
   ]
  },
  {
   "cell_type": "markdown",
   "metadata": {},
   "source": [
    "Медиана и среднее значение отличаются. Будем ориентироваться на медианные значения, поэтому можно сказать, что продажа обычно занимает 95 дней. Будем считать, что быстрые продажи это те, которые входят в первый квартиль (срок продажи - до 45 дней), а долгие - в четвертый (срок продажи - больше 231 дней). При этом, много квартир было продано за 1 день, что является очень быстрыми продажами. Самые долгие составляют 1580 дней."
   ]
  },
  {
   "cell_type": "markdown",
   "metadata": {},
   "source": [
    "\n",
    "Рассмотрим зависимость нелинейных данных через тип графика scatter.\n"
   ]
  },
  {
   "cell_type": "code",
   "execution_count": 73,
   "metadata": {},
   "outputs": [
    {
     "data": {
      "text/plain": [
       "<matplotlib.collections.PathCollection at 0x7fb187fa5130>"
      ]
     },
     "execution_count": 73,
     "metadata": {},
     "output_type": "execute_result"
    },
    {
     "data": {
      "image/png": "[encoded data removed]",
      "text/plain": [
       "<Figure size 432x288 with 1 Axes>"
      ]
     },
     "metadata": {
      "needs_background": "light"
     },
     "output_type": "display_data"
    }
   ],
   "source": [
    "plt.scatter(df['total_area'], df['last_price'])"
   ]
  },
  {
   "cell_type": "markdown",
   "metadata": {},
   "source": [
    "Между переменными total_area и last_price можно заметить положительную линейную взаимосвязь - чем больше площадь квартиры, тем выше её цена."
   ]
  },
  {
   "cell_type": "code",
   "execution_count": 74,
   "metadata": {},
   "outputs": [
    {
     "data": {
      "text/plain": [
       "<matplotlib.collections.PathCollection at 0x7fb187f06520>"
      ]
     },
     "execution_count": 74,
     "metadata": {},
     "output_type": "execute_result"
    },
    {
     "data": {
      "image/png": "[encoded data removed]",
      "text/plain": [
       "<Figure size 432x288 with 1 Axes>"
      ]
     },
     "metadata": {
      "needs_background": "light"
     },
     "output_type": "display_data"
    }
   ],
   "source": [
    "plt.scatter(df['living_area'], df['last_price'])"
   ]
  },
  {
   "cell_type": "markdown",
   "metadata": {},
   "source": [
    "Переменные living_area и last_price также связаны положительно - большая жилая площадь означает более высокую цену."
   ]
  },
  {
   "cell_type": "code",
   "execution_count": 75,
   "metadata": {},
   "outputs": [
    {
     "data": {
      "text/plain": [
       "<matplotlib.collections.PathCollection at 0x7fb187ee4e20>"
      ]
     },
     "execution_count": 75,
     "metadata": {},
     "output_type": "execute_result"
    },
    {
     "data": {
      "image/png": "[encoded data removed]",
      "text/plain": [
       "<Figure size 432x288 with 1 Axes>"
      ]
     },
     "metadata": {
      "needs_background": "light"
     },
     "output_type": "display_data"
    }
   ],
   "source": [
    "plt.scatter(df['kitchen_area'], df['last_price'])"
   ]
  },
  {
   "cell_type": "markdown",
   "metadata": {},
   "source": [
    "Взаимосвязь между площадью кухни и ценой не прослеживается так чётко."
   ]
  },
  {
   "cell_type": "code",
   "execution_count": 76,
   "metadata": {},
   "outputs": [
    {
     "data": {
      "text/plain": [
       "<matplotlib.collections.PathCollection at 0x7fb187e477c0>"
      ]
     },
     "execution_count": 76,
     "metadata": {},
     "output_type": "execute_result"
    },
    {
     "data": {
      "image/png": "[encoded data removed]",
      "text/plain": [
       "<Figure size 432x288 with 1 Axes>"
      ]
     },
     "metadata": {
      "needs_background": "light"
     },
     "output_type": "display_data"
    }
   ],
   "source": [
    "plt.scatter(df['rooms'], df['last_price'])"
   ]
  },
  {
   "cell_type": "markdown",
   "metadata": {},
   "source": [
    "Рост количества комнат поначалу ведёт к росту цен, однако для квартир с количеством комнат больше 5, данная взаимосвязь уже не прослеживается."
   ]
  },
  {
   "cell_type": "code",
   "execution_count": 77,
   "metadata": {},
   "outputs": [
    {
     "data": {
      "text/plain": [
       "<matplotlib.collections.PathCollection at 0x7fb187e9d3a0>"
      ]
     },
     "execution_count": 77,
     "metadata": {},
     "output_type": "execute_result"
    },
    {
     "data": {
      "image/png": "[encoded data removed]",
      "text/plain": [
       "<Figure size 432x288 with 1 Axes>"
      ]
     },
     "metadata": {
      "needs_background": "light"
     },
     "output_type": "display_data"
    }
   ],
   "source": [
    "plt.scatter(df['days_exposition'], df['last_price'])"
   ]
  },
  {
   "cell_type": "markdown",
   "metadata": {},
   "source": [
    "Количество дней после публикации слабо взаимосвязано с ценой квартиры, однако можно заметить слабую отрицательную взаимосвязь."
   ]
  },
  {
   "cell_type": "code",
   "execution_count": 78,
   "metadata": {},
   "outputs": [
    {
     "data": {
      "text/plain": [
       "<matplotlib.collections.PathCollection at 0x7fb187d88e50>"
      ]
     },
     "execution_count": 78,
     "metadata": {},
     "output_type": "execute_result"
    },
    {
     "data": {
      "image/png": "[encoded data removed]",
      "text/plain": [
       "<Figure size 432x288 with 1 Axes>"
      ]
     },
     "metadata": {
      "needs_background": "light"
     },
     "output_type": "display_data"
    }
   ],
   "source": [
    "plt.scatter(df['floor'], df['last_price'])"
   ]
  },
  {
   "cell_type": "code",
   "execution_count": 79,
   "metadata": {},
   "outputs": [
    {
     "data": {
      "text/plain": [
       "[Text(0, 0.5, 'цена за квартиру'), Text(0.5, 0, 'тип этажа')]"
      ]
     },
     "execution_count": 79,
     "metadata": {},
     "output_type": "execute_result"
    },
    {
     "data": {
      "image/png": "[encoded data removed]",
      "text/plain": [
       "<Figure size 432x288 with 1 Axes>"
      ]
     },
     "metadata": {
      "needs_background": "light"
     },
     "output_type": "display_data"
    }
   ],
   "source": [
    "df.pivot_table(index='type_floor', values='last_price', aggfunc='median')\\\n",
    "    .plot.bar().set(ylabel='цена за квартиру', xlabel='тип этажа')"
   ]
  },
  {
   "cell_type": "markdown",
   "metadata": {},
   "source": [
    "Наименьшие медианные цены на квартиры на первом и последнем этажах."
   ]
  },
  {
   "cell_type": "code",
   "execution_count": 80,
   "metadata": {},
   "outputs": [
    {
     "data": {
      "text/plain": [
       "[Text(0, 0.5, 'цена за квартиру'),\n",
       " Text(0.5, 0, 'день недели размещения объявления')]"
      ]
     },
     "execution_count": 80,
     "metadata": {},
     "output_type": "execute_result"
    },
    {
     "data": {
      "image/png": "[encoded data removed]",
      "text/plain": [
       "<Figure size 432x288 with 1 Axes>"
      ]
     },
     "metadata": {
      "needs_background": "light"
     },
     "output_type": "display_data"
    }
   ],
   "source": [
    "df.pivot_table(index='weekday_of_exposition', values='last_price', aggfunc='median')\\\n",
    "    .plot.bar().set(ylabel='цена за квартиру', xlabel='день недели размещения объявления')"
   ]
  },
  {
   "cell_type": "markdown",
   "metadata": {},
   "source": [
    "День размещения не влияет на цену квартиры."
   ]
  },
  {
   "cell_type": "code",
   "execution_count": 81,
   "metadata": {},
   "outputs": [
    {
     "data": {
      "text/plain": [
       "<matplotlib.collections.PathCollection at 0x7fb187c8bf70>"
      ]
     },
     "execution_count": 81,
     "metadata": {},
     "output_type": "execute_result"
    },
    {
     "data": {
      "image/png": "[encoded data removed]",
      "text/plain": [
       "<Figure size 432x288 with 1 Axes>"
      ]
     },
     "metadata": {
      "needs_background": "light"
     },
     "output_type": "display_data"
    }
   ],
   "source": [
    "plt.scatter(df['weekday_of_exposition'], df['last_price'])"
   ]
  },
  {
   "cell_type": "code",
   "execution_count": 82,
   "metadata": {},
   "outputs": [
    {
     "data": {
      "text/plain": [
       "[Text(0, 0.5, 'цена за квартиру'), Text(0.5, 0, 'месяц размещения объявления')]"
      ]
     },
     "execution_count": 82,
     "metadata": {},
     "output_type": "execute_result"
    },
    {
     "data": {
      "image/png": "[encoded data removed]",
      "text/plain": [
       "<Figure size 432x288 with 1 Axes>"
      ]
     },
     "metadata": {
      "needs_background": "light"
     },
     "output_type": "display_data"
    }
   ],
   "source": [
    "df.pivot_table(index='month_of_exposition', values='last_price', aggfunc='median')\\\n",
    "    .plot.bar().set(ylabel='цена за квартиру', xlabel='месяц размещения объявления')"
   ]
  },
  {
   "cell_type": "markdown",
   "metadata": {},
   "source": [
    "Месяц размещения объявления слабо влияет на цену квартиру, однако наименьшая медианная цена наблюдается в июне."
   ]
  },
  {
   "cell_type": "code",
   "execution_count": 83,
   "metadata": {},
   "outputs": [
    {
     "data": {
      "text/plain": [
       "<matplotlib.collections.PathCollection at 0x7fb187b7ca30>"
      ]
     },
     "execution_count": 83,
     "metadata": {},
     "output_type": "execute_result"
    },
    {
     "data": {
      "image/png": "[encoded data removed]",
      "text/plain": [
       "<Figure size 432x288 with 1 Axes>"
      ]
     },
     "metadata": {
      "needs_background": "light"
     },
     "output_type": "display_data"
    }
   ],
   "source": [
    "plt.scatter(df['month_of_exposition'], df['last_price'])"
   ]
  },
  {
   "cell_type": "code",
   "execution_count": 84,
   "metadata": {},
   "outputs": [
    {
     "data": {
      "text/plain": [
       "[Text(0, 0.5, 'цена за квартиру'), Text(0.5, 0, 'год размещения объявления')]"
      ]
     },
     "execution_count": 84,
     "metadata": {},
     "output_type": "execute_result"
    },
    {
     "data": {
      "image/png": "[encoded data removed]",
      "text/plain": [
       "<Figure size 432x288 with 1 Axes>"
      ]
     },
     "metadata": {
      "needs_background": "light"
     },
     "output_type": "display_data"
    }
   ],
   "source": [
    "df.pivot_table(index='year_of_exposition', values='last_price', aggfunc='median')\\\n",
    "    .plot.bar().set(ylabel='цена за квартиру', xlabel='год размещения объявления')"
   ]
  },
  {
   "cell_type": "markdown",
   "metadata": {},
   "source": [
    "Наибольшие медианные цены на квартиры наблюдались в 2014 году."
   ]
  },
  {
   "cell_type": "code",
   "execution_count": 85,
   "metadata": {},
   "outputs": [
    {
     "data": {
      "text/plain": [
       "<matplotlib.collections.PathCollection at 0x7fb187ace700>"
      ]
     },
     "execution_count": 85,
     "metadata": {},
     "output_type": "execute_result"
    },
    {
     "data": {
      "image/png": "[encoded data removed]",
      "text/plain": [
       "<Figure size 432x288 with 1 Axes>"
      ]
     },
     "metadata": {
      "needs_background": "light"
     },
     "output_type": "display_data"
    }
   ],
   "source": [
    "plt.scatter(df['year_of_exposition'], df['last_price'])"
   ]
  },
  {
   "cell_type": "code",
   "execution_count": 86,
   "metadata": {},
   "outputs": [],
   "source": [
    "corr_df = df[['last_price',\\\n",
    "           'living_area',\\\n",
    "           'kitchen_area',\\\n",
    "           'rooms',\\\n",
    "           'days_exposition',\\\n",
    "           'total_area'\n",
    "           ]]"
   ]
  },
  {
   "cell_type": "code",
   "execution_count": 87,
   "metadata": {},
   "outputs": [
    {
     "data": {
      "text/plain": [
       "<AxesSubplot:>"
      ]
     },
     "execution_count": 87,
     "metadata": {},
     "output_type": "execute_result"
    },
    {
     "data": {
      "image/png": "[encoded data removed]",
      "text/plain": [
       "<Figure size 960x800 with 2 Axes>"
      ]
     },
     "metadata": {
      "needs_background": "light"
     },
     "output_type": "display_data"
    }
   ],
   "source": [
    "plt.figure(figsize=(12,10), dpi= 80)\n",
    "sns.heatmap(corr_df.corr(), xticklabels=corr_df.corr().columns,\\\n",
    "            yticklabels=corr_df.corr().columns, cmap='RdYlGn', center=0, annot=True)"
   ]
  },
  {
   "cell_type": "markdown",
   "metadata": {},
   "source": [
    "\n",
    "Для переменных характеризующих площадь квартиры (total_area, living_area, kitchen_area) наблюдается линейная положительная взаимосвязь с ценой при этом для days_of_exposition и floor данная зависимость не наблюдается. \n"
   ]
  },
  {
   "cell_type": "markdown",
   "metadata": {},
   "source": []
  },
  {
   "cell_type": "code",
   "execution_count": 88,
   "metadata": {},
   "outputs": [
    {
     "data": {
      "text/html": [
       "<div>\n",
       "<style scoped>\n",
       "    .dataframe tbody tr th:only-of-type {\n",
       "        vertical-align: middle;\n",
       "    }\n",
       "\n",
       "    .dataframe tbody tr th {\n",
       "        vertical-align: top;\n",
       "    }\n",
       "\n",
       "    .dataframe thead th {\n",
       "        text-align: right;\n",
       "    }\n",
       "</style>\n",
       "<table border=\"1\" class=\"dataframe\">\n",
       "  <thead>\n",
       "    <tr style=\"text-align: right;\">\n",
       "      <th></th>\n",
       "      <th>count</th>\n",
       "      <th>median</th>\n",
       "      <th>mean</th>\n",
       "    </tr>\n",
       "    <tr>\n",
       "      <th>locality_name</th>\n",
       "      <th></th>\n",
       "      <th></th>\n",
       "      <th></th>\n",
       "    </tr>\n",
       "  </thead>\n",
       "  <tbody>\n",
       "    <tr>\n",
       "      <th>санкт-петербург</th>\n",
       "      <td>15721</td>\n",
       "      <td>105263.157895</td>\n",
       "      <td>115347.722976</td>\n",
       "    </tr>\n",
       "    <tr>\n",
       "      <th>поселок мурино</th>\n",
       "      <td>556</td>\n",
       "      <td>86410.969793</td>\n",
       "      <td>86312.033181</td>\n",
       "    </tr>\n",
       "    <tr>\n",
       "      <th>поселок шушары</th>\n",
       "      <td>440</td>\n",
       "      <td>77223.320158</td>\n",
       "      <td>79068.602928</td>\n",
       "    </tr>\n",
       "    <tr>\n",
       "      <th>всеволожск</th>\n",
       "      <td>398</td>\n",
       "      <td>65811.403509</td>\n",
       "      <td>68985.235455</td>\n",
       "    </tr>\n",
       "    <tr>\n",
       "      <th>пушкин</th>\n",
       "      <td>369</td>\n",
       "      <td>100000.000000</td>\n",
       "      <td>103611.362825</td>\n",
       "    </tr>\n",
       "    <tr>\n",
       "      <th>колпино</th>\n",
       "      <td>338</td>\n",
       "      <td>74861.111111</td>\n",
       "      <td>75735.589833</td>\n",
       "    </tr>\n",
       "    <tr>\n",
       "      <th>поселок парголово</th>\n",
       "      <td>327</td>\n",
       "      <td>92222.222222</td>\n",
       "      <td>90675.627757</td>\n",
       "    </tr>\n",
       "    <tr>\n",
       "      <th>гатчина</th>\n",
       "      <td>307</td>\n",
       "      <td>67924.528302</td>\n",
       "      <td>69045.519030</td>\n",
       "    </tr>\n",
       "    <tr>\n",
       "      <th>деревня кудрово</th>\n",
       "      <td>299</td>\n",
       "      <td>92647.058824</td>\n",
       "      <td>93002.173472</td>\n",
       "    </tr>\n",
       "    <tr>\n",
       "      <th>выборг</th>\n",
       "      <td>237</td>\n",
       "      <td>58333.333333</td>\n",
       "      <td>58296.119480</td>\n",
       "    </tr>\n",
       "  </tbody>\n",
       "</table>\n",
       "</div>"
      ],
      "text/plain": [
       "                   count         median           mean\n",
       "locality_name                                         \n",
       "санкт-петербург    15721  105263.157895  115347.722976\n",
       "поселок мурино       556   86410.969793   86312.033181\n",
       "поселок шушары       440   77223.320158   79068.602928\n",
       "всеволожск           398   65811.403509   68985.235455\n",
       "пушкин               369  100000.000000  103611.362825\n",
       "колпино              338   74861.111111   75735.589833\n",
       "поселок парголово    327   92222.222222   90675.627757\n",
       "гатчина              307   67924.528302   69045.519030\n",
       "деревня кудрово      299   92647.058824   93002.173472\n",
       "выборг               237   58333.333333   58296.119480"
      ]
     },
     "execution_count": 88,
     "metadata": {},
     "output_type": "execute_result"
    }
   ],
   "source": [
    "top_10 = df.pivot_table(index='locality_name', values='price_for_m2', aggfunc=['count', 'median', 'mean'])\n",
    "top_10.columns = ('count', 'median', 'mean')\n",
    "top_10.sort_values('count', ascending=False).head(10)"
   ]
  },
  {
   "cell_type": "code",
   "execution_count": 89,
   "metadata": {},
   "outputs": [
    {
     "data": {
      "text/html": [
       "<div>\n",
       "<style scoped>\n",
       "    .dataframe tbody tr th:only-of-type {\n",
       "        vertical-align: middle;\n",
       "    }\n",
       "\n",
       "    .dataframe tbody tr th {\n",
       "        vertical-align: top;\n",
       "    }\n",
       "\n",
       "    .dataframe thead th {\n",
       "        text-align: right;\n",
       "    }\n",
       "</style>\n",
       "<table border=\"1\" class=\"dataframe\">\n",
       "  <thead>\n",
       "    <tr style=\"text-align: right;\">\n",
       "      <th></th>\n",
       "      <th>count</th>\n",
       "      <th>median</th>\n",
       "      <th>mean</th>\n",
       "    </tr>\n",
       "    <tr>\n",
       "      <th>locality_name</th>\n",
       "      <th></th>\n",
       "      <th></th>\n",
       "      <th></th>\n",
       "    </tr>\n",
       "  </thead>\n",
       "  <tbody>\n",
       "    <tr>\n",
       "      <th>санкт-петербург</th>\n",
       "      <td>15660</td>\n",
       "      <td>12.0</td>\n",
       "      <td>11.596041</td>\n",
       "    </tr>\n",
       "    <tr>\n",
       "      <th>поселок шушары</th>\n",
       "      <td>436</td>\n",
       "      <td>24.0</td>\n",
       "      <td>24.204128</td>\n",
       "    </tr>\n",
       "    <tr>\n",
       "      <th>пушкин</th>\n",
       "      <td>368</td>\n",
       "      <td>28.0</td>\n",
       "      <td>28.766304</td>\n",
       "    </tr>\n",
       "    <tr>\n",
       "      <th>колпино</th>\n",
       "      <td>337</td>\n",
       "      <td>32.0</td>\n",
       "      <td>32.038576</td>\n",
       "    </tr>\n",
       "    <tr>\n",
       "      <th>поселок парголово</th>\n",
       "      <td>327</td>\n",
       "      <td>19.0</td>\n",
       "      <td>19.948012</td>\n",
       "    </tr>\n",
       "    <tr>\n",
       "      <th>петергоф</th>\n",
       "      <td>201</td>\n",
       "      <td>34.0</td>\n",
       "      <td>35.452736</td>\n",
       "    </tr>\n",
       "    <tr>\n",
       "      <th>сестрорецк</th>\n",
       "      <td>183</td>\n",
       "      <td>35.0</td>\n",
       "      <td>34.612022</td>\n",
       "    </tr>\n",
       "    <tr>\n",
       "      <th>красное село</th>\n",
       "      <td>176</td>\n",
       "      <td>29.0</td>\n",
       "      <td>30.028409</td>\n",
       "    </tr>\n",
       "    <tr>\n",
       "      <th>ломоносов</th>\n",
       "      <td>132</td>\n",
       "      <td>52.0</td>\n",
       "      <td>50.681818</td>\n",
       "    </tr>\n",
       "    <tr>\n",
       "      <th>кронштадт</th>\n",
       "      <td>95</td>\n",
       "      <td>50.0</td>\n",
       "      <td>49.189474</td>\n",
       "    </tr>\n",
       "  </tbody>\n",
       "</table>\n",
       "</div>"
      ],
      "text/plain": [
       "                   count  median       mean\n",
       "locality_name                              \n",
       "санкт-петербург    15660    12.0  11.596041\n",
       "поселок шушары       436    24.0  24.204128\n",
       "пушкин               368    28.0  28.766304\n",
       "колпино              337    32.0  32.038576\n",
       "поселок парголово    327    19.0  19.948012\n",
       "петергоф             201    34.0  35.452736\n",
       "сестрорецк           183    35.0  34.612022\n",
       "красное село         176    29.0  30.028409\n",
       "ломоносов            132    52.0  50.681818\n",
       "кронштадт             95    50.0  49.189474"
      ]
     },
     "execution_count": 89,
     "metadata": {},
     "output_type": "execute_result"
    }
   ],
   "source": [
    "top_10 = df.pivot_table(index='locality_name', values='cityCenters_nearest_km', aggfunc=['count', 'median', 'mean'])\n",
    "top_10.columns = ('count', 'median', 'mean')\n",
    "top_10.sort_values('count', ascending=False).head(10)"
   ]
  },
  {
   "cell_type": "code",
   "execution_count": 90,
   "metadata": {},
   "outputs": [
    {
     "data": {
      "text/html": [
       "<div>\n",
       "<style scoped>\n",
       "    .dataframe tbody tr th:only-of-type {\n",
       "        vertical-align: middle;\n",
       "    }\n",
       "\n",
       "    .dataframe tbody tr th {\n",
       "        vertical-align: top;\n",
       "    }\n",
       "\n",
       "    .dataframe thead th {\n",
       "        text-align: right;\n",
       "    }\n",
       "</style>\n",
       "<table border=\"1\" class=\"dataframe\">\n",
       "  <thead>\n",
       "    <tr style=\"text-align: right;\">\n",
       "      <th></th>\n",
       "      <th>count</th>\n",
       "      <th>median</th>\n",
       "      <th>mean</th>\n",
       "    </tr>\n",
       "    <tr>\n",
       "      <th>cityCenters_nearest_km</th>\n",
       "      <th></th>\n",
       "      <th></th>\n",
       "      <th></th>\n",
       "    </tr>\n",
       "  </thead>\n",
       "  <tbody>\n",
       "    <tr>\n",
       "      <th>12.0</th>\n",
       "      <td>1605</td>\n",
       "      <td>4950000</td>\n",
       "      <td>5.828545e+06</td>\n",
       "    </tr>\n",
       "    <tr>\n",
       "      <th>15.0</th>\n",
       "      <td>1568</td>\n",
       "      <td>4900000</td>\n",
       "      <td>5.884751e+06</td>\n",
       "    </tr>\n",
       "    <tr>\n",
       "      <th>13.0</th>\n",
       "      <td>1457</td>\n",
       "      <td>5200000</td>\n",
       "      <td>6.083141e+06</td>\n",
       "    </tr>\n",
       "    <tr>\n",
       "      <th>14.0</th>\n",
       "      <td>1279</td>\n",
       "      <td>4870000</td>\n",
       "      <td>5.629101e+06</td>\n",
       "    </tr>\n",
       "    <tr>\n",
       "      <th>16.0</th>\n",
       "      <td>1265</td>\n",
       "      <td>4750000</td>\n",
       "      <td>5.373131e+06</td>\n",
       "    </tr>\n",
       "    <tr>\n",
       "      <th>11.0</th>\n",
       "      <td>1178</td>\n",
       "      <td>5072500</td>\n",
       "      <td>6.250815e+06</td>\n",
       "    </tr>\n",
       "    <tr>\n",
       "      <th>5.0</th>\n",
       "      <td>920</td>\n",
       "      <td>9500000</td>\n",
       "      <td>1.449912e+07</td>\n",
       "    </tr>\n",
       "    <tr>\n",
       "      <th>17.0</th>\n",
       "      <td>883</td>\n",
       "      <td>4580000</td>\n",
       "      <td>5.292395e+06</td>\n",
       "    </tr>\n",
       "    <tr>\n",
       "      <th>10.0</th>\n",
       "      <td>719</td>\n",
       "      <td>5000000</td>\n",
       "      <td>6.504119e+06</td>\n",
       "    </tr>\n",
       "    <tr>\n",
       "      <th>4.0</th>\n",
       "      <td>688</td>\n",
       "      <td>9200000</td>\n",
       "      <td>1.330428e+07</td>\n",
       "    </tr>\n",
       "  </tbody>\n",
       "</table>\n",
       "</div>"
      ],
      "text/plain": [
       "                        count   median          mean\n",
       "cityCenters_nearest_km                              \n",
       "12.0                     1605  4950000  5.828545e+06\n",
       "15.0                     1568  4900000  5.884751e+06\n",
       "13.0                     1457  5200000  6.083141e+06\n",
       "14.0                     1279  4870000  5.629101e+06\n",
       "16.0                     1265  4750000  5.373131e+06\n",
       "11.0                     1178  5072500  6.250815e+06\n",
       "5.0                       920  9500000  1.449912e+07\n",
       "17.0                      883  4580000  5.292395e+06\n",
       "10.0                      719  5000000  6.504119e+06\n",
       "4.0                       688  9200000  1.330428e+07"
      ]
     },
     "execution_count": 90,
     "metadata": {},
     "output_type": "execute_result"
    }
   ],
   "source": [
    "top_10 = df[df['locality_name'] == 'санкт-петербург'].pivot_table(index='cityCenters_nearest_km', values='last_price', aggfunc=['count', 'median', 'mean'])\n",
    "top_10.columns = ('count', 'median', 'mean')\n",
    "top_10.sort_values('count', ascending=False).head(10)"
   ]
  },
  {
   "cell_type": "markdown",
   "metadata": {},
   "source": [
    "Построим столбчатую диграмму для визуализации динамики цены относительно удалённости."
   ]
  },
  {
   "cell_type": "code",
   "execution_count": 93,
   "metadata": {},
   "outputs": [
    {
     "data": {
      "image/png": "[encoded data removed]",
      "text/plain": [
       "<Figure size 432x288 with 1 Axes>"
      ]
     },
     "metadata": {
      "needs_background": "light"
     },
     "output_type": "display_data"
    }
   ],
   "source": [
    "spb_center = df[df['locality_name'] == 'санкт-петербург'].pivot_table(index='cityCenters_nearest_km', values='last_price', aggfunc='mean')\\\n",
    "    .plot.bar(title = 'Заголовок').set(ylabel='цена за квартиру', xlabel='удалённость в км от центра Питера') "
   ]
  },
  {
   "cell_type": "markdown",
   "metadata": {},
   "source": [
    "Меньшая удаленность от центра Питера означет более высокую цену квартиры."
   ]
  },
  {
   "cell_type": "markdown",
   "metadata": {},
   "source": [
    "### Общий вывод"
   ]
  },
  {
   "cell_type": "markdown",
   "metadata": {},
   "source": [
    "В ходе исследования было выявлено, что данные cодержат достаточно большое количество пропусков, однако не по всем переменным. Больше всего пропущенных значений в переменной is_apartment, что является почти 90% пропусков датасета. Часть пропусков датасета была заменена средним значением, часть удалена, а часть оставлена в неизменном виде. Явных дубликатов нет. Неявные дубликаты были приведены в должный вид.\n",
    "    \n",
    "В ходе исследования было выявлено, что:\n",
    "\n",
    "1.Цена квартиры зависит от удалённости от центра города Санкт - Петербурга - самые дорогие квартиры находятся в центре Санкт-Петербурга.\n",
    "    \n",
    "2.Квартиры, расплолженные на первом и последнем этаже, продаются по самым низким ценам по сравнению с квартирами, расположенными на других этажах.\n",
    "    \n",
    "3.В Санкт - Петербурге самые дорогие квартиры по сравнению с областью.\n",
    "    \n",
    "4.Цена не зависит от года, месяца или дня недели публикации.\n",
    "    \n",
    "5.Между переменными, характеризующими  жилую площадь, наблюдается  линейная положительная взаимосвязь с ценой на квартиры."
   ]
  }
 ],
 "metadata": {
  "ExecuteTimeLog": [
   {
    "duration": 524,
    "start_time": "2022-12-06T11:37:02.916Z"
   },
   {
    "duration": 95,
    "start_time": "2022-12-06T11:37:25.933Z"
   },
   {
    "duration": 125,
    "start_time": "2022-12-06T11:37:48.782Z"
   },
   {
    "duration": 14,
    "start_time": "2022-12-06T11:38:01.113Z"
   },
   {
    "duration": 2166,
    "start_time": "2022-12-06T11:38:29.095Z"
   },
   {
    "duration": 43,
    "start_time": "2022-12-06T12:08:28.272Z"
   },
   {
    "duration": 10,
    "start_time": "2022-12-06T12:08:52.287Z"
   },
   {
    "duration": 70,
    "start_time": "2022-12-06T12:10:52.991Z"
   },
   {
    "duration": 256,
    "start_time": "2022-12-06T12:11:00.537Z"
   },
   {
    "duration": 61,
    "start_time": "2022-12-06T12:12:02.630Z"
   },
   {
    "duration": 7,
    "start_time": "2022-12-06T12:15:49.362Z"
   },
   {
    "duration": 18,
    "start_time": "2022-12-06T12:16:04.254Z"
   },
   {
    "duration": 21,
    "start_time": "2022-12-06T12:18:50.016Z"
   },
   {
    "duration": 29,
    "start_time": "2022-12-06T12:18:51.390Z"
   },
   {
    "duration": 55,
    "start_time": "2022-12-06T12:18:54.543Z"
   },
   {
    "duration": 19,
    "start_time": "2022-12-06T12:19:08.352Z"
   },
   {
    "duration": 20,
    "start_time": "2022-12-06T12:19:16.294Z"
   },
   {
    "duration": 539,
    "start_time": "2022-12-06T12:22:06.013Z"
   },
   {
    "duration": 39,
    "start_time": "2022-12-06T12:22:06.554Z"
   },
   {
    "duration": 16,
    "start_time": "2022-12-06T12:22:06.605Z"
   },
   {
    "duration": 2259,
    "start_time": "2022-12-06T12:22:06.623Z"
   },
   {
    "duration": 13,
    "start_time": "2022-12-06T12:22:08.883Z"
   },
   {
    "duration": 29,
    "start_time": "2022-12-06T12:22:08.897Z"
   },
   {
    "duration": 59,
    "start_time": "2022-12-06T12:22:08.927Z"
   },
   {
    "duration": 31,
    "start_time": "2022-12-06T12:22:08.988Z"
   },
   {
    "duration": 1162,
    "start_time": "2022-12-06T12:22:09.021Z"
   },
   {
    "duration": 7,
    "start_time": "2022-12-06T12:26:34.516Z"
   },
   {
    "duration": 12,
    "start_time": "2022-12-06T12:26:54.241Z"
   },
   {
    "duration": 24,
    "start_time": "2022-12-06T12:27:03.678Z"
   },
   {
    "duration": 9,
    "start_time": "2022-12-06T12:27:11.637Z"
   },
   {
    "duration": 19,
    "start_time": "2022-12-06T12:27:45.031Z"
   },
   {
    "duration": 15,
    "start_time": "2022-12-06T12:28:09.308Z"
   },
   {
    "duration": 14,
    "start_time": "2022-12-06T12:28:22.783Z"
   },
   {
    "duration": 8,
    "start_time": "2022-12-06T12:28:56.488Z"
   },
   {
    "duration": 5,
    "start_time": "2022-12-06T12:29:11.788Z"
   },
   {
    "duration": 10,
    "start_time": "2022-12-06T12:29:13.532Z"
   },
   {
    "duration": 20,
    "start_time": "2022-12-06T12:30:42.515Z"
   },
   {
    "duration": 11,
    "start_time": "2022-12-06T12:30:44.082Z"
   },
   {
    "duration": 25,
    "start_time": "2022-12-06T12:30:47.906Z"
   },
   {
    "duration": 27,
    "start_time": "2022-12-06T12:30:54.296Z"
   },
   {
    "duration": 13,
    "start_time": "2022-12-06T12:30:58.288Z"
   },
   {
    "duration": 12,
    "start_time": "2022-12-06T12:30:58.791Z"
   },
   {
    "duration": 25,
    "start_time": "2022-12-06T12:30:59.652Z"
   },
   {
    "duration": 18,
    "start_time": "2022-12-06T12:31:00.206Z"
   },
   {
    "duration": 547,
    "start_time": "2022-12-06T12:31:12.197Z"
   },
   {
    "duration": 34,
    "start_time": "2022-12-06T12:31:12.745Z"
   },
   {
    "duration": 34,
    "start_time": "2022-12-06T12:31:12.781Z"
   },
   {
    "duration": 2104,
    "start_time": "2022-12-06T12:31:12.817Z"
   },
   {
    "duration": 10,
    "start_time": "2022-12-06T12:31:14.923Z"
   },
   {
    "duration": 28,
    "start_time": "2022-12-06T12:31:14.934Z"
   },
   {
    "duration": 10,
    "start_time": "2022-12-06T12:31:14.963Z"
   },
   {
    "duration": 24,
    "start_time": "2022-12-06T12:31:14.974Z"
   },
   {
    "duration": 23,
    "start_time": "2022-12-06T12:31:14.999Z"
   },
   {
    "duration": 31,
    "start_time": "2022-12-06T12:31:15.025Z"
   },
   {
    "duration": 6,
    "start_time": "2022-12-06T12:32:50.678Z"
   },
   {
    "duration": 4,
    "start_time": "2022-12-06T12:33:53.701Z"
   },
   {
    "duration": 10,
    "start_time": "2022-12-06T12:34:05.760Z"
   },
   {
    "duration": 4,
    "start_time": "2022-12-06T12:34:16.309Z"
   },
   {
    "duration": 13,
    "start_time": "2022-12-06T12:34:17.501Z"
   },
   {
    "duration": 11,
    "start_time": "2022-12-06T12:34:19.209Z"
   },
   {
    "duration": 9,
    "start_time": "2022-12-06T12:34:39.010Z"
   },
   {
    "duration": 3,
    "start_time": "2022-12-06T12:34:39.415Z"
   },
   {
    "duration": 11,
    "start_time": "2022-12-06T12:34:40.224Z"
   },
   {
    "duration": 45,
    "start_time": "2022-12-06T12:36:11.270Z"
   },
   {
    "duration": 537,
    "start_time": "2022-12-06T12:36:20.279Z"
   },
   {
    "duration": 36,
    "start_time": "2022-12-06T12:36:20.905Z"
   },
   {
    "duration": 13,
    "start_time": "2022-12-06T12:36:21.513Z"
   },
   {
    "duration": 6,
    "start_time": "2022-12-06T12:36:22.031Z"
   },
   {
    "duration": 9,
    "start_time": "2022-12-06T12:36:22.592Z"
   },
   {
    "duration": 1966,
    "start_time": "2022-12-06T12:36:23.079Z"
   },
   {
    "duration": 7,
    "start_time": "2022-12-06T12:36:31.860Z"
   },
   {
    "duration": 8,
    "start_time": "2022-12-06T12:36:35.668Z"
   },
   {
    "duration": 784,
    "start_time": "2022-12-08T21:27:10.372Z"
   },
   {
    "duration": 35,
    "start_time": "2022-12-08T21:27:11.158Z"
   },
   {
    "duration": 15,
    "start_time": "2022-12-08T21:27:11.446Z"
   },
   {
    "duration": 7,
    "start_time": "2022-12-08T21:27:11.843Z"
   },
   {
    "duration": 2535,
    "start_time": "2022-12-08T21:27:12.345Z"
   },
   {
    "duration": 9,
    "start_time": "2022-12-08T21:27:14.882Z"
   },
   {
    "duration": 12,
    "start_time": "2022-12-08T21:27:15.645Z"
   },
   {
    "duration": 9,
    "start_time": "2022-12-08T21:30:37.597Z"
   },
   {
    "duration": 21,
    "start_time": "2022-12-08T21:30:59.280Z"
   },
   {
    "duration": 23,
    "start_time": "2022-12-08T21:31:48.553Z"
   },
   {
    "duration": 72,
    "start_time": "2022-12-08T21:31:56.112Z"
   },
   {
    "duration": 68,
    "start_time": "2022-12-08T21:32:00.790Z"
   },
   {
    "duration": 76,
    "start_time": "2022-12-08T21:32:03.979Z"
   },
   {
    "duration": 89,
    "start_time": "2022-12-08T21:32:19.858Z"
   },
   {
    "duration": 449,
    "start_time": "2022-12-08T21:38:00.325Z"
   },
   {
    "duration": 701,
    "start_time": "2022-12-08T21:38:40.258Z"
   },
   {
    "duration": 18,
    "start_time": "2022-12-08T21:39:16.846Z"
   },
   {
    "duration": 26,
    "start_time": "2022-12-08T21:43:30.944Z"
   },
   {
    "duration": 4,
    "start_time": "2022-12-08T21:43:38.664Z"
   },
   {
    "duration": 48,
    "start_time": "2022-12-08T21:43:40.790Z"
   },
   {
    "duration": 16,
    "start_time": "2022-12-08T21:44:02.084Z"
   },
   {
    "duration": 7,
    "start_time": "2022-12-08T21:48:49.755Z"
   },
   {
    "duration": 9,
    "start_time": "2022-12-08T21:50:31.888Z"
   },
   {
    "duration": 35,
    "start_time": "2022-12-08T21:50:46.367Z"
   },
   {
    "duration": 8,
    "start_time": "2022-12-08T21:53:15.177Z"
   },
   {
    "duration": 8,
    "start_time": "2022-12-08T21:53:30.432Z"
   },
   {
    "duration": 16,
    "start_time": "2022-12-08T21:56:59.946Z"
   },
   {
    "duration": 21,
    "start_time": "2022-12-08T21:57:12.968Z"
   },
   {
    "duration": 4,
    "start_time": "2022-12-08T21:57:25.310Z"
   },
   {
    "duration": 5,
    "start_time": "2022-12-08T21:59:31.905Z"
   },
   {
    "duration": 5,
    "start_time": "2022-12-08T21:59:59.567Z"
   },
   {
    "duration": 5,
    "start_time": "2022-12-08T22:00:02.607Z"
   },
   {
    "duration": 8,
    "start_time": "2022-12-08T22:00:02.913Z"
   },
   {
    "duration": 558,
    "start_time": "2022-12-08T22:00:09.004Z"
   },
   {
    "duration": 35,
    "start_time": "2022-12-08T22:00:09.564Z"
   },
   {
    "duration": 27,
    "start_time": "2022-12-08T22:00:09.601Z"
   },
   {
    "duration": 6,
    "start_time": "2022-12-08T22:00:09.632Z"
   },
   {
    "duration": 2133,
    "start_time": "2022-12-08T22:00:09.639Z"
   },
   {
    "duration": 9,
    "start_time": "2022-12-08T22:00:11.773Z"
   },
   {
    "duration": 27,
    "start_time": "2022-12-08T22:00:11.783Z"
   },
   {
    "duration": 5,
    "start_time": "2022-12-08T22:00:11.811Z"
   },
   {
    "duration": 15,
    "start_time": "2022-12-08T22:00:11.826Z"
   },
   {
    "duration": 31,
    "start_time": "2022-12-08T22:00:11.844Z"
   },
   {
    "duration": 81,
    "start_time": "2022-12-08T22:00:11.877Z"
   },
   {
    "duration": 0,
    "start_time": "2022-12-08T22:00:11.960Z"
   },
   {
    "duration": 28,
    "start_time": "2022-12-08T22:02:08.996Z"
   },
   {
    "duration": 395,
    "start_time": "2022-12-08T22:02:18.002Z"
   },
   {
    "duration": 30,
    "start_time": "2022-12-08T22:02:28.700Z"
   },
   {
    "duration": 36,
    "start_time": "2022-12-08T22:03:02.196Z"
   },
   {
    "duration": 19,
    "start_time": "2022-12-08T22:03:37.853Z"
   },
   {
    "duration": 29,
    "start_time": "2022-12-08T22:03:49.850Z"
   },
   {
    "duration": 29,
    "start_time": "2022-12-08T22:05:01.969Z"
   },
   {
    "duration": 6,
    "start_time": "2022-12-08T22:06:39.442Z"
   },
   {
    "duration": 8,
    "start_time": "2022-12-08T22:07:56.774Z"
   },
   {
    "duration": 47,
    "start_time": "2022-12-15T19:47:04.388Z"
   },
   {
    "duration": 797,
    "start_time": "2022-12-15T19:47:10.076Z"
   },
   {
    "duration": 37,
    "start_time": "2022-12-15T19:47:10.875Z"
   },
   {
    "duration": 14,
    "start_time": "2022-12-15T19:47:10.913Z"
   },
   {
    "duration": 6,
    "start_time": "2022-12-15T19:47:11.153Z"
   },
   {
    "duration": 2342,
    "start_time": "2022-12-15T19:47:11.453Z"
   },
   {
    "duration": 10,
    "start_time": "2022-12-15T19:47:13.797Z"
   },
   {
    "duration": 35,
    "start_time": "2022-12-15T19:47:13.808Z"
   },
   {
    "duration": 47,
    "start_time": "2022-12-15T19:48:13.621Z"
   },
   {
    "duration": 52,
    "start_time": "2022-12-15T19:48:17.290Z"
   },
   {
    "duration": 4,
    "start_time": "2022-12-15T19:48:23.292Z"
   },
   {
    "duration": 44,
    "start_time": "2022-12-15T19:49:26.611Z"
   },
   {
    "duration": 756,
    "start_time": "2022-12-15T19:49:30.073Z"
   },
   {
    "duration": 5,
    "start_time": "2022-12-15T19:49:45.790Z"
   },
   {
    "duration": 6,
    "start_time": "2022-12-15T19:49:51.265Z"
   },
   {
    "duration": 43,
    "start_time": "2022-12-15T19:49:55.959Z"
   },
   {
    "duration": 9,
    "start_time": "2022-12-15T19:50:18.558Z"
   },
   {
    "duration": 10,
    "start_time": "2022-12-15T19:50:57.918Z"
   },
   {
    "duration": 9,
    "start_time": "2022-12-15T19:51:25.408Z"
   },
   {
    "duration": 5,
    "start_time": "2022-12-15T19:52:11.113Z"
   },
   {
    "duration": 43,
    "start_time": "2022-12-15T19:52:13.205Z"
   },
   {
    "duration": 7,
    "start_time": "2022-12-15T19:52:51.635Z"
   },
   {
    "duration": 10,
    "start_time": "2022-12-15T19:52:59.348Z"
   },
   {
    "duration": 6,
    "start_time": "2022-12-15T19:53:04.111Z"
   },
   {
    "duration": 6,
    "start_time": "2022-12-15T19:53:17.954Z"
   },
   {
    "duration": 12,
    "start_time": "2022-12-15T19:53:35.154Z"
   },
   {
    "duration": 14,
    "start_time": "2022-12-15T20:01:58.952Z"
   },
   {
    "duration": 14,
    "start_time": "2022-12-15T20:02:01.396Z"
   },
   {
    "duration": 4,
    "start_time": "2022-12-15T20:02:08.461Z"
   },
   {
    "duration": 42,
    "start_time": "2022-12-15T20:02:11.243Z"
   },
   {
    "duration": 6,
    "start_time": "2022-12-15T20:05:22.032Z"
   },
   {
    "duration": 11,
    "start_time": "2022-12-15T20:05:40.790Z"
   },
   {
    "duration": 49,
    "start_time": "2022-12-15T20:05:42.595Z"
   },
   {
    "duration": 7,
    "start_time": "2022-12-15T20:05:53.928Z"
   },
   {
    "duration": 14,
    "start_time": "2022-12-15T20:06:15.552Z"
   },
   {
    "duration": 6,
    "start_time": "2022-12-15T20:06:29.438Z"
   },
   {
    "duration": 6,
    "start_time": "2022-12-15T20:06:32.415Z"
   },
   {
    "duration": 6,
    "start_time": "2022-12-15T20:06:40.123Z"
   },
   {
    "duration": 5,
    "start_time": "2022-12-15T20:06:46.585Z"
   },
   {
    "duration": 3,
    "start_time": "2022-12-15T20:06:50.608Z"
   },
   {
    "duration": 9,
    "start_time": "2022-12-15T20:07:27.662Z"
   },
   {
    "duration": 9,
    "start_time": "2022-12-15T20:07:41.058Z"
   },
   {
    "duration": 6,
    "start_time": "2022-12-15T20:07:59.997Z"
   },
   {
    "duration": 11,
    "start_time": "2022-12-15T20:08:31.857Z"
   },
   {
    "duration": 23,
    "start_time": "2022-12-15T20:08:35.581Z"
   },
   {
    "duration": 10,
    "start_time": "2022-12-15T20:08:45.751Z"
   },
   {
    "duration": 16,
    "start_time": "2022-12-15T20:08:47.864Z"
   },
   {
    "duration": 8,
    "start_time": "2022-12-15T20:10:21.502Z"
   },
   {
    "duration": 51,
    "start_time": "2022-12-15T20:10:38.972Z"
   },
   {
    "duration": 5,
    "start_time": "2022-12-15T20:10:45.855Z"
   },
   {
    "duration": 9,
    "start_time": "2022-12-15T20:10:47.143Z"
   },
   {
    "duration": 43,
    "start_time": "2022-12-15T20:10:48.352Z"
   },
   {
    "duration": 7,
    "start_time": "2022-12-15T20:11:31.168Z"
   },
   {
    "duration": 10,
    "start_time": "2022-12-15T20:11:41.018Z"
   },
   {
    "duration": 6,
    "start_time": "2022-12-15T20:11:55.210Z"
   },
   {
    "duration": 130,
    "start_time": "2022-12-15T20:15:31.622Z"
   },
   {
    "duration": 128,
    "start_time": "2022-12-15T20:15:51.250Z"
   },
   {
    "duration": 14,
    "start_time": "2022-12-15T20:15:51.622Z"
   },
   {
    "duration": 7,
    "start_time": "2022-12-15T20:15:52.064Z"
   },
   {
    "duration": 11,
    "start_time": "2022-12-15T20:15:53.248Z"
   },
   {
    "duration": 10,
    "start_time": "2022-12-15T20:15:53.705Z"
   },
   {
    "duration": 11,
    "start_time": "2022-12-15T20:15:55.620Z"
   },
   {
    "duration": 7,
    "start_time": "2022-12-15T20:15:56.073Z"
   },
   {
    "duration": 35,
    "start_time": "2022-12-15T20:15:57.985Z"
   },
   {
    "duration": 46,
    "start_time": "2022-12-15T20:16:47.233Z"
   },
   {
    "duration": 39,
    "start_time": "2022-12-15T20:16:50.031Z"
   },
   {
    "duration": 30,
    "start_time": "2022-12-15T20:17:25.587Z"
   },
   {
    "duration": 5,
    "start_time": "2022-12-15T20:17:43.979Z"
   },
   {
    "duration": 6,
    "start_time": "2022-12-15T20:18:02.325Z"
   },
   {
    "duration": 9,
    "start_time": "2022-12-15T20:20:57.326Z"
   },
   {
    "duration": 12,
    "start_time": "2022-12-15T20:21:58.502Z"
   },
   {
    "duration": 7,
    "start_time": "2022-12-15T20:22:17.233Z"
   },
   {
    "duration": 9,
    "start_time": "2022-12-15T20:22:31.274Z"
   },
   {
    "duration": 9,
    "start_time": "2022-12-15T20:23:59.504Z"
   },
   {
    "duration": 7,
    "start_time": "2022-12-15T20:24:15.747Z"
   },
   {
    "duration": 34,
    "start_time": "2022-12-15T20:24:16.115Z"
   },
   {
    "duration": 10,
    "start_time": "2022-12-15T20:24:19.951Z"
   },
   {
    "duration": 7,
    "start_time": "2022-12-15T20:32:05.718Z"
   },
   {
    "duration": 3,
    "start_time": "2022-12-15T20:34:50.821Z"
   },
   {
    "duration": 2,
    "start_time": "2022-12-15T20:34:53.451Z"
   },
   {
    "duration": 8,
    "start_time": "2022-12-15T20:35:25.610Z"
   },
   {
    "duration": 24,
    "start_time": "2022-12-15T20:35:52.743Z"
   },
   {
    "duration": 42,
    "start_time": "2022-12-15T20:36:38.625Z"
   },
   {
    "duration": 18,
    "start_time": "2022-12-15T20:36:41.200Z"
   },
   {
    "duration": 128,
    "start_time": "2022-12-15T20:36:52.716Z"
   },
   {
    "duration": 14,
    "start_time": "2022-12-15T20:36:53.154Z"
   },
   {
    "duration": 7,
    "start_time": "2022-12-15T20:36:53.454Z"
   },
   {
    "duration": 9,
    "start_time": "2022-12-15T20:36:54.260Z"
   },
   {
    "duration": 9,
    "start_time": "2022-12-15T20:36:54.671Z"
   },
   {
    "duration": 9,
    "start_time": "2022-12-15T20:36:55.061Z"
   },
   {
    "duration": 6,
    "start_time": "2022-12-15T20:36:55.435Z"
   },
   {
    "duration": 7,
    "start_time": "2022-12-15T20:36:55.827Z"
   },
   {
    "duration": 16,
    "start_time": "2022-12-15T20:36:56.261Z"
   },
   {
    "duration": 568,
    "start_time": "2022-12-15T20:37:52.423Z"
   },
   {
    "duration": 20,
    "start_time": "2022-12-15T20:37:52.993Z"
   },
   {
    "duration": 7,
    "start_time": "2022-12-15T20:37:53.015Z"
   },
   {
    "duration": 13,
    "start_time": "2022-12-15T20:37:53.024Z"
   },
   {
    "duration": 8,
    "start_time": "2022-12-15T20:37:53.040Z"
   },
   {
    "duration": 8,
    "start_time": "2022-12-15T20:37:53.050Z"
   },
   {
    "duration": 11,
    "start_time": "2022-12-15T20:37:53.060Z"
   },
   {
    "duration": 38,
    "start_time": "2022-12-15T20:37:53.074Z"
   },
   {
    "duration": 17,
    "start_time": "2022-12-15T20:37:53.114Z"
   },
   {
    "duration": 3,
    "start_time": "2022-12-15T20:37:53.133Z"
   },
   {
    "duration": 26,
    "start_time": "2022-12-15T20:37:53.138Z"
   },
   {
    "duration": 7,
    "start_time": "2022-12-15T20:39:32.681Z"
   },
   {
    "duration": 6,
    "start_time": "2022-12-15T20:48:06.811Z"
   },
   {
    "duration": 6,
    "start_time": "2022-12-15T20:48:49.505Z"
   },
   {
    "duration": 6,
    "start_time": "2022-12-15T20:49:49.728Z"
   },
   {
    "duration": 5,
    "start_time": "2022-12-15T20:49:50.122Z"
   },
   {
    "duration": 5,
    "start_time": "2022-12-15T20:49:50.461Z"
   },
   {
    "duration": 5,
    "start_time": "2022-12-15T20:51:39.019Z"
   },
   {
    "duration": 4,
    "start_time": "2022-12-15T20:51:52.533Z"
   },
   {
    "duration": 4,
    "start_time": "2022-12-15T20:51:53.249Z"
   },
   {
    "duration": 5,
    "start_time": "2022-12-15T20:51:54.830Z"
   },
   {
    "duration": 4,
    "start_time": "2022-12-15T20:52:23.678Z"
   },
   {
    "duration": 68,
    "start_time": "2022-12-15T20:54:38.324Z"
   },
   {
    "duration": 9,
    "start_time": "2022-12-15T20:54:53.766Z"
   },
   {
    "duration": 54,
    "start_time": "2022-12-15T20:54:59.199Z"
   },
   {
    "duration": 9,
    "start_time": "2022-12-15T20:55:26.031Z"
   },
   {
    "duration": 12,
    "start_time": "2022-12-15T20:55:56.457Z"
   },
   {
    "duration": 9,
    "start_time": "2022-12-15T20:59:07.392Z"
   },
   {
    "duration": 130,
    "start_time": "2022-12-15T20:59:53.439Z"
   },
   {
    "duration": 22,
    "start_time": "2022-12-15T20:59:54.166Z"
   },
   {
    "duration": 6,
    "start_time": "2022-12-15T20:59:54.588Z"
   },
   {
    "duration": 10,
    "start_time": "2022-12-15T20:59:55.545Z"
   },
   {
    "duration": 9,
    "start_time": "2022-12-15T20:59:55.960Z"
   },
   {
    "duration": 12,
    "start_time": "2022-12-15T20:59:56.340Z"
   },
   {
    "duration": 6,
    "start_time": "2022-12-15T20:59:56.814Z"
   },
   {
    "duration": 9,
    "start_time": "2022-12-15T20:59:57.279Z"
   },
   {
    "duration": 7,
    "start_time": "2022-12-15T20:59:57.759Z"
   },
   {
    "duration": 13,
    "start_time": "2022-12-15T20:59:58.167Z"
   },
   {
    "duration": 8,
    "start_time": "2022-12-15T20:59:58.754Z"
   },
   {
    "duration": 6,
    "start_time": "2022-12-15T21:00:34.095Z"
   },
   {
    "duration": 9,
    "start_time": "2022-12-15T21:00:36.896Z"
   },
   {
    "duration": 6,
    "start_time": "2022-12-15T21:01:01.792Z"
   },
   {
    "duration": 9,
    "start_time": "2022-12-15T21:01:03.820Z"
   },
   {
    "duration": 15,
    "start_time": "2022-12-15T21:03:15.546Z"
   },
   {
    "duration": 13,
    "start_time": "2022-12-15T21:03:20.513Z"
   },
   {
    "duration": 13,
    "start_time": "2022-12-15T21:03:39.466Z"
   },
   {
    "duration": 17,
    "start_time": "2022-12-15T21:04:32.182Z"
   },
   {
    "duration": 14,
    "start_time": "2022-12-15T21:04:45.795Z"
   },
   {
    "duration": 62,
    "start_time": "2022-12-15T21:04:51.184Z"
   },
   {
    "duration": 20,
    "start_time": "2022-12-15T21:04:53.289Z"
   },
   {
    "duration": 14,
    "start_time": "2022-12-15T21:05:04.148Z"
   },
   {
    "duration": 8,
    "start_time": "2022-12-15T21:08:21.769Z"
   },
   {
    "duration": 4,
    "start_time": "2022-12-15T21:09:03.456Z"
   },
   {
    "duration": 4,
    "start_time": "2022-12-15T21:09:04.124Z"
   },
   {
    "duration": 6,
    "start_time": "2022-12-15T21:09:16.811Z"
   },
   {
    "duration": 5,
    "start_time": "2022-12-15T21:09:48.856Z"
   },
   {
    "duration": 4,
    "start_time": "2022-12-15T21:09:58.589Z"
   },
   {
    "duration": 7,
    "start_time": "2022-12-15T21:09:59.019Z"
   },
   {
    "duration": 5,
    "start_time": "2022-12-15T21:10:28.807Z"
   },
   {
    "duration": 7,
    "start_time": "2022-12-15T21:10:29.409Z"
   },
   {
    "duration": 5,
    "start_time": "2022-12-15T21:10:38.588Z"
   },
   {
    "duration": 7,
    "start_time": "2022-12-15T21:10:39.148Z"
   },
   {
    "duration": 23,
    "start_time": "2022-12-15T21:11:29.262Z"
   },
   {
    "duration": 10,
    "start_time": "2022-12-15T21:11:57.253Z"
   },
   {
    "duration": 27,
    "start_time": "2022-12-15T21:11:57.659Z"
   },
   {
    "duration": 9,
    "start_time": "2022-12-15T21:12:12.536Z"
   },
   {
    "duration": 17,
    "start_time": "2022-12-15T21:12:13.131Z"
   },
   {
    "duration": 4,
    "start_time": "2022-12-15T21:12:33.989Z"
   },
   {
    "duration": 5,
    "start_time": "2022-12-15T21:14:08.244Z"
   },
   {
    "duration": 9,
    "start_time": "2022-12-15T21:14:08.591Z"
   },
   {
    "duration": 5,
    "start_time": "2022-12-15T21:14:09.027Z"
   },
   {
    "duration": 27,
    "start_time": "2022-12-15T21:14:09.573Z"
   },
   {
    "duration": 6,
    "start_time": "2022-12-15T21:14:18.934Z"
   },
   {
    "duration": 28,
    "start_time": "2022-12-15T21:14:19.266Z"
   },
   {
    "duration": 8,
    "start_time": "2022-12-15T21:17:24.421Z"
   },
   {
    "duration": 17,
    "start_time": "2022-12-15T21:17:28.228Z"
   },
   {
    "duration": 21,
    "start_time": "2022-12-15T21:17:44.973Z"
   },
   {
    "duration": 18,
    "start_time": "2022-12-15T21:18:23.917Z"
   },
   {
    "duration": 7,
    "start_time": "2022-12-15T21:18:29.355Z"
   },
   {
    "duration": 18,
    "start_time": "2022-12-15T21:18:30.141Z"
   },
   {
    "duration": 517,
    "start_time": "2022-12-15T21:18:58.333Z"
   },
   {
    "duration": 14,
    "start_time": "2022-12-15T21:18:58.852Z"
   },
   {
    "duration": 6,
    "start_time": "2022-12-15T21:18:58.867Z"
   },
   {
    "duration": 10,
    "start_time": "2022-12-15T21:18:58.876Z"
   },
   {
    "duration": 27,
    "start_time": "2022-12-15T21:18:58.888Z"
   },
   {
    "duration": 8,
    "start_time": "2022-12-15T21:18:58.916Z"
   },
   {
    "duration": 6,
    "start_time": "2022-12-15T21:18:58.926Z"
   },
   {
    "duration": 9,
    "start_time": "2022-12-15T21:18:58.934Z"
   },
   {
    "duration": 7,
    "start_time": "2022-12-15T21:18:58.944Z"
   },
   {
    "duration": 7,
    "start_time": "2022-12-15T21:18:58.954Z"
   },
   {
    "duration": 7,
    "start_time": "2022-12-15T21:18:58.963Z"
   },
   {
    "duration": 54,
    "start_time": "2022-12-15T21:18:58.971Z"
   },
   {
    "duration": 4,
    "start_time": "2022-12-15T21:21:20.501Z"
   },
   {
    "duration": 17,
    "start_time": "2022-12-15T21:21:20.934Z"
   },
   {
    "duration": 4,
    "start_time": "2022-12-15T21:21:29.351Z"
   },
   {
    "duration": 18,
    "start_time": "2022-12-15T21:21:29.882Z"
   },
   {
    "duration": 9,
    "start_time": "2022-12-15T21:21:39.360Z"
   },
   {
    "duration": 16,
    "start_time": "2022-12-15T21:21:40.083Z"
   },
   {
    "duration": 483,
    "start_time": "2022-12-15T21:24:01.749Z"
   },
   {
    "duration": 258,
    "start_time": "2022-12-15T21:24:11.791Z"
   },
   {
    "duration": 264,
    "start_time": "2022-12-15T21:24:15.914Z"
   },
   {
    "duration": 7,
    "start_time": "2022-12-15T21:24:43.017Z"
   },
   {
    "duration": 48,
    "start_time": "2022-12-15T21:25:02.859Z"
   },
   {
    "duration": 5,
    "start_time": "2022-12-15T21:35:21.845Z"
   },
   {
    "duration": 69,
    "start_time": "2022-12-15T21:35:37.080Z"
   },
   {
    "duration": 5,
    "start_time": "2022-12-15T21:35:44.619Z"
   },
   {
    "duration": 46,
    "start_time": "2022-12-15T21:39:37.925Z"
   },
   {
    "duration": 46,
    "start_time": "2022-12-15T21:39:46.674Z"
   },
   {
    "duration": 6,
    "start_time": "2022-12-15T21:55:41.283Z"
   },
   {
    "duration": 46,
    "start_time": "2022-12-15T21:55:42.286Z"
   },
   {
    "duration": 7,
    "start_time": "2022-12-15T21:55:52.548Z"
   },
   {
    "duration": 6,
    "start_time": "2022-12-15T21:55:59.587Z"
   },
   {
    "duration": 5,
    "start_time": "2022-12-15T21:56:05.714Z"
   },
   {
    "duration": 59,
    "start_time": "2022-12-15T21:57:00.031Z"
   },
   {
    "duration": 6,
    "start_time": "2022-12-15T21:57:02.788Z"
   },
   {
    "duration": 12,
    "start_time": "2022-12-15T21:58:47.073Z"
   },
   {
    "duration": 9,
    "start_time": "2022-12-15T21:59:24.665Z"
   },
   {
    "duration": 7,
    "start_time": "2022-12-15T21:59:29.776Z"
   },
   {
    "duration": 11,
    "start_time": "2022-12-15T21:59:32.204Z"
   },
   {
    "duration": 61,
    "start_time": "2022-12-15T21:59:32.605Z"
   },
   {
    "duration": 9,
    "start_time": "2022-12-15T22:03:00.489Z"
   },
   {
    "duration": 9,
    "start_time": "2022-12-15T22:03:11.011Z"
   },
   {
    "duration": 10,
    "start_time": "2022-12-15T22:03:13.000Z"
   },
   {
    "duration": 51,
    "start_time": "2022-12-15T22:03:19.126Z"
   },
   {
    "duration": 4,
    "start_time": "2022-12-15T22:05:03.476Z"
   },
   {
    "duration": 7,
    "start_time": "2022-12-15T22:05:13.267Z"
   },
   {
    "duration": 9,
    "start_time": "2022-12-15T22:34:44.583Z"
   },
   {
    "duration": 8,
    "start_time": "2022-12-15T22:35:01.491Z"
   },
   {
    "duration": 8,
    "start_time": "2022-12-15T22:35:56.715Z"
   },
   {
    "duration": 7,
    "start_time": "2022-12-15T22:35:57.150Z"
   },
   {
    "duration": 10,
    "start_time": "2022-12-15T22:43:50.778Z"
   },
   {
    "duration": 9,
    "start_time": "2022-12-15T22:43:55.892Z"
   },
   {
    "duration": 9,
    "start_time": "2022-12-15T22:44:12.397Z"
   },
   {
    "duration": 8,
    "start_time": "2022-12-15T22:47:04.794Z"
   },
   {
    "duration": 7,
    "start_time": "2022-12-15T22:47:10.968Z"
   },
   {
    "duration": 8,
    "start_time": "2022-12-15T23:36:06.161Z"
   },
   {
    "duration": 11,
    "start_time": "2022-12-15T23:36:18.267Z"
   },
   {
    "duration": 135,
    "start_time": "2022-12-15T23:37:56.874Z"
   },
   {
    "duration": 243,
    "start_time": "2022-12-15T23:38:07.385Z"
   },
   {
    "duration": 7,
    "start_time": "2022-12-15T23:38:30.945Z"
   },
   {
    "duration": 5,
    "start_time": "2022-12-15T23:38:37.190Z"
   },
   {
    "duration": 289,
    "start_time": "2022-12-15T23:38:49.106Z"
   },
   {
    "duration": 137,
    "start_time": "2022-12-15T23:38:59.504Z"
   },
   {
    "duration": 127,
    "start_time": "2022-12-15T23:39:03.733Z"
   },
   {
    "duration": 15,
    "start_time": "2022-12-15T23:39:52.520Z"
   },
   {
    "duration": 19,
    "start_time": "2022-12-15T23:40:16.161Z"
   },
   {
    "duration": 16,
    "start_time": "2022-12-15T23:40:18.588Z"
   },
   {
    "duration": 9,
    "start_time": "2022-12-15T23:42:16.982Z"
   },
   {
    "duration": 246,
    "start_time": "2022-12-15T23:45:26.775Z"
   },
   {
    "duration": 193,
    "start_time": "2022-12-15T23:45:38.078Z"
   },
   {
    "duration": 133,
    "start_time": "2022-12-15T23:45:41.002Z"
   },
   {
    "duration": 219,
    "start_time": "2022-12-15T23:45:48.965Z"
   },
   {
    "duration": 130,
    "start_time": "2022-12-15T23:45:53.453Z"
   },
   {
    "duration": 230,
    "start_time": "2022-12-15T23:47:04.430Z"
   },
   {
    "duration": 133,
    "start_time": "2022-12-15T23:47:20.894Z"
   },
   {
    "duration": 9,
    "start_time": "2022-12-15T23:47:31.084Z"
   },
   {
    "duration": 344,
    "start_time": "2022-12-15T23:47:55.857Z"
   },
   {
    "duration": 263,
    "start_time": "2022-12-15T23:50:09.615Z"
   },
   {
    "duration": 250,
    "start_time": "2022-12-15T23:50:19.235Z"
   },
   {
    "duration": 234,
    "start_time": "2022-12-15T23:50:35.532Z"
   },
   {
    "duration": 317,
    "start_time": "2022-12-15T23:51:02.098Z"
   },
   {
    "duration": 225,
    "start_time": "2022-12-15T23:51:11.022Z"
   },
   {
    "duration": 230,
    "start_time": "2022-12-15T23:51:14.057Z"
   },
   {
    "duration": 8,
    "start_time": "2022-12-15T23:51:19.569Z"
   },
   {
    "duration": 15,
    "start_time": "2022-12-15T23:51:20.012Z"
   },
   {
    "duration": 128,
    "start_time": "2022-12-15T23:51:32.678Z"
   },
   {
    "duration": 15,
    "start_time": "2022-12-15T23:51:33.910Z"
   },
   {
    "duration": 6,
    "start_time": "2022-12-15T23:51:34.291Z"
   },
   {
    "duration": 9,
    "start_time": "2022-12-15T23:51:36.095Z"
   },
   {
    "duration": 275,
    "start_time": "2022-12-15T23:51:36.413Z"
   },
   {
    "duration": 10,
    "start_time": "2022-12-15T23:51:36.736Z"
   },
   {
    "duration": 11,
    "start_time": "2022-12-15T23:51:37.097Z"
   },
   {
    "duration": 9,
    "start_time": "2022-12-15T23:51:37.417Z"
   },
   {
    "duration": 7,
    "start_time": "2022-12-15T23:51:37.740Z"
   },
   {
    "duration": 7,
    "start_time": "2022-12-15T23:51:38.089Z"
   },
   {
    "duration": 16,
    "start_time": "2022-12-15T23:51:38.505Z"
   },
   {
    "duration": 8,
    "start_time": "2022-12-15T23:51:39.184Z"
   },
   {
    "duration": 8,
    "start_time": "2022-12-15T23:51:39.947Z"
   },
   {
    "duration": 8,
    "start_time": "2022-12-15T23:51:40.331Z"
   },
   {
    "duration": 8,
    "start_time": "2022-12-15T23:51:40.728Z"
   },
   {
    "duration": 9,
    "start_time": "2022-12-15T23:51:41.721Z"
   },
   {
    "duration": 238,
    "start_time": "2022-12-15T23:51:42.481Z"
   },
   {
    "duration": 126,
    "start_time": "2022-12-15T23:52:22.650Z"
   },
   {
    "duration": 15,
    "start_time": "2022-12-15T23:52:23.193Z"
   },
   {
    "duration": 9,
    "start_time": "2022-12-15T23:52:23.537Z"
   },
   {
    "duration": 9,
    "start_time": "2022-12-15T23:52:24.525Z"
   },
   {
    "duration": 270,
    "start_time": "2022-12-15T23:52:24.863Z"
   },
   {
    "duration": 10,
    "start_time": "2022-12-15T23:52:25.221Z"
   },
   {
    "duration": 10,
    "start_time": "2022-12-15T23:52:25.580Z"
   },
   {
    "duration": 10,
    "start_time": "2022-12-15T23:52:25.929Z"
   },
   {
    "duration": 8,
    "start_time": "2022-12-15T23:52:26.280Z"
   },
   {
    "duration": 7,
    "start_time": "2022-12-15T23:52:26.645Z"
   },
   {
    "duration": 13,
    "start_time": "2022-12-15T23:52:27.001Z"
   },
   {
    "duration": 8,
    "start_time": "2022-12-15T23:52:27.818Z"
   },
   {
    "duration": 7,
    "start_time": "2022-12-15T23:52:28.605Z"
   },
   {
    "duration": 7,
    "start_time": "2022-12-15T23:52:29.002Z"
   },
   {
    "duration": 7,
    "start_time": "2022-12-15T23:52:29.406Z"
   },
   {
    "duration": 10,
    "start_time": "2022-12-15T23:52:30.294Z"
   },
   {
    "duration": 365,
    "start_time": "2022-12-15T23:52:30.877Z"
   },
   {
    "duration": 249,
    "start_time": "2022-12-15T23:52:39.184Z"
   },
   {
    "duration": 244,
    "start_time": "2022-12-15T23:52:44.262Z"
   },
   {
    "duration": 237,
    "start_time": "2022-12-15T23:52:56.930Z"
   },
   {
    "duration": 390,
    "start_time": "2022-12-15T23:52:59.857Z"
   },
   {
    "duration": 616,
    "start_time": "2022-12-15T23:53:28.738Z"
   },
   {
    "duration": 355,
    "start_time": "2022-12-15T23:53:38.635Z"
   },
   {
    "duration": 11,
    "start_time": "2022-12-15T23:55:34.262Z"
   },
   {
    "duration": 75,
    "start_time": "2022-12-16T00:00:17.347Z"
   },
   {
    "duration": 229,
    "start_time": "2022-12-16T00:00:49.074Z"
   },
   {
    "duration": 222,
    "start_time": "2022-12-16T00:00:58.267Z"
   },
   {
    "duration": 259,
    "start_time": "2022-12-16T00:01:06.328Z"
   },
   {
    "duration": 233,
    "start_time": "2022-12-16T00:01:29.846Z"
   },
   {
    "duration": 273,
    "start_time": "2022-12-16T00:01:36.178Z"
   },
   {
    "duration": 230,
    "start_time": "2022-12-16T00:01:42.584Z"
   },
   {
    "duration": 45,
    "start_time": "2022-12-16T09:31:10.075Z"
   },
   {
    "duration": 1080,
    "start_time": "2022-12-16T09:31:18.553Z"
   },
   {
    "duration": 3292,
    "start_time": "2022-12-16T09:31:19.636Z"
   },
   {
    "duration": 23,
    "start_time": "2022-12-16T09:31:22.929Z"
   },
   {
    "duration": 6,
    "start_time": "2022-12-16T09:31:22.954Z"
   },
   {
    "duration": 11,
    "start_time": "2022-12-16T09:31:22.961Z"
   },
   {
    "duration": 250,
    "start_time": "2022-12-16T09:31:22.973Z"
   },
   {
    "duration": 9,
    "start_time": "2022-12-16T09:31:23.225Z"
   },
   {
    "duration": 22,
    "start_time": "2022-12-16T09:31:23.235Z"
   },
   {
    "duration": 8,
    "start_time": "2022-12-16T09:31:23.258Z"
   },
   {
    "duration": 5,
    "start_time": "2022-12-16T09:31:23.268Z"
   },
   {
    "duration": 8,
    "start_time": "2022-12-16T09:31:23.275Z"
   },
   {
    "duration": 151,
    "start_time": "2022-12-16T09:31:23.284Z"
   },
   {
    "duration": 16,
    "start_time": "2022-12-16T09:31:23.436Z"
   },
   {
    "duration": 12,
    "start_time": "2022-12-16T09:31:23.453Z"
   },
   {
    "duration": 8,
    "start_time": "2022-12-16T09:31:23.467Z"
   },
   {
    "duration": 13,
    "start_time": "2022-12-16T09:31:23.478Z"
   },
   {
    "duration": 100,
    "start_time": "2022-12-16T09:31:23.493Z"
   },
   {
    "duration": 12,
    "start_time": "2022-12-16T09:31:23.595Z"
   },
   {
    "duration": 373,
    "start_time": "2022-12-16T09:31:23.609Z"
   },
   {
    "duration": 212,
    "start_time": "2022-12-16T09:31:23.983Z"
   },
   {
    "duration": 10,
    "start_time": "2022-12-16T09:31:24.197Z"
   },
   {
    "duration": 3758,
    "start_time": "2022-12-16T09:31:39.998Z"
   },
   {
    "duration": 3713,
    "start_time": "2022-12-16T09:31:47.500Z"
   },
   {
    "duration": 1563,
    "start_time": "2022-12-16T09:31:55.127Z"
   },
   {
    "duration": 1260,
    "start_time": "2022-12-16T09:32:01.795Z"
   },
   {
    "duration": 67,
    "start_time": "2022-12-16T09:42:45.909Z"
   },
   {
    "duration": 15395,
    "start_time": "2022-12-16T09:42:52.526Z"
   },
   {
    "duration": 7,
    "start_time": "2022-12-16T09:43:17.681Z"
   },
   {
    "duration": 14836,
    "start_time": "2022-12-16T09:43:20.051Z"
   },
   {
    "duration": 16238,
    "start_time": "2022-12-16T09:43:46.826Z"
   },
   {
    "duration": 10,
    "start_time": "2022-12-16T09:57:36.872Z"
   },
   {
    "duration": 70,
    "start_time": "2022-12-16T09:58:08.547Z"
   },
   {
    "duration": 71,
    "start_time": "2022-12-16T09:58:14.213Z"
   },
   {
    "duration": 8,
    "start_time": "2022-12-16T09:58:16.934Z"
   },
   {
    "duration": 6,
    "start_time": "2022-12-16T09:58:24.714Z"
   },
   {
    "duration": 7,
    "start_time": "2022-12-16T10:00:01.281Z"
   },
   {
    "duration": 10,
    "start_time": "2022-12-16T10:02:17.503Z"
   },
   {
    "duration": 751,
    "start_time": "2022-12-16T10:04:11.122Z"
   },
   {
    "duration": 16,
    "start_time": "2022-12-16T10:04:11.875Z"
   },
   {
    "duration": 7,
    "start_time": "2022-12-16T10:04:11.893Z"
   },
   {
    "duration": 10,
    "start_time": "2022-12-16T10:04:11.902Z"
   },
   {
    "duration": 95,
    "start_time": "2022-12-16T10:04:11.914Z"
   },
   {
    "duration": 0,
    "start_time": "2022-12-16T10:04:12.011Z"
   },
   {
    "duration": 0,
    "start_time": "2022-12-16T10:04:12.012Z"
   },
   {
    "duration": 0,
    "start_time": "2022-12-16T10:04:12.013Z"
   },
   {
    "duration": 0,
    "start_time": "2022-12-16T10:04:12.014Z"
   },
   {
    "duration": 0,
    "start_time": "2022-12-16T10:04:12.016Z"
   },
   {
    "duration": 0,
    "start_time": "2022-12-16T10:04:12.017Z"
   },
   {
    "duration": 0,
    "start_time": "2022-12-16T10:04:12.019Z"
   },
   {
    "duration": 0,
    "start_time": "2022-12-16T10:04:12.020Z"
   },
   {
    "duration": 0,
    "start_time": "2022-12-16T10:04:12.021Z"
   },
   {
    "duration": 0,
    "start_time": "2022-12-16T10:04:12.022Z"
   },
   {
    "duration": 0,
    "start_time": "2022-12-16T10:04:12.023Z"
   },
   {
    "duration": 0,
    "start_time": "2022-12-16T10:04:12.024Z"
   },
   {
    "duration": 0,
    "start_time": "2022-12-16T10:04:12.025Z"
   },
   {
    "duration": 0,
    "start_time": "2022-12-16T10:04:12.026Z"
   },
   {
    "duration": 0,
    "start_time": "2022-12-16T10:04:12.027Z"
   },
   {
    "duration": 0,
    "start_time": "2022-12-16T10:04:12.053Z"
   },
   {
    "duration": 0,
    "start_time": "2022-12-16T10:04:12.054Z"
   },
   {
    "duration": 9,
    "start_time": "2022-12-16T10:04:19.488Z"
   },
   {
    "duration": 8,
    "start_time": "2022-12-16T10:05:14.224Z"
   },
   {
    "duration": 13,
    "start_time": "2022-12-16T10:08:05.994Z"
   },
   {
    "duration": 7,
    "start_time": "2022-12-16T10:08:09.632Z"
   },
   {
    "duration": 6,
    "start_time": "2022-12-16T10:08:16.992Z"
   },
   {
    "duration": 44,
    "start_time": "2022-12-16T10:08:19.398Z"
   },
   {
    "duration": 11,
    "start_time": "2022-12-16T10:08:31.468Z"
   },
   {
    "duration": 12,
    "start_time": "2022-12-16T10:09:14.999Z"
   },
   {
    "duration": 8,
    "start_time": "2022-12-16T10:09:15.669Z"
   },
   {
    "duration": 255,
    "start_time": "2022-12-16T10:09:19.480Z"
   },
   {
    "duration": 73,
    "start_time": "2022-12-16T10:15:55.138Z"
   },
   {
    "duration": 14,
    "start_time": "2022-12-16T10:25:59.192Z"
   },
   {
    "duration": 126,
    "start_time": "2022-12-16T10:26:40.716Z"
   },
   {
    "duration": 154,
    "start_time": "2022-12-16T10:27:00.337Z"
   },
   {
    "duration": 210,
    "start_time": "2022-12-16T10:27:26.666Z"
   },
   {
    "duration": 128,
    "start_time": "2022-12-16T10:27:36.035Z"
   },
   {
    "duration": 7,
    "start_time": "2022-12-16T10:28:36.622Z"
   },
   {
    "duration": 15,
    "start_time": "2022-12-16T10:28:53.243Z"
   },
   {
    "duration": 7,
    "start_time": "2022-12-16T10:28:53.575Z"
   },
   {
    "duration": 9,
    "start_time": "2022-12-16T10:29:04.809Z"
   },
   {
    "duration": 9,
    "start_time": "2022-12-16T10:29:05.036Z"
   },
   {
    "duration": 6,
    "start_time": "2022-12-16T10:30:29.557Z"
   },
   {
    "duration": 4,
    "start_time": "2022-12-16T10:42:06.149Z"
   },
   {
    "duration": 4,
    "start_time": "2022-12-16T10:47:41.121Z"
   },
   {
    "duration": 14,
    "start_time": "2022-12-16T10:47:48.614Z"
   },
   {
    "duration": 121,
    "start_time": "2022-12-16T10:49:03.053Z"
   },
   {
    "duration": 250,
    "start_time": "2022-12-16T10:49:05.513Z"
   },
   {
    "duration": 242,
    "start_time": "2022-12-16T10:49:19.837Z"
   },
   {
    "duration": 221,
    "start_time": "2022-12-16T10:49:23.454Z"
   },
   {
    "duration": 223,
    "start_time": "2022-12-16T10:50:00.816Z"
   },
   {
    "duration": 140,
    "start_time": "2022-12-16T10:50:12.477Z"
   },
   {
    "duration": 17,
    "start_time": "2022-12-16T10:50:12.925Z"
   },
   {
    "duration": 7,
    "start_time": "2022-12-16T10:50:13.329Z"
   },
   {
    "duration": 154,
    "start_time": "2022-12-16T10:50:14.145Z"
   },
   {
    "duration": 8,
    "start_time": "2022-12-16T10:50:15.818Z"
   },
   {
    "duration": 8,
    "start_time": "2022-12-16T10:50:16.686Z"
   },
   {
    "duration": 248,
    "start_time": "2022-12-16T10:50:17.116Z"
   },
   {
    "duration": 8,
    "start_time": "2022-12-16T10:50:20.039Z"
   },
   {
    "duration": 5,
    "start_time": "2022-12-16T10:50:20.482Z"
   },
   {
    "duration": 6,
    "start_time": "2022-12-16T10:50:21.639Z"
   },
   {
    "duration": 3,
    "start_time": "2022-12-16T10:50:22.027Z"
   },
   {
    "duration": 9,
    "start_time": "2022-12-16T10:50:23.755Z"
   },
   {
    "duration": 229,
    "start_time": "2022-12-16T10:50:24.944Z"
   },
   {
    "duration": 48,
    "start_time": "2022-12-16T10:50:37.733Z"
   },
   {
    "duration": 54,
    "start_time": "2022-12-16T10:56:50.947Z"
   },
   {
    "duration": 4,
    "start_time": "2022-12-16T10:57:15.018Z"
   },
   {
    "duration": 9,
    "start_time": "2022-12-16T10:59:07.947Z"
   },
   {
    "duration": 9,
    "start_time": "2022-12-16T10:59:08.291Z"
   },
   {
    "duration": 5,
    "start_time": "2022-12-16T10:59:08.800Z"
   },
   {
    "duration": 8,
    "start_time": "2022-12-16T11:02:55.297Z"
   },
   {
    "duration": 9,
    "start_time": "2022-12-16T11:05:42.539Z"
   },
   {
    "duration": 9,
    "start_time": "2022-12-16T11:05:48.724Z"
   },
   {
    "duration": 11,
    "start_time": "2022-12-16T11:05:52.416Z"
   },
   {
    "duration": 287,
    "start_time": "2022-12-16T11:06:14.410Z"
   },
   {
    "duration": 9,
    "start_time": "2022-12-16T11:06:17.746Z"
   },
   {
    "duration": 13,
    "start_time": "2022-12-16T11:08:14.594Z"
   },
   {
    "duration": 409,
    "start_time": "2022-12-16T11:08:22.287Z"
   },
   {
    "duration": 211,
    "start_time": "2022-12-16T11:08:29.389Z"
   },
   {
    "duration": 13,
    "start_time": "2022-12-16T11:08:36.978Z"
   },
   {
    "duration": 6,
    "start_time": "2022-12-16T11:09:57.603Z"
   },
   {
    "duration": 49,
    "start_time": "2022-12-16T11:09:59.652Z"
   },
   {
    "duration": 8,
    "start_time": "2022-12-16T11:10:17.175Z"
   },
   {
    "duration": 127,
    "start_time": "2022-12-16T11:10:25.456Z"
   },
   {
    "duration": 4,
    "start_time": "2022-12-16T11:11:31.996Z"
   },
   {
    "duration": 9,
    "start_time": "2022-12-16T11:12:39.087Z"
   },
   {
    "duration": 5,
    "start_time": "2022-12-16T11:13:10.533Z"
   },
   {
    "duration": 9,
    "start_time": "2022-12-16T11:13:16.962Z"
   },
   {
    "duration": 8,
    "start_time": "2022-12-16T11:13:22.311Z"
   },
   {
    "duration": 11,
    "start_time": "2022-12-16T11:13:25.186Z"
   },
   {
    "duration": 7,
    "start_time": "2022-12-16T11:14:18.009Z"
   },
   {
    "duration": 75,
    "start_time": "2022-12-16T11:15:05.307Z"
   },
   {
    "duration": 10,
    "start_time": "2022-12-16T11:15:07.901Z"
   },
   {
    "duration": 9,
    "start_time": "2022-12-16T11:15:14.029Z"
   },
   {
    "duration": 8,
    "start_time": "2022-12-16T11:15:20.589Z"
   },
   {
    "duration": 4,
    "start_time": "2022-12-16T11:15:23.490Z"
   },
   {
    "duration": 8,
    "start_time": "2022-12-16T11:15:25.102Z"
   },
   {
    "duration": 93,
    "start_time": "2022-12-16T11:15:30.130Z"
   },
   {
    "duration": 8,
    "start_time": "2022-12-16T11:15:39.064Z"
   },
   {
    "duration": 70,
    "start_time": "2022-12-16T11:18:13.383Z"
   },
   {
    "duration": 7,
    "start_time": "2022-12-16T11:18:22.589Z"
   },
   {
    "duration": 8,
    "start_time": "2022-12-16T11:18:37.091Z"
   },
   {
    "duration": 5,
    "start_time": "2022-12-16T11:18:49.596Z"
   },
   {
    "duration": 7,
    "start_time": "2022-12-16T11:18:49.927Z"
   },
   {
    "duration": 717,
    "start_time": "2022-12-16T11:19:05.903Z"
   },
   {
    "duration": 16,
    "start_time": "2022-12-16T11:19:06.623Z"
   },
   {
    "duration": 14,
    "start_time": "2022-12-16T11:19:06.642Z"
   },
   {
    "duration": 73,
    "start_time": "2022-12-16T11:19:06.658Z"
   },
   {
    "duration": 22,
    "start_time": "2022-12-16T11:19:06.734Z"
   },
   {
    "duration": 14,
    "start_time": "2022-12-16T11:19:06.758Z"
   },
   {
    "duration": 272,
    "start_time": "2022-12-16T11:19:06.774Z"
   },
   {
    "duration": 7,
    "start_time": "2022-12-16T11:19:07.052Z"
   },
   {
    "duration": 8,
    "start_time": "2022-12-16T11:19:07.062Z"
   },
   {
    "duration": 17,
    "start_time": "2022-12-16T11:19:07.072Z"
   },
   {
    "duration": 4,
    "start_time": "2022-12-16T11:19:07.091Z"
   },
   {
    "duration": 13,
    "start_time": "2022-12-16T11:19:07.097Z"
   },
   {
    "duration": 73,
    "start_time": "2022-12-16T11:19:07.112Z"
   },
   {
    "duration": 5,
    "start_time": "2022-12-16T11:19:07.187Z"
   },
   {
    "duration": 16,
    "start_time": "2022-12-16T11:19:07.193Z"
   },
   {
    "duration": 16,
    "start_time": "2022-12-16T11:19:07.211Z"
   },
   {
    "duration": 16,
    "start_time": "2022-12-16T11:19:07.229Z"
   },
   {
    "duration": 42,
    "start_time": "2022-12-16T11:19:07.247Z"
   },
   {
    "duration": 8,
    "start_time": "2022-12-16T11:19:07.290Z"
   },
   {
    "duration": 246,
    "start_time": "2022-12-16T11:19:07.299Z"
   },
   {
    "duration": 11,
    "start_time": "2022-12-16T11:19:07.547Z"
   },
   {
    "duration": 381,
    "start_time": "2022-12-16T11:19:07.559Z"
   },
   {
    "duration": 13,
    "start_time": "2022-12-16T11:19:07.942Z"
   },
   {
    "duration": 4,
    "start_time": "2022-12-16T11:19:07.957Z"
   },
   {
    "duration": 6,
    "start_time": "2022-12-16T11:22:42.069Z"
   },
   {
    "duration": 4,
    "start_time": "2022-12-16T11:22:44.082Z"
   },
   {
    "duration": 6,
    "start_time": "2022-12-16T11:22:48.991Z"
   },
   {
    "duration": 28,
    "start_time": "2022-12-16T11:23:07.096Z"
   },
   {
    "duration": 6,
    "start_time": "2022-12-16T11:24:25.026Z"
   },
   {
    "duration": 11,
    "start_time": "2022-12-16T11:24:55.186Z"
   },
   {
    "duration": 30,
    "start_time": "2022-12-16T11:24:59.987Z"
   },
   {
    "duration": 16,
    "start_time": "2022-12-16T11:25:54.437Z"
   },
   {
    "duration": 91,
    "start_time": "2022-12-16T11:25:57.815Z"
   },
   {
    "duration": 81,
    "start_time": "2022-12-16T11:26:01.281Z"
   },
   {
    "duration": 84,
    "start_time": "2022-12-16T11:26:03.636Z"
   },
   {
    "duration": 6,
    "start_time": "2022-12-16T11:26:18.450Z"
   },
   {
    "duration": 30,
    "start_time": "2022-12-16T11:27:27.666Z"
   },
   {
    "duration": 30,
    "start_time": "2022-12-16T11:27:42.287Z"
   },
   {
    "duration": 24,
    "start_time": "2022-12-16T11:27:42.657Z"
   },
   {
    "duration": 3,
    "start_time": "2022-12-16T11:31:34.625Z"
   },
   {
    "duration": 146,
    "start_time": "2022-12-16T11:31:59.462Z"
   },
   {
    "duration": 84,
    "start_time": "2022-12-16T11:32:21.323Z"
   },
   {
    "duration": 82,
    "start_time": "2022-12-16T11:32:24.935Z"
   },
   {
    "duration": 308,
    "start_time": "2022-12-16T11:33:18.139Z"
   },
   {
    "duration": 156,
    "start_time": "2022-12-16T11:34:10.700Z"
   },
   {
    "duration": 84,
    "start_time": "2022-12-16T11:35:38.547Z"
   },
   {
    "duration": 87,
    "start_time": "2022-12-16T11:35:48.177Z"
   },
   {
    "duration": 86,
    "start_time": "2022-12-16T11:36:01.171Z"
   },
   {
    "duration": 88,
    "start_time": "2022-12-16T11:42:48.008Z"
   },
   {
    "duration": 23,
    "start_time": "2022-12-16T11:42:58.341Z"
   },
   {
    "duration": 167,
    "start_time": "2022-12-16T11:46:45.133Z"
   },
   {
    "duration": 8,
    "start_time": "2022-12-16T11:47:10.488Z"
   },
   {
    "duration": 723,
    "start_time": "2022-12-16T11:47:31.325Z"
   },
   {
    "duration": 99,
    "start_time": "2022-12-16T11:47:32.253Z"
   },
   {
    "duration": 96,
    "start_time": "2022-12-16T11:50:21.858Z"
   },
   {
    "duration": 149,
    "start_time": "2022-12-16T11:50:39.555Z"
   },
   {
    "duration": 161,
    "start_time": "2022-12-16T11:53:02.636Z"
   },
   {
    "duration": 111,
    "start_time": "2022-12-16T11:53:09.041Z"
   },
   {
    "duration": 144,
    "start_time": "2022-12-16T11:53:57.358Z"
   },
   {
    "duration": 103,
    "start_time": "2022-12-16T11:54:03.812Z"
   },
   {
    "duration": 237,
    "start_time": "2022-12-16T11:56:41.476Z"
   },
   {
    "duration": 86,
    "start_time": "2022-12-16T11:56:41.826Z"
   },
   {
    "duration": 149,
    "start_time": "2022-12-16T11:57:57.310Z"
   },
   {
    "duration": 151,
    "start_time": "2022-12-16T11:58:07.506Z"
   },
   {
    "duration": 103,
    "start_time": "2022-12-16T11:59:25.658Z"
   },
   {
    "duration": 170,
    "start_time": "2022-12-16T12:02:22.583Z"
   },
   {
    "duration": 95,
    "start_time": "2022-12-16T12:02:31.957Z"
   },
   {
    "duration": 9,
    "start_time": "2022-12-16T12:02:58.002Z"
   },
   {
    "duration": 54,
    "start_time": "2022-12-16T12:03:22.383Z"
   },
   {
    "duration": 15,
    "start_time": "2022-12-16T12:04:00.291Z"
   },
   {
    "duration": 140,
    "start_time": "2022-12-16T12:04:17.414Z"
   },
   {
    "duration": 126,
    "start_time": "2022-12-16T12:05:10.763Z"
   },
   {
    "duration": 100,
    "start_time": "2022-12-16T12:06:21.728Z"
   },
   {
    "duration": 139,
    "start_time": "2022-12-16T12:06:22.926Z"
   },
   {
    "duration": 269,
    "start_time": "2022-12-16T12:08:19.298Z"
   },
   {
    "duration": 375,
    "start_time": "2022-12-16T12:09:14.820Z"
   },
   {
    "duration": 283,
    "start_time": "2022-12-16T12:09:22.181Z"
   },
   {
    "duration": 275,
    "start_time": "2022-12-16T12:09:24.813Z"
   },
   {
    "duration": 239,
    "start_time": "2022-12-16T12:09:28.775Z"
   },
   {
    "duration": 248,
    "start_time": "2022-12-16T12:09:36.607Z"
   },
   {
    "duration": 231,
    "start_time": "2022-12-16T12:09:39.592Z"
   },
   {
    "duration": 236,
    "start_time": "2022-12-16T12:09:43.237Z"
   },
   {
    "duration": 82,
    "start_time": "2022-12-16T12:10:10.071Z"
   },
   {
    "duration": 71,
    "start_time": "2022-12-16T12:10:23.235Z"
   },
   {
    "duration": 70,
    "start_time": "2022-12-16T12:10:34.154Z"
   },
   {
    "duration": 42,
    "start_time": "2022-12-16T12:10:37.487Z"
   },
   {
    "duration": 842,
    "start_time": "2022-12-16T12:10:45.049Z"
   },
   {
    "duration": 16,
    "start_time": "2022-12-16T12:10:45.893Z"
   },
   {
    "duration": 6,
    "start_time": "2022-12-16T12:10:45.911Z"
   },
   {
    "duration": 100,
    "start_time": "2022-12-16T12:10:45.920Z"
   },
   {
    "duration": 9,
    "start_time": "2022-12-16T12:10:46.021Z"
   },
   {
    "duration": 21,
    "start_time": "2022-12-16T12:10:46.032Z"
   },
   {
    "duration": 291,
    "start_time": "2022-12-16T12:10:46.055Z"
   },
   {
    "duration": 10,
    "start_time": "2022-12-16T12:10:46.348Z"
   },
   {
    "duration": 9,
    "start_time": "2022-12-16T12:10:46.360Z"
   },
   {
    "duration": 9,
    "start_time": "2022-12-16T12:10:46.372Z"
   },
   {
    "duration": 7,
    "start_time": "2022-12-16T12:10:46.382Z"
   },
   {
    "duration": 14,
    "start_time": "2022-12-16T12:10:46.390Z"
   },
   {
    "duration": 80,
    "start_time": "2022-12-16T12:10:46.406Z"
   },
   {
    "duration": 4,
    "start_time": "2022-12-16T12:10:46.489Z"
   },
   {
    "duration": 10,
    "start_time": "2022-12-16T12:10:46.495Z"
   },
   {
    "duration": 9,
    "start_time": "2022-12-16T12:10:46.506Z"
   },
   {
    "duration": 37,
    "start_time": "2022-12-16T12:10:46.517Z"
   },
   {
    "duration": 9,
    "start_time": "2022-12-16T12:10:46.556Z"
   },
   {
    "duration": 7,
    "start_time": "2022-12-16T12:10:46.567Z"
   },
   {
    "duration": 297,
    "start_time": "2022-12-16T12:10:46.576Z"
   },
   {
    "duration": 10,
    "start_time": "2022-12-16T12:10:46.874Z"
   },
   {
    "duration": 434,
    "start_time": "2022-12-16T12:10:46.886Z"
   },
   {
    "duration": 6,
    "start_time": "2022-12-16T12:10:47.322Z"
   },
   {
    "duration": 7,
    "start_time": "2022-12-16T12:10:47.330Z"
   },
   {
    "duration": 29,
    "start_time": "2022-12-16T12:10:47.352Z"
   },
   {
    "duration": 34,
    "start_time": "2022-12-16T12:10:47.383Z"
   },
   {
    "duration": 112,
    "start_time": "2022-12-16T12:10:47.419Z"
   },
   {
    "duration": 7,
    "start_time": "2022-12-16T12:10:47.535Z"
   },
   {
    "duration": 28,
    "start_time": "2022-12-16T12:10:47.552Z"
   },
   {
    "duration": 699,
    "start_time": "2022-12-16T12:10:47.582Z"
   },
   {
    "duration": 115,
    "start_time": "2022-12-16T12:10:48.283Z"
   },
   {
    "duration": 180,
    "start_time": "2022-12-16T12:10:48.400Z"
   },
   {
    "duration": 112,
    "start_time": "2022-12-16T12:10:48.582Z"
   },
   {
    "duration": 258,
    "start_time": "2022-12-16T12:10:48.696Z"
   },
   {
    "duration": 143,
    "start_time": "2022-12-16T12:10:48.956Z"
   },
   {
    "duration": 194,
    "start_time": "2022-12-16T12:10:49.101Z"
   },
   {
    "duration": 111,
    "start_time": "2022-12-16T12:10:49.298Z"
   },
   {
    "duration": 280,
    "start_time": "2022-12-16T12:10:49.411Z"
   },
   {
    "duration": 100,
    "start_time": "2022-12-16T12:10:49.693Z"
   },
   {
    "duration": 166,
    "start_time": "2022-12-16T12:10:49.794Z"
   },
   {
    "duration": 115,
    "start_time": "2022-12-16T12:10:49.961Z"
   },
   {
    "duration": 161,
    "start_time": "2022-12-16T12:10:50.078Z"
   },
   {
    "duration": 112,
    "start_time": "2022-12-16T12:10:50.241Z"
   },
   {
    "duration": 8,
    "start_time": "2022-12-16T12:10:50.355Z"
   },
   {
    "duration": 228,
    "start_time": "2022-12-16T12:10:50.364Z"
   },
   {
    "duration": 139,
    "start_time": "2022-12-16T12:10:50.594Z"
   },
   {
    "duration": 103,
    "start_time": "2022-12-16T12:10:50.735Z"
   },
   {
    "duration": 129,
    "start_time": "2022-12-16T12:10:50.840Z"
   },
   {
    "duration": 240,
    "start_time": "2022-12-16T12:11:02.809Z"
   },
   {
    "duration": 254,
    "start_time": "2022-12-16T12:11:20.348Z"
   },
   {
    "duration": 144,
    "start_time": "2022-12-16T12:12:41.261Z"
   },
   {
    "duration": 101,
    "start_time": "2022-12-16T12:12:41.660Z"
   },
   {
    "duration": 102,
    "start_time": "2022-12-16T12:13:04.600Z"
   },
   {
    "duration": 140,
    "start_time": "2022-12-16T12:13:06.569Z"
   },
   {
    "duration": 132,
    "start_time": "2022-12-16T12:14:50.652Z"
   },
   {
    "duration": 84,
    "start_time": "2022-12-16T12:14:56.644Z"
   },
   {
    "duration": 123,
    "start_time": "2022-12-16T12:15:10.998Z"
   },
   {
    "duration": 192,
    "start_time": "2022-12-16T12:15:15.370Z"
   },
   {
    "duration": 154,
    "start_time": "2022-12-16T12:16:21.189Z"
   },
   {
    "duration": 103,
    "start_time": "2022-12-16T12:16:21.540Z"
   },
   {
    "duration": 21,
    "start_time": "2022-12-16T12:17:42.732Z"
   },
   {
    "duration": 25,
    "start_time": "2022-12-16T12:17:50.278Z"
   },
   {
    "duration": 139,
    "start_time": "2022-12-16T12:20:25.347Z"
   },
   {
    "duration": 99,
    "start_time": "2022-12-16T12:20:30.772Z"
   },
   {
    "duration": 114,
    "start_time": "2022-12-16T12:20:37.718Z"
   },
   {
    "duration": 96,
    "start_time": "2022-12-16T12:20:38.668Z"
   },
   {
    "duration": 142,
    "start_time": "2022-12-16T12:20:44.397Z"
   },
   {
    "duration": 148,
    "start_time": "2022-12-16T12:20:58.061Z"
   },
   {
    "duration": 160,
    "start_time": "2022-12-16T12:21:50.625Z"
   },
   {
    "duration": 176,
    "start_time": "2022-12-16T12:21:58.451Z"
   },
   {
    "duration": 164,
    "start_time": "2022-12-16T12:22:01.734Z"
   },
   {
    "duration": 156,
    "start_time": "2022-12-16T12:22:05.387Z"
   },
   {
    "duration": 47,
    "start_time": "2022-12-16T12:22:45.193Z"
   },
   {
    "duration": 764,
    "start_time": "2022-12-16T12:22:55.479Z"
   },
   {
    "duration": 20,
    "start_time": "2022-12-16T12:22:56.245Z"
   },
   {
    "duration": 9,
    "start_time": "2022-12-16T12:22:56.267Z"
   },
   {
    "duration": 98,
    "start_time": "2022-12-16T12:22:56.278Z"
   },
   {
    "duration": 10,
    "start_time": "2022-12-16T12:22:56.378Z"
   },
   {
    "duration": 16,
    "start_time": "2022-12-16T12:22:56.393Z"
   },
   {
    "duration": 304,
    "start_time": "2022-12-16T12:22:56.411Z"
   },
   {
    "duration": 7,
    "start_time": "2022-12-16T12:22:56.717Z"
   },
   {
    "duration": 19,
    "start_time": "2022-12-16T12:22:56.726Z"
   },
   {
    "duration": 8,
    "start_time": "2022-12-16T12:22:56.747Z"
   },
   {
    "duration": 4,
    "start_time": "2022-12-16T12:22:56.757Z"
   },
   {
    "duration": 15,
    "start_time": "2022-12-16T12:22:56.763Z"
   },
   {
    "duration": 49,
    "start_time": "2022-12-16T12:22:56.780Z"
   },
   {
    "duration": 23,
    "start_time": "2022-12-16T12:22:56.832Z"
   },
   {
    "duration": 11,
    "start_time": "2022-12-16T12:22:56.856Z"
   },
   {
    "duration": 11,
    "start_time": "2022-12-16T12:22:56.868Z"
   },
   {
    "duration": 8,
    "start_time": "2022-12-16T12:22:56.881Z"
   },
   {
    "duration": 10,
    "start_time": "2022-12-16T12:22:56.891Z"
   },
   {
    "duration": 8,
    "start_time": "2022-12-16T12:22:56.903Z"
   },
   {
    "duration": 256,
    "start_time": "2022-12-16T12:22:56.912Z"
   },
   {
    "duration": 9,
    "start_time": "2022-12-16T12:22:57.169Z"
   },
   {
    "duration": 391,
    "start_time": "2022-12-16T12:22:57.180Z"
   },
   {
    "duration": 6,
    "start_time": "2022-12-16T12:22:57.573Z"
   },
   {
    "duration": 9,
    "start_time": "2022-12-16T12:22:57.581Z"
   },
   {
    "duration": 28,
    "start_time": "2022-12-16T12:22:57.592Z"
   },
   {
    "duration": 55,
    "start_time": "2022-12-16T12:22:57.624Z"
   },
   {
    "duration": 93,
    "start_time": "2022-12-16T12:22:57.680Z"
   },
   {
    "duration": 7,
    "start_time": "2022-12-16T12:22:57.775Z"
   },
   {
    "duration": 27,
    "start_time": "2022-12-16T12:22:57.783Z"
   },
   {
    "duration": 626,
    "start_time": "2022-12-16T12:22:57.812Z"
   },
   {
    "duration": 99,
    "start_time": "2022-12-16T12:22:58.440Z"
   },
   {
    "duration": 167,
    "start_time": "2022-12-16T12:22:58.552Z"
   },
   {
    "duration": 171,
    "start_time": "2022-12-16T12:22:58.721Z"
   },
   {
    "duration": 181,
    "start_time": "2022-12-16T12:22:58.894Z"
   },
   {
    "duration": 116,
    "start_time": "2022-12-16T12:22:59.077Z"
   },
   {
    "duration": 172,
    "start_time": "2022-12-16T12:22:59.195Z"
   },
   {
    "duration": 95,
    "start_time": "2022-12-16T12:22:59.369Z"
   },
   {
    "duration": 267,
    "start_time": "2022-12-16T12:22:59.466Z"
   },
   {
    "duration": 95,
    "start_time": "2022-12-16T12:22:59.735Z"
   },
   {
    "duration": 184,
    "start_time": "2022-12-16T12:22:59.832Z"
   },
   {
    "duration": 114,
    "start_time": "2022-12-16T12:23:00.020Z"
   },
   {
    "duration": 175,
    "start_time": "2022-12-16T12:23:00.136Z"
   },
   {
    "duration": 224,
    "start_time": "2022-12-16T12:23:00.313Z"
   },
   {
    "duration": 15,
    "start_time": "2022-12-16T12:23:00.539Z"
   },
   {
    "duration": 169,
    "start_time": "2022-12-16T12:23:00.556Z"
   },
   {
    "duration": 150,
    "start_time": "2022-12-16T12:23:00.727Z"
   },
   {
    "duration": 113,
    "start_time": "2022-12-16T12:23:00.879Z"
   },
   {
    "duration": 151,
    "start_time": "2022-12-16T12:23:00.994Z"
   },
   {
    "duration": 117,
    "start_time": "2022-12-16T12:23:01.146Z"
   },
   {
    "duration": 133,
    "start_time": "2022-12-16T12:23:01.265Z"
   },
   {
    "duration": 102,
    "start_time": "2022-12-16T12:23:01.400Z"
   },
   {
    "duration": 171,
    "start_time": "2022-12-16T12:23:01.503Z"
   },
   {
    "duration": 111,
    "start_time": "2022-12-16T12:23:01.676Z"
   },
   {
    "duration": 181,
    "start_time": "2022-12-16T12:23:01.789Z"
   },
   {
    "duration": 176,
    "start_time": "2022-12-16T12:33:08.924Z"
   },
   {
    "duration": 179,
    "start_time": "2022-12-16T12:33:09.102Z"
   },
   {
    "duration": 5,
    "start_time": "2022-12-16T12:33:09.283Z"
   },
   {
    "duration": 0,
    "start_time": "2022-12-16T12:33:09.402Z"
   },
   {
    "duration": 0,
    "start_time": "2022-12-16T12:33:09.405Z"
   },
   {
    "duration": 43,
    "start_time": "2022-12-16T12:33:41.774Z"
   },
   {
    "duration": 267,
    "start_time": "2022-12-16T12:33:50.731Z"
   },
   {
    "duration": 6,
    "start_time": "2022-12-16T12:34:01.577Z"
   },
   {
    "duration": 218,
    "start_time": "2022-12-16T12:35:59.141Z"
   },
   {
    "duration": 10,
    "start_time": "2022-12-16T12:36:17.707Z"
   },
   {
    "duration": 175,
    "start_time": "2022-12-16T12:42:15.877Z"
   },
   {
    "duration": 171,
    "start_time": "2022-12-16T12:42:26.520Z"
   },
   {
    "duration": 22,
    "start_time": "2022-12-16T12:45:22.836Z"
   },
   {
    "duration": 22,
    "start_time": "2022-12-16T12:45:54.625Z"
   },
   {
    "duration": 16,
    "start_time": "2022-12-16T12:46:28.672Z"
   },
   {
    "duration": 18,
    "start_time": "2022-12-16T12:46:36.740Z"
   },
   {
    "duration": 19,
    "start_time": "2022-12-16T12:46:46.175Z"
   },
   {
    "duration": 18,
    "start_time": "2022-12-16T12:47:16.650Z"
   },
   {
    "duration": 17,
    "start_time": "2022-12-16T12:49:39.542Z"
   },
   {
    "duration": 18,
    "start_time": "2022-12-16T12:49:41.092Z"
   },
   {
    "duration": 174,
    "start_time": "2022-12-16T12:50:15.929Z"
   },
   {
    "duration": 201,
    "start_time": "2022-12-16T12:50:21.838Z"
   },
   {
    "duration": 204,
    "start_time": "2022-12-16T12:50:32.403Z"
   },
   {
    "duration": 193,
    "start_time": "2022-12-16T12:50:35.698Z"
   },
   {
    "duration": 182,
    "start_time": "2022-12-16T12:50:43.651Z"
   },
   {
    "duration": 90,
    "start_time": "2022-12-16T12:50:47.509Z"
   },
   {
    "duration": 194,
    "start_time": "2022-12-16T12:50:49.903Z"
   },
   {
    "duration": 206,
    "start_time": "2022-12-16T12:51:50.952Z"
   },
   {
    "duration": 24,
    "start_time": "2022-12-16T12:56:00.334Z"
   },
   {
    "duration": 26,
    "start_time": "2022-12-16T12:56:11.254Z"
   },
   {
    "duration": 26,
    "start_time": "2022-12-16T12:56:16.817Z"
   },
   {
    "duration": 26,
    "start_time": "2022-12-16T12:56:33.715Z"
   },
   {
    "duration": 20,
    "start_time": "2022-12-16T12:57:51.370Z"
   },
   {
    "duration": 75,
    "start_time": "2022-12-16T13:02:09.861Z"
   },
   {
    "duration": 5,
    "start_time": "2022-12-16T13:02:12.936Z"
   },
   {
    "duration": 79,
    "start_time": "2022-12-16T13:02:22.513Z"
   },
   {
    "duration": 81,
    "start_time": "2022-12-16T13:02:29.203Z"
   },
   {
    "duration": 79,
    "start_time": "2022-12-16T13:02:31.688Z"
   },
   {
    "duration": 4,
    "start_time": "2022-12-16T13:02:33.931Z"
   },
   {
    "duration": 398,
    "start_time": "2022-12-16T13:02:36.243Z"
   },
   {
    "duration": 131,
    "start_time": "2022-12-16T13:03:14.007Z"
   },
   {
    "duration": 30,
    "start_time": "2022-12-16T13:04:18.063Z"
   },
   {
    "duration": 47,
    "start_time": "2022-12-16T13:04:30.345Z"
   },
   {
    "duration": 18,
    "start_time": "2022-12-16T13:05:08.533Z"
   },
   {
    "duration": 17,
    "start_time": "2022-12-16T13:05:15.034Z"
   },
   {
    "duration": 31,
    "start_time": "2022-12-16T13:05:21.104Z"
   },
   {
    "duration": 36,
    "start_time": "2022-12-16T13:07:03.015Z"
   },
   {
    "duration": 26,
    "start_time": "2022-12-16T13:07:44.108Z"
   },
   {
    "duration": 40,
    "start_time": "2022-12-16T13:07:46.629Z"
   },
   {
    "duration": 55,
    "start_time": "2022-12-16T13:10:19.929Z"
   },
   {
    "duration": 176,
    "start_time": "2022-12-16T13:12:04.031Z"
   },
   {
    "duration": 774,
    "start_time": "2022-12-16T13:26:47.893Z"
   },
   {
    "duration": 15,
    "start_time": "2022-12-16T13:26:48.668Z"
   },
   {
    "duration": 6,
    "start_time": "2022-12-16T13:26:48.685Z"
   },
   {
    "duration": 70,
    "start_time": "2022-12-16T13:26:48.692Z"
   },
   {
    "duration": 7,
    "start_time": "2022-12-16T13:26:48.777Z"
   },
   {
    "duration": 28,
    "start_time": "2022-12-16T13:26:48.785Z"
   },
   {
    "duration": 272,
    "start_time": "2022-12-16T13:26:48.815Z"
   },
   {
    "duration": 8,
    "start_time": "2022-12-16T13:26:49.089Z"
   },
   {
    "duration": 9,
    "start_time": "2022-12-16T13:26:49.098Z"
   },
   {
    "duration": 10,
    "start_time": "2022-12-16T13:26:49.109Z"
   },
   {
    "duration": 8,
    "start_time": "2022-12-16T13:26:49.121Z"
   },
   {
    "duration": 17,
    "start_time": "2022-12-16T13:26:49.131Z"
   },
   {
    "duration": 65,
    "start_time": "2022-12-16T13:26:49.150Z"
   },
   {
    "duration": 4,
    "start_time": "2022-12-16T13:26:49.219Z"
   },
   {
    "duration": 26,
    "start_time": "2022-12-16T13:26:49.225Z"
   },
   {
    "duration": 11,
    "start_time": "2022-12-16T13:26:49.253Z"
   },
   {
    "duration": 12,
    "start_time": "2022-12-16T13:26:49.266Z"
   },
   {
    "duration": 11,
    "start_time": "2022-12-16T13:26:49.280Z"
   },
   {
    "duration": 8,
    "start_time": "2022-12-16T13:26:49.293Z"
   },
   {
    "duration": 253,
    "start_time": "2022-12-16T13:26:49.302Z"
   },
   {
    "duration": 10,
    "start_time": "2022-12-16T13:26:49.557Z"
   },
   {
    "duration": 386,
    "start_time": "2022-12-16T13:26:49.578Z"
   },
   {
    "duration": 13,
    "start_time": "2022-12-16T13:26:49.965Z"
   },
   {
    "duration": 8,
    "start_time": "2022-12-16T13:26:49.979Z"
   },
   {
    "duration": 33,
    "start_time": "2022-12-16T13:26:49.988Z"
   },
   {
    "duration": 43,
    "start_time": "2022-12-16T13:26:50.022Z"
   },
   {
    "duration": 103,
    "start_time": "2022-12-16T13:26:50.066Z"
   },
   {
    "duration": 9,
    "start_time": "2022-12-16T13:26:50.177Z"
   },
   {
    "duration": 44,
    "start_time": "2022-12-16T13:26:50.188Z"
   },
   {
    "duration": 658,
    "start_time": "2022-12-16T13:26:50.234Z"
   },
   {
    "duration": 140,
    "start_time": "2022-12-16T13:26:50.893Z"
   },
   {
    "duration": 150,
    "start_time": "2022-12-16T13:26:51.035Z"
   },
   {
    "duration": 157,
    "start_time": "2022-12-16T13:26:51.186Z"
   },
   {
    "duration": 175,
    "start_time": "2022-12-16T13:26:51.345Z"
   },
   {
    "duration": 128,
    "start_time": "2022-12-16T13:26:51.522Z"
   },
   {
    "duration": 168,
    "start_time": "2022-12-16T13:26:51.651Z"
   },
   {
    "duration": 107,
    "start_time": "2022-12-16T13:26:51.821Z"
   },
   {
    "duration": 259,
    "start_time": "2022-12-16T13:26:51.930Z"
   },
   {
    "duration": 96,
    "start_time": "2022-12-16T13:26:52.191Z"
   },
   {
    "duration": 204,
    "start_time": "2022-12-16T13:26:52.289Z"
   },
   {
    "duration": 116,
    "start_time": "2022-12-16T13:26:52.497Z"
   },
   {
    "duration": 152,
    "start_time": "2022-12-16T13:26:52.614Z"
   },
   {
    "duration": 188,
    "start_time": "2022-12-16T13:26:52.768Z"
   },
   {
    "duration": 7,
    "start_time": "2022-12-16T13:26:52.959Z"
   },
   {
    "duration": 155,
    "start_time": "2022-12-16T13:26:52.968Z"
   },
   {
    "duration": 134,
    "start_time": "2022-12-16T13:26:53.125Z"
   },
   {
    "duration": 106,
    "start_time": "2022-12-16T13:26:53.260Z"
   },
   {
    "duration": 145,
    "start_time": "2022-12-16T13:26:53.377Z"
   },
   {
    "duration": 103,
    "start_time": "2022-12-16T13:26:53.525Z"
   },
   {
    "duration": 125,
    "start_time": "2022-12-16T13:26:53.629Z"
   },
   {
    "duration": 97,
    "start_time": "2022-12-16T13:26:53.755Z"
   },
   {
    "duration": 188,
    "start_time": "2022-12-16T13:26:53.854Z"
   },
   {
    "duration": 137,
    "start_time": "2022-12-16T13:26:54.043Z"
   },
   {
    "duration": 139,
    "start_time": "2022-12-16T13:26:54.182Z"
   },
   {
    "duration": 186,
    "start_time": "2022-12-16T13:26:54.323Z"
   },
   {
    "duration": 175,
    "start_time": "2022-12-16T13:26:54.510Z"
   },
   {
    "duration": 9,
    "start_time": "2022-12-16T13:26:54.687Z"
   },
   {
    "duration": 175,
    "start_time": "2022-12-16T13:26:54.697Z"
   },
   {
    "duration": 203,
    "start_time": "2022-12-16T13:26:54.873Z"
   },
   {
    "duration": 265,
    "start_time": "2022-12-16T13:26:55.079Z"
   },
   {
    "duration": 171,
    "start_time": "2022-12-16T13:26:55.346Z"
   },
   {
    "duration": 196,
    "start_time": "2022-12-16T13:26:55.518Z"
   },
   {
    "duration": 180,
    "start_time": "2022-12-16T13:26:55.716Z"
   },
   {
    "duration": 7,
    "start_time": "2022-12-16T13:26:55.897Z"
   },
   {
    "duration": 406,
    "start_time": "2022-12-16T13:26:55.905Z"
   },
   {
    "duration": 148,
    "start_time": "2022-12-16T13:26:56.313Z"
   },
   {
    "duration": 45,
    "start_time": "2022-12-16T13:26:56.463Z"
   },
   {
    "duration": 31,
    "start_time": "2022-12-16T13:26:56.509Z"
   },
   {
    "duration": 22,
    "start_time": "2022-12-16T13:29:19.313Z"
   },
   {
    "duration": 84,
    "start_time": "2022-12-16T13:34:00.053Z"
   },
   {
    "duration": 148,
    "start_time": "2022-12-16T13:34:20.298Z"
   },
   {
    "duration": 51,
    "start_time": "2022-12-16T18:36:36.373Z"
   },
   {
    "duration": 1233,
    "start_time": "2022-12-16T18:36:43.815Z"
   },
   {
    "duration": 16,
    "start_time": "2022-12-16T18:36:45.050Z"
   },
   {
    "duration": 6,
    "start_time": "2022-12-16T18:36:45.068Z"
   },
   {
    "duration": 107,
    "start_time": "2022-12-16T18:36:45.076Z"
   },
   {
    "duration": 9,
    "start_time": "2022-12-16T18:36:45.184Z"
   },
   {
    "duration": 23,
    "start_time": "2022-12-16T18:36:45.195Z"
   },
   {
    "duration": 283,
    "start_time": "2022-12-16T18:36:45.220Z"
   },
   {
    "duration": 8,
    "start_time": "2022-12-16T18:36:45.505Z"
   },
   {
    "duration": 22,
    "start_time": "2022-12-16T18:36:45.515Z"
   },
   {
    "duration": 10,
    "start_time": "2022-12-16T18:36:45.541Z"
   },
   {
    "duration": 7,
    "start_time": "2022-12-16T18:36:45.553Z"
   },
   {
    "duration": 14,
    "start_time": "2022-12-16T18:36:45.561Z"
   },
   {
    "duration": 70,
    "start_time": "2022-12-16T18:36:45.577Z"
   },
   {
    "duration": 6,
    "start_time": "2022-12-16T18:36:45.649Z"
   },
   {
    "duration": 16,
    "start_time": "2022-12-16T18:36:45.657Z"
   },
   {
    "duration": 14,
    "start_time": "2022-12-16T18:36:45.675Z"
   },
   {
    "duration": 18,
    "start_time": "2022-12-16T18:36:45.691Z"
   },
   {
    "duration": 28,
    "start_time": "2022-12-16T18:36:45.711Z"
   },
   {
    "duration": 8,
    "start_time": "2022-12-16T18:36:45.741Z"
   },
   {
    "duration": 291,
    "start_time": "2022-12-16T18:36:45.752Z"
   },
   {
    "duration": 11,
    "start_time": "2022-12-16T18:36:46.045Z"
   },
   {
    "duration": 399,
    "start_time": "2022-12-16T18:36:46.058Z"
   },
   {
    "duration": 6,
    "start_time": "2022-12-16T18:36:46.458Z"
   },
   {
    "duration": 22,
    "start_time": "2022-12-16T18:36:46.466Z"
   },
   {
    "duration": 20,
    "start_time": "2022-12-16T18:36:46.490Z"
   },
   {
    "duration": 34,
    "start_time": "2022-12-16T18:36:46.512Z"
   },
   {
    "duration": 108,
    "start_time": "2022-12-16T18:36:46.548Z"
   },
   {
    "duration": 36,
    "start_time": "2022-12-16T18:36:46.662Z"
   },
   {
    "duration": 9,
    "start_time": "2022-12-16T18:36:46.700Z"
   },
   {
    "duration": 73,
    "start_time": "2022-12-16T18:36:46.711Z"
   },
   {
    "duration": 705,
    "start_time": "2022-12-16T18:36:46.786Z"
   },
   {
    "duration": 130,
    "start_time": "2022-12-16T18:36:47.493Z"
   },
   {
    "duration": 188,
    "start_time": "2022-12-16T18:36:47.625Z"
   },
   {
    "duration": 188,
    "start_time": "2022-12-16T18:36:47.815Z"
   },
   {
    "duration": 196,
    "start_time": "2022-12-16T18:36:48.005Z"
   },
   {
    "duration": 118,
    "start_time": "2022-12-16T18:36:48.202Z"
   },
   {
    "duration": 175,
    "start_time": "2022-12-16T18:36:48.321Z"
   },
   {
    "duration": 127,
    "start_time": "2022-12-16T18:36:48.498Z"
   },
   {
    "duration": 296,
    "start_time": "2022-12-16T18:36:48.634Z"
   },
   {
    "duration": 114,
    "start_time": "2022-12-16T18:36:48.935Z"
   },
   {
    "duration": 204,
    "start_time": "2022-12-16T18:36:49.051Z"
   },
   {
    "duration": 126,
    "start_time": "2022-12-16T18:36:49.257Z"
   },
   {
    "duration": 178,
    "start_time": "2022-12-16T18:36:49.385Z"
   },
   {
    "duration": 202,
    "start_time": "2022-12-16T18:36:49.564Z"
   },
   {
    "duration": 7,
    "start_time": "2022-12-16T18:36:49.768Z"
   },
   {
    "duration": 160,
    "start_time": "2022-12-16T18:36:49.777Z"
   },
   {
    "duration": 162,
    "start_time": "2022-12-16T18:36:49.939Z"
   },
   {
    "duration": 113,
    "start_time": "2022-12-16T18:36:50.103Z"
   },
   {
    "duration": 177,
    "start_time": "2022-12-16T18:36:50.219Z"
   },
   {
    "duration": 116,
    "start_time": "2022-12-16T18:36:50.398Z"
   },
   {
    "duration": 157,
    "start_time": "2022-12-16T18:36:50.516Z"
   },
   {
    "duration": 112,
    "start_time": "2022-12-16T18:36:50.675Z"
   },
   {
    "duration": 172,
    "start_time": "2022-12-16T18:36:50.789Z"
   },
   {
    "duration": 118,
    "start_time": "2022-12-16T18:36:50.963Z"
   },
   {
    "duration": 166,
    "start_time": "2022-12-16T18:36:51.083Z"
   },
   {
    "duration": 174,
    "start_time": "2022-12-16T18:36:51.252Z"
   },
   {
    "duration": 220,
    "start_time": "2022-12-16T18:36:51.428Z"
   },
   {
    "duration": 10,
    "start_time": "2022-12-16T18:36:51.651Z"
   },
   {
    "duration": 308,
    "start_time": "2022-12-16T18:36:51.662Z"
   },
   {
    "duration": 297,
    "start_time": "2022-12-16T18:36:51.972Z"
   },
   {
    "duration": 346,
    "start_time": "2022-12-16T18:36:52.271Z"
   },
   {
    "duration": 227,
    "start_time": "2022-12-16T18:36:52.618Z"
   },
   {
    "duration": 198,
    "start_time": "2022-12-16T18:36:52.847Z"
   },
   {
    "duration": 196,
    "start_time": "2022-12-16T18:36:53.047Z"
   },
   {
    "duration": 5,
    "start_time": "2022-12-16T18:36:53.245Z"
   },
   {
    "duration": 424,
    "start_time": "2022-12-16T18:36:53.251Z"
   },
   {
    "duration": 153,
    "start_time": "2022-12-16T18:36:53.677Z"
   },
   {
    "duration": 38,
    "start_time": "2022-12-16T18:36:53.836Z"
   },
   {
    "duration": 36,
    "start_time": "2022-12-16T18:36:53.876Z"
   },
   {
    "duration": 4,
    "start_time": "2022-12-16T18:37:25.822Z"
   },
   {
    "duration": 33,
    "start_time": "2022-12-16T18:37:51.646Z"
   },
   {
    "duration": 32,
    "start_time": "2022-12-16T18:38:03.962Z"
   },
   {
    "duration": 2066,
    "start_time": "2022-12-16T18:44:38.206Z"
   },
   {
    "duration": 2746,
    "start_time": "2022-12-16T18:45:20.015Z"
   },
   {
    "duration": 27,
    "start_time": "2022-12-16T18:47:06.254Z"
   },
   {
    "duration": 175,
    "start_time": "2022-12-16T18:48:01.077Z"
   },
   {
    "duration": 120,
    "start_time": "2022-12-16T18:54:21.831Z"
   },
   {
    "duration": 148,
    "start_time": "2022-12-16T18:54:30.187Z"
   },
   {
    "duration": 22,
    "start_time": "2022-12-16T18:54:51.051Z"
   },
   {
    "duration": 17,
    "start_time": "2022-12-16T18:55:53.854Z"
   },
   {
    "duration": 15,
    "start_time": "2022-12-16T18:57:28.139Z"
   },
   {
    "duration": 173,
    "start_time": "2022-12-16T18:57:57.011Z"
   },
   {
    "duration": 170,
    "start_time": "2022-12-16T18:58:13.551Z"
   },
   {
    "duration": 17,
    "start_time": "2022-12-16T18:58:15.627Z"
   },
   {
    "duration": 181,
    "start_time": "2022-12-16T19:00:47.474Z"
   },
   {
    "duration": 161,
    "start_time": "2022-12-16T19:01:22.136Z"
   },
   {
    "duration": 711,
    "start_time": "2022-12-16T19:01:52.212Z"
   },
   {
    "duration": 164,
    "start_time": "2022-12-16T19:02:00.101Z"
   },
   {
    "duration": 762,
    "start_time": "2022-12-16T19:02:47.648Z"
   },
   {
    "duration": 179,
    "start_time": "2022-12-16T19:02:57.807Z"
   },
   {
    "duration": 185,
    "start_time": "2022-12-16T19:04:11.847Z"
   },
   {
    "duration": 45,
    "start_time": "2022-12-16T19:12:40.949Z"
   },
   {
    "duration": 48,
    "start_time": "2022-12-16T19:12:47.588Z"
   },
   {
    "duration": 122,
    "start_time": "2022-12-16T19:14:30.545Z"
   },
   {
    "duration": 738,
    "start_time": "2022-12-16T19:20:13.277Z"
   },
   {
    "duration": 667,
    "start_time": "2022-12-16T19:20:22.740Z"
   },
   {
    "duration": 653,
    "start_time": "2022-12-16T19:20:38.943Z"
   },
   {
    "duration": 177,
    "start_time": "2022-12-16T19:21:28.272Z"
   },
   {
    "duration": 186,
    "start_time": "2022-12-16T19:21:50.836Z"
   },
   {
    "duration": 160,
    "start_time": "2022-12-16T19:22:08.558Z"
   },
   {
    "duration": 28,
    "start_time": "2022-12-16T19:33:29.946Z"
   },
   {
    "duration": 485,
    "start_time": "2022-12-16T19:37:18.232Z"
   },
   {
    "duration": 1132,
    "start_time": "2022-12-16T19:39:01.183Z"
   },
   {
    "duration": 49,
    "start_time": "2022-12-17T22:21:48.278Z"
   },
   {
    "duration": 45,
    "start_time": "2022-12-17T22:23:07.359Z"
   },
   {
    "duration": 39,
    "start_time": "2022-12-17T22:41:13.067Z"
   },
   {
    "duration": 41,
    "start_time": "2022-12-17T22:54:15.400Z"
   },
   {
    "duration": 1159,
    "start_time": "2022-12-17T22:54:27.081Z"
   },
   {
    "duration": 15,
    "start_time": "2022-12-17T22:54:28.242Z"
   },
   {
    "duration": 6,
    "start_time": "2022-12-17T22:54:28.258Z"
   },
   {
    "duration": 77,
    "start_time": "2022-12-17T22:54:28.266Z"
   },
   {
    "duration": 1768,
    "start_time": "2022-12-17T22:54:28.345Z"
   },
   {
    "duration": 8,
    "start_time": "2022-12-17T22:54:30.115Z"
   },
   {
    "duration": 14,
    "start_time": "2022-12-17T22:54:30.124Z"
   },
   {
    "duration": 252,
    "start_time": "2022-12-17T22:54:30.139Z"
   },
   {
    "duration": 7,
    "start_time": "2022-12-17T22:54:30.396Z"
   },
   {
    "duration": 22,
    "start_time": "2022-12-17T22:54:30.405Z"
   },
   {
    "duration": 36,
    "start_time": "2022-12-17T22:54:30.429Z"
   },
   {
    "duration": 14,
    "start_time": "2022-12-17T22:54:30.467Z"
   },
   {
    "duration": 25,
    "start_time": "2022-12-17T22:54:30.482Z"
   },
   {
    "duration": 62,
    "start_time": "2022-12-17T22:54:30.511Z"
   },
   {
    "duration": 5,
    "start_time": "2022-12-17T22:54:30.575Z"
   },
   {
    "duration": 34,
    "start_time": "2022-12-17T22:54:30.582Z"
   },
   {
    "duration": 15,
    "start_time": "2022-12-17T22:54:30.618Z"
   },
   {
    "duration": 11,
    "start_time": "2022-12-17T22:54:30.634Z"
   },
   {
    "duration": 44,
    "start_time": "2022-12-17T22:54:30.647Z"
   },
   {
    "duration": 48,
    "start_time": "2022-12-17T22:54:30.693Z"
   },
   {
    "duration": 36,
    "start_time": "2022-12-17T22:54:30.742Z"
   },
   {
    "duration": 272,
    "start_time": "2022-12-17T22:54:30.779Z"
   },
   {
    "duration": 11,
    "start_time": "2022-12-17T22:54:31.053Z"
   },
   {
    "duration": 384,
    "start_time": "2022-12-17T22:54:31.066Z"
   },
   {
    "duration": 6,
    "start_time": "2022-12-17T22:54:31.451Z"
   },
   {
    "duration": 10,
    "start_time": "2022-12-17T22:54:31.458Z"
   },
   {
    "duration": 9,
    "start_time": "2022-12-17T22:54:31.469Z"
   },
   {
    "duration": 38,
    "start_time": "2022-12-17T22:54:31.479Z"
   },
   {
    "duration": 32,
    "start_time": "2022-12-17T22:54:31.518Z"
   },
   {
    "duration": 29,
    "start_time": "2022-12-17T22:54:31.551Z"
   },
   {
    "duration": 21,
    "start_time": "2022-12-17T22:54:31.581Z"
   },
   {
    "duration": 33,
    "start_time": "2022-12-17T22:54:31.604Z"
   },
   {
    "duration": 751,
    "start_time": "2022-12-17T22:54:31.638Z"
   },
   {
    "duration": 107,
    "start_time": "2022-12-17T22:54:32.391Z"
   },
   {
    "duration": 181,
    "start_time": "2022-12-17T22:54:32.499Z"
   },
   {
    "duration": 93,
    "start_time": "2022-12-17T22:54:32.682Z"
   },
   {
    "duration": 184,
    "start_time": "2022-12-17T22:54:32.776Z"
   },
   {
    "duration": 114,
    "start_time": "2022-12-17T22:54:32.962Z"
   },
   {
    "duration": 169,
    "start_time": "2022-12-17T22:54:33.078Z"
   },
   {
    "duration": 201,
    "start_time": "2022-12-17T22:54:33.249Z"
   },
   {
    "duration": 282,
    "start_time": "2022-12-17T22:54:33.455Z"
   },
   {
    "duration": 101,
    "start_time": "2022-12-17T22:54:33.738Z"
   },
   {
    "duration": 173,
    "start_time": "2022-12-17T22:54:33.841Z"
   },
   {
    "duration": 117,
    "start_time": "2022-12-17T22:54:34.016Z"
   },
   {
    "duration": 166,
    "start_time": "2022-12-17T22:54:34.135Z"
   },
   {
    "duration": 102,
    "start_time": "2022-12-17T22:54:34.302Z"
   },
   {
    "duration": 6,
    "start_time": "2022-12-17T22:54:34.406Z"
   },
   {
    "duration": 133,
    "start_time": "2022-12-17T22:54:34.413Z"
   },
   {
    "duration": 138,
    "start_time": "2022-12-17T22:54:34.548Z"
   },
   {
    "duration": 115,
    "start_time": "2022-12-17T22:54:34.688Z"
   },
   {
    "duration": 161,
    "start_time": "2022-12-17T22:54:34.805Z"
   },
   {
    "duration": 104,
    "start_time": "2022-12-17T22:54:34.968Z"
   },
   {
    "duration": 144,
    "start_time": "2022-12-17T22:54:35.074Z"
   },
   {
    "duration": 99,
    "start_time": "2022-12-17T22:54:35.221Z"
   },
   {
    "duration": 163,
    "start_time": "2022-12-17T22:54:35.322Z"
   },
   {
    "duration": 116,
    "start_time": "2022-12-17T22:54:35.487Z"
   },
   {
    "duration": 262,
    "start_time": "2022-12-17T22:54:35.605Z"
   },
   {
    "duration": 203,
    "start_time": "2022-12-17T22:54:35.869Z"
   },
   {
    "duration": 159,
    "start_time": "2022-12-17T22:54:36.074Z"
   },
   {
    "duration": 9,
    "start_time": "2022-12-17T22:54:36.234Z"
   },
   {
    "duration": 170,
    "start_time": "2022-12-17T22:54:36.244Z"
   },
   {
    "duration": 176,
    "start_time": "2022-12-17T22:54:36.416Z"
   },
   {
    "duration": 156,
    "start_time": "2022-12-17T22:54:36.593Z"
   },
   {
    "duration": 170,
    "start_time": "2022-12-17T22:54:36.751Z"
   },
   {
    "duration": 170,
    "start_time": "2022-12-17T22:54:36.923Z"
   },
   {
    "duration": 165,
    "start_time": "2022-12-17T22:54:37.096Z"
   },
   {
    "duration": 107,
    "start_time": "2022-12-17T22:54:37.262Z"
   },
   {
    "duration": 126,
    "start_time": "2022-12-17T22:54:37.370Z"
   },
   {
    "duration": 157,
    "start_time": "2022-12-17T22:54:37.498Z"
   },
   {
    "duration": 166,
    "start_time": "2022-12-17T22:54:37.657Z"
   },
   {
    "duration": 162,
    "start_time": "2022-12-17T22:54:37.825Z"
   },
   {
    "duration": 8,
    "start_time": "2022-12-17T22:54:37.988Z"
   },
   {
    "duration": 373,
    "start_time": "2022-12-17T22:54:37.997Z"
   },
   {
    "duration": 40,
    "start_time": "2022-12-17T22:54:38.372Z"
   },
   {
    "duration": 30,
    "start_time": "2022-12-17T22:54:38.414Z"
   },
   {
    "duration": 24,
    "start_time": "2022-12-17T22:54:38.445Z"
   },
   {
    "duration": 801,
    "start_time": "2022-12-17T22:54:38.470Z"
   },
   {
    "duration": 134,
    "start_time": "2022-12-17T22:57:04.664Z"
   },
   {
    "duration": 134,
    "start_time": "2022-12-17T22:57:46.683Z"
   },
   {
    "duration": 324,
    "start_time": "2022-12-17T22:58:00.259Z"
   },
   {
    "duration": 147,
    "start_time": "2022-12-17T22:58:30.823Z"
   },
   {
    "duration": 788,
    "start_time": "2022-12-17T23:22:15.176Z"
   },
   {
    "duration": 28,
    "start_time": "2022-12-17T23:22:15.966Z"
   },
   {
    "duration": 6,
    "start_time": "2022-12-17T23:22:15.995Z"
   },
   {
    "duration": 89,
    "start_time": "2022-12-17T23:22:16.003Z"
   },
   {
    "duration": 1845,
    "start_time": "2022-12-17T23:22:16.094Z"
   },
   {
    "duration": 7,
    "start_time": "2022-12-17T23:22:17.941Z"
   },
   {
    "duration": 11,
    "start_time": "2022-12-17T23:22:17.949Z"
   },
   {
    "duration": 260,
    "start_time": "2022-12-17T23:22:17.962Z"
   },
   {
    "duration": 6,
    "start_time": "2022-12-17T23:22:18.224Z"
   },
   {
    "duration": 14,
    "start_time": "2022-12-17T23:22:18.232Z"
   },
   {
    "duration": 9,
    "start_time": "2022-12-17T23:22:18.248Z"
   },
   {
    "duration": 8,
    "start_time": "2022-12-17T23:22:18.259Z"
   },
   {
    "duration": 21,
    "start_time": "2022-12-17T23:22:18.269Z"
   },
   {
    "duration": 56,
    "start_time": "2022-12-17T23:22:18.292Z"
   },
   {
    "duration": 5,
    "start_time": "2022-12-17T23:22:18.349Z"
   },
   {
    "duration": 20,
    "start_time": "2022-12-17T23:22:18.356Z"
   },
   {
    "duration": 21,
    "start_time": "2022-12-17T23:22:18.382Z"
   },
   {
    "duration": 5,
    "start_time": "2022-12-17T23:22:18.404Z"
   },
   {
    "duration": 9,
    "start_time": "2022-12-17T23:22:18.411Z"
   },
   {
    "duration": 31,
    "start_time": "2022-12-17T23:22:18.421Z"
   },
   {
    "duration": 6,
    "start_time": "2022-12-17T23:22:18.454Z"
   },
   {
    "duration": 276,
    "start_time": "2022-12-17T23:22:18.462Z"
   },
   {
    "duration": 9,
    "start_time": "2022-12-17T23:22:18.739Z"
   },
   {
    "duration": 370,
    "start_time": "2022-12-17T23:22:18.749Z"
   },
   {
    "duration": 7,
    "start_time": "2022-12-17T23:22:19.120Z"
   },
   {
    "duration": 9,
    "start_time": "2022-12-17T23:22:19.128Z"
   },
   {
    "duration": 6,
    "start_time": "2022-12-17T23:22:19.139Z"
   },
   {
    "duration": 48,
    "start_time": "2022-12-17T23:22:19.151Z"
   },
   {
    "duration": 36,
    "start_time": "2022-12-17T23:22:19.200Z"
   },
   {
    "duration": 51,
    "start_time": "2022-12-17T23:22:19.238Z"
   },
   {
    "duration": 7,
    "start_time": "2022-12-17T23:22:19.291Z"
   },
   {
    "duration": 28,
    "start_time": "2022-12-17T23:22:19.300Z"
   },
   {
    "duration": 722,
    "start_time": "2022-12-17T23:22:19.330Z"
   },
   {
    "duration": 97,
    "start_time": "2022-12-17T23:22:20.053Z"
   },
   {
    "duration": 168,
    "start_time": "2022-12-17T23:22:20.152Z"
   },
   {
    "duration": 97,
    "start_time": "2022-12-17T23:22:20.322Z"
   },
   {
    "duration": 174,
    "start_time": "2022-12-17T23:22:20.421Z"
   },
   {
    "duration": 106,
    "start_time": "2022-12-17T23:22:20.597Z"
   },
   {
    "duration": 156,
    "start_time": "2022-12-17T23:22:20.705Z"
   },
   {
    "duration": 216,
    "start_time": "2022-12-17T23:22:20.863Z"
   },
   {
    "duration": 263,
    "start_time": "2022-12-17T23:22:21.091Z"
   },
   {
    "duration": 95,
    "start_time": "2022-12-17T23:22:21.356Z"
   },
   {
    "duration": 184,
    "start_time": "2022-12-17T23:22:21.453Z"
   },
   {
    "duration": 116,
    "start_time": "2022-12-17T23:22:21.639Z"
   },
   {
    "duration": 165,
    "start_time": "2022-12-17T23:22:21.756Z"
   },
   {
    "duration": 104,
    "start_time": "2022-12-17T23:22:21.922Z"
   },
   {
    "duration": 6,
    "start_time": "2022-12-17T23:22:22.028Z"
   },
   {
    "duration": 164,
    "start_time": "2022-12-17T23:22:22.036Z"
   },
   {
    "duration": 141,
    "start_time": "2022-12-17T23:22:22.201Z"
   },
   {
    "duration": 99,
    "start_time": "2022-12-17T23:22:22.343Z"
   },
   {
    "duration": 149,
    "start_time": "2022-12-17T23:22:22.444Z"
   },
   {
    "duration": 111,
    "start_time": "2022-12-17T23:22:22.595Z"
   },
   {
    "duration": 131,
    "start_time": "2022-12-17T23:22:22.707Z"
   },
   {
    "duration": 102,
    "start_time": "2022-12-17T23:22:22.839Z"
   },
   {
    "duration": 179,
    "start_time": "2022-12-17T23:22:22.943Z"
   },
   {
    "duration": 109,
    "start_time": "2022-12-17T23:22:23.124Z"
   },
   {
    "duration": 271,
    "start_time": "2022-12-17T23:22:23.234Z"
   },
   {
    "duration": 161,
    "start_time": "2022-12-17T23:22:23.506Z"
   },
   {
    "duration": 163,
    "start_time": "2022-12-17T23:22:23.669Z"
   },
   {
    "duration": 9,
    "start_time": "2022-12-17T23:22:23.834Z"
   },
   {
    "duration": 201,
    "start_time": "2022-12-17T23:22:23.845Z"
   },
   {
    "duration": 204,
    "start_time": "2022-12-17T23:22:24.048Z"
   },
   {
    "duration": 158,
    "start_time": "2022-12-17T23:22:24.253Z"
   },
   {
    "duration": 176,
    "start_time": "2022-12-17T23:22:24.413Z"
   },
   {
    "duration": 175,
    "start_time": "2022-12-17T23:22:24.593Z"
   },
   {
    "duration": 166,
    "start_time": "2022-12-17T23:22:24.770Z"
   },
   {
    "duration": 152,
    "start_time": "2022-12-17T23:22:24.938Z"
   },
   {
    "duration": 146,
    "start_time": "2022-12-17T23:22:25.092Z"
   },
   {
    "duration": 178,
    "start_time": "2022-12-17T23:22:25.240Z"
   },
   {
    "duration": 185,
    "start_time": "2022-12-17T23:22:25.420Z"
   },
   {
    "duration": 202,
    "start_time": "2022-12-17T23:22:25.607Z"
   },
   {
    "duration": 166,
    "start_time": "2022-12-17T23:22:25.811Z"
   },
   {
    "duration": 159,
    "start_time": "2022-12-17T23:22:25.993Z"
   },
   {
    "duration": 4,
    "start_time": "2022-12-17T23:22:26.154Z"
   },
   {
    "duration": 390,
    "start_time": "2022-12-17T23:22:26.159Z"
   },
   {
    "duration": 45,
    "start_time": "2022-12-17T23:22:26.551Z"
   },
   {
    "duration": 33,
    "start_time": "2022-12-17T23:22:26.598Z"
   },
   {
    "duration": 25,
    "start_time": "2022-12-17T23:22:26.632Z"
   },
   {
    "duration": 862,
    "start_time": "2022-12-17T23:22:26.678Z"
   },
   {
    "duration": 101,
    "start_time": "2022-12-17T23:23:08.392Z"
   },
   {
    "duration": 22,
    "start_time": "2022-12-17T23:23:14.117Z"
   },
   {
    "duration": 5,
    "start_time": "2022-12-17T23:58:19.898Z"
   },
   {
    "duration": 16,
    "start_time": "2022-12-17T23:58:29.297Z"
   },
   {
    "duration": 4,
    "start_time": "2022-12-18T00:03:03.276Z"
   },
   {
    "duration": 15,
    "start_time": "2022-12-18T00:03:09.872Z"
   },
   {
    "duration": 38,
    "start_time": "2022-12-18T00:03:52.440Z"
   },
   {
    "duration": 797,
    "start_time": "2022-12-18T00:04:32.604Z"
   },
   {
    "duration": 16,
    "start_time": "2022-12-18T00:04:39.068Z"
   },
   {
    "duration": 14,
    "start_time": "2022-12-18T00:04:45.759Z"
   },
   {
    "duration": 5,
    "start_time": "2022-12-18T00:05:13.966Z"
   },
   {
    "duration": 15,
    "start_time": "2022-12-18T00:05:16.016Z"
   },
   {
    "duration": 4,
    "start_time": "2022-12-18T00:06:38.147Z"
   },
   {
    "duration": 13,
    "start_time": "2022-12-18T00:09:59.043Z"
   },
   {
    "duration": 10,
    "start_time": "2022-12-18T00:10:13.293Z"
   },
   {
    "duration": 13,
    "start_time": "2022-12-18T00:10:40.897Z"
   },
   {
    "duration": 3,
    "start_time": "2022-12-18T00:11:33.838Z"
   },
   {
    "duration": 15,
    "start_time": "2022-12-18T00:16:22.728Z"
   },
   {
    "duration": 7,
    "start_time": "2022-12-18T00:18:55.219Z"
   },
   {
    "duration": 15,
    "start_time": "2022-12-18T00:18:57.602Z"
   },
   {
    "duration": 9,
    "start_time": "2022-12-18T00:19:06.642Z"
   },
   {
    "duration": 283,
    "start_time": "2022-12-18T00:19:18.689Z"
   },
   {
    "duration": 5,
    "start_time": "2022-12-18T00:19:32.144Z"
   },
   {
    "duration": 16,
    "start_time": "2022-12-18T00:19:32.737Z"
   },
   {
    "duration": 9,
    "start_time": "2022-12-18T00:19:33.728Z"
   },
   {
    "duration": 308,
    "start_time": "2022-12-18T00:19:35.093Z"
   },
   {
    "duration": 730,
    "start_time": "2022-12-18T00:19:43.213Z"
   },
   {
    "duration": 13,
    "start_time": "2022-12-18T00:19:43.945Z"
   },
   {
    "duration": 6,
    "start_time": "2022-12-18T00:19:43.960Z"
   },
   {
    "duration": 80,
    "start_time": "2022-12-18T00:19:43.967Z"
   },
   {
    "duration": 1689,
    "start_time": "2022-12-18T00:19:44.048Z"
   },
   {
    "duration": 7,
    "start_time": "2022-12-18T00:19:45.739Z"
   },
   {
    "duration": 74,
    "start_time": "2022-12-18T00:19:45.747Z"
   },
   {
    "duration": 0,
    "start_time": "2022-12-18T00:19:45.824Z"
   },
   {
    "duration": 0,
    "start_time": "2022-12-18T00:19:45.825Z"
   },
   {
    "duration": 0,
    "start_time": "2022-12-18T00:19:45.826Z"
   },
   {
    "duration": 0,
    "start_time": "2022-12-18T00:19:45.827Z"
   },
   {
    "duration": 0,
    "start_time": "2022-12-18T00:19:45.828Z"
   },
   {
    "duration": 0,
    "start_time": "2022-12-18T00:19:45.829Z"
   },
   {
    "duration": 0,
    "start_time": "2022-12-18T00:19:45.830Z"
   },
   {
    "duration": 0,
    "start_time": "2022-12-18T00:19:45.831Z"
   },
   {
    "duration": 0,
    "start_time": "2022-12-18T00:19:45.832Z"
   },
   {
    "duration": 0,
    "start_time": "2022-12-18T00:19:45.832Z"
   },
   {
    "duration": 0,
    "start_time": "2022-12-18T00:19:45.833Z"
   },
   {
    "duration": 0,
    "start_time": "2022-12-18T00:19:45.834Z"
   },
   {
    "duration": 0,
    "start_time": "2022-12-18T00:19:45.835Z"
   },
   {
    "duration": 0,
    "start_time": "2022-12-18T00:19:45.836Z"
   },
   {
    "duration": 0,
    "start_time": "2022-12-18T00:19:45.837Z"
   },
   {
    "duration": 0,
    "start_time": "2022-12-18T00:19:45.838Z"
   },
   {
    "duration": 0,
    "start_time": "2022-12-18T00:19:45.838Z"
   },
   {
    "duration": 0,
    "start_time": "2022-12-18T00:19:45.839Z"
   },
   {
    "duration": 0,
    "start_time": "2022-12-18T00:19:45.840Z"
   },
   {
    "duration": 0,
    "start_time": "2022-12-18T00:19:45.841Z"
   },
   {
    "duration": 0,
    "start_time": "2022-12-18T00:19:45.842Z"
   },
   {
    "duration": 0,
    "start_time": "2022-12-18T00:19:45.843Z"
   },
   {
    "duration": 0,
    "start_time": "2022-12-18T00:19:45.844Z"
   },
   {
    "duration": 0,
    "start_time": "2022-12-18T00:19:45.845Z"
   },
   {
    "duration": 0,
    "start_time": "2022-12-18T00:19:45.846Z"
   },
   {
    "duration": 0,
    "start_time": "2022-12-18T00:19:45.847Z"
   },
   {
    "duration": 0,
    "start_time": "2022-12-18T00:19:45.848Z"
   },
   {
    "duration": 0,
    "start_time": "2022-12-18T00:19:45.849Z"
   },
   {
    "duration": 0,
    "start_time": "2022-12-18T00:19:45.850Z"
   },
   {
    "duration": 0,
    "start_time": "2022-12-18T00:19:45.851Z"
   },
   {
    "duration": 0,
    "start_time": "2022-12-18T00:19:45.852Z"
   },
   {
    "duration": 0,
    "start_time": "2022-12-18T00:19:45.896Z"
   },
   {
    "duration": 0,
    "start_time": "2022-12-18T00:19:45.898Z"
   },
   {
    "duration": 0,
    "start_time": "2022-12-18T00:19:45.899Z"
   },
   {
    "duration": 0,
    "start_time": "2022-12-18T00:19:45.900Z"
   },
   {
    "duration": 0,
    "start_time": "2022-12-18T00:19:45.901Z"
   },
   {
    "duration": 0,
    "start_time": "2022-12-18T00:19:45.902Z"
   },
   {
    "duration": 0,
    "start_time": "2022-12-18T00:19:45.904Z"
   },
   {
    "duration": 0,
    "start_time": "2022-12-18T00:19:45.905Z"
   },
   {
    "duration": 0,
    "start_time": "2022-12-18T00:19:45.907Z"
   },
   {
    "duration": 0,
    "start_time": "2022-12-18T00:19:45.908Z"
   },
   {
    "duration": 0,
    "start_time": "2022-12-18T00:19:45.910Z"
   },
   {
    "duration": 0,
    "start_time": "2022-12-18T00:19:45.911Z"
   },
   {
    "duration": 0,
    "start_time": "2022-12-18T00:19:45.912Z"
   },
   {
    "duration": 0,
    "start_time": "2022-12-18T00:19:45.917Z"
   },
   {
    "duration": 0,
    "start_time": "2022-12-18T00:19:45.919Z"
   },
   {
    "duration": 0,
    "start_time": "2022-12-18T00:19:45.920Z"
   },
   {
    "duration": 0,
    "start_time": "2022-12-18T00:19:45.921Z"
   },
   {
    "duration": 0,
    "start_time": "2022-12-18T00:19:45.922Z"
   },
   {
    "duration": 0,
    "start_time": "2022-12-18T00:19:45.924Z"
   },
   {
    "duration": 0,
    "start_time": "2022-12-18T00:19:45.925Z"
   },
   {
    "duration": 0,
    "start_time": "2022-12-18T00:19:45.926Z"
   },
   {
    "duration": 0,
    "start_time": "2022-12-18T00:19:45.928Z"
   },
   {
    "duration": 0,
    "start_time": "2022-12-18T00:19:45.929Z"
   },
   {
    "duration": 0,
    "start_time": "2022-12-18T00:19:45.931Z"
   },
   {
    "duration": 0,
    "start_time": "2022-12-18T00:19:45.932Z"
   },
   {
    "duration": 0,
    "start_time": "2022-12-18T00:19:45.933Z"
   },
   {
    "duration": 0,
    "start_time": "2022-12-18T00:19:45.934Z"
   },
   {
    "duration": 0,
    "start_time": "2022-12-18T00:19:45.936Z"
   },
   {
    "duration": 0,
    "start_time": "2022-12-18T00:19:45.996Z"
   },
   {
    "duration": 0,
    "start_time": "2022-12-18T00:19:45.998Z"
   },
   {
    "duration": 0,
    "start_time": "2022-12-18T00:19:46.000Z"
   },
   {
    "duration": 0,
    "start_time": "2022-12-18T00:19:46.001Z"
   },
   {
    "duration": 0,
    "start_time": "2022-12-18T00:19:46.002Z"
   },
   {
    "duration": 0,
    "start_time": "2022-12-18T00:19:46.004Z"
   },
   {
    "duration": 0,
    "start_time": "2022-12-18T00:19:46.005Z"
   },
   {
    "duration": 0,
    "start_time": "2022-12-18T00:19:46.006Z"
   },
   {
    "duration": 0,
    "start_time": "2022-12-18T00:19:46.008Z"
   },
   {
    "duration": 0,
    "start_time": "2022-12-18T00:19:46.009Z"
   },
   {
    "duration": 0,
    "start_time": "2022-12-18T00:19:46.010Z"
   },
   {
    "duration": 0,
    "start_time": "2022-12-18T00:19:46.011Z"
   },
   {
    "duration": 0,
    "start_time": "2022-12-18T00:19:46.013Z"
   },
   {
    "duration": 0,
    "start_time": "2022-12-18T00:19:46.015Z"
   },
   {
    "duration": 0,
    "start_time": "2022-12-18T00:19:46.016Z"
   },
   {
    "duration": 0,
    "start_time": "2022-12-18T00:19:46.019Z"
   },
   {
    "duration": 13,
    "start_time": "2022-12-18T00:20:17.506Z"
   },
   {
    "duration": 12,
    "start_time": "2022-12-18T00:20:48.476Z"
   },
   {
    "duration": 12,
    "start_time": "2022-12-18T00:20:51.636Z"
   },
   {
    "duration": 13,
    "start_time": "2022-12-18T00:20:56.726Z"
   },
   {
    "duration": 12,
    "start_time": "2022-12-18T00:21:02.241Z"
   },
   {
    "duration": 12,
    "start_time": "2022-12-18T00:21:59.893Z"
   },
   {
    "duration": 12,
    "start_time": "2022-12-18T00:22:01.895Z"
   },
   {
    "duration": 122,
    "start_time": "2022-12-18T00:22:09.372Z"
   },
   {
    "duration": 14,
    "start_time": "2022-12-18T00:22:09.933Z"
   },
   {
    "duration": 6,
    "start_time": "2022-12-18T00:22:10.463Z"
   },
   {
    "duration": 76,
    "start_time": "2022-12-18T00:22:11.396Z"
   },
   {
    "duration": 1818,
    "start_time": "2022-12-18T00:22:12.892Z"
   },
   {
    "duration": 8,
    "start_time": "2022-12-18T00:22:15.705Z"
   },
   {
    "duration": 14,
    "start_time": "2022-12-18T00:22:17.194Z"
   },
   {
    "duration": 11,
    "start_time": "2022-12-18T00:22:20.889Z"
   },
   {
    "duration": 14,
    "start_time": "2022-12-18T00:22:21.340Z"
   },
   {
    "duration": 10,
    "start_time": "2022-12-18T00:22:22.556Z"
   },
   {
    "duration": 240,
    "start_time": "2022-12-18T00:22:23.262Z"
   },
   {
    "duration": 7,
    "start_time": "2022-12-18T00:22:24.748Z"
   },
   {
    "duration": 12,
    "start_time": "2022-12-18T00:22:37.772Z"
   },
   {
    "duration": 13,
    "start_time": "2022-12-18T00:23:06.740Z"
   },
   {
    "duration": 7,
    "start_time": "2022-12-18T00:23:19.956Z"
   },
   {
    "duration": 8,
    "start_time": "2022-12-18T00:23:23.149Z"
   },
   {
    "duration": 13,
    "start_time": "2022-12-18T00:23:27.911Z"
   },
   {
    "duration": 12,
    "start_time": "2022-12-18T00:23:44.400Z"
   },
   {
    "duration": 6,
    "start_time": "2022-12-18T00:24:01.322Z"
   },
   {
    "duration": 6,
    "start_time": "2022-12-18T00:24:01.610Z"
   },
   {
    "duration": 6,
    "start_time": "2022-12-18T00:24:02.361Z"
   },
   {
    "duration": 4,
    "start_time": "2022-12-18T00:24:02.625Z"
   },
   {
    "duration": 10,
    "start_time": "2022-12-18T00:24:03.517Z"
   },
   {
    "duration": 48,
    "start_time": "2022-12-18T00:24:04.126Z"
   },
   {
    "duration": 5,
    "start_time": "2022-12-18T00:24:05.013Z"
   },
   {
    "duration": 10,
    "start_time": "2022-12-18T00:24:05.642Z"
   },
   {
    "duration": 11,
    "start_time": "2022-12-18T00:24:05.935Z"
   },
   {
    "duration": 5,
    "start_time": "2022-12-18T00:24:06.212Z"
   },
   {
    "duration": 8,
    "start_time": "2022-12-18T00:24:06.505Z"
   },
   {
    "duration": 23,
    "start_time": "2022-12-18T00:24:07.406Z"
   },
   {
    "duration": 7,
    "start_time": "2022-12-18T00:24:08.332Z"
   },
   {
    "duration": 243,
    "start_time": "2022-12-18T00:24:08.634Z"
   },
   {
    "duration": 10,
    "start_time": "2022-12-18T00:24:09.593Z"
   },
   {
    "duration": 383,
    "start_time": "2022-12-18T00:24:09.915Z"
   },
   {
    "duration": 6,
    "start_time": "2022-12-18T00:24:10.301Z"
   },
   {
    "duration": 5,
    "start_time": "2022-12-18T00:24:10.842Z"
   },
   {
    "duration": 3,
    "start_time": "2022-12-18T00:24:11.719Z"
   },
   {
    "duration": 15,
    "start_time": "2022-12-18T00:24:12.797Z"
   },
   {
    "duration": 28,
    "start_time": "2022-12-18T00:24:14.408Z"
   },
   {
    "duration": 37,
    "start_time": "2022-12-18T00:24:14.992Z"
   },
   {
    "duration": 37,
    "start_time": "2022-12-18T00:24:15.860Z"
   },
   {
    "duration": 7,
    "start_time": "2022-12-18T00:24:16.193Z"
   },
   {
    "duration": 27,
    "start_time": "2022-12-18T00:24:16.813Z"
   },
   {
    "duration": 736,
    "start_time": "2022-12-18T00:24:18.093Z"
   },
   {
    "duration": 116,
    "start_time": "2022-12-18T00:24:18.831Z"
   },
   {
    "duration": 169,
    "start_time": "2022-12-18T00:24:18.949Z"
   },
   {
    "duration": 96,
    "start_time": "2022-12-18T00:24:19.258Z"
   },
   {
    "duration": 162,
    "start_time": "2022-12-18T00:24:19.562Z"
   },
   {
    "duration": 125,
    "start_time": "2022-12-18T00:24:19.896Z"
   },
   {
    "duration": 168,
    "start_time": "2022-12-18T00:24:20.248Z"
   },
   {
    "duration": 95,
    "start_time": "2022-12-18T00:24:20.592Z"
   },
   {
    "duration": 260,
    "start_time": "2022-12-18T00:24:20.877Z"
   },
   {
    "duration": 91,
    "start_time": "2022-12-18T00:24:21.206Z"
   },
   {
    "duration": 163,
    "start_time": "2022-12-18T00:24:21.504Z"
   },
   {
    "duration": 102,
    "start_time": "2022-12-18T00:24:21.845Z"
   },
   {
    "duration": 300,
    "start_time": "2022-12-18T00:24:22.166Z"
   },
   {
    "duration": 104,
    "start_time": "2022-12-18T00:24:22.554Z"
   },
   {
    "duration": 7,
    "start_time": "2022-12-18T00:24:22.844Z"
   },
   {
    "duration": 133,
    "start_time": "2022-12-18T00:24:23.218Z"
   },
   {
    "duration": 131,
    "start_time": "2022-12-18T00:24:23.999Z"
   },
   {
    "duration": 95,
    "start_time": "2022-12-18T00:24:24.364Z"
   },
   {
    "duration": 154,
    "start_time": "2022-12-18T00:24:24.806Z"
   },
   {
    "duration": 105,
    "start_time": "2022-12-18T00:24:25.222Z"
   },
   {
    "duration": 130,
    "start_time": "2022-12-18T00:24:25.655Z"
   },
   {
    "duration": 95,
    "start_time": "2022-12-18T00:24:26.086Z"
   },
   {
    "duration": 155,
    "start_time": "2022-12-18T00:24:26.517Z"
   },
   {
    "duration": 96,
    "start_time": "2022-12-18T00:24:26.938Z"
   },
   {
    "duration": 135,
    "start_time": "2022-12-18T00:24:27.354Z"
   },
   {
    "duration": 154,
    "start_time": "2022-12-18T00:24:27.796Z"
   },
   {
    "duration": 149,
    "start_time": "2022-12-18T00:24:28.647Z"
   },
   {
    "duration": 11,
    "start_time": "2022-12-18T00:24:29.151Z"
   },
   {
    "duration": 172,
    "start_time": "2022-12-18T00:24:31.354Z"
   },
   {
    "duration": 187,
    "start_time": "2022-12-18T00:24:32.243Z"
   },
   {
    "duration": 160,
    "start_time": "2022-12-18T00:24:33.770Z"
   },
   {
    "duration": 175,
    "start_time": "2022-12-18T00:24:34.133Z"
   },
   {
    "duration": 183,
    "start_time": "2022-12-18T00:24:34.962Z"
   },
   {
    "duration": 175,
    "start_time": "2022-12-18T00:24:35.444Z"
   },
   {
    "duration": 148,
    "start_time": "2022-12-18T00:24:35.999Z"
   },
   {
    "duration": 148,
    "start_time": "2022-12-18T00:24:37.110Z"
   },
   {
    "duration": 168,
    "start_time": "2022-12-18T00:24:37.676Z"
   },
   {
    "duration": 355,
    "start_time": "2022-12-18T00:24:38.192Z"
   },
   {
    "duration": 160,
    "start_time": "2022-12-18T00:24:38.667Z"
   },
   {
    "duration": 151,
    "start_time": "2022-12-18T00:24:39.210Z"
   },
   {
    "duration": 170,
    "start_time": "2022-12-18T00:24:40.322Z"
   },
   {
    "duration": 4,
    "start_time": "2022-12-18T00:24:40.814Z"
   },
   {
    "duration": 406,
    "start_time": "2022-12-18T00:24:41.342Z"
   },
   {
    "duration": 36,
    "start_time": "2022-12-18T00:24:43.867Z"
   },
   {
    "duration": 35,
    "start_time": "2022-12-18T00:24:44.850Z"
   },
   {
    "duration": 27,
    "start_time": "2022-12-18T00:24:45.375Z"
   },
   {
    "duration": 791,
    "start_time": "2022-12-18T00:24:46.947Z"
   },
   {
    "duration": 5,
    "start_time": "2022-12-18T00:25:28.805Z"
   },
   {
    "duration": 4,
    "start_time": "2022-12-18T00:25:34.519Z"
   },
   {
    "duration": 5,
    "start_time": "2022-12-18T00:25:52.492Z"
   },
   {
    "duration": 4,
    "start_time": "2022-12-18T00:26:00.996Z"
   },
   {
    "duration": 42,
    "start_time": "2022-12-18T00:26:13.753Z"
   },
   {
    "duration": 15,
    "start_time": "2022-12-18T00:26:20.201Z"
   },
   {
    "duration": 47,
    "start_time": "2022-12-18T00:29:29.453Z"
   },
   {
    "duration": 15,
    "start_time": "2022-12-18T00:29:35.398Z"
   },
   {
    "duration": 9,
    "start_time": "2022-12-18T00:29:49.104Z"
   },
   {
    "duration": 14,
    "start_time": "2022-12-18T00:29:59.703Z"
   },
   {
    "duration": 16,
    "start_time": "2022-12-18T00:30:04.547Z"
   },
   {
    "duration": 15,
    "start_time": "2022-12-18T00:33:42.023Z"
   },
   {
    "duration": 10,
    "start_time": "2022-12-18T00:33:45.150Z"
   },
   {
    "duration": 42,
    "start_time": "2022-12-18T00:36:31.656Z"
   },
   {
    "duration": 651,
    "start_time": "2022-12-18T00:36:43.133Z"
   },
   {
    "duration": 966,
    "start_time": "2022-12-18T00:36:51.605Z"
   },
   {
    "duration": 25,
    "start_time": "2022-12-18T00:37:16.824Z"
   },
   {
    "duration": 253,
    "start_time": "2022-12-18T00:37:22.445Z"
   },
   {
    "duration": 48,
    "start_time": "2022-12-18T00:39:14.705Z"
   },
   {
    "duration": 8,
    "start_time": "2022-12-18T00:39:18.022Z"
   },
   {
    "duration": 544,
    "start_time": "2022-12-18T00:39:57.262Z"
   },
   {
    "duration": 13,
    "start_time": "2022-12-18T00:40:34.292Z"
   },
   {
    "duration": 23,
    "start_time": "2022-12-18T00:42:55.248Z"
   },
   {
    "duration": 32,
    "start_time": "2022-12-18T00:42:59.042Z"
   },
   {
    "duration": 18,
    "start_time": "2022-12-18T00:43:08.633Z"
   },
   {
    "duration": 16,
    "start_time": "2022-12-18T00:43:28.949Z"
   },
   {
    "duration": 774,
    "start_time": "2022-12-18T00:44:32.764Z"
   },
   {
    "duration": 13,
    "start_time": "2022-12-18T00:44:51.766Z"
   },
   {
    "duration": 15,
    "start_time": "2022-12-18T00:45:02.627Z"
   },
   {
    "duration": 15,
    "start_time": "2022-12-18T00:45:06.094Z"
   },
   {
    "duration": 11,
    "start_time": "2022-12-18T00:47:12.176Z"
   },
   {
    "duration": 9,
    "start_time": "2022-12-18T00:47:20.529Z"
   },
   {
    "duration": 12,
    "start_time": "2022-12-18T00:47:32.369Z"
   },
   {
    "duration": 238,
    "start_time": "2022-12-18T00:47:39.346Z"
   },
   {
    "duration": 18,
    "start_time": "2022-12-18T00:50:06.546Z"
   },
   {
    "duration": 45,
    "start_time": "2022-12-18T00:50:33.220Z"
   },
   {
    "duration": 16,
    "start_time": "2022-12-18T00:50:41.347Z"
   },
   {
    "duration": 16,
    "start_time": "2022-12-18T00:51:09.957Z"
   },
   {
    "duration": 19,
    "start_time": "2022-12-18T00:51:39.394Z"
   },
   {
    "duration": 13,
    "start_time": "2022-12-18T00:51:54.676Z"
   },
   {
    "duration": 14,
    "start_time": "2022-12-18T00:52:47.987Z"
   },
   {
    "duration": 10,
    "start_time": "2022-12-18T00:53:31.556Z"
   },
   {
    "duration": 47,
    "start_time": "2022-12-18T00:53:35.342Z"
   },
   {
    "duration": 8,
    "start_time": "2022-12-18T00:53:38.457Z"
   },
   {
    "duration": 9,
    "start_time": "2022-12-18T00:53:41.600Z"
   },
   {
    "duration": 704,
    "start_time": "2022-12-18T00:56:35.156Z"
   },
   {
    "duration": 812,
    "start_time": "2022-12-18T01:00:49.178Z"
   },
   {
    "duration": 871,
    "start_time": "2022-12-18T01:01:07.606Z"
   },
   {
    "duration": 769,
    "start_time": "2022-12-18T01:01:21.707Z"
   },
   {
    "duration": 96,
    "start_time": "2022-12-18T01:01:33.241Z"
   },
   {
    "duration": 27,
    "start_time": "2022-12-18T01:01:53.367Z"
   },
   {
    "duration": 25,
    "start_time": "2022-12-18T01:02:16.344Z"
   },
   {
    "duration": 1214,
    "start_time": "2022-12-18T09:40:05.824Z"
   },
   {
    "duration": 16,
    "start_time": "2022-12-18T09:40:07.040Z"
   },
   {
    "duration": 7,
    "start_time": "2022-12-18T09:40:07.058Z"
   },
   {
    "duration": 89,
    "start_time": "2022-12-18T09:40:07.067Z"
   },
   {
    "duration": 1904,
    "start_time": "2022-12-18T09:40:07.158Z"
   },
   {
    "duration": 10,
    "start_time": "2022-12-18T09:40:09.064Z"
   },
   {
    "duration": 100,
    "start_time": "2022-12-18T09:40:09.076Z"
   },
   {
    "duration": 0,
    "start_time": "2022-12-18T09:40:09.181Z"
   },
   {
    "duration": 0,
    "start_time": "2022-12-18T09:40:09.183Z"
   },
   {
    "duration": 0,
    "start_time": "2022-12-18T09:40:09.185Z"
   },
   {
    "duration": 0,
    "start_time": "2022-12-18T09:40:09.186Z"
   },
   {
    "duration": 0,
    "start_time": "2022-12-18T09:40:09.188Z"
   },
   {
    "duration": 0,
    "start_time": "2022-12-18T09:40:09.189Z"
   },
   {
    "duration": 0,
    "start_time": "2022-12-18T09:40:09.190Z"
   },
   {
    "duration": 0,
    "start_time": "2022-12-18T09:40:09.192Z"
   },
   {
    "duration": 0,
    "start_time": "2022-12-18T09:40:09.194Z"
   },
   {
    "duration": 0,
    "start_time": "2022-12-18T09:40:09.196Z"
   },
   {
    "duration": 0,
    "start_time": "2022-12-18T09:40:09.198Z"
   },
   {
    "duration": 0,
    "start_time": "2022-12-18T09:40:09.199Z"
   },
   {
    "duration": 0,
    "start_time": "2022-12-18T09:40:09.201Z"
   },
   {
    "duration": 0,
    "start_time": "2022-12-18T09:40:09.202Z"
   },
   {
    "duration": 0,
    "start_time": "2022-12-18T09:40:09.203Z"
   },
   {
    "duration": 0,
    "start_time": "2022-12-18T09:40:09.205Z"
   },
   {
    "duration": 0,
    "start_time": "2022-12-18T09:40:09.206Z"
   },
   {
    "duration": 0,
    "start_time": "2022-12-18T09:40:09.208Z"
   },
   {
    "duration": 0,
    "start_time": "2022-12-18T09:40:09.255Z"
   },
   {
    "duration": 0,
    "start_time": "2022-12-18T09:40:09.256Z"
   },
   {
    "duration": 0,
    "start_time": "2022-12-18T09:40:09.257Z"
   },
   {
    "duration": 0,
    "start_time": "2022-12-18T09:40:09.259Z"
   },
   {
    "duration": 0,
    "start_time": "2022-12-18T09:40:09.260Z"
   },
   {
    "duration": 0,
    "start_time": "2022-12-18T09:40:09.261Z"
   },
   {
    "duration": 0,
    "start_time": "2022-12-18T09:40:09.262Z"
   },
   {
    "duration": 0,
    "start_time": "2022-12-18T09:40:09.263Z"
   },
   {
    "duration": 0,
    "start_time": "2022-12-18T09:40:09.265Z"
   },
   {
    "duration": 0,
    "start_time": "2022-12-18T09:40:09.267Z"
   },
   {
    "duration": 0,
    "start_time": "2022-12-18T09:40:09.268Z"
   },
   {
    "duration": 0,
    "start_time": "2022-12-18T09:40:09.269Z"
   },
   {
    "duration": 0,
    "start_time": "2022-12-18T09:40:09.270Z"
   },
   {
    "duration": 0,
    "start_time": "2022-12-18T09:40:09.272Z"
   },
   {
    "duration": 0,
    "start_time": "2022-12-18T09:40:09.273Z"
   },
   {
    "duration": 0,
    "start_time": "2022-12-18T09:40:09.274Z"
   },
   {
    "duration": 0,
    "start_time": "2022-12-18T09:40:09.275Z"
   },
   {
    "duration": 0,
    "start_time": "2022-12-18T09:40:09.276Z"
   },
   {
    "duration": 0,
    "start_time": "2022-12-18T09:40:09.278Z"
   },
   {
    "duration": 0,
    "start_time": "2022-12-18T09:40:09.278Z"
   },
   {
    "duration": 0,
    "start_time": "2022-12-18T09:40:09.280Z"
   },
   {
    "duration": 0,
    "start_time": "2022-12-18T09:40:09.281Z"
   },
   {
    "duration": 0,
    "start_time": "2022-12-18T09:40:09.282Z"
   },
   {
    "duration": 0,
    "start_time": "2022-12-18T09:40:09.283Z"
   },
   {
    "duration": 0,
    "start_time": "2022-12-18T09:40:09.284Z"
   },
   {
    "duration": 0,
    "start_time": "2022-12-18T09:40:09.285Z"
   },
   {
    "duration": 0,
    "start_time": "2022-12-18T09:40:09.286Z"
   },
   {
    "duration": 0,
    "start_time": "2022-12-18T09:40:09.287Z"
   },
   {
    "duration": 0,
    "start_time": "2022-12-18T09:40:09.289Z"
   },
   {
    "duration": 0,
    "start_time": "2022-12-18T09:40:09.290Z"
   },
   {
    "duration": 0,
    "start_time": "2022-12-18T09:40:09.291Z"
   },
   {
    "duration": 0,
    "start_time": "2022-12-18T09:40:09.293Z"
   },
   {
    "duration": 0,
    "start_time": "2022-12-18T09:40:09.355Z"
   },
   {
    "duration": 0,
    "start_time": "2022-12-18T09:40:09.357Z"
   },
   {
    "duration": 0,
    "start_time": "2022-12-18T09:40:09.358Z"
   },
   {
    "duration": 0,
    "start_time": "2022-12-18T09:40:09.359Z"
   },
   {
    "duration": 0,
    "start_time": "2022-12-18T09:40:09.361Z"
   },
   {
    "duration": 0,
    "start_time": "2022-12-18T09:40:09.362Z"
   },
   {
    "duration": 0,
    "start_time": "2022-12-18T09:40:09.363Z"
   },
   {
    "duration": 0,
    "start_time": "2022-12-18T09:40:09.364Z"
   },
   {
    "duration": 0,
    "start_time": "2022-12-18T09:40:09.365Z"
   },
   {
    "duration": 1,
    "start_time": "2022-12-18T09:40:09.366Z"
   },
   {
    "duration": 0,
    "start_time": "2022-12-18T09:40:09.368Z"
   },
   {
    "duration": 0,
    "start_time": "2022-12-18T09:40:09.368Z"
   },
   {
    "duration": 0,
    "start_time": "2022-12-18T09:40:09.370Z"
   },
   {
    "duration": 0,
    "start_time": "2022-12-18T09:40:09.371Z"
   },
   {
    "duration": 0,
    "start_time": "2022-12-18T09:40:09.372Z"
   },
   {
    "duration": 0,
    "start_time": "2022-12-18T09:40:09.373Z"
   },
   {
    "duration": 0,
    "start_time": "2022-12-18T09:40:09.374Z"
   },
   {
    "duration": 0,
    "start_time": "2022-12-18T09:40:09.375Z"
   },
   {
    "duration": 0,
    "start_time": "2022-12-18T09:40:09.377Z"
   },
   {
    "duration": 0,
    "start_time": "2022-12-18T09:40:09.378Z"
   },
   {
    "duration": 0,
    "start_time": "2022-12-18T09:40:09.379Z"
   },
   {
    "duration": 0,
    "start_time": "2022-12-18T09:40:09.380Z"
   },
   {
    "duration": 0,
    "start_time": "2022-12-18T09:40:09.381Z"
   },
   {
    "duration": 0,
    "start_time": "2022-12-18T09:40:09.382Z"
   },
   {
    "duration": 0,
    "start_time": "2022-12-18T09:40:09.383Z"
   },
   {
    "duration": 0,
    "start_time": "2022-12-18T09:40:09.384Z"
   },
   {
    "duration": 0,
    "start_time": "2022-12-18T09:40:09.385Z"
   },
   {
    "duration": 0,
    "start_time": "2022-12-18T09:40:09.386Z"
   },
   {
    "duration": 0,
    "start_time": "2022-12-18T09:40:09.387Z"
   },
   {
    "duration": 0,
    "start_time": "2022-12-18T09:40:09.389Z"
   },
   {
    "duration": 0,
    "start_time": "2022-12-18T09:40:09.389Z"
   },
   {
    "duration": 0,
    "start_time": "2022-12-18T09:40:09.390Z"
   },
   {
    "duration": 0,
    "start_time": "2022-12-18T09:40:09.455Z"
   },
   {
    "duration": 0,
    "start_time": "2022-12-18T09:40:09.456Z"
   },
   {
    "duration": 0,
    "start_time": "2022-12-18T09:40:09.458Z"
   },
   {
    "duration": 0,
    "start_time": "2022-12-18T09:40:09.459Z"
   },
   {
    "duration": 0,
    "start_time": "2022-12-18T09:40:09.460Z"
   },
   {
    "duration": 0,
    "start_time": "2022-12-18T09:40:09.462Z"
   },
   {
    "duration": 0,
    "start_time": "2022-12-18T09:40:09.463Z"
   },
   {
    "duration": 13,
    "start_time": "2022-12-18T09:40:34.795Z"
   },
   {
    "duration": 5,
    "start_time": "2022-12-18T09:40:39.535Z"
   },
   {
    "duration": 6,
    "start_time": "2022-12-18T09:42:52.341Z"
   },
   {
    "duration": 22,
    "start_time": "2022-12-18T09:42:54.738Z"
   },
   {
    "duration": 6,
    "start_time": "2022-12-18T09:43:50.341Z"
   },
   {
    "duration": 6,
    "start_time": "2022-12-18T09:43:51.844Z"
   },
   {
    "duration": 3,
    "start_time": "2022-12-18T09:44:20.277Z"
   },
   {
    "duration": 6,
    "start_time": "2022-12-18T09:44:22.797Z"
   },
   {
    "duration": 5,
    "start_time": "2022-12-18T09:44:23.872Z"
   },
   {
    "duration": 6,
    "start_time": "2022-12-18T09:44:24.974Z"
   },
   {
    "duration": 5,
    "start_time": "2022-12-18T09:44:25.748Z"
   },
   {
    "duration": 21,
    "start_time": "2022-12-18T09:44:26.549Z"
   },
   {
    "duration": 4,
    "start_time": "2022-12-18T09:44:40.941Z"
   },
   {
    "duration": 5,
    "start_time": "2022-12-18T09:44:42.284Z"
   },
   {
    "duration": 24,
    "start_time": "2022-12-18T09:44:44.541Z"
   },
   {
    "duration": 4,
    "start_time": "2022-12-18T09:45:04.045Z"
   },
   {
    "duration": 7,
    "start_time": "2022-12-18T09:45:05.588Z"
   },
   {
    "duration": 18,
    "start_time": "2022-12-18T09:45:07.762Z"
   },
   {
    "duration": 7,
    "start_time": "2022-12-18T09:45:23.256Z"
   },
   {
    "duration": 5,
    "start_time": "2022-12-18T09:45:24.284Z"
   },
   {
    "duration": 5,
    "start_time": "2022-12-18T09:45:27.389Z"
   },
   {
    "duration": 12,
    "start_time": "2022-12-18T09:45:28.909Z"
   },
   {
    "duration": 4,
    "start_time": "2022-12-18T09:45:52.573Z"
   },
   {
    "duration": 6,
    "start_time": "2022-12-18T09:45:53.805Z"
   },
   {
    "duration": 15,
    "start_time": "2022-12-18T09:45:56.034Z"
   },
   {
    "duration": 4,
    "start_time": "2022-12-18T09:46:09.949Z"
   },
   {
    "duration": 4,
    "start_time": "2022-12-18T09:46:10.885Z"
   },
   {
    "duration": 13,
    "start_time": "2022-12-18T09:46:12.580Z"
   },
   {
    "duration": 3,
    "start_time": "2022-12-18T09:46:28.749Z"
   },
   {
    "duration": 4,
    "start_time": "2022-12-18T09:46:30.398Z"
   },
   {
    "duration": 14,
    "start_time": "2022-12-18T09:46:32.562Z"
   },
   {
    "duration": 3,
    "start_time": "2022-12-18T09:46:52.576Z"
   },
   {
    "duration": 5,
    "start_time": "2022-12-18T09:46:54.142Z"
   },
   {
    "duration": 16,
    "start_time": "2022-12-18T09:47:04.993Z"
   },
   {
    "duration": 5,
    "start_time": "2022-12-18T09:47:25.518Z"
   },
   {
    "duration": 5,
    "start_time": "2022-12-18T09:47:26.486Z"
   },
   {
    "duration": 32,
    "start_time": "2022-12-18T09:47:28.951Z"
   },
   {
    "duration": 6,
    "start_time": "2022-12-18T09:47:46.637Z"
   },
   {
    "duration": 6,
    "start_time": "2022-12-18T09:47:47.951Z"
   },
   {
    "duration": 885,
    "start_time": "2022-12-18T09:47:54.576Z"
   },
   {
    "duration": 21,
    "start_time": "2022-12-18T09:47:55.462Z"
   },
   {
    "duration": 34,
    "start_time": "2022-12-18T09:47:55.485Z"
   },
   {
    "duration": 87,
    "start_time": "2022-12-18T09:47:55.522Z"
   },
   {
    "duration": 2163,
    "start_time": "2022-12-18T09:47:55.612Z"
   },
   {
    "duration": 8,
    "start_time": "2022-12-18T09:47:57.777Z"
   },
   {
    "duration": 7,
    "start_time": "2022-12-18T09:47:57.788Z"
   },
   {
    "duration": 7,
    "start_time": "2022-12-18T09:47:57.797Z"
   },
   {
    "duration": 9,
    "start_time": "2022-12-18T09:47:57.806Z"
   },
   {
    "duration": 8,
    "start_time": "2022-12-18T09:47:57.818Z"
   },
   {
    "duration": 5,
    "start_time": "2022-12-18T09:47:57.827Z"
   },
   {
    "duration": 8,
    "start_time": "2022-12-18T09:47:57.834Z"
   },
   {
    "duration": 17,
    "start_time": "2022-12-18T09:47:57.845Z"
   },
   {
    "duration": 23,
    "start_time": "2022-12-18T09:47:57.865Z"
   },
   {
    "duration": 5,
    "start_time": "2022-12-18T09:47:57.890Z"
   },
   {
    "duration": 7,
    "start_time": "2022-12-18T09:47:57.897Z"
   },
   {
    "duration": 7,
    "start_time": "2022-12-18T09:47:57.906Z"
   },
   {
    "duration": 5,
    "start_time": "2022-12-18T09:47:57.916Z"
   },
   {
    "duration": 13,
    "start_time": "2022-12-18T09:47:57.922Z"
   },
   {
    "duration": 21,
    "start_time": "2022-12-18T09:47:57.939Z"
   },
   {
    "duration": 9,
    "start_time": "2022-12-18T09:47:57.963Z"
   },
   {
    "duration": 13,
    "start_time": "2022-12-18T09:47:57.976Z"
   },
   {
    "duration": 5,
    "start_time": "2022-12-18T09:47:57.992Z"
   },
   {
    "duration": 8,
    "start_time": "2022-12-18T09:47:57.999Z"
   },
   {
    "duration": 7,
    "start_time": "2022-12-18T09:47:58.009Z"
   },
   {
    "duration": 9,
    "start_time": "2022-12-18T09:47:58.018Z"
   },
   {
    "duration": 7,
    "start_time": "2022-12-18T09:47:58.029Z"
   },
   {
    "duration": 21,
    "start_time": "2022-12-18T09:47:58.040Z"
   },
   {
    "duration": 18,
    "start_time": "2022-12-18T09:47:58.069Z"
   },
   {
    "duration": 4,
    "start_time": "2022-12-18T09:47:58.089Z"
   },
   {
    "duration": 8,
    "start_time": "2022-12-18T09:47:58.095Z"
   },
   {
    "duration": 11,
    "start_time": "2022-12-18T09:47:58.105Z"
   },
   {
    "duration": 30,
    "start_time": "2022-12-18T09:47:58.119Z"
   },
   {
    "duration": 25,
    "start_time": "2022-12-18T09:47:58.160Z"
   },
   {
    "duration": 335,
    "start_time": "2022-12-18T09:47:58.187Z"
   },
   {
    "duration": 8,
    "start_time": "2022-12-18T09:47:58.523Z"
   },
   {
    "duration": 8,
    "start_time": "2022-12-18T09:47:58.533Z"
   },
   {
    "duration": 30,
    "start_time": "2022-12-18T09:47:58.555Z"
   },
   {
    "duration": 7,
    "start_time": "2022-12-18T09:47:58.587Z"
   },
   {
    "duration": 12,
    "start_time": "2022-12-18T09:47:58.596Z"
   },
   {
    "duration": 62,
    "start_time": "2022-12-18T09:47:58.611Z"
   },
   {
    "duration": 6,
    "start_time": "2022-12-18T09:47:58.681Z"
   },
   {
    "duration": 18,
    "start_time": "2022-12-18T09:47:58.690Z"
   },
   {
    "duration": 13,
    "start_time": "2022-12-18T09:47:58.711Z"
   },
   {
    "duration": 5,
    "start_time": "2022-12-18T09:47:58.726Z"
   },
   {
    "duration": 37,
    "start_time": "2022-12-18T09:47:58.734Z"
   },
   {
    "duration": 27,
    "start_time": "2022-12-18T09:47:58.778Z"
   },
   {
    "duration": 8,
    "start_time": "2022-12-18T09:47:58.806Z"
   },
   {
    "duration": 309,
    "start_time": "2022-12-18T09:47:58.816Z"
   },
   {
    "duration": 11,
    "start_time": "2022-12-18T09:47:59.126Z"
   },
   {
    "duration": 453,
    "start_time": "2022-12-18T09:47:59.139Z"
   },
   {
    "duration": 8,
    "start_time": "2022-12-18T09:47:59.594Z"
   },
   {
    "duration": 13,
    "start_time": "2022-12-18T09:47:59.604Z"
   },
   {
    "duration": 14,
    "start_time": "2022-12-18T09:47:59.619Z"
   },
   {
    "duration": 63,
    "start_time": "2022-12-18T09:47:59.637Z"
   },
   {
    "duration": 25,
    "start_time": "2022-12-18T09:47:59.703Z"
   },
   {
    "duration": 36,
    "start_time": "2022-12-18T09:47:59.730Z"
   },
   {
    "duration": 32,
    "start_time": "2022-12-18T09:47:59.769Z"
   },
   {
    "duration": 11,
    "start_time": "2022-12-18T09:47:59.804Z"
   },
   {
    "duration": 42,
    "start_time": "2022-12-18T09:47:59.817Z"
   },
   {
    "duration": 834,
    "start_time": "2022-12-18T09:47:59.861Z"
   },
   {
    "duration": 137,
    "start_time": "2022-12-18T09:48:00.699Z"
   },
   {
    "duration": 233,
    "start_time": "2022-12-18T09:48:00.839Z"
   },
   {
    "duration": 108,
    "start_time": "2022-12-18T09:48:01.076Z"
   },
   {
    "duration": 233,
    "start_time": "2022-12-18T09:48:01.187Z"
   },
   {
    "duration": 132,
    "start_time": "2022-12-18T09:48:01.423Z"
   },
   {
    "duration": 274,
    "start_time": "2022-12-18T09:48:01.561Z"
   },
   {
    "duration": 107,
    "start_time": "2022-12-18T09:48:01.837Z"
   },
   {
    "duration": 282,
    "start_time": "2022-12-18T09:48:01.955Z"
   },
   {
    "duration": 121,
    "start_time": "2022-12-18T09:48:02.239Z"
   },
   {
    "duration": 168,
    "start_time": "2022-12-18T09:48:02.370Z"
   },
   {
    "duration": 150,
    "start_time": "2022-12-18T09:48:02.540Z"
   },
   {
    "duration": 245,
    "start_time": "2022-12-18T09:48:02.693Z"
   },
   {
    "duration": 135,
    "start_time": "2022-12-18T09:48:02.941Z"
   },
   {
    "duration": 12,
    "start_time": "2022-12-18T09:48:03.078Z"
   },
   {
    "duration": 173,
    "start_time": "2022-12-18T09:48:03.092Z"
   },
   {
    "duration": 160,
    "start_time": "2022-12-18T09:48:03.273Z"
   },
   {
    "duration": 122,
    "start_time": "2022-12-18T09:48:03.435Z"
   },
   {
    "duration": 173,
    "start_time": "2022-12-18T09:48:03.558Z"
   },
   {
    "duration": 150,
    "start_time": "2022-12-18T09:48:03.735Z"
   },
   {
    "duration": 189,
    "start_time": "2022-12-18T09:48:03.888Z"
   },
   {
    "duration": 113,
    "start_time": "2022-12-18T09:48:04.083Z"
   },
   {
    "duration": 479,
    "start_time": "2022-12-18T09:48:04.198Z"
   },
   {
    "duration": 182,
    "start_time": "2022-12-18T09:48:04.679Z"
   },
   {
    "duration": 178,
    "start_time": "2022-12-18T09:48:04.865Z"
   },
   {
    "duration": 175,
    "start_time": "2022-12-18T09:48:05.045Z"
   },
   {
    "duration": 198,
    "start_time": "2022-12-18T09:48:05.222Z"
   },
   {
    "duration": 12,
    "start_time": "2022-12-18T09:48:05.423Z"
   },
   {
    "duration": 196,
    "start_time": "2022-12-18T09:48:05.437Z"
   },
   {
    "duration": 235,
    "start_time": "2022-12-18T09:48:05.635Z"
   },
   {
    "duration": 177,
    "start_time": "2022-12-18T09:48:05.878Z"
   },
   {
    "duration": 194,
    "start_time": "2022-12-18T09:48:06.056Z"
   },
   {
    "duration": 210,
    "start_time": "2022-12-18T09:48:06.258Z"
   },
   {
    "duration": 193,
    "start_time": "2022-12-18T09:48:06.470Z"
   },
   {
    "duration": 181,
    "start_time": "2022-12-18T09:48:06.665Z"
   },
   {
    "duration": 216,
    "start_time": "2022-12-18T09:48:06.848Z"
   },
   {
    "duration": 218,
    "start_time": "2022-12-18T09:48:07.066Z"
   },
   {
    "duration": 291,
    "start_time": "2022-12-18T09:48:07.286Z"
   },
   {
    "duration": 183,
    "start_time": "2022-12-18T09:48:07.583Z"
   },
   {
    "duration": 170,
    "start_time": "2022-12-18T09:48:07.775Z"
   },
   {
    "duration": 197,
    "start_time": "2022-12-18T09:48:07.947Z"
   },
   {
    "duration": 16,
    "start_time": "2022-12-18T09:48:08.146Z"
   },
   {
    "duration": 462,
    "start_time": "2022-12-18T09:48:08.170Z"
   },
   {
    "duration": 50,
    "start_time": "2022-12-18T09:48:08.633Z"
   },
   {
    "duration": 32,
    "start_time": "2022-12-18T09:48:08.685Z"
   },
   {
    "duration": 57,
    "start_time": "2022-12-18T09:48:08.719Z"
   },
   {
    "duration": 1247,
    "start_time": "2022-12-18T09:48:08.777Z"
   },
   {
    "duration": 110,
    "start_time": "2022-12-18T09:49:21.727Z"
   },
   {
    "duration": 147,
    "start_time": "2022-12-18T09:57:41.735Z"
   },
   {
    "duration": 20,
    "start_time": "2022-12-18T09:58:02.985Z"
   },
   {
    "duration": 14,
    "start_time": "2022-12-18T10:00:03.424Z"
   },
   {
    "duration": 20,
    "start_time": "2022-12-18T10:00:23.448Z"
   },
   {
    "duration": 18,
    "start_time": "2022-12-18T10:01:40.017Z"
   },
   {
    "duration": 14,
    "start_time": "2022-12-18T10:02:09.292Z"
   },
   {
    "duration": 13,
    "start_time": "2022-12-18T10:02:18.817Z"
   },
   {
    "duration": 24,
    "start_time": "2022-12-18T10:02:33.803Z"
   },
   {
    "duration": 853,
    "start_time": "2022-12-18T10:03:06.765Z"
   },
   {
    "duration": 17,
    "start_time": "2022-12-18T10:03:07.620Z"
   },
   {
    "duration": 23,
    "start_time": "2022-12-18T10:03:07.638Z"
   },
   {
    "duration": 111,
    "start_time": "2022-12-18T10:03:07.665Z"
   },
   {
    "duration": 2048,
    "start_time": "2022-12-18T10:03:07.778Z"
   },
   {
    "duration": 7,
    "start_time": "2022-12-18T10:03:09.828Z"
   },
   {
    "duration": 9,
    "start_time": "2022-12-18T10:03:09.836Z"
   },
   {
    "duration": 8,
    "start_time": "2022-12-18T10:03:09.846Z"
   },
   {
    "duration": 23,
    "start_time": "2022-12-18T10:03:09.855Z"
   },
   {
    "duration": 9,
    "start_time": "2022-12-18T10:03:09.880Z"
   },
   {
    "duration": 4,
    "start_time": "2022-12-18T10:03:09.890Z"
   },
   {
    "duration": 7,
    "start_time": "2022-12-18T10:03:09.895Z"
   },
   {
    "duration": 10,
    "start_time": "2022-12-18T10:03:09.903Z"
   },
   {
    "duration": 5,
    "start_time": "2022-12-18T10:03:09.914Z"
   },
   {
    "duration": 6,
    "start_time": "2022-12-18T10:03:09.921Z"
   },
   {
    "duration": 6,
    "start_time": "2022-12-18T10:03:09.929Z"
   },
   {
    "duration": 8,
    "start_time": "2022-12-18T10:03:09.936Z"
   },
   {
    "duration": 11,
    "start_time": "2022-12-18T10:03:09.945Z"
   },
   {
    "duration": 17,
    "start_time": "2022-12-18T10:03:09.958Z"
   },
   {
    "duration": 9,
    "start_time": "2022-12-18T10:03:09.978Z"
   },
   {
    "duration": 9,
    "start_time": "2022-12-18T10:03:09.989Z"
   },
   {
    "duration": 8,
    "start_time": "2022-12-18T10:03:10.000Z"
   },
   {
    "duration": 7,
    "start_time": "2022-12-18T10:03:10.009Z"
   },
   {
    "duration": 18,
    "start_time": "2022-12-18T10:03:10.018Z"
   },
   {
    "duration": 13,
    "start_time": "2022-12-18T10:03:10.038Z"
   },
   {
    "duration": 29,
    "start_time": "2022-12-18T10:03:10.053Z"
   },
   {
    "duration": 9,
    "start_time": "2022-12-18T10:03:10.084Z"
   },
   {
    "duration": 10,
    "start_time": "2022-12-18T10:03:10.098Z"
   },
   {
    "duration": 5,
    "start_time": "2022-12-18T10:03:10.109Z"
   },
   {
    "duration": 9,
    "start_time": "2022-12-18T10:03:10.116Z"
   },
   {
    "duration": 7,
    "start_time": "2022-12-18T10:03:10.126Z"
   },
   {
    "duration": 11,
    "start_time": "2022-12-18T10:03:10.135Z"
   },
   {
    "duration": 26,
    "start_time": "2022-12-18T10:03:10.148Z"
   },
   {
    "duration": 113,
    "start_time": "2022-12-18T10:03:10.175Z"
   },
   {
    "duration": 271,
    "start_time": "2022-12-18T10:03:10.290Z"
   },
   {
    "duration": 12,
    "start_time": "2022-12-18T10:03:10.572Z"
   },
   {
    "duration": 8,
    "start_time": "2022-12-18T10:03:10.586Z"
   },
   {
    "duration": 7,
    "start_time": "2022-12-18T10:03:10.596Z"
   },
   {
    "duration": 4,
    "start_time": "2022-12-18T10:03:10.605Z"
   },
   {
    "duration": 14,
    "start_time": "2022-12-18T10:03:10.612Z"
   },
   {
    "duration": 102,
    "start_time": "2022-12-18T10:03:10.629Z"
   },
   {
    "duration": 5,
    "start_time": "2022-12-18T10:03:10.733Z"
   },
   {
    "duration": 12,
    "start_time": "2022-12-18T10:03:10.757Z"
   },
   {
    "duration": 14,
    "start_time": "2022-12-18T10:03:10.772Z"
   },
   {
    "duration": 5,
    "start_time": "2022-12-18T10:03:10.788Z"
   },
   {
    "duration": 10,
    "start_time": "2022-12-18T10:03:10.794Z"
   },
   {
    "duration": 22,
    "start_time": "2022-12-18T10:03:10.806Z"
   },
   {
    "duration": 28,
    "start_time": "2022-12-18T10:03:10.830Z"
   },
   {
    "duration": 297,
    "start_time": "2022-12-18T10:03:10.860Z"
   },
   {
    "duration": 10,
    "start_time": "2022-12-18T10:03:11.158Z"
   },
   {
    "duration": 408,
    "start_time": "2022-12-18T10:03:11.169Z"
   },
   {
    "duration": 6,
    "start_time": "2022-12-18T10:03:11.579Z"
   },
   {
    "duration": 8,
    "start_time": "2022-12-18T10:03:11.586Z"
   },
   {
    "duration": 9,
    "start_time": "2022-12-18T10:03:11.596Z"
   },
   {
    "duration": 23,
    "start_time": "2022-12-18T10:03:11.607Z"
   },
   {
    "duration": 70,
    "start_time": "2022-12-18T10:03:11.632Z"
   },
   {
    "duration": 109,
    "start_time": "2022-12-18T10:03:11.705Z"
   },
   {
    "duration": 0,
    "start_time": "2022-12-18T10:03:11.818Z"
   },
   {
    "duration": 0,
    "start_time": "2022-12-18T10:03:11.820Z"
   },
   {
    "duration": 0,
    "start_time": "2022-12-18T10:03:11.822Z"
   },
   {
    "duration": 0,
    "start_time": "2022-12-18T10:03:11.824Z"
   },
   {
    "duration": 0,
    "start_time": "2022-12-18T10:03:11.826Z"
   },
   {
    "duration": 0,
    "start_time": "2022-12-18T10:03:11.828Z"
   },
   {
    "duration": 0,
    "start_time": "2022-12-18T10:03:11.830Z"
   },
   {
    "duration": 0,
    "start_time": "2022-12-18T10:03:11.831Z"
   },
   {
    "duration": 0,
    "start_time": "2022-12-18T10:03:11.832Z"
   },
   {
    "duration": 0,
    "start_time": "2022-12-18T10:03:11.833Z"
   },
   {
    "duration": 0,
    "start_time": "2022-12-18T10:03:11.835Z"
   },
   {
    "duration": 0,
    "start_time": "2022-12-18T10:03:11.856Z"
   },
   {
    "duration": 0,
    "start_time": "2022-12-18T10:03:11.857Z"
   },
   {
    "duration": 0,
    "start_time": "2022-12-18T10:03:11.858Z"
   },
   {
    "duration": 0,
    "start_time": "2022-12-18T10:03:11.859Z"
   },
   {
    "duration": 0,
    "start_time": "2022-12-18T10:03:11.860Z"
   },
   {
    "duration": 0,
    "start_time": "2022-12-18T10:03:11.861Z"
   },
   {
    "duration": 0,
    "start_time": "2022-12-18T10:03:11.862Z"
   },
   {
    "duration": 0,
    "start_time": "2022-12-18T10:03:11.863Z"
   },
   {
    "duration": 0,
    "start_time": "2022-12-18T10:03:11.864Z"
   },
   {
    "duration": 0,
    "start_time": "2022-12-18T10:03:11.865Z"
   },
   {
    "duration": 0,
    "start_time": "2022-12-18T10:03:11.866Z"
   },
   {
    "duration": 0,
    "start_time": "2022-12-18T10:03:11.866Z"
   },
   {
    "duration": 0,
    "start_time": "2022-12-18T10:03:11.868Z"
   },
   {
    "duration": 0,
    "start_time": "2022-12-18T10:03:11.869Z"
   },
   {
    "duration": 0,
    "start_time": "2022-12-18T10:03:11.870Z"
   },
   {
    "duration": 0,
    "start_time": "2022-12-18T10:03:11.871Z"
   },
   {
    "duration": 0,
    "start_time": "2022-12-18T10:03:11.872Z"
   },
   {
    "duration": 0,
    "start_time": "2022-12-18T10:03:11.873Z"
   },
   {
    "duration": 0,
    "start_time": "2022-12-18T10:03:11.874Z"
   },
   {
    "duration": 0,
    "start_time": "2022-12-18T10:03:11.875Z"
   },
   {
    "duration": 0,
    "start_time": "2022-12-18T10:03:11.876Z"
   },
   {
    "duration": 0,
    "start_time": "2022-12-18T10:03:11.877Z"
   },
   {
    "duration": 0,
    "start_time": "2022-12-18T10:03:11.881Z"
   },
   {
    "duration": 0,
    "start_time": "2022-12-18T10:03:11.882Z"
   },
   {
    "duration": 0,
    "start_time": "2022-12-18T10:03:11.883Z"
   },
   {
    "duration": 0,
    "start_time": "2022-12-18T10:03:11.884Z"
   },
   {
    "duration": 0,
    "start_time": "2022-12-18T10:03:11.885Z"
   },
   {
    "duration": 0,
    "start_time": "2022-12-18T10:03:11.887Z"
   },
   {
    "duration": 0,
    "start_time": "2022-12-18T10:03:11.888Z"
   },
   {
    "duration": 0,
    "start_time": "2022-12-18T10:03:11.889Z"
   },
   {
    "duration": 0,
    "start_time": "2022-12-18T10:03:11.890Z"
   },
   {
    "duration": 0,
    "start_time": "2022-12-18T10:03:11.891Z"
   },
   {
    "duration": 0,
    "start_time": "2022-12-18T10:03:11.892Z"
   },
   {
    "duration": 0,
    "start_time": "2022-12-18T10:03:11.893Z"
   },
   {
    "duration": 0,
    "start_time": "2022-12-18T10:03:11.894Z"
   },
   {
    "duration": 0,
    "start_time": "2022-12-18T10:03:11.895Z"
   },
   {
    "duration": 0,
    "start_time": "2022-12-18T10:03:11.897Z"
   },
   {
    "duration": 0,
    "start_time": "2022-12-18T10:03:11.958Z"
   },
   {
    "duration": 0,
    "start_time": "2022-12-18T10:03:11.959Z"
   },
   {
    "duration": 858,
    "start_time": "2022-12-18T10:04:32.373Z"
   },
   {
    "duration": 32,
    "start_time": "2022-12-18T10:04:33.233Z"
   },
   {
    "duration": 8,
    "start_time": "2022-12-18T10:04:33.270Z"
   },
   {
    "duration": 90,
    "start_time": "2022-12-18T10:04:33.280Z"
   },
   {
    "duration": 2170,
    "start_time": "2022-12-18T10:04:33.372Z"
   },
   {
    "duration": 16,
    "start_time": "2022-12-18T10:04:35.545Z"
   },
   {
    "duration": 20,
    "start_time": "2022-12-18T10:04:35.563Z"
   },
   {
    "duration": 11,
    "start_time": "2022-12-18T10:04:35.584Z"
   },
   {
    "duration": 10,
    "start_time": "2022-12-18T10:04:35.598Z"
   },
   {
    "duration": 21,
    "start_time": "2022-12-18T10:04:35.612Z"
   },
   {
    "duration": 5,
    "start_time": "2022-12-18T10:04:35.635Z"
   },
   {
    "duration": 12,
    "start_time": "2022-12-18T10:04:35.642Z"
   },
   {
    "duration": 33,
    "start_time": "2022-12-18T10:04:35.658Z"
   },
   {
    "duration": 6,
    "start_time": "2022-12-18T10:04:35.693Z"
   },
   {
    "duration": 7,
    "start_time": "2022-12-18T10:04:35.701Z"
   },
   {
    "duration": 7,
    "start_time": "2022-12-18T10:04:35.709Z"
   },
   {
    "duration": 21,
    "start_time": "2022-12-18T10:04:35.718Z"
   },
   {
    "duration": 7,
    "start_time": "2022-12-18T10:04:35.741Z"
   },
   {
    "duration": 8,
    "start_time": "2022-12-18T10:04:35.749Z"
   },
   {
    "duration": 24,
    "start_time": "2022-12-18T10:04:35.759Z"
   },
   {
    "duration": 8,
    "start_time": "2022-12-18T10:04:35.784Z"
   },
   {
    "duration": 8,
    "start_time": "2022-12-18T10:04:35.794Z"
   },
   {
    "duration": 9,
    "start_time": "2022-12-18T10:04:35.804Z"
   },
   {
    "duration": 7,
    "start_time": "2022-12-18T10:04:35.816Z"
   },
   {
    "duration": 5,
    "start_time": "2022-12-18T10:04:35.825Z"
   },
   {
    "duration": 7,
    "start_time": "2022-12-18T10:04:35.831Z"
   },
   {
    "duration": 7,
    "start_time": "2022-12-18T10:04:35.840Z"
   },
   {
    "duration": 18,
    "start_time": "2022-12-18T10:04:35.858Z"
   },
   {
    "duration": 7,
    "start_time": "2022-12-18T10:04:35.879Z"
   },
   {
    "duration": 13,
    "start_time": "2022-12-18T10:04:35.887Z"
   },
   {
    "duration": 4,
    "start_time": "2022-12-18T10:04:35.902Z"
   },
   {
    "duration": 7,
    "start_time": "2022-12-18T10:04:35.908Z"
   },
   {
    "duration": 22,
    "start_time": "2022-12-18T10:04:35.916Z"
   },
   {
    "duration": 121,
    "start_time": "2022-12-18T10:04:35.941Z"
   },
   {
    "duration": 312,
    "start_time": "2022-12-18T10:04:36.067Z"
   },
   {
    "duration": 8,
    "start_time": "2022-12-18T10:04:36.381Z"
   },
   {
    "duration": 11,
    "start_time": "2022-12-18T10:04:36.390Z"
   },
   {
    "duration": 9,
    "start_time": "2022-12-18T10:04:36.403Z"
   },
   {
    "duration": 3,
    "start_time": "2022-12-18T10:04:36.414Z"
   },
   {
    "duration": 20,
    "start_time": "2022-12-18T10:04:36.419Z"
   },
   {
    "duration": 93,
    "start_time": "2022-12-18T10:04:36.441Z"
   },
   {
    "duration": 5,
    "start_time": "2022-12-18T10:04:36.536Z"
   },
   {
    "duration": 29,
    "start_time": "2022-12-18T10:04:36.555Z"
   },
   {
    "duration": 10,
    "start_time": "2022-12-18T10:04:36.586Z"
   },
   {
    "duration": 5,
    "start_time": "2022-12-18T10:04:36.598Z"
   },
   {
    "duration": 11,
    "start_time": "2022-12-18T10:04:36.604Z"
   },
   {
    "duration": 22,
    "start_time": "2022-12-18T10:04:36.616Z"
   },
   {
    "duration": 11,
    "start_time": "2022-12-18T10:04:36.657Z"
   },
   {
    "duration": 268,
    "start_time": "2022-12-18T10:04:36.677Z"
   },
   {
    "duration": 18,
    "start_time": "2022-12-18T10:04:36.947Z"
   },
   {
    "duration": 412,
    "start_time": "2022-12-18T10:04:36.967Z"
   },
   {
    "duration": 6,
    "start_time": "2022-12-18T10:04:37.382Z"
   },
   {
    "duration": 8,
    "start_time": "2022-12-18T10:04:37.391Z"
   },
   {
    "duration": 12,
    "start_time": "2022-12-18T10:04:37.401Z"
   },
   {
    "duration": 34,
    "start_time": "2022-12-18T10:04:37.416Z"
   },
   {
    "duration": 38,
    "start_time": "2022-12-18T10:04:37.452Z"
   },
   {
    "duration": 131,
    "start_time": "2022-12-18T10:04:37.493Z"
   },
   {
    "duration": 0,
    "start_time": "2022-12-18T10:04:37.627Z"
   },
   {
    "duration": 0,
    "start_time": "2022-12-18T10:04:37.630Z"
   },
   {
    "duration": 0,
    "start_time": "2022-12-18T10:04:37.631Z"
   },
   {
    "duration": 0,
    "start_time": "2022-12-18T10:04:37.633Z"
   },
   {
    "duration": 0,
    "start_time": "2022-12-18T10:04:37.635Z"
   },
   {
    "duration": 0,
    "start_time": "2022-12-18T10:04:37.636Z"
   },
   {
    "duration": 0,
    "start_time": "2022-12-18T10:04:37.658Z"
   },
   {
    "duration": 0,
    "start_time": "2022-12-18T10:04:37.661Z"
   },
   {
    "duration": 0,
    "start_time": "2022-12-18T10:04:37.662Z"
   },
   {
    "duration": 0,
    "start_time": "2022-12-18T10:04:37.669Z"
   },
   {
    "duration": 0,
    "start_time": "2022-12-18T10:04:37.670Z"
   },
   {
    "duration": 0,
    "start_time": "2022-12-18T10:04:37.671Z"
   },
   {
    "duration": 0,
    "start_time": "2022-12-18T10:04:37.672Z"
   },
   {
    "duration": 0,
    "start_time": "2022-12-18T10:04:37.673Z"
   },
   {
    "duration": 0,
    "start_time": "2022-12-18T10:04:37.674Z"
   },
   {
    "duration": 0,
    "start_time": "2022-12-18T10:04:37.675Z"
   },
   {
    "duration": 0,
    "start_time": "2022-12-18T10:04:37.675Z"
   },
   {
    "duration": 0,
    "start_time": "2022-12-18T10:04:37.676Z"
   },
   {
    "duration": 0,
    "start_time": "2022-12-18T10:04:37.677Z"
   },
   {
    "duration": 0,
    "start_time": "2022-12-18T10:04:37.680Z"
   },
   {
    "duration": 0,
    "start_time": "2022-12-18T10:04:37.683Z"
   },
   {
    "duration": 0,
    "start_time": "2022-12-18T10:04:37.683Z"
   },
   {
    "duration": 0,
    "start_time": "2022-12-18T10:04:37.685Z"
   },
   {
    "duration": 0,
    "start_time": "2022-12-18T10:04:37.686Z"
   },
   {
    "duration": 0,
    "start_time": "2022-12-18T10:04:37.687Z"
   },
   {
    "duration": 0,
    "start_time": "2022-12-18T10:04:37.689Z"
   },
   {
    "duration": 0,
    "start_time": "2022-12-18T10:04:37.690Z"
   },
   {
    "duration": 0,
    "start_time": "2022-12-18T10:04:37.691Z"
   },
   {
    "duration": 0,
    "start_time": "2022-12-18T10:04:37.692Z"
   },
   {
    "duration": 0,
    "start_time": "2022-12-18T10:04:37.693Z"
   },
   {
    "duration": 0,
    "start_time": "2022-12-18T10:04:37.695Z"
   },
   {
    "duration": 0,
    "start_time": "2022-12-18T10:04:37.696Z"
   },
   {
    "duration": 0,
    "start_time": "2022-12-18T10:04:37.697Z"
   },
   {
    "duration": 0,
    "start_time": "2022-12-18T10:04:37.699Z"
   },
   {
    "duration": 0,
    "start_time": "2022-12-18T10:04:37.700Z"
   },
   {
    "duration": 0,
    "start_time": "2022-12-18T10:04:37.758Z"
   },
   {
    "duration": 0,
    "start_time": "2022-12-18T10:04:37.759Z"
   },
   {
    "duration": 0,
    "start_time": "2022-12-18T10:04:37.760Z"
   },
   {
    "duration": 0,
    "start_time": "2022-12-18T10:04:37.761Z"
   },
   {
    "duration": 0,
    "start_time": "2022-12-18T10:04:37.761Z"
   },
   {
    "duration": 0,
    "start_time": "2022-12-18T10:04:37.762Z"
   },
   {
    "duration": 0,
    "start_time": "2022-12-18T10:04:37.762Z"
   },
   {
    "duration": 0,
    "start_time": "2022-12-18T10:04:37.763Z"
   },
   {
    "duration": 0,
    "start_time": "2022-12-18T10:04:37.767Z"
   },
   {
    "duration": 0,
    "start_time": "2022-12-18T10:04:37.768Z"
   },
   {
    "duration": 0,
    "start_time": "2022-12-18T10:04:37.768Z"
   },
   {
    "duration": 0,
    "start_time": "2022-12-18T10:04:37.769Z"
   },
   {
    "duration": 0,
    "start_time": "2022-12-18T10:04:37.770Z"
   },
   {
    "duration": 0,
    "start_time": "2022-12-18T10:04:37.770Z"
   },
   {
    "duration": 0,
    "start_time": "2022-12-18T10:04:37.771Z"
   },
   {
    "duration": 837,
    "start_time": "2022-12-18T10:05:55.872Z"
   },
   {
    "duration": 16,
    "start_time": "2022-12-18T10:05:56.711Z"
   },
   {
    "duration": 7,
    "start_time": "2022-12-18T10:05:56.729Z"
   },
   {
    "duration": 76,
    "start_time": "2022-12-18T10:05:56.754Z"
   },
   {
    "duration": 2000,
    "start_time": "2022-12-18T10:05:56.831Z"
   },
   {
    "duration": 10,
    "start_time": "2022-12-18T10:05:58.833Z"
   },
   {
    "duration": 13,
    "start_time": "2022-12-18T10:05:58.845Z"
   },
   {
    "duration": 21,
    "start_time": "2022-12-18T10:05:58.861Z"
   },
   {
    "duration": 6,
    "start_time": "2022-12-18T10:05:58.885Z"
   },
   {
    "duration": 7,
    "start_time": "2022-12-18T10:05:58.897Z"
   },
   {
    "duration": 4,
    "start_time": "2022-12-18T10:05:58.907Z"
   },
   {
    "duration": 7,
    "start_time": "2022-12-18T10:05:58.913Z"
   },
   {
    "duration": 10,
    "start_time": "2022-12-18T10:05:58.921Z"
   },
   {
    "duration": 29,
    "start_time": "2022-12-18T10:05:58.933Z"
   },
   {
    "duration": 6,
    "start_time": "2022-12-18T10:05:58.966Z"
   },
   {
    "duration": 11,
    "start_time": "2022-12-18T10:05:58.978Z"
   },
   {
    "duration": 8,
    "start_time": "2022-12-18T10:05:58.990Z"
   },
   {
    "duration": 7,
    "start_time": "2022-12-18T10:05:59.000Z"
   },
   {
    "duration": 14,
    "start_time": "2022-12-18T10:05:59.009Z"
   },
   {
    "duration": 6,
    "start_time": "2022-12-18T10:05:59.024Z"
   },
   {
    "duration": 6,
    "start_time": "2022-12-18T10:05:59.032Z"
   },
   {
    "duration": 7,
    "start_time": "2022-12-18T10:05:59.040Z"
   },
   {
    "duration": 5,
    "start_time": "2022-12-18T10:05:59.054Z"
   },
   {
    "duration": 21,
    "start_time": "2022-12-18T10:05:59.060Z"
   },
   {
    "duration": 4,
    "start_time": "2022-12-18T10:05:59.084Z"
   },
   {
    "duration": 9,
    "start_time": "2022-12-18T10:05:59.090Z"
   },
   {
    "duration": 9,
    "start_time": "2022-12-18T10:05:59.101Z"
   },
   {
    "duration": 9,
    "start_time": "2022-12-18T10:05:59.115Z"
   },
   {
    "duration": 8,
    "start_time": "2022-12-18T10:05:59.125Z"
   },
   {
    "duration": 12,
    "start_time": "2022-12-18T10:05:59.135Z"
   },
   {
    "duration": 28,
    "start_time": "2022-12-18T10:05:59.149Z"
   },
   {
    "duration": 9,
    "start_time": "2022-12-18T10:05:59.181Z"
   },
   {
    "duration": 28,
    "start_time": "2022-12-18T10:05:59.192Z"
   },
   {
    "duration": 13,
    "start_time": "2022-12-18T10:05:59.223Z"
   },
   {
    "duration": 300,
    "start_time": "2022-12-18T10:05:59.238Z"
   },
   {
    "duration": 17,
    "start_time": "2022-12-18T10:05:59.541Z"
   },
   {
    "duration": 7,
    "start_time": "2022-12-18T10:05:59.566Z"
   },
   {
    "duration": 18,
    "start_time": "2022-12-18T10:05:59.574Z"
   },
   {
    "duration": 7,
    "start_time": "2022-12-18T10:05:59.594Z"
   },
   {
    "duration": 11,
    "start_time": "2022-12-18T10:05:59.602Z"
   },
   {
    "duration": 67,
    "start_time": "2022-12-18T10:05:59.616Z"
   },
   {
    "duration": 5,
    "start_time": "2022-12-18T10:05:59.686Z"
   },
   {
    "duration": 16,
    "start_time": "2022-12-18T10:05:59.693Z"
   },
   {
    "duration": 13,
    "start_time": "2022-12-18T10:05:59.711Z"
   },
   {
    "duration": 30,
    "start_time": "2022-12-18T10:05:59.726Z"
   },
   {
    "duration": 15,
    "start_time": "2022-12-18T10:05:59.757Z"
   },
   {
    "duration": 22,
    "start_time": "2022-12-18T10:05:59.775Z"
   },
   {
    "duration": 7,
    "start_time": "2022-12-18T10:05:59.799Z"
   },
   {
    "duration": 299,
    "start_time": "2022-12-18T10:05:59.808Z"
   },
   {
    "duration": 10,
    "start_time": "2022-12-18T10:06:00.108Z"
   },
   {
    "duration": 428,
    "start_time": "2022-12-18T10:06:00.120Z"
   },
   {
    "duration": 16,
    "start_time": "2022-12-18T10:06:00.551Z"
   },
   {
    "duration": 26,
    "start_time": "2022-12-18T10:06:00.569Z"
   },
   {
    "duration": 28,
    "start_time": "2022-12-18T10:06:00.597Z"
   },
   {
    "duration": 21,
    "start_time": "2022-12-18T10:06:00.627Z"
   },
   {
    "duration": 56,
    "start_time": "2022-12-18T10:06:00.650Z"
   },
   {
    "duration": 44,
    "start_time": "2022-12-18T10:06:00.708Z"
   },
   {
    "duration": 34,
    "start_time": "2022-12-18T10:06:00.755Z"
   },
   {
    "duration": 18,
    "start_time": "2022-12-18T10:06:00.791Z"
   },
   {
    "duration": 34,
    "start_time": "2022-12-18T10:06:00.811Z"
   },
   {
    "duration": 777,
    "start_time": "2022-12-18T10:06:00.847Z"
   },
   {
    "duration": 119,
    "start_time": "2022-12-18T10:06:01.627Z"
   },
   {
    "duration": 222,
    "start_time": "2022-12-18T10:06:01.748Z"
   },
   {
    "duration": 103,
    "start_time": "2022-12-18T10:06:01.974Z"
   },
   {
    "duration": 197,
    "start_time": "2022-12-18T10:06:02.079Z"
   },
   {
    "duration": 128,
    "start_time": "2022-12-18T10:06:02.279Z"
   },
   {
    "duration": 285,
    "start_time": "2022-12-18T10:06:02.409Z"
   },
   {
    "duration": 113,
    "start_time": "2022-12-18T10:06:02.695Z"
   },
   {
    "duration": 309,
    "start_time": "2022-12-18T10:06:02.810Z"
   },
   {
    "duration": 117,
    "start_time": "2022-12-18T10:06:03.121Z"
   },
   {
    "duration": 221,
    "start_time": "2022-12-18T10:06:03.240Z"
   },
   {
    "duration": 129,
    "start_time": "2022-12-18T10:06:03.466Z"
   },
   {
    "duration": 211,
    "start_time": "2022-12-18T10:06:03.596Z"
   },
   {
    "duration": 114,
    "start_time": "2022-12-18T10:06:03.808Z"
   },
   {
    "duration": 8,
    "start_time": "2022-12-18T10:06:03.923Z"
   },
   {
    "duration": 172,
    "start_time": "2022-12-18T10:06:03.932Z"
   },
   {
    "duration": 176,
    "start_time": "2022-12-18T10:06:04.106Z"
   },
   {
    "duration": 129,
    "start_time": "2022-12-18T10:06:04.285Z"
   },
   {
    "duration": 193,
    "start_time": "2022-12-18T10:06:04.415Z"
   },
   {
    "duration": 137,
    "start_time": "2022-12-18T10:06:04.610Z"
   },
   {
    "duration": 184,
    "start_time": "2022-12-18T10:06:04.748Z"
   },
   {
    "duration": 149,
    "start_time": "2022-12-18T10:06:04.939Z"
   },
   {
    "duration": 298,
    "start_time": "2022-12-18T10:06:05.091Z"
   },
   {
    "duration": 127,
    "start_time": "2022-12-18T10:06:05.390Z"
   },
   {
    "duration": 161,
    "start_time": "2022-12-18T10:06:05.518Z"
   },
   {
    "duration": 191,
    "start_time": "2022-12-18T10:06:05.681Z"
   },
   {
    "duration": 196,
    "start_time": "2022-12-18T10:06:05.874Z"
   },
   {
    "duration": 12,
    "start_time": "2022-12-18T10:06:06.071Z"
   },
   {
    "duration": 197,
    "start_time": "2022-12-18T10:06:06.084Z"
   },
   {
    "duration": 214,
    "start_time": "2022-12-18T10:06:06.284Z"
   },
   {
    "duration": 197,
    "start_time": "2022-12-18T10:06:06.500Z"
   },
   {
    "duration": 197,
    "start_time": "2022-12-18T10:06:06.699Z"
   },
   {
    "duration": 239,
    "start_time": "2022-12-18T10:06:06.898Z"
   },
   {
    "duration": 240,
    "start_time": "2022-12-18T10:06:07.139Z"
   },
   {
    "duration": 159,
    "start_time": "2022-12-18T10:06:07.381Z"
   },
   {
    "duration": 165,
    "start_time": "2022-12-18T10:06:07.542Z"
   },
   {
    "duration": 195,
    "start_time": "2022-12-18T10:06:07.710Z"
   },
   {
    "duration": 212,
    "start_time": "2022-12-18T10:06:07.907Z"
   },
   {
    "duration": 236,
    "start_time": "2022-12-18T10:06:08.121Z"
   },
   {
    "duration": 215,
    "start_time": "2022-12-18T10:06:08.359Z"
   },
   {
    "duration": 207,
    "start_time": "2022-12-18T10:06:08.575Z"
   },
   {
    "duration": 7,
    "start_time": "2022-12-18T10:06:08.784Z"
   },
   {
    "duration": 469,
    "start_time": "2022-12-18T10:06:08.793Z"
   },
   {
    "duration": 50,
    "start_time": "2022-12-18T10:06:09.266Z"
   },
   {
    "duration": 45,
    "start_time": "2022-12-18T10:06:09.318Z"
   },
   {
    "duration": 39,
    "start_time": "2022-12-18T10:06:09.365Z"
   },
   {
    "duration": 1198,
    "start_time": "2022-12-18T10:06:09.407Z"
   },
   {
    "duration": 320,
    "start_time": "2022-12-18T10:07:37.175Z"
   },
   {
    "duration": 60,
    "start_time": "2022-12-18T10:14:51.964Z"
   },
   {
    "duration": 209,
    "start_time": "2022-12-18T10:15:02.149Z"
   },
   {
    "duration": 53,
    "start_time": "2022-12-18T10:17:26.191Z"
   },
   {
    "duration": 46,
    "start_time": "2022-12-18T10:18:02.479Z"
   },
   {
    "duration": 70,
    "start_time": "2022-12-18T10:18:57.319Z"
   },
   {
    "duration": 54,
    "start_time": "2022-12-18T10:19:47.199Z"
   },
   {
    "duration": 162,
    "start_time": "2022-12-18T10:21:05.695Z"
   },
   {
    "duration": 18,
    "start_time": "2022-12-18T10:21:08.402Z"
   },
   {
    "duration": 12,
    "start_time": "2022-12-18T10:21:10.997Z"
   },
   {
    "duration": 8,
    "start_time": "2022-12-18T10:21:20.035Z"
   },
   {
    "duration": 113,
    "start_time": "2022-12-18T10:21:22.309Z"
   },
   {
    "duration": 837,
    "start_time": "2022-12-18T10:32:39.395Z"
   },
   {
    "duration": 28,
    "start_time": "2022-12-18T10:32:40.234Z"
   },
   {
    "duration": 7,
    "start_time": "2022-12-18T10:32:40.264Z"
   },
   {
    "duration": 113,
    "start_time": "2022-12-18T10:32:40.274Z"
   },
   {
    "duration": 1990,
    "start_time": "2022-12-18T10:32:40.388Z"
   },
   {
    "duration": 11,
    "start_time": "2022-12-18T10:32:42.380Z"
   },
   {
    "duration": 297,
    "start_time": "2022-12-18T10:32:42.393Z"
   },
   {
    "duration": 8,
    "start_time": "2022-12-18T10:32:42.692Z"
   },
   {
    "duration": 10,
    "start_time": "2022-12-18T10:32:42.702Z"
   },
   {
    "duration": 10,
    "start_time": "2022-12-18T10:32:42.714Z"
   },
   {
    "duration": 7,
    "start_time": "2022-12-18T10:32:42.726Z"
   },
   {
    "duration": 46,
    "start_time": "2022-12-18T10:32:42.735Z"
   },
   {
    "duration": 52,
    "start_time": "2022-12-18T10:32:42.784Z"
   },
   {
    "duration": 6,
    "start_time": "2022-12-18T10:32:42.838Z"
   },
   {
    "duration": 29,
    "start_time": "2022-12-18T10:32:42.845Z"
   },
   {
    "duration": 12,
    "start_time": "2022-12-18T10:32:42.876Z"
   },
   {
    "duration": 6,
    "start_time": "2022-12-18T10:32:42.889Z"
   },
   {
    "duration": 24,
    "start_time": "2022-12-18T10:32:42.897Z"
   },
   {
    "duration": 42,
    "start_time": "2022-12-18T10:32:42.924Z"
   },
   {
    "duration": 13,
    "start_time": "2022-12-18T10:32:42.969Z"
   },
   {
    "duration": 9,
    "start_time": "2022-12-18T10:32:42.985Z"
   },
   {
    "duration": 7,
    "start_time": "2022-12-18T10:32:42.996Z"
   },
   {
    "duration": 7,
    "start_time": "2022-12-18T10:32:43.005Z"
   },
   {
    "duration": 5,
    "start_time": "2022-12-18T10:32:43.014Z"
   },
   {
    "duration": 10,
    "start_time": "2022-12-18T10:32:43.021Z"
   },
   {
    "duration": 27,
    "start_time": "2022-12-18T10:32:43.033Z"
   },
   {
    "duration": 11,
    "start_time": "2022-12-18T10:32:43.062Z"
   },
   {
    "duration": 85,
    "start_time": "2022-12-18T10:32:43.078Z"
   },
   {
    "duration": 0,
    "start_time": "2022-12-18T10:32:43.173Z"
   },
   {
    "duration": 0,
    "start_time": "2022-12-18T10:32:43.175Z"
   },
   {
    "duration": 0,
    "start_time": "2022-12-18T10:32:43.177Z"
   },
   {
    "duration": 0,
    "start_time": "2022-12-18T10:32:43.179Z"
   },
   {
    "duration": 0,
    "start_time": "2022-12-18T10:32:43.181Z"
   },
   {
    "duration": 0,
    "start_time": "2022-12-18T10:32:43.183Z"
   },
   {
    "duration": 0,
    "start_time": "2022-12-18T10:32:43.185Z"
   },
   {
    "duration": 0,
    "start_time": "2022-12-18T10:32:43.187Z"
   },
   {
    "duration": 0,
    "start_time": "2022-12-18T10:32:43.188Z"
   },
   {
    "duration": 0,
    "start_time": "2022-12-18T10:32:43.190Z"
   },
   {
    "duration": 0,
    "start_time": "2022-12-18T10:32:43.191Z"
   },
   {
    "duration": 0,
    "start_time": "2022-12-18T10:32:43.192Z"
   },
   {
    "duration": 0,
    "start_time": "2022-12-18T10:32:43.194Z"
   },
   {
    "duration": 0,
    "start_time": "2022-12-18T10:32:43.197Z"
   },
   {
    "duration": 0,
    "start_time": "2022-12-18T10:32:43.198Z"
   },
   {
    "duration": 0,
    "start_time": "2022-12-18T10:32:43.199Z"
   },
   {
    "duration": 0,
    "start_time": "2022-12-18T10:32:43.201Z"
   },
   {
    "duration": 0,
    "start_time": "2022-12-18T10:32:43.202Z"
   },
   {
    "duration": 0,
    "start_time": "2022-12-18T10:32:43.203Z"
   },
   {
    "duration": 0,
    "start_time": "2022-12-18T10:32:43.204Z"
   },
   {
    "duration": 0,
    "start_time": "2022-12-18T10:32:43.205Z"
   },
   {
    "duration": 0,
    "start_time": "2022-12-18T10:32:43.206Z"
   },
   {
    "duration": 0,
    "start_time": "2022-12-18T10:32:43.207Z"
   },
   {
    "duration": 0,
    "start_time": "2022-12-18T10:32:43.208Z"
   },
   {
    "duration": 0,
    "start_time": "2022-12-18T10:32:43.255Z"
   },
   {
    "duration": 0,
    "start_time": "2022-12-18T10:32:43.256Z"
   },
   {
    "duration": 0,
    "start_time": "2022-12-18T10:32:43.256Z"
   },
   {
    "duration": 0,
    "start_time": "2022-12-18T10:32:43.257Z"
   },
   {
    "duration": 0,
    "start_time": "2022-12-18T10:32:43.258Z"
   },
   {
    "duration": 0,
    "start_time": "2022-12-18T10:32:43.258Z"
   },
   {
    "duration": 0,
    "start_time": "2022-12-18T10:32:43.259Z"
   },
   {
    "duration": 0,
    "start_time": "2022-12-18T10:32:43.259Z"
   },
   {
    "duration": 0,
    "start_time": "2022-12-18T10:32:43.260Z"
   },
   {
    "duration": 0,
    "start_time": "2022-12-18T10:32:43.262Z"
   },
   {
    "duration": 0,
    "start_time": "2022-12-18T10:32:43.263Z"
   },
   {
    "duration": 0,
    "start_time": "2022-12-18T10:32:43.263Z"
   },
   {
    "duration": 0,
    "start_time": "2022-12-18T10:32:43.264Z"
   },
   {
    "duration": 0,
    "start_time": "2022-12-18T10:32:43.265Z"
   },
   {
    "duration": 0,
    "start_time": "2022-12-18T10:32:43.266Z"
   },
   {
    "duration": 0,
    "start_time": "2022-12-18T10:32:43.270Z"
   },
   {
    "duration": 0,
    "start_time": "2022-12-18T10:32:43.272Z"
   },
   {
    "duration": 0,
    "start_time": "2022-12-18T10:32:43.274Z"
   },
   {
    "duration": 0,
    "start_time": "2022-12-18T10:32:43.277Z"
   },
   {
    "duration": 0,
    "start_time": "2022-12-18T10:32:43.278Z"
   },
   {
    "duration": 0,
    "start_time": "2022-12-18T10:32:43.280Z"
   },
   {
    "duration": 0,
    "start_time": "2022-12-18T10:32:43.281Z"
   },
   {
    "duration": 0,
    "start_time": "2022-12-18T10:32:43.283Z"
   },
   {
    "duration": 0,
    "start_time": "2022-12-18T10:32:43.284Z"
   },
   {
    "duration": 0,
    "start_time": "2022-12-18T10:32:43.285Z"
   },
   {
    "duration": 0,
    "start_time": "2022-12-18T10:32:43.287Z"
   },
   {
    "duration": 0,
    "start_time": "2022-12-18T10:32:43.288Z"
   },
   {
    "duration": 0,
    "start_time": "2022-12-18T10:32:43.290Z"
   },
   {
    "duration": 0,
    "start_time": "2022-12-18T10:32:43.292Z"
   },
   {
    "duration": 0,
    "start_time": "2022-12-18T10:32:43.294Z"
   },
   {
    "duration": 0,
    "start_time": "2022-12-18T10:32:43.296Z"
   },
   {
    "duration": 0,
    "start_time": "2022-12-18T10:32:43.297Z"
   },
   {
    "duration": 0,
    "start_time": "2022-12-18T10:32:43.299Z"
   },
   {
    "duration": 0,
    "start_time": "2022-12-18T10:32:43.300Z"
   },
   {
    "duration": 0,
    "start_time": "2022-12-18T10:32:43.356Z"
   },
   {
    "duration": 0,
    "start_time": "2022-12-18T10:32:43.357Z"
   },
   {
    "duration": 0,
    "start_time": "2022-12-18T10:32:43.362Z"
   },
   {
    "duration": 0,
    "start_time": "2022-12-18T10:32:43.367Z"
   },
   {
    "duration": 0,
    "start_time": "2022-12-18T10:32:43.372Z"
   },
   {
    "duration": 0,
    "start_time": "2022-12-18T10:32:43.376Z"
   },
   {
    "duration": 0,
    "start_time": "2022-12-18T10:32:43.379Z"
   },
   {
    "duration": 0,
    "start_time": "2022-12-18T10:32:43.380Z"
   },
   {
    "duration": 0,
    "start_time": "2022-12-18T10:32:43.382Z"
   },
   {
    "duration": 0,
    "start_time": "2022-12-18T10:32:43.383Z"
   },
   {
    "duration": 11,
    "start_time": "2022-12-18T10:34:48.417Z"
   },
   {
    "duration": 8,
    "start_time": "2022-12-18T10:35:22.226Z"
   },
   {
    "duration": 4,
    "start_time": "2022-12-18T10:35:27.194Z"
   },
   {
    "duration": 3,
    "start_time": "2022-12-18T10:35:29.578Z"
   },
   {
    "duration": 14,
    "start_time": "2022-12-18T10:35:31.528Z"
   },
   {
    "duration": 15,
    "start_time": "2022-12-18T10:35:35.617Z"
   },
   {
    "duration": 15,
    "start_time": "2022-12-18T10:35:37.457Z"
   },
   {
    "duration": 17,
    "start_time": "2022-12-18T10:35:38.904Z"
   },
   {
    "duration": 21,
    "start_time": "2022-12-18T10:35:40.048Z"
   },
   {
    "duration": 12,
    "start_time": "2022-12-18T10:35:41.192Z"
   },
   {
    "duration": 857,
    "start_time": "2022-12-18T10:42:47.123Z"
   },
   {
    "duration": 18,
    "start_time": "2022-12-18T10:42:47.983Z"
   },
   {
    "duration": 8,
    "start_time": "2022-12-18T10:42:48.007Z"
   },
   {
    "duration": 99,
    "start_time": "2022-12-18T10:42:48.016Z"
   },
   {
    "duration": 2318,
    "start_time": "2022-12-18T10:42:48.117Z"
   },
   {
    "duration": 10,
    "start_time": "2022-12-18T10:42:50.437Z"
   },
   {
    "duration": 270,
    "start_time": "2022-12-18T10:42:50.449Z"
   },
   {
    "duration": 8,
    "start_time": "2022-12-18T10:42:50.722Z"
   },
   {
    "duration": 29,
    "start_time": "2022-12-18T10:42:50.735Z"
   },
   {
    "duration": 33,
    "start_time": "2022-12-18T10:42:50.768Z"
   },
   {
    "duration": 4,
    "start_time": "2022-12-18T10:42:50.803Z"
   },
   {
    "duration": 15,
    "start_time": "2022-12-18T10:42:50.811Z"
   },
   {
    "duration": 62,
    "start_time": "2022-12-18T10:42:50.828Z"
   },
   {
    "duration": 6,
    "start_time": "2022-12-18T10:42:50.891Z"
   },
   {
    "duration": 15,
    "start_time": "2022-12-18T10:42:50.899Z"
   },
   {
    "duration": 38,
    "start_time": "2022-12-18T10:42:50.916Z"
   },
   {
    "duration": 11,
    "start_time": "2022-12-18T10:42:50.956Z"
   },
   {
    "duration": 25,
    "start_time": "2022-12-18T10:42:50.969Z"
   },
   {
    "duration": 12,
    "start_time": "2022-12-18T10:42:50.996Z"
   },
   {
    "duration": 50,
    "start_time": "2022-12-18T10:42:51.010Z"
   },
   {
    "duration": 17,
    "start_time": "2022-12-18T10:42:51.061Z"
   },
   {
    "duration": 11,
    "start_time": "2022-12-18T10:42:51.083Z"
   },
   {
    "duration": 9,
    "start_time": "2022-12-18T10:42:51.096Z"
   },
   {
    "duration": 6,
    "start_time": "2022-12-18T10:42:51.107Z"
   },
   {
    "duration": 12,
    "start_time": "2022-12-18T10:42:51.116Z"
   },
   {
    "duration": 5,
    "start_time": "2022-12-18T10:42:51.131Z"
   },
   {
    "duration": 12,
    "start_time": "2022-12-18T10:42:51.166Z"
   },
   {
    "duration": 12,
    "start_time": "2022-12-18T10:42:51.181Z"
   },
   {
    "duration": 6,
    "start_time": "2022-12-18T10:42:51.198Z"
   },
   {
    "duration": 11,
    "start_time": "2022-12-18T10:42:51.207Z"
   },
   {
    "duration": 15,
    "start_time": "2022-12-18T10:42:51.221Z"
   },
   {
    "duration": 21,
    "start_time": "2022-12-18T10:42:51.239Z"
   },
   {
    "duration": 282,
    "start_time": "2022-12-18T10:42:51.268Z"
   },
   {
    "duration": 12,
    "start_time": "2022-12-18T10:42:51.552Z"
   },
   {
    "duration": 546,
    "start_time": "2022-12-18T10:42:51.566Z"
   },
   {
    "duration": 7,
    "start_time": "2022-12-18T10:42:52.115Z"
   },
   {
    "duration": 12,
    "start_time": "2022-12-18T10:42:52.124Z"
   },
   {
    "duration": 27,
    "start_time": "2022-12-18T10:42:52.138Z"
   },
   {
    "duration": 29,
    "start_time": "2022-12-18T10:42:52.173Z"
   },
   {
    "duration": 36,
    "start_time": "2022-12-18T10:42:52.204Z"
   },
   {
    "duration": 56,
    "start_time": "2022-12-18T10:42:52.243Z"
   },
   {
    "duration": 37,
    "start_time": "2022-12-18T10:42:52.303Z"
   },
   {
    "duration": 15,
    "start_time": "2022-12-18T10:42:52.356Z"
   },
   {
    "duration": 35,
    "start_time": "2022-12-18T10:42:52.376Z"
   },
   {
    "duration": 850,
    "start_time": "2022-12-18T10:42:52.414Z"
   },
   {
    "duration": 194,
    "start_time": "2022-12-18T10:42:53.267Z"
   },
   {
    "duration": 312,
    "start_time": "2022-12-18T10:42:53.464Z"
   },
   {
    "duration": 157,
    "start_time": "2022-12-18T10:42:53.779Z"
   },
   {
    "duration": 208,
    "start_time": "2022-12-18T10:42:53.938Z"
   },
   {
    "duration": 141,
    "start_time": "2022-12-18T10:42:54.148Z"
   },
   {
    "duration": 205,
    "start_time": "2022-12-18T10:42:54.291Z"
   },
   {
    "duration": 281,
    "start_time": "2022-12-18T10:42:54.498Z"
   },
   {
    "duration": 380,
    "start_time": "2022-12-18T10:42:54.787Z"
   },
   {
    "duration": 105,
    "start_time": "2022-12-18T10:42:55.175Z"
   },
   {
    "duration": 204,
    "start_time": "2022-12-18T10:42:55.283Z"
   },
   {
    "duration": 154,
    "start_time": "2022-12-18T10:42:55.489Z"
   },
   {
    "duration": 210,
    "start_time": "2022-12-18T10:42:55.645Z"
   },
   {
    "duration": 132,
    "start_time": "2022-12-18T10:42:55.856Z"
   },
   {
    "duration": 14,
    "start_time": "2022-12-18T10:42:55.991Z"
   },
   {
    "duration": 189,
    "start_time": "2022-12-18T10:42:56.007Z"
   },
   {
    "duration": 174,
    "start_time": "2022-12-18T10:42:56.199Z"
   },
   {
    "duration": 195,
    "start_time": "2022-12-18T10:42:56.380Z"
   },
   {
    "duration": 231,
    "start_time": "2022-12-18T10:42:56.577Z"
   },
   {
    "duration": 123,
    "start_time": "2022-12-18T10:42:56.810Z"
   },
   {
    "duration": 160,
    "start_time": "2022-12-18T10:42:56.935Z"
   },
   {
    "duration": 123,
    "start_time": "2022-12-18T10:42:57.097Z"
   },
   {
    "duration": 254,
    "start_time": "2022-12-18T10:42:57.222Z"
   },
   {
    "duration": 140,
    "start_time": "2022-12-18T10:42:57.481Z"
   },
   {
    "duration": 354,
    "start_time": "2022-12-18T10:42:57.623Z"
   },
   {
    "duration": 161,
    "start_time": "2022-12-18T10:42:57.979Z"
   },
   {
    "duration": 202,
    "start_time": "2022-12-18T10:42:58.142Z"
   },
   {
    "duration": 31,
    "start_time": "2022-12-18T10:42:58.347Z"
   },
   {
    "duration": 195,
    "start_time": "2022-12-18T10:42:58.380Z"
   },
   {
    "duration": 215,
    "start_time": "2022-12-18T10:42:58.579Z"
   },
   {
    "duration": 197,
    "start_time": "2022-12-18T10:42:58.796Z"
   },
   {
    "duration": 220,
    "start_time": "2022-12-18T10:42:58.996Z"
   },
   {
    "duration": 335,
    "start_time": "2022-12-18T10:42:59.218Z"
   },
   {
    "duration": 289,
    "start_time": "2022-12-18T10:42:59.556Z"
   },
   {
    "duration": 217,
    "start_time": "2022-12-18T10:42:59.846Z"
   },
   {
    "duration": 179,
    "start_time": "2022-12-18T10:43:00.066Z"
   },
   {
    "duration": 215,
    "start_time": "2022-12-18T10:43:00.255Z"
   },
   {
    "duration": 220,
    "start_time": "2022-12-18T10:43:00.472Z"
   },
   {
    "duration": 214,
    "start_time": "2022-12-18T10:43:00.696Z"
   },
   {
    "duration": 215,
    "start_time": "2022-12-18T10:43:00.912Z"
   },
   {
    "duration": 194,
    "start_time": "2022-12-18T10:43:01.130Z"
   },
   {
    "duration": 8,
    "start_time": "2022-12-18T10:43:01.327Z"
   },
   {
    "duration": 572,
    "start_time": "2022-12-18T10:43:01.337Z"
   },
   {
    "duration": 54,
    "start_time": "2022-12-18T10:43:01.911Z"
   },
   {
    "duration": 41,
    "start_time": "2022-12-18T10:43:01.969Z"
   },
   {
    "duration": 68,
    "start_time": "2022-12-18T10:43:02.014Z"
   },
   {
    "duration": 388,
    "start_time": "2022-12-18T10:43:02.084Z"
   },
   {
    "duration": 45,
    "start_time": "2022-12-18T10:43:46.073Z"
   },
   {
    "duration": 782,
    "start_time": "2022-12-18T12:23:06.624Z"
   },
   {
    "duration": 18,
    "start_time": "2022-12-18T12:23:07.409Z"
   },
   {
    "duration": 6,
    "start_time": "2022-12-18T12:23:07.433Z"
   },
   {
    "duration": 97,
    "start_time": "2022-12-18T12:23:07.441Z"
   },
   {
    "duration": 1936,
    "start_time": "2022-12-18T12:23:07.540Z"
   },
   {
    "duration": 10,
    "start_time": "2022-12-18T12:23:09.479Z"
   },
   {
    "duration": 265,
    "start_time": "2022-12-18T12:23:09.491Z"
   },
   {
    "duration": 7,
    "start_time": "2022-12-18T12:23:09.758Z"
   },
   {
    "duration": 16,
    "start_time": "2022-12-18T12:23:09.768Z"
   },
   {
    "duration": 21,
    "start_time": "2022-12-18T12:23:09.785Z"
   },
   {
    "duration": 16,
    "start_time": "2022-12-18T12:23:09.807Z"
   },
   {
    "duration": 15,
    "start_time": "2022-12-18T12:23:09.824Z"
   },
   {
    "duration": 58,
    "start_time": "2022-12-18T12:23:09.841Z"
   },
   {
    "duration": 4,
    "start_time": "2022-12-18T12:23:09.901Z"
   },
   {
    "duration": 12,
    "start_time": "2022-12-18T12:23:09.906Z"
   },
   {
    "duration": 25,
    "start_time": "2022-12-18T12:23:09.920Z"
   },
   {
    "duration": 15,
    "start_time": "2022-12-18T12:23:09.946Z"
   },
   {
    "duration": 26,
    "start_time": "2022-12-18T12:23:09.963Z"
   },
   {
    "duration": 28,
    "start_time": "2022-12-18T12:23:09.990Z"
   },
   {
    "duration": 39,
    "start_time": "2022-12-18T12:23:10.020Z"
   },
   {
    "duration": 10,
    "start_time": "2022-12-18T12:23:10.061Z"
   },
   {
    "duration": 11,
    "start_time": "2022-12-18T12:23:10.072Z"
   },
   {
    "duration": 8,
    "start_time": "2022-12-18T12:23:10.085Z"
   },
   {
    "duration": 26,
    "start_time": "2022-12-18T12:23:10.095Z"
   },
   {
    "duration": 22,
    "start_time": "2022-12-18T12:23:10.123Z"
   },
   {
    "duration": 20,
    "start_time": "2022-12-18T12:23:10.147Z"
   },
   {
    "duration": 12,
    "start_time": "2022-12-18T12:23:10.171Z"
   },
   {
    "duration": 7,
    "start_time": "2022-12-18T12:23:10.184Z"
   },
   {
    "duration": 6,
    "start_time": "2022-12-18T12:23:10.192Z"
   },
   {
    "duration": 5,
    "start_time": "2022-12-18T12:23:10.200Z"
   },
   {
    "duration": 15,
    "start_time": "2022-12-18T12:23:10.206Z"
   },
   {
    "duration": 8,
    "start_time": "2022-12-18T12:23:10.223Z"
   },
   {
    "duration": 260,
    "start_time": "2022-12-18T12:23:10.233Z"
   },
   {
    "duration": 11,
    "start_time": "2022-12-18T12:23:10.495Z"
   },
   {
    "duration": 409,
    "start_time": "2022-12-18T12:23:10.507Z"
   },
   {
    "duration": 8,
    "start_time": "2022-12-18T12:23:10.918Z"
   },
   {
    "duration": 31,
    "start_time": "2022-12-18T12:23:10.928Z"
   },
   {
    "duration": 16,
    "start_time": "2022-12-18T12:23:10.961Z"
   },
   {
    "duration": 45,
    "start_time": "2022-12-18T12:23:10.980Z"
   },
   {
    "duration": 25,
    "start_time": "2022-12-18T12:23:11.026Z"
   },
   {
    "duration": 33,
    "start_time": "2022-12-18T12:23:11.052Z"
   },
   {
    "duration": 27,
    "start_time": "2022-12-18T12:23:11.086Z"
   },
   {
    "duration": 11,
    "start_time": "2022-12-18T12:23:11.115Z"
   },
   {
    "duration": 34,
    "start_time": "2022-12-18T12:23:11.127Z"
   },
   {
    "duration": 736,
    "start_time": "2022-12-18T12:23:11.163Z"
   },
   {
    "duration": 109,
    "start_time": "2022-12-18T12:23:11.901Z"
   },
   {
    "duration": 161,
    "start_time": "2022-12-18T12:23:12.012Z"
   },
   {
    "duration": 116,
    "start_time": "2022-12-18T12:23:12.178Z"
   },
   {
    "duration": 176,
    "start_time": "2022-12-18T12:23:12.297Z"
   },
   {
    "duration": 125,
    "start_time": "2022-12-18T12:23:12.477Z"
   },
   {
    "duration": 167,
    "start_time": "2022-12-18T12:23:12.604Z"
   },
   {
    "duration": 212,
    "start_time": "2022-12-18T12:23:12.777Z"
   },
   {
    "duration": 315,
    "start_time": "2022-12-18T12:23:12.990Z"
   },
   {
    "duration": 123,
    "start_time": "2022-12-18T12:23:13.307Z"
   },
   {
    "duration": 198,
    "start_time": "2022-12-18T12:23:13.432Z"
   },
   {
    "duration": 117,
    "start_time": "2022-12-18T12:23:13.632Z"
   },
   {
    "duration": 208,
    "start_time": "2022-12-18T12:23:13.751Z"
   },
   {
    "duration": 104,
    "start_time": "2022-12-18T12:23:13.960Z"
   },
   {
    "duration": 7,
    "start_time": "2022-12-18T12:23:14.077Z"
   },
   {
    "duration": 143,
    "start_time": "2022-12-18T12:23:14.085Z"
   },
   {
    "duration": 162,
    "start_time": "2022-12-18T12:23:14.229Z"
   },
   {
    "duration": 120,
    "start_time": "2022-12-18T12:23:14.392Z"
   },
   {
    "duration": 186,
    "start_time": "2022-12-18T12:23:14.514Z"
   },
   {
    "duration": 119,
    "start_time": "2022-12-18T12:23:14.702Z"
   },
   {
    "duration": 140,
    "start_time": "2022-12-18T12:23:14.823Z"
   },
   {
    "duration": 115,
    "start_time": "2022-12-18T12:23:14.965Z"
   },
   {
    "duration": 184,
    "start_time": "2022-12-18T12:23:15.082Z"
   },
   {
    "duration": 117,
    "start_time": "2022-12-18T12:23:15.268Z"
   },
   {
    "duration": 303,
    "start_time": "2022-12-18T12:23:15.388Z"
   },
   {
    "duration": 179,
    "start_time": "2022-12-18T12:23:15.693Z"
   },
   {
    "duration": 191,
    "start_time": "2022-12-18T12:23:15.877Z"
   },
   {
    "duration": 15,
    "start_time": "2022-12-18T12:23:16.070Z"
   },
   {
    "duration": 195,
    "start_time": "2022-12-18T12:23:16.087Z"
   },
   {
    "duration": 209,
    "start_time": "2022-12-18T12:23:16.284Z"
   },
   {
    "duration": 198,
    "start_time": "2022-12-18T12:23:16.494Z"
   },
   {
    "duration": 190,
    "start_time": "2022-12-18T12:23:16.693Z"
   },
   {
    "duration": 201,
    "start_time": "2022-12-18T12:23:16.885Z"
   },
   {
    "duration": 192,
    "start_time": "2022-12-18T12:23:17.088Z"
   },
   {
    "duration": 160,
    "start_time": "2022-12-18T12:23:17.281Z"
   },
   {
    "duration": 175,
    "start_time": "2022-12-18T12:23:17.443Z"
   },
   {
    "duration": 186,
    "start_time": "2022-12-18T12:23:17.624Z"
   },
   {
    "duration": 211,
    "start_time": "2022-12-18T12:23:17.812Z"
   },
   {
    "duration": 183,
    "start_time": "2022-12-18T12:23:18.025Z"
   },
   {
    "duration": 190,
    "start_time": "2022-12-18T12:23:18.210Z"
   },
   {
    "duration": 244,
    "start_time": "2022-12-18T12:23:18.402Z"
   },
   {
    "duration": 4,
    "start_time": "2022-12-18T12:23:18.648Z"
   },
   {
    "duration": 430,
    "start_time": "2022-12-18T12:23:18.654Z"
   },
   {
    "duration": 41,
    "start_time": "2022-12-18T12:23:19.088Z"
   },
   {
    "duration": 56,
    "start_time": "2022-12-18T12:23:19.131Z"
   },
   {
    "duration": 33,
    "start_time": "2022-12-18T12:23:19.188Z"
   },
   {
    "duration": 304,
    "start_time": "2022-12-18T12:23:19.222Z"
   },
   {
    "duration": 16,
    "start_time": "2022-12-18T12:23:41.245Z"
   },
   {
    "duration": 294,
    "start_time": "2022-12-18T12:25:51.843Z"
   }
  ],
  "kernelspec": {
   "display_name": "Python 3 (ipykernel)",
   "language": "python",
   "name": "python3"
  },
  "language_info": {
   "codemirror_mode": {
    "name": "ipython",
    "version": 3
   },
   "file_extension": ".py",
   "mimetype": "text/x-python",
   "name": "python",
   "nbconvert_exporter": "python",
   "pygments_lexer": "ipython3",
   "version": "3.9.5"
  },
  "toc": {
   "base_numbering": 1,
   "nav_menu": {},
   "number_sections": true,
   "sideBar": true,
   "skip_h1_title": true,
   "title_cell": "Table of Contents",
   "title_sidebar": "Contents",
   "toc_cell": false,
   "toc_position": {},
   "toc_section_display": true,
   "toc_window_display": true
  }
 },
 "nbformat": 4,
 "nbformat_minor": 2
}
